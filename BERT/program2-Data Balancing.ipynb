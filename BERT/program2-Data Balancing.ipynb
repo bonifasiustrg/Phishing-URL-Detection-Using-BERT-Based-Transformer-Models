{
 "cells": [
  {
   "cell_type": "markdown",
   "metadata": {
    "id": "176JBXzz8ext"
   },
   "source": [
    "# **Catatan**"
   ]
  },
  {
   "cell_type": "markdown",
   "metadata": {
    "id": "Gd032zLM8t-z"
   },
   "source": [
    "- Kode program 2 adalah kalian tinggal running kode ini agar dapat melihat training dengan data asli dibersihkan, kemudian dievaluasi hasilnya dan dicatat. (running sendiri ya, kalau ada error screenshot kirim ke wa saya)\n",
    "- hasil training dengan data bersih (classification non-tuning) dibandingkan dengan hasil training data bersih menggunakan hyperparameter tuning\n",
    "- metric evaluasinya harus ada accuracy, precision, recall, dan f1-score"
   ]
  },
  {
   "cell_type": "markdown",
   "metadata": {
    "id": "GVtWjsc6GtKx"
   },
   "source": [
    "Kode ini untuk Topik ini:\n",
    "- Phishing URL Detection Using BERT-Based Transformer Models\n",
    "Topik Riset:\n",
    "\"Deteksi URL Phishing dengan Model Transformer Berbasis BERT: Studi Kasus Analisis URL dan Email\"\n",
    "Deskripsi:\n",
    "Model BERT (Bidirectional Encoder Representations from Transformers) digunakan untuk memahami konteks URL atau teks email yang mencurigakan. Model ini dapat menganalisis karakter URL dan teks email untuk membedakan apakah mereka merupakan phishing atau tidak berdasarkan pola yang diidentifikasi dari dataset phishing.\n",
    "Novelty: Sedang. Meskipun deteksi phishing berbasis URL sudah diteliti cukup luas, penggunaan BERT untuk klasifikasi URL secara mendalam masih relatif baru. Namun, karena banyak model sudah menggunakan BERT untuk analisis teks, tingkat novelty bisa lebih tinggi jika dilakukan kombinasi fitur tambahan seperti analisis perilaku pengguna.\n",
    "Dataset: Malicious URL Dataset\n",
    "Dataset ini berisi jutaan URL berbahaya, termasuk yang digunakan untuk phishing. BERT, sebagai model Transformer, dapat digunakan untuk memahami pola karakteristik URL dan memprediksi kemungkinan serangan phishing.\n",
    "URL: Malicious URL Dataset​(GitHub)\n"
   ]
  },
  {
   "cell_type": "markdown",
   "metadata": {
    "id": "_zwCO4CYjHOA"
   },
   "source": [
    "# **Importing Modules and Libraries**"
   ]
  },
  {
   "cell_type": "code",
   "execution_count": null,
   "metadata": {
    "id": "aM4cT-t9_Aqr"
   },
   "outputs": [],
   "source": [
    "# importing required libraries\n",
    "import numpy as np\n",
    "import pandas as pd\n",
    "\n",
    "import seaborn as sns\n",
    "import matplotlib.pyplot as plt\n",
    "\n",
    "import pickle\n",
    "from os import path\n",
    "\n",
    "from sklearn.preprocessing import MinMaxScaler\n",
    "from sklearn.preprocessing import StandardScaler\n",
    "from sklearn.preprocessing import LabelEncoder\n",
    "\n",
    "from sklearn import metrics\n",
    "from sklearn import preprocessing\n",
    "from sklearn.metrics import accuracy_score\n",
    "from sklearn.model_selection import train_test_split\n",
    "from sklearn.metrics import classification_report\n",
    "from sklearn.metrics import confusion_matrix\n",
    "from sklearn.metrics import precision_score\n",
    "from sklearn.metrics import recall_score\n",
    "from sklearn.metrics import f1_score\n"
   ]
  },
  {
   "cell_type": "markdown",
   "metadata": {
    "id": "AHj5eTAujTyE"
   },
   "source": [
    "# **Importing Datasets**"
   ]
  },
  {
   "cell_type": "markdown",
   "metadata": {
    "id": "h8GaRdKI1LkC"
   },
   "source": [
    "Mount Google Drive:"
   ]
  },
  {
   "cell_type": "markdown",
   "metadata": {
    "id": "8WZtm72j1UCm"
   },
   "source": [
    "Digunakan untuk mengakses file yang disimpan di Google Drive."
   ]
  },
  {
   "cell_type": "code",
   "execution_count": null,
   "metadata": {
    "colab": {
     "base_uri": "https://localhost:8080/"
    },
    "executionInfo": {
     "elapsed": 32420,
     "status": "ok",
     "timestamp": 1729950216536,
     "user": {
      "displayName": "Fiky Anggara",
      "userId": "00649198554582456785"
     },
     "user_tz": -420
    },
    "id": "NU9K3Y6ojUNm",
    "outputId": "a6bbfffa-078a-43bb-dfcd-ea79eecbba67"
   },
   "outputs": [
    {
     "name": "stdout",
     "output_type": "stream",
     "text": [
      "Mounted at /content/gdrive\n",
      "gdrive\tsample_data\n"
     ]
    }
   ],
   "source": [
    "from google.colab import drive\n",
    "drive.mount('/content/gdrive', force_remount=True)\n",
    "!ls\n"
   ]
  },
  {
   "cell_type": "markdown",
   "metadata": {
    "id": "zKgGOMPN1P-0"
   },
   "source": [
    "Mengubah direktori kerja:"
   ]
  },
  {
   "cell_type": "markdown",
   "metadata": {
    "id": "nsM_Jgzy1W1S"
   },
   "source": [
    "Ini digunakan untuk berpindah ke folder tempat dataset Anda berada."
   ]
  },
  {
   "cell_type": "code",
   "execution_count": null,
   "metadata": {
    "colab": {
     "base_uri": "https://localhost:8080/"
    },
    "executionInfo": {
     "elapsed": 1439,
     "status": "ok",
     "timestamp": 1729950221742,
     "user": {
      "displayName": "Fiky Anggara",
      "userId": "00649198554582456785"
     },
     "user_tz": -420
    },
    "id": "0atFcMKxja9Q",
    "outputId": "bcbcae8a-4b5d-485d-95b6-21cb23ce4510"
   },
   "outputs": [
    {
     "name": "stdout",
     "output_type": "stream",
     "text": [
      "malicious_phish.csv\n"
     ]
    }
   ],
   "source": [
    "import os\n",
    "os.chdir(\"/content/gdrive/My Drive/ASDOS/template/Topik4_Phishing URL Detection Using BERT-Based Transformer Models/dataset\")\n",
    "!ls\n"
   ]
  },
  {
   "cell_type": "markdown",
   "metadata": {
    "id": "7pdDs8nP1ZrM"
   },
   "source": [
    "Memuat dataset:"
   ]
  },
  {
   "cell_type": "markdown",
   "metadata": {
    "id": "dK_YsP-n1b3O"
   },
   "source": [
    "Dataset UNSW_NB15.csv dimuat ke dalam variabel data."
   ]
  },
  {
   "cell_type": "code",
   "execution_count": null,
   "metadata": {
    "id": "On4cwKOXji-n"
   },
   "outputs": [],
   "source": [
    "data = pd.read_csv('/content/gdrive/My Drive/ASDOS/template/Topik4_Phishing URL Detection Using BERT-Based Transformer Models/dataset/malicious_phish.csv')\n",
    "\n"
   ]
  },
  {
   "cell_type": "markdown",
   "metadata": {
    "id": "Tu9thCog1fZm"
   },
   "source": [
    "Menampilkan informasi awal tentang data:"
   ]
  },
  {
   "cell_type": "markdown",
   "metadata": {
    "id": "uJ6OtEwJ1hse"
   },
   "source": [
    "Menampilkan 5 baris pertama dari dataset dan informasi tentang tipe data, jumlah entri, dan kolom yang ada di dalam dataset."
   ]
  },
  {
   "cell_type": "code",
   "execution_count": null,
   "metadata": {
    "colab": {
     "base_uri": "https://localhost:8080/",
     "height": 206
    },
    "executionInfo": {
     "elapsed": 455,
     "status": "ok",
     "timestamp": 1729950274258,
     "user": {
      "displayName": "Fiky Anggara",
      "userId": "00649198554582456785"
     },
     "user_tz": -420
    },
    "id": "9fklOnwGjmB4",
    "outputId": "35b8444c-7d23-4d0a-c337-1c496fadf519"
   },
   "outputs": [
    {
     "data": {
      "application/vnd.google.colaboratory.intrinsic+json": {
       "type": "dataframe",
       "variable_name": "data"
      },
      "text/html": [
       "\n",
       "  <div id=\"df-9ca19b17-5eef-4415-9356-a20bb9d5053a\" class=\"colab-df-container\">\n",
       "    <div>\n",
       "<style scoped>\n",
       "    .dataframe tbody tr th:only-of-type {\n",
       "        vertical-align: middle;\n",
       "    }\n",
       "\n",
       "    .dataframe tbody tr th {\n",
       "        vertical-align: top;\n",
       "    }\n",
       "\n",
       "    .dataframe thead th {\n",
       "        text-align: right;\n",
       "    }\n",
       "</style>\n",
       "<table border=\"1\" class=\"dataframe\">\n",
       "  <thead>\n",
       "    <tr style=\"text-align: right;\">\n",
       "      <th></th>\n",
       "      <th>url</th>\n",
       "      <th>type</th>\n",
       "    </tr>\n",
       "  </thead>\n",
       "  <tbody>\n",
       "    <tr>\n",
       "      <th>0</th>\n",
       "      <td>br-icloud.com.br</td>\n",
       "      <td>phishing</td>\n",
       "    </tr>\n",
       "    <tr>\n",
       "      <th>1</th>\n",
       "      <td>mp3raid.com/music/krizz_kaliko.html</td>\n",
       "      <td>benign</td>\n",
       "    </tr>\n",
       "    <tr>\n",
       "      <th>2</th>\n",
       "      <td>bopsecrets.org/rexroth/cr/1.htm</td>\n",
       "      <td>benign</td>\n",
       "    </tr>\n",
       "    <tr>\n",
       "      <th>3</th>\n",
       "      <td>http://www.garage-pirenne.be/index.php?option=...</td>\n",
       "      <td>defacement</td>\n",
       "    </tr>\n",
       "    <tr>\n",
       "      <th>4</th>\n",
       "      <td>http://adventure-nicaragua.net/index.php?optio...</td>\n",
       "      <td>defacement</td>\n",
       "    </tr>\n",
       "  </tbody>\n",
       "</table>\n",
       "</div>\n",
       "    <div class=\"colab-df-buttons\">\n",
       "\n",
       "  <div class=\"colab-df-container\">\n",
       "    <button class=\"colab-df-convert\" onclick=\"convertToInteractive('df-9ca19b17-5eef-4415-9356-a20bb9d5053a')\"\n",
       "            title=\"Convert this dataframe to an interactive table.\"\n",
       "            style=\"display:none;\">\n",
       "\n",
       "  <svg xmlns=\"http://www.w3.org/2000/svg\" height=\"24px\" viewBox=\"0 -960 960 960\">\n",
       "    <path d=\"M120-120v-720h720v720H120Zm60-500h600v-160H180v160Zm220 220h160v-160H400v160Zm0 220h160v-160H400v160ZM180-400h160v-160H180v160Zm440 0h160v-160H620v160ZM180-180h160v-160H180v160Zm440 0h160v-160H620v160Z\"/>\n",
       "  </svg>\n",
       "    </button>\n",
       "\n",
       "  <style>\n",
       "    .colab-df-container {\n",
       "      display:flex;\n",
       "      gap: 12px;\n",
       "    }\n",
       "\n",
       "    .colab-df-convert {\n",
       "      background-color: #E8F0FE;\n",
       "      border: none;\n",
       "      border-radius: 50%;\n",
       "      cursor: pointer;\n",
       "      display: none;\n",
       "      fill: #1967D2;\n",
       "      height: 32px;\n",
       "      padding: 0 0 0 0;\n",
       "      width: 32px;\n",
       "    }\n",
       "\n",
       "    .colab-df-convert:hover {\n",
       "      background-color: #E2EBFA;\n",
       "      box-shadow: 0px 1px 2px rgba(60, 64, 67, 0.3), 0px 1px 3px 1px rgba(60, 64, 67, 0.15);\n",
       "      fill: #174EA6;\n",
       "    }\n",
       "\n",
       "    .colab-df-buttons div {\n",
       "      margin-bottom: 4px;\n",
       "    }\n",
       "\n",
       "    [theme=dark] .colab-df-convert {\n",
       "      background-color: #3B4455;\n",
       "      fill: #D2E3FC;\n",
       "    }\n",
       "\n",
       "    [theme=dark] .colab-df-convert:hover {\n",
       "      background-color: #434B5C;\n",
       "      box-shadow: 0px 1px 3px 1px rgba(0, 0, 0, 0.15);\n",
       "      filter: drop-shadow(0px 1px 2px rgba(0, 0, 0, 0.3));\n",
       "      fill: #FFFFFF;\n",
       "    }\n",
       "  </style>\n",
       "\n",
       "    <script>\n",
       "      const buttonEl =\n",
       "        document.querySelector('#df-9ca19b17-5eef-4415-9356-a20bb9d5053a button.colab-df-convert');\n",
       "      buttonEl.style.display =\n",
       "        google.colab.kernel.accessAllowed ? 'block' : 'none';\n",
       "\n",
       "      async function convertToInteractive(key) {\n",
       "        const element = document.querySelector('#df-9ca19b17-5eef-4415-9356-a20bb9d5053a');\n",
       "        const dataTable =\n",
       "          await google.colab.kernel.invokeFunction('convertToInteractive',\n",
       "                                                    [key], {});\n",
       "        if (!dataTable) return;\n",
       "\n",
       "        const docLinkHtml = 'Like what you see? Visit the ' +\n",
       "          '<a target=\"_blank\" href=https://colab.research.google.com/notebooks/data_table.ipynb>data table notebook</a>'\n",
       "          + ' to learn more about interactive tables.';\n",
       "        element.innerHTML = '';\n",
       "        dataTable['output_type'] = 'display_data';\n",
       "        await google.colab.output.renderOutput(dataTable, element);\n",
       "        const docLink = document.createElement('div');\n",
       "        docLink.innerHTML = docLinkHtml;\n",
       "        element.appendChild(docLink);\n",
       "      }\n",
       "    </script>\n",
       "  </div>\n",
       "\n",
       "\n",
       "<div id=\"df-7c25c22f-7a93-4514-be3d-c7aaae63245f\">\n",
       "  <button class=\"colab-df-quickchart\" onclick=\"quickchart('df-7c25c22f-7a93-4514-be3d-c7aaae63245f')\"\n",
       "            title=\"Suggest charts\"\n",
       "            style=\"display:none;\">\n",
       "\n",
       "<svg xmlns=\"http://www.w3.org/2000/svg\" height=\"24px\"viewBox=\"0 0 24 24\"\n",
       "     width=\"24px\">\n",
       "    <g>\n",
       "        <path d=\"M19 3H5c-1.1 0-2 .9-2 2v14c0 1.1.9 2 2 2h14c1.1 0 2-.9 2-2V5c0-1.1-.9-2-2-2zM9 17H7v-7h2v7zm4 0h-2V7h2v10zm4 0h-2v-4h2v4z\"/>\n",
       "    </g>\n",
       "</svg>\n",
       "  </button>\n",
       "\n",
       "<style>\n",
       "  .colab-df-quickchart {\n",
       "      --bg-color: #E8F0FE;\n",
       "      --fill-color: #1967D2;\n",
       "      --hover-bg-color: #E2EBFA;\n",
       "      --hover-fill-color: #174EA6;\n",
       "      --disabled-fill-color: #AAA;\n",
       "      --disabled-bg-color: #DDD;\n",
       "  }\n",
       "\n",
       "  [theme=dark] .colab-df-quickchart {\n",
       "      --bg-color: #3B4455;\n",
       "      --fill-color: #D2E3FC;\n",
       "      --hover-bg-color: #434B5C;\n",
       "      --hover-fill-color: #FFFFFF;\n",
       "      --disabled-bg-color: #3B4455;\n",
       "      --disabled-fill-color: #666;\n",
       "  }\n",
       "\n",
       "  .colab-df-quickchart {\n",
       "    background-color: var(--bg-color);\n",
       "    border: none;\n",
       "    border-radius: 50%;\n",
       "    cursor: pointer;\n",
       "    display: none;\n",
       "    fill: var(--fill-color);\n",
       "    height: 32px;\n",
       "    padding: 0;\n",
       "    width: 32px;\n",
       "  }\n",
       "\n",
       "  .colab-df-quickchart:hover {\n",
       "    background-color: var(--hover-bg-color);\n",
       "    box-shadow: 0 1px 2px rgba(60, 64, 67, 0.3), 0 1px 3px 1px rgba(60, 64, 67, 0.15);\n",
       "    fill: var(--button-hover-fill-color);\n",
       "  }\n",
       "\n",
       "  .colab-df-quickchart-complete:disabled,\n",
       "  .colab-df-quickchart-complete:disabled:hover {\n",
       "    background-color: var(--disabled-bg-color);\n",
       "    fill: var(--disabled-fill-color);\n",
       "    box-shadow: none;\n",
       "  }\n",
       "\n",
       "  .colab-df-spinner {\n",
       "    border: 2px solid var(--fill-color);\n",
       "    border-color: transparent;\n",
       "    border-bottom-color: var(--fill-color);\n",
       "    animation:\n",
       "      spin 1s steps(1) infinite;\n",
       "  }\n",
       "\n",
       "  @keyframes spin {\n",
       "    0% {\n",
       "      border-color: transparent;\n",
       "      border-bottom-color: var(--fill-color);\n",
       "      border-left-color: var(--fill-color);\n",
       "    }\n",
       "    20% {\n",
       "      border-color: transparent;\n",
       "      border-left-color: var(--fill-color);\n",
       "      border-top-color: var(--fill-color);\n",
       "    }\n",
       "    30% {\n",
       "      border-color: transparent;\n",
       "      border-left-color: var(--fill-color);\n",
       "      border-top-color: var(--fill-color);\n",
       "      border-right-color: var(--fill-color);\n",
       "    }\n",
       "    40% {\n",
       "      border-color: transparent;\n",
       "      border-right-color: var(--fill-color);\n",
       "      border-top-color: var(--fill-color);\n",
       "    }\n",
       "    60% {\n",
       "      border-color: transparent;\n",
       "      border-right-color: var(--fill-color);\n",
       "    }\n",
       "    80% {\n",
       "      border-color: transparent;\n",
       "      border-right-color: var(--fill-color);\n",
       "      border-bottom-color: var(--fill-color);\n",
       "    }\n",
       "    90% {\n",
       "      border-color: transparent;\n",
       "      border-bottom-color: var(--fill-color);\n",
       "    }\n",
       "  }\n",
       "</style>\n",
       "\n",
       "  <script>\n",
       "    async function quickchart(key) {\n",
       "      const quickchartButtonEl =\n",
       "        document.querySelector('#' + key + ' button');\n",
       "      quickchartButtonEl.disabled = true;  // To prevent multiple clicks.\n",
       "      quickchartButtonEl.classList.add('colab-df-spinner');\n",
       "      try {\n",
       "        const charts = await google.colab.kernel.invokeFunction(\n",
       "            'suggestCharts', [key], {});\n",
       "      } catch (error) {\n",
       "        console.error('Error during call to suggestCharts:', error);\n",
       "      }\n",
       "      quickchartButtonEl.classList.remove('colab-df-spinner');\n",
       "      quickchartButtonEl.classList.add('colab-df-quickchart-complete');\n",
       "    }\n",
       "    (() => {\n",
       "      let quickchartButtonEl =\n",
       "        document.querySelector('#df-7c25c22f-7a93-4514-be3d-c7aaae63245f button');\n",
       "      quickchartButtonEl.style.display =\n",
       "        google.colab.kernel.accessAllowed ? 'block' : 'none';\n",
       "    })();\n",
       "  </script>\n",
       "</div>\n",
       "\n",
       "    </div>\n",
       "  </div>\n"
      ],
      "text/plain": [
       "                                                 url        type\n",
       "0                                   br-icloud.com.br    phishing\n",
       "1                mp3raid.com/music/krizz_kaliko.html      benign\n",
       "2                    bopsecrets.org/rexroth/cr/1.htm      benign\n",
       "3  http://www.garage-pirenne.be/index.php?option=...  defacement\n",
       "4  http://adventure-nicaragua.net/index.php?optio...  defacement"
      ]
     },
     "execution_count": 6,
     "metadata": {},
     "output_type": "execute_result"
    }
   ],
   "source": [
    "data.head(n=5)\n"
   ]
  },
  {
   "cell_type": "code",
   "execution_count": null,
   "metadata": {
    "colab": {
     "base_uri": "https://localhost:8080/"
    },
    "executionInfo": {
     "elapsed": 448,
     "status": "ok",
     "timestamp": 1729950298832,
     "user": {
      "displayName": "Fiky Anggara",
      "userId": "00649198554582456785"
     },
     "user_tz": -420
    },
    "id": "RBbVHdZeEqjn",
    "outputId": "42f32a6e-017a-42e2-e958-035b82f8a9de"
   },
   "outputs": [
    {
     "name": "stdout",
     "output_type": "stream",
     "text": [
      "type\n",
      "benign        428103\n",
      "defacement     96457\n",
      "phishing       94111\n",
      "malware        32520\n",
      "Name: count, dtype: int64\n",
      "Jumlah kelas unik: 4\n"
     ]
    }
   ],
   "source": [
    "# Misalkan kolom yang berisi label adalah 'type'\n",
    "# Menampilkan nilai unik dan jumlah setiap kelas\n",
    "kelas = data['type'].value_counts()\n",
    "print(kelas)\n",
    "\n",
    "# Menampilkan jumlah kelas unik\n",
    "jumlah_kelas = data['type'].nunique()\n",
    "print(f\"Jumlah kelas unik: {jumlah_kelas}\")\n"
   ]
  },
  {
   "cell_type": "code",
   "execution_count": null,
   "metadata": {
    "colab": {
     "base_uri": "https://localhost:8080/"
    },
    "executionInfo": {
     "elapsed": 469,
     "status": "ok",
     "timestamp": 1729950309631,
     "user": {
      "displayName": "Fiky Anggara",
      "userId": "00649198554582456785"
     },
     "user_tz": -420
    },
    "id": "1mt9wHP0jp_O",
    "outputId": "8a813b9f-2e06-484a-dfb3-4915da9efb26"
   },
   "outputs": [
    {
     "name": "stdout",
     "output_type": "stream",
     "text": [
      "<class 'pandas.core.frame.DataFrame'>\n",
      "RangeIndex: 651191 entries, 0 to 651190\n",
      "Data columns (total 2 columns):\n",
      " #   Column  Non-Null Count   Dtype \n",
      "---  ------  --------------   ----- \n",
      " 0   url     651191 non-null  object\n",
      " 1   type    651191 non-null  object\n",
      "dtypes: object(2)\n",
      "memory usage: 9.9+ MB\n"
     ]
    }
   ],
   "source": [
    "data.info()\n"
   ]
  },
  {
   "cell_type": "code",
   "execution_count": null,
   "metadata": {
    "colab": {
     "base_uri": "https://localhost:8080/"
    },
    "executionInfo": {
     "elapsed": 439,
     "status": "ok",
     "timestamp": 1729950312475,
     "user": {
      "displayName": "Fiky Anggara",
      "userId": "00649198554582456785"
     },
     "user_tz": -420
    },
    "id": "Wr5n8RAoj324",
    "outputId": "7645f2ee-e9cb-4cba-a9f8-83d121d5a191"
   },
   "outputs": [
    {
     "data": {
      "text/plain": [
       "(651191, 2)"
      ]
     },
     "execution_count": 9,
     "metadata": {},
     "output_type": "execute_result"
    }
   ],
   "source": [
    "data.shape\n"
   ]
  },
  {
   "cell_type": "markdown",
   "metadata": {
    "id": "7hSqvKRM2S_O"
   },
   "source": [
    "Ini adalah proses atau tahapan persiapan data yang baik sebelum dilanjutkan ke tahap analisis atau pemodelan."
   ]
  },
  {
   "cell_type": "markdown",
   "metadata": {
    "id": "4BXqrtHHkl1M"
   },
   "source": [
    "# **Data Visualization**"
   ]
  },
  {
   "cell_type": "code",
   "execution_count": null,
   "metadata": {
    "colab": {
     "base_uri": "https://localhost:8080/"
    },
    "executionInfo": {
     "elapsed": 587,
     "status": "ok",
     "timestamp": 1729950361895,
     "user": {
      "displayName": "Fiky Anggara",
      "userId": "00649198554582456785"
     },
     "user_tz": -420
    },
    "id": "7Ma7ESbApN3s",
    "outputId": "52433681-7883-4e94-e11a-f743a7fea45f"
   },
   "outputs": [
    {
     "name": "stdout",
     "output_type": "stream",
     "text": [
      "Index(['url', 'type'], dtype='object')\n"
     ]
    }
   ],
   "source": [
    "print(data.columns)\n"
   ]
  },
  {
   "cell_type": "code",
   "execution_count": null,
   "metadata": {
    "colab": {
     "base_uri": "https://localhost:8080/"
    },
    "executionInfo": {
     "elapsed": 472,
     "status": "ok",
     "timestamp": 1729950364461,
     "user": {
      "displayName": "Fiky Anggara",
      "userId": "00649198554582456785"
     },
     "user_tz": -420
    },
    "id": "qpqwGHA-wGDY",
    "outputId": "739d225c-9d20-4d28-d5ec-e07df276467f"
   },
   "outputs": [
    {
     "name": "stdout",
     "output_type": "stream",
     "text": [
      "type\n",
      "benign        428103\n",
      "defacement     96457\n",
      "phishing       94111\n",
      "malware        32520\n",
      "Name: count, dtype: int64\n"
     ]
    }
   ],
   "source": [
    "print(data['type'].value_counts())\n"
   ]
  },
  {
   "cell_type": "code",
   "execution_count": null,
   "metadata": {
    "colab": {
     "base_uri": "https://localhost:8080/",
     "height": 677
    },
    "executionInfo": {
     "elapsed": 6045,
     "status": "ok",
     "timestamp": 1729950417815,
     "user": {
      "displayName": "Fiky Anggara",
      "userId": "00649198554582456785"
     },
     "user_tz": -420
    },
    "id": "_yGJ8rsIFGKd",
    "outputId": "f107fec4-6534-43a8-a297-20279fdb53a7"
   },
   "outputs": [
    {
     "data": {
      "image/png": "[encoded data removed]",
      "text/plain": [
       "<Figure size 800x800 with 1 Axes>"
      ]
     },
     "metadata": {},
     "output_type": "display_data"
    }
   ],
   "source": [
    "import pandas as pd\n",
    "import matplotlib.pyplot as plt\n",
    "\n",
    "# Load dataset\n",
    "data = pd.read_csv('/content/gdrive/My Drive/ASDOS/template/Topik4_Phishing URL Detection Using BERT-Based Transformer Models/dataset/malicious_phish.csv')\n",
    "\n",
    "# Hitung distribusi semua label\n",
    "label_counts = data['type'].value_counts()\n",
    "\n",
    "# Plot pie chart\n",
    "plt.figure(figsize=(8, 8))\n",
    "plt.pie(label_counts, labels=label_counts.index, autopct='%0.2f%%', startangle=90)\n",
    "plt.title(\"Pie chart distribution of URL types\", fontsize=16)\n",
    "plt.legend()\n",
    "plt.savefig('/content/gdrive/My Drive/ASDOS/template/Topik4_Phishing URL Detection Using BERT-Based Transformer Models/plot/Pie_chart_all_classes.png')\n",
    "plt.show()\n"
   ]
  },
  {
   "cell_type": "markdown",
   "metadata": {
    "id": "3-Y9E27L7hTr"
   },
   "source": [
    "# **DATA SPLITTING**"
   ]
  },
  {
   "cell_type": "code",
   "execution_count": null,
   "metadata": {
    "id": "gltkj1QjniBo"
   },
   "outputs": [],
   "source": [
    "# 1. Mengimpor Modul yang Diperlukan\n",
    "import numpy as np\n",
    "import pandas as pd\n",
    "import seaborn as sns\n",
    "import matplotlib.pyplot as plt\n",
    "import pickle\n",
    "from os import path\n",
    "import torch\n",
    "import torch.nn as nn\n",
    "import torch.optim as optim\n",
    "from torch.utils.data import DataLoader, TensorDataset\n",
    "from sklearn.preprocessing import MinMaxScaler, LabelEncoder\n",
    "from sklearn.model_selection import train_test_split\n",
    "from sklearn.metrics import accuracy_score, confusion_matrix, precision_score, recall_score, f1_score\n"
   ]
  },
  {
   "cell_type": "code",
   "execution_count": null,
   "metadata": {
    "colab": {
     "base_uri": "https://localhost:8080/"
    },
    "executionInfo": {
     "elapsed": 1727,
     "status": "ok",
     "timestamp": 1729950613256,
     "user": {
      "displayName": "Fiky Anggara",
      "userId": "00649198554582456785"
     },
     "user_tz": -420
    },
    "id": "GtD5yKqjFtAb",
    "outputId": "6ffcef39-ab04-408e-9744-30eaf6d93c1d"
   },
   "outputs": [
    {
     "name": "stdout",
     "output_type": "stream",
     "text": [
      "Ukuran set pelatihan: 520952\n",
      "Ukuran set pengujian: 130239\n"
     ]
    }
   ],
   "source": [
    "import pandas as pd\n",
    "from sklearn.model_selection import train_test_split\n",
    "\n",
    "# Load dataset\n",
    "data = pd.read_csv('/content/gdrive/My Drive/ASDOS/template/Topik4_Phishing URL Detection Using BERT-Based Transformer Models/dataset/malicious_phish.csv')\n",
    "\n",
    "# Memisahkan fitur dan label\n",
    "X_multi = data['url']  # Fitur: URL\n",
    "y_multi = data['type'].map({'benign': 0, 'defacement': 1, 'phishing': 2, 'malware': 3})  # Mengonversi label ke numerik\n",
    "\n",
    "# Membagi data menjadi set pelatihan (70%) dan set pengujian (30%)\n",
    "X_train_bin, X_test_bin, y_train_bin, y_test_bin = train_test_split(X_multi, y_multi, test_size=0.2, random_state=50)\n",
    "\n",
    "# Menampilkan informasi tentang ukuran set\n",
    "print(f'Ukuran set pelatihan: {X_train_bin.shape[0]}')\n",
    "print(f'Ukuran set pengujian: {X_test_bin.shape[0]}')\n"
   ]
  },
  {
   "cell_type": "markdown",
   "metadata": {
    "id": "bDbU1Yy1Bfs_"
   },
   "source": [
    "# **LIBRARY TRANSFORMER**"
   ]
  },
  {
   "cell_type": "markdown",
   "metadata": {
    "id": "ItYfxZfX8AN0"
   },
   "source": [
    "Instalasi Paket yang Diperlukan"
   ]
  },
  {
   "cell_type": "markdown",
   "metadata": {
    "id": "EZi_80Sw8DAl"
   },
   "source": [
    "Instalasi paket: Menginstal berbagai paket yang diperlukan untuk pembelajaran mesin dan pemrosesan data."
   ]
  },
  {
   "cell_type": "code",
   "execution_count": null,
   "metadata": {
    "colab": {
     "base_uri": "https://localhost:8080/"
    },
    "executionInfo": {
     "elapsed": 3998,
     "status": "ok",
     "timestamp": 1729950636647,
     "user": {
      "displayName": "Fiky Anggara",
      "userId": "00649198554582456785"
     },
     "user_tz": -420
    },
    "id": "okNC-OGSQG9k",
    "outputId": "ffcbc7bf-6a72-43cb-f8fd-524abe5f98b5"
   },
   "outputs": [
    {
     "name": "stdout",
     "output_type": "stream",
     "text": [
      "Requirement already satisfied: transformers in /usr/local/lib/python3.10/dist-packages (4.44.2)\n",
      "Requirement already satisfied: tensorflow in /usr/local/lib/python3.10/dist-packages (2.17.0)\n",
      "Requirement already satisfied: scikit-learn in /usr/local/lib/python3.10/dist-packages (1.5.2)\n",
      "Requirement already satisfied: matplotlib in /usr/local/lib/python3.10/dist-packages (3.7.1)\n",
      "Requirement already satisfied: pandas in /usr/local/lib/python3.10/dist-packages (2.2.2)\n",
      "Requirement already satisfied: filelock in /usr/local/lib/python3.10/dist-packages (from transformers) (3.16.1)\n",
      "Requirement already satisfied: huggingface-hub<1.0,>=0.23.2 in /usr/local/lib/python3.10/dist-packages (from transformers) (0.24.7)\n",
      "Requirement already satisfied: numpy>=1.17 in /usr/local/lib/python3.10/dist-packages (from transformers) (1.26.4)\n",
      "Requirement already satisfied: packaging>=20.0 in /usr/local/lib/python3.10/dist-packages (from transformers) (24.1)\n",
      "Requirement already satisfied: pyyaml>=5.1 in /usr/local/lib/python3.10/dist-packages (from transformers) (6.0.2)\n",
      "Requirement already satisfied: regex!=2019.12.17 in /usr/local/lib/python3.10/dist-packages (from transformers) (2024.9.11)\n",
      "Requirement already satisfied: requests in /usr/local/lib/python3.10/dist-packages (from transformers) (2.32.3)\n",
      "Requirement already satisfied: safetensors>=0.4.1 in /usr/local/lib/python3.10/dist-packages (from transformers) (0.4.5)\n",
      "Requirement already satisfied: tokenizers<0.20,>=0.19 in /usr/local/lib/python3.10/dist-packages (from transformers) (0.19.1)\n",
      "Requirement already satisfied: tqdm>=4.27 in /usr/local/lib/python3.10/dist-packages (from transformers) (4.66.5)\n",
      "Requirement already satisfied: absl-py>=1.0.0 in /usr/local/lib/python3.10/dist-packages (from tensorflow) (1.4.0)\n",
      "Requirement already satisfied: astunparse>=1.6.0 in /usr/local/lib/python3.10/dist-packages (from tensorflow) (1.6.3)\n",
      "Requirement already satisfied: flatbuffers>=24.3.25 in /usr/local/lib/python3.10/dist-packages (from tensorflow) (24.3.25)\n",
      "Requirement already satisfied: gast!=0.5.0,!=0.5.1,!=0.5.2,>=0.2.1 in /usr/local/lib/python3.10/dist-packages (from tensorflow) (0.6.0)\n",
      "Requirement already satisfied: google-pasta>=0.1.1 in /usr/local/lib/python3.10/dist-packages (from tensorflow) (0.2.0)\n",
      "Requirement already satisfied: h5py>=3.10.0 in /usr/local/lib/python3.10/dist-packages (from tensorflow) (3.11.0)\n",
      "Requirement already satisfied: libclang>=13.0.0 in /usr/local/lib/python3.10/dist-packages (from tensorflow) (18.1.1)\n",
      "Requirement already satisfied: ml-dtypes<0.5.0,>=0.3.1 in /usr/local/lib/python3.10/dist-packages (from tensorflow) (0.4.1)\n",
      "Requirement already satisfied: opt-einsum>=2.3.2 in /usr/local/lib/python3.10/dist-packages (from tensorflow) (3.4.0)\n",
      "Requirement already satisfied: protobuf!=4.21.0,!=4.21.1,!=4.21.2,!=4.21.3,!=4.21.4,!=4.21.5,<5.0.0dev,>=3.20.3 in /usr/local/lib/python3.10/dist-packages (from tensorflow) (3.20.3)\n",
      "Requirement already satisfied: setuptools in /usr/local/lib/python3.10/dist-packages (from tensorflow) (75.1.0)\n",
      "Requirement already satisfied: six>=1.12.0 in /usr/local/lib/python3.10/dist-packages (from tensorflow) (1.16.0)\n",
      "Requirement already satisfied: termcolor>=1.1.0 in /usr/local/lib/python3.10/dist-packages (from tensorflow) (2.5.0)\n",
      "Requirement already satisfied: typing-extensions>=3.6.6 in /usr/local/lib/python3.10/dist-packages (from tensorflow) (4.12.2)\n",
      "Requirement already satisfied: wrapt>=1.11.0 in /usr/local/lib/python3.10/dist-packages (from tensorflow) (1.16.0)\n",
      "Requirement already satisfied: grpcio<2.0,>=1.24.3 in /usr/local/lib/python3.10/dist-packages (from tensorflow) (1.64.1)\n",
      "Requirement already satisfied: tensorboard<2.18,>=2.17 in /usr/local/lib/python3.10/dist-packages (from tensorflow) (2.17.0)\n",
      "Requirement already satisfied: keras>=3.2.0 in /usr/local/lib/python3.10/dist-packages (from tensorflow) (3.4.1)\n",
      "Requirement already satisfied: tensorflow-io-gcs-filesystem>=0.23.1 in /usr/local/lib/python3.10/dist-packages (from tensorflow) (0.37.1)\n",
      "Requirement already satisfied: scipy>=1.6.0 in /usr/local/lib/python3.10/dist-packages (from scikit-learn) (1.13.1)\n",
      "Requirement already satisfied: joblib>=1.2.0 in /usr/local/lib/python3.10/dist-packages (from scikit-learn) (1.4.2)\n",
      "Requirement already satisfied: threadpoolctl>=3.1.0 in /usr/local/lib/python3.10/dist-packages (from scikit-learn) (3.5.0)\n",
      "Requirement already satisfied: contourpy>=1.0.1 in /usr/local/lib/python3.10/dist-packages (from matplotlib) (1.3.0)\n",
      "Requirement already satisfied: cycler>=0.10 in /usr/local/lib/python3.10/dist-packages (from matplotlib) (0.12.1)\n",
      "Requirement already satisfied: fonttools>=4.22.0 in /usr/local/lib/python3.10/dist-packages (from matplotlib) (4.54.1)\n",
      "Requirement already satisfied: kiwisolver>=1.0.1 in /usr/local/lib/python3.10/dist-packages (from matplotlib) (1.4.7)\n",
      "Requirement already satisfied: pillow>=6.2.0 in /usr/local/lib/python3.10/dist-packages (from matplotlib) (10.4.0)\n",
      "Requirement already satisfied: pyparsing>=2.3.1 in /usr/local/lib/python3.10/dist-packages (from matplotlib) (3.2.0)\n",
      "Requirement already satisfied: python-dateutil>=2.7 in /usr/local/lib/python3.10/dist-packages (from matplotlib) (2.8.2)\n",
      "Requirement already satisfied: pytz>=2020.1 in /usr/local/lib/python3.10/dist-packages (from pandas) (2024.2)\n",
      "Requirement already satisfied: tzdata>=2022.7 in /usr/local/lib/python3.10/dist-packages (from pandas) (2024.2)\n",
      "Requirement already satisfied: wheel<1.0,>=0.23.0 in /usr/local/lib/python3.10/dist-packages (from astunparse>=1.6.0->tensorflow) (0.44.0)\n",
      "Requirement already satisfied: fsspec>=2023.5.0 in /usr/local/lib/python3.10/dist-packages (from huggingface-hub<1.0,>=0.23.2->transformers) (2024.6.1)\n",
      "Requirement already satisfied: rich in /usr/local/lib/python3.10/dist-packages (from keras>=3.2.0->tensorflow) (13.9.3)\n",
      "Requirement already satisfied: namex in /usr/local/lib/python3.10/dist-packages (from keras>=3.2.0->tensorflow) (0.0.8)\n",
      "Requirement already satisfied: optree in /usr/local/lib/python3.10/dist-packages (from keras>=3.2.0->tensorflow) (0.13.0)\n",
      "Requirement already satisfied: charset-normalizer<4,>=2 in /usr/local/lib/python3.10/dist-packages (from requests->transformers) (3.4.0)\n",
      "Requirement already satisfied: idna<4,>=2.5 in /usr/local/lib/python3.10/dist-packages (from requests->transformers) (3.10)\n",
      "Requirement already satisfied: urllib3<3,>=1.21.1 in /usr/local/lib/python3.10/dist-packages (from requests->transformers) (2.2.3)\n",
      "Requirement already satisfied: certifi>=2017.4.17 in /usr/local/lib/python3.10/dist-packages (from requests->transformers) (2024.8.30)\n",
      "Requirement already satisfied: markdown>=2.6.8 in /usr/local/lib/python3.10/dist-packages (from tensorboard<2.18,>=2.17->tensorflow) (3.7)\n",
      "Requirement already satisfied: tensorboard-data-server<0.8.0,>=0.7.0 in /usr/local/lib/python3.10/dist-packages (from tensorboard<2.18,>=2.17->tensorflow) (0.7.2)\n",
      "Requirement already satisfied: werkzeug>=1.0.1 in /usr/local/lib/python3.10/dist-packages (from tensorboard<2.18,>=2.17->tensorflow) (3.0.4)\n",
      "Requirement already satisfied: MarkupSafe>=2.1.1 in /usr/local/lib/python3.10/dist-packages (from werkzeug>=1.0.1->tensorboard<2.18,>=2.17->tensorflow) (3.0.2)\n",
      "Requirement already satisfied: markdown-it-py>=2.2.0 in /usr/local/lib/python3.10/dist-packages (from rich->keras>=3.2.0->tensorflow) (3.0.0)\n",
      "Requirement already satisfied: pygments<3.0.0,>=2.13.0 in /usr/local/lib/python3.10/dist-packages (from rich->keras>=3.2.0->tensorflow) (2.18.0)\n",
      "Requirement already satisfied: mdurl~=0.1 in /usr/local/lib/python3.10/dist-packages (from markdown-it-py>=2.2.0->rich->keras>=3.2.0->tensorflow) (0.1.2)\n"
     ]
    }
   ],
   "source": [
    "!pip install transformers tensorflow scikit-learn matplotlib pandas\n"
   ]
  },
  {
   "cell_type": "code",
   "execution_count": null,
   "metadata": {
    "colab": {
     "base_uri": "https://localhost:8080/"
    },
    "executionInfo": {
     "elapsed": 4901,
     "status": "ok",
     "timestamp": 1729906177004,
     "user": {
      "displayName": "Fiky Anggara",
      "userId": "00649198554582456785"
     },
     "user_tz": -420
    },
    "id": "ZVH1Q53IB8qs",
    "outputId": "4853dc70-3940-4cb4-d861-026c3ac9a08e"
   },
   "outputs": [
    {
     "name": "stdout",
     "output_type": "stream",
     "text": [
      "Requirement already satisfied: transformers in /usr/local/lib/python3.10/dist-packages (4.44.2)\n",
      "Requirement already satisfied: torch in /usr/local/lib/python3.10/dist-packages (2.5.0+cu121)\n",
      "Requirement already satisfied: scikit-learn in /usr/local/lib/python3.10/dist-packages (1.5.2)\n",
      "Requirement already satisfied: filelock in /usr/local/lib/python3.10/dist-packages (from transformers) (3.16.1)\n",
      "Requirement already satisfied: huggingface-hub<1.0,>=0.23.2 in /usr/local/lib/python3.10/dist-packages (from transformers) (0.24.7)\n",
      "Requirement already satisfied: numpy>=1.17 in /usr/local/lib/python3.10/dist-packages (from transformers) (1.26.4)\n",
      "Requirement already satisfied: packaging>=20.0 in /usr/local/lib/python3.10/dist-packages (from transformers) (24.1)\n",
      "Requirement already satisfied: pyyaml>=5.1 in /usr/local/lib/python3.10/dist-packages (from transformers) (6.0.2)\n",
      "Requirement already satisfied: regex!=2019.12.17 in /usr/local/lib/python3.10/dist-packages (from transformers) (2024.9.11)\n",
      "Requirement already satisfied: requests in /usr/local/lib/python3.10/dist-packages (from transformers) (2.32.3)\n",
      "Requirement already satisfied: safetensors>=0.4.1 in /usr/local/lib/python3.10/dist-packages (from transformers) (0.4.5)\n",
      "Requirement already satisfied: tokenizers<0.20,>=0.19 in /usr/local/lib/python3.10/dist-packages (from transformers) (0.19.1)\n",
      "Requirement already satisfied: tqdm>=4.27 in /usr/local/lib/python3.10/dist-packages (from transformers) (4.66.5)\n",
      "Requirement already satisfied: typing-extensions>=4.8.0 in /usr/local/lib/python3.10/dist-packages (from torch) (4.12.2)\n",
      "Requirement already satisfied: networkx in /usr/local/lib/python3.10/dist-packages (from torch) (3.4.2)\n",
      "Requirement already satisfied: jinja2 in /usr/local/lib/python3.10/dist-packages (from torch) (3.1.4)\n",
      "Requirement already satisfied: fsspec in /usr/local/lib/python3.10/dist-packages (from torch) (2024.6.1)\n",
      "Requirement already satisfied: sympy==1.13.1 in /usr/local/lib/python3.10/dist-packages (from torch) (1.13.1)\n",
      "Requirement already satisfied: mpmath<1.4,>=1.1.0 in /usr/local/lib/python3.10/dist-packages (from sympy==1.13.1->torch) (1.3.0)\n",
      "Requirement already satisfied: scipy>=1.6.0 in /usr/local/lib/python3.10/dist-packages (from scikit-learn) (1.13.1)\n",
      "Requirement already satisfied: joblib>=1.2.0 in /usr/local/lib/python3.10/dist-packages (from scikit-learn) (1.4.2)\n",
      "Requirement already satisfied: threadpoolctl>=3.1.0 in /usr/local/lib/python3.10/dist-packages (from scikit-learn) (3.5.0)\n",
      "Requirement already satisfied: MarkupSafe>=2.0 in /usr/local/lib/python3.10/dist-packages (from jinja2->torch) (3.0.2)\n",
      "Requirement already satisfied: charset-normalizer<4,>=2 in /usr/local/lib/python3.10/dist-packages (from requests->transformers) (3.4.0)\n",
      "Requirement already satisfied: idna<4,>=2.5 in /usr/local/lib/python3.10/dist-packages (from requests->transformers) (3.10)\n",
      "Requirement already satisfied: urllib3<3,>=1.21.1 in /usr/local/lib/python3.10/dist-packages (from requests->transformers) (2.2.3)\n",
      "Requirement already satisfied: certifi>=2017.4.17 in /usr/local/lib/python3.10/dist-packages (from requests->transformers) (2024.8.30)\n"
     ]
    }
   ],
   "source": [
    "!pip install transformers torch scikit-learn\n"
   ]
  },
  {
   "cell_type": "markdown",
   "metadata": {
    "id": "LCvooYbTR0xM"
   },
   "source": [
    "# **2. TRANSFORMER \"BERT\"**"
   ]
  },
  {
   "cell_type": "markdown",
   "metadata": {
    "id": "Tvy51MusR6cs"
   },
   "source": [
    "# **CLASSIFICATION Non-Tuning**"
   ]
  },
  {
   "cell_type": "code",
   "execution_count": null,
   "metadata": {
    "id": "vIKnUYdpR-T0"
   },
   "outputs": [],
   "source": [
    "!pip install transformers\n"
   ]
  },
  {
   "cell_type": "code",
   "execution_count": null,
   "metadata": {
    "id": "5u17HrwMSVUW"
   },
   "outputs": [],
   "source": [
    "import pandas as pd\n",
    "import numpy as np\n",
    "from sklearn.model_selection import KFold\n",
    "from sklearn.metrics import classification_report, accuracy_score, confusion_matrix, f1_score\n",
    "import torch\n",
    "import torch.nn as nn\n",
    "from torch.utils.data import DataLoader, TensorDataset\n",
    "from transformers import BertTokenizer, BertForSequenceClassification, AdamW\n",
    "import matplotlib.pyplot as plt\n",
    "import seaborn as sns\n",
    "import re\n",
    "\n",
    "# Function to clean URLs\n",
    "def clean_url(url):\n",
    "    # Remove any unwanted characters or patterns\n",
    "    url = re.sub(r'http[s]?://', '', url)  # Remove http(s)://\n",
    "    url = re.sub(r'www\\.', '', url)        # Remove www.\n",
    "    url = re.sub(r'\\?.*$', '', url)        # Remove query strings\n",
    "    url = re.sub(r'\\d+', '', url)          # Remove numbers\n",
    "    url = re.sub(r'[^a-zA-Z\\.]', ' ', url) # Remove non-alphabetic characters\n",
    "    return url.strip()\n",
    "\n",
    "# 1. Load dataset\n",
    "data = pd.read_csv('/content/gdrive/My Drive/ASDOS/template/Topik4_Phishing URL Detection Using BERT-Based Transformer Models/dataset/malicious_phish.csv')\n",
    "\n",
    "# Clean the URLs\n",
    "data['url'] = data['url'].apply(clean_url)\n",
    "\n",
    "# Memisahkan fitur dan label\n",
    "X = data['url']  # Fitur: URL\n",
    "y = data['type'].map({'benign': 0, 'defacement': 1, 'phishing': 2, 'malware': 3})  # Mengonversi label ke numerik\n",
    "\n",
    "# 2. Inisialisasi Tokenizer BERT\n",
    "tokenizer = BertTokenizer.from_pretrained('bert-base-uncased')\n",
    "\n",
    "# 3. KFold Cross-Validation\n",
    "kf = KFold(n_splits=5, shuffle=True, random_state=50)\n",
    "all_accuracy, all_f1_scores = [], []\n",
    "conf_matrix_list = []\n",
    "average_train_losses = []  # List to store average train losses for plotting\n",
    "average_val_accuracies = []  # List to store validation accuracies for plotting\n",
    "\n",
    "for fold, (train_index, val_index) in enumerate(kf.split(X)):\n",
    "    print(f'Fold {fold + 1}')\n",
    "\n",
    "    # Split data\n",
    "    X_train, X_val = X.iloc[train_index], X.iloc[val_index]\n",
    "    y_train, y_val = y.iloc[train_index], y.iloc[val_index]\n",
    "\n",
    "    # Tokenisasi dan pembuatan tensor\n",
    "    train_encodings = tokenizer(list(X_train), truncation=True, padding=True, return_tensors='pt', max_length=128)\n",
    "    val_encodings = tokenizer(list(X_val), truncation=True, padding=True, return_tensors='pt', max_length=128)\n",
    "\n",
    "    # Convert labels to tensors\n",
    "    y_train_tensor = torch.LongTensor(y_train.values)\n",
    "    y_val_tensor = torch.LongTensor(y_val.values)\n",
    "\n",
    "    # Create DataLoader\n",
    "    train_dataset = TensorDataset(train_encodings['input_ids'], train_encodings['attention_mask'], y_train_tensor)\n",
    "    train_loader = DataLoader(train_dataset, batch_size=16, shuffle=True)\n",
    "\n",
    "    # Initialize BERT model\n",
    "    model = BertForSequenceClassification.from_pretrained('bert-base-uncased', num_labels=len(y.unique()))\n",
    "    model.to('cuda' if torch.cuda.is_available() else 'cpu')  # Pindahkan model ke device yang sesuai\n",
    "    optimizer = AdamW(model.parameters(), lr=5e-5)\n",
    "\n",
    "    # Early stopping setup\n",
    "    best_accuracy = 0\n",
    "    patience, trigger_times = 5, 0\n",
    "\n",
    "    # Train the model\n",
    "    num_epochs = 3\n",
    "    train_losses = []\n",
    "    val_accuracies = []\n",
    "\n",
    "    for epoch in range(num_epochs):\n",
    "        model.train()\n",
    "        epoch_loss = 0\n",
    "        for batch in train_loader:\n",
    "            optimizer.zero_grad()\n",
    "            input_ids, attention_mask, labels = batch\n",
    "            input_ids, attention_mask, labels = input_ids.to('cuda'), attention_mask.to('cuda'), labels.to('cuda')\n",
    "            outputs = model(input_ids, attention_mask=attention_mask, labels=labels)\n",
    "            loss = outputs.loss\n",
    "            loss.backward()\n",
    "            optimizer.step()\n",
    "            epoch_loss += loss.item()\n",
    "\n",
    "        avg_loss = epoch_loss / len(train_loader)\n",
    "        train_losses.append(avg_loss)\n",
    "\n",
    "        # Validate the model\n",
    "        model.eval()\n",
    "        with torch.no_grad():\n",
    "            val_input_ids = val_encodings['input_ids'].to('cuda')\n",
    "            val_attention_mask = val_encodings['attention_mask'].to('cuda')\n",
    "            outputs = model(val_input_ids, attention_mask=val_attention_mask)\n",
    "            y_pred = torch.argmax(outputs.logits, dim=1)\n",
    "\n",
    "        accuracy = accuracy_score(y_val, y_pred.cpu())\n",
    "        val_accuracies.append(accuracy)\n",
    "\n",
    "        # Save the best model\n",
    "        if accuracy > best_accuracy:\n",
    "            best_accuracy = accuracy\n",
    "            model.save_pretrained(f'model_best_fold_{fold + 1}')\n",
    "            trigger_times = 0\n",
    "        else:\n",
    "            trigger_times += 1\n",
    "\n",
    "        if trigger_times >= patience:\n",
    "            print(f'Early stopping triggered at epoch {epoch + 1}')\n",
    "            break\n",
    "\n",
    "    # Metrics calculation\n",
    "    conf_matrix = confusion_matrix(y_val, y_pred.cpu())\n",
    "    conf_matrix_list.append(conf_matrix)\n",
    "    all_accuracy.append(accuracy)\n",
    "\n",
    "    f1 = f1_score(y_val, y_pred.cpu(), average='weighted')\n",
    "    all_f1_scores.append(f1)\n",
    "\n",
    "    # Print results for the current fold\n",
    "    print(f'Accuracy for fold {fold + 1}: {accuracy * 100:.2f}%')\n",
    "    print(f'F1 Score for fold {fold + 1}: {f1:.4f}')\n",
    "    cls_report = classification_report(y_val, y_pred.cpu(), target_names=['benign', 'defacement', 'phishing', 'malware'])\n",
    "    print(cls_report)\n",
    "\n",
    "    # Store average loss and accuracy for plotting\n",
    "    average_train_losses.append(train_losses)\n",
    "    average_val_accuracies.append(val_accuracies)\n",
    "\n",
    "    # Plot confusion matrix for the current fold\n",
    "    plt.figure(figsize=(6, 4))\n",
    "    sns.heatmap(conf_matrix, annot=True, fmt='.0f', cmap='Blues', cbar=False,\n",
    "                xticklabels=['benign', 'defacement', 'phishing', 'malware'], yticklabels=['benign', 'defacement', 'phishing', 'malware'])\n",
    "    plt.xlabel('Predicted Label')\n",
    "    plt.ylabel('True Label')\n",
    "    plt.title(f'Confusion Matrix for Fold {fold + 1}')\n",
    "    plt.show()\n",
    "\n",
    "# 4. Average Metrics Across All Folds\n",
    "print(f'Average Accuracy: {np.mean(all_accuracy) * 100:.2f}%')\n",
    "print(f'Average F1 Score: {np.mean(all_f1_scores):.4f}')\n",
    "\n",
    "# 5. Plot the Average Confusion Matrix\n",
    "average_conf_matrix = np.mean(conf_matrix_list, axis=0)\n",
    "\n",
    "plt.figure(figsize=(8, 6))\n",
    "sns.heatmap(average_conf_matrix, annot=True, fmt='.0f', cmap='Blues', cbar=False,\n",
    "            xticklabels=['benign', 'defacement', 'phishing', 'malware'], yticklabels=['benign', 'defacement', 'phishing', 'malware'])\n",
    "plt.xlabel('Predicted Label')\n",
    "plt.ylabel('True Label')\n",
    "plt.title('Average Confusion Matrix Across Folds')\n",
    "plt.show()\n",
    "\n",
    "# 6. Analysis of Results\n",
    "print(\"Hasil Deteksi Pola Enkripsi Ransomware:\")\n",
    "for i, (acc, f1) in enumerate(zip(all_accuracy, all_f1_scores)):\n",
    "    print(f'Fold {i + 1}: Akurasi = {acc * 100:.2f}%, F1 Score = {f1:.4f}')\n",
    "\n",
    "# 7. Plot Loss and Accuracy for Each Fold\n",
    "for fold in range(len(average_train_losses)):\n",
    "    plt.figure(figsize=(12, 5))\n",
    "\n",
    "    # Grafik Loss\n",
    "    plt.subplot(1, 2, 1)\n",
    "    plt.plot(average_train_losses[fold], label='Training Loss', marker='o')\n",
    "    plt.title(f'Training Loss for Fold {fold + 1}')\n",
    "    plt.xlabel('Epochs')\n",
    "    plt.ylabel('Loss')\n",
    "    plt.legend()\n",
    "    plt.grid()\n",
    "\n",
    "    # Grafik Akurasi\n",
    "    plt.subplot(1, 2, 2)\n",
    "    plt.plot(average_val_accuracies[fold], label='Validation Accuracy', marker='o')\n",
    "    plt.title(f'Validation Accuracy for Fold {fold + 1}')\n",
    "    plt.xlabel('Epochs')\n",
    "    plt.ylabel('Accuracy')\n",
    "    plt.legend()\n",
    "    plt.grid()\n",
    "\n",
    "    plt.tight_layout()\n",
    "    plt.show()\n"
   ]
  },
  {
   "cell_type": "markdown",
   "metadata": {
    "id": "EkH_RYbIR_D-"
   },
   "source": [
    "# **Hyperparameter Tuning**"
   ]
  },
  {
   "cell_type": "code",
   "execution_count": null,
   "metadata": {
    "id": "Gd5yI19QYCEC"
   },
   "outputs": [],
   "source": [
    "!pip install optuna\n"
   ]
  },
  {
   "cell_type": "code",
   "execution_count": null,
   "metadata": {
    "id": "bvYGnGcEZUNL"
   },
   "outputs": [],
   "source": [
    "import pandas as pd\n",
    "import numpy as np\n",
    "from sklearn.model_selection import KFold\n",
    "from sklearn.metrics import classification_report, accuracy_score, confusion_matrix, f1_score\n",
    "import torch\n",
    "import torch.nn as nn\n",
    "from torch.utils.data import DataLoader, TensorDataset\n",
    "from transformers import BertTokenizer, BertForSequenceClassification, AdamW\n",
    "import matplotlib.pyplot as plt\n",
    "import seaborn as sns\n",
    "import re\n",
    "from itertools import product\n",
    "\n",
    "# Function to clean URLs\n",
    "def clean_url(url):\n",
    "    # Remove unwanted characters or patterns\n",
    "    url = re.sub(r'http[s]?://', '', url)\n",
    "    url = re.sub(r'www\\.', '', url)\n",
    "    url = re.sub(r'\\?.*$', '', url)\n",
    "    url = re.sub(r'\\d+', '', url)\n",
    "    url = re.sub(r'[^a-zA-Z\\.]', ' ', url)\n",
    "    return url.strip()\n",
    "\n",
    "# Function to train and evaluate the model\n",
    "def train_and_evaluate(learning_rate, batch_size, num_epochs):\n",
    "    # 1. Load dataset\n",
    "    data = pd.read_csv('/content/gdrive/My Drive/ASDOS/template/Topik4_Phishing URL Detection Using BERT-Based Transformer Models/dataset/malicious_phish.csv')\n",
    "\n",
    "    # Clean the URLs\n",
    "    data['url'] = data['url'].apply(clean_url)\n",
    "\n",
    "    # Memisahkan fitur dan label\n",
    "    X = data['url']\n",
    "    y = data['type'].map({'benign': 0, 'defacement': 1, 'phishing': 2, 'malware': 3})\n",
    "\n",
    "    # 2. Inisialisasi Tokenizer BERT\n",
    "    tokenizer = BertTokenizer.from_pretrained('bert-base-uncased')\n",
    "\n",
    "    # KFold Cross-Validation\n",
    "    kf = KFold(n_splits=5, shuffle=True, random_state=50)\n",
    "    all_accuracy, all_f1_scores = [], []\n",
    "\n",
    "    for fold, (train_index, val_index) in enumerate(kf.split(X)):\n",
    "        print(f'Fold {fold + 1}')\n",
    "\n",
    "        # Split data\n",
    "        X_train, X_val = X.iloc[train_index], X.iloc[val_index]\n",
    "        y_train, y_val = y.iloc[train_index], y.iloc[val_index]\n",
    "\n",
    "        # Tokenisasi dan pembuatan tensor\n",
    "        train_encodings = tokenizer(list(X_train), truncation=True, padding=True, return_tensors='pt', max_length=128)\n",
    "        val_encodings = tokenizer(list(X_val), truncation=True, padding=True, return_tensors='pt', max_length=128)\n",
    "\n",
    "        # Convert labels to tensors\n",
    "        y_train_tensor = torch.LongTensor(y_train.values)\n",
    "        y_val_tensor = torch.LongTensor(y_val.values)\n",
    "\n",
    "        # Create DataLoader\n",
    "        train_dataset = TensorDataset(train_encodings['input_ids'], train_encodings['attention_mask'], y_train_tensor)\n",
    "        train_loader = DataLoader(train_dataset, batch_size=batch_size, shuffle=True)\n",
    "\n",
    "        # Initialize BERT model\n",
    "        model = BertForSequenceClassification.from_pretrained('bert-base-uncased', num_labels=len(y.unique()))\n",
    "        model.to('cuda' if torch.cuda.is_available() else 'cpu')\n",
    "        optimizer = AdamW(model.parameters(), lr=learning_rate)\n",
    "\n",
    "        # Train the model\n",
    "        num_epochs = num_epochs\n",
    "        best_accuracy = 0\n",
    "\n",
    "        for epoch in range(num_epochs):\n",
    "            model.train()\n",
    "            epoch_loss = 0\n",
    "            for batch in train_loader:\n",
    "                optimizer.zero_grad()\n",
    "                input_ids, attention_mask, labels = batch\n",
    "                input_ids, attention_mask, labels = input_ids.to('cuda'), attention_mask.to('cuda'), labels.to('cuda')\n",
    "                outputs = model(input_ids, attention_mask=attention_mask, labels=labels)\n",
    "                loss = outputs.loss\n",
    "                loss.backward()\n",
    "                optimizer.step()\n",
    "                epoch_loss += loss.item()\n",
    "\n",
    "        # Validate the model\n",
    "        model.eval()\n",
    "        with torch.no_grad():\n",
    "            val_input_ids = val_encodings['input_ids'].to('cuda')\n",
    "            val_attention_mask = val_encodings['attention_mask'].to('cuda')\n",
    "            outputs = model(val_input_ids, attention_mask=val_attention_mask)\n",
    "            y_pred = torch.argmax(outputs.logits, dim=1)\n",
    "\n",
    "        accuracy = accuracy_score(y_val, y_pred.cpu())\n",
    "        all_accuracy.append(accuracy)\n",
    "\n",
    "    # Return the average accuracy across all folds\n",
    "    return np.mean(all_accuracy)\n",
    "\n",
    "# Define hyperparameter grid\n",
    "learning_rates = [1e-5, 5e-5]\n",
    "batch_sizes = [8, 16]\n",
    "num_epochs_list = [5, 10]\n",
    "\n",
    "# Store results\n",
    "results = {}\n",
    "\n",
    "# Iterate over all combinations of hyperparameters\n",
    "for learning_rate, batch_size, num_epochs in product(learning_rates, batch_sizes, num_epochs_list):\n",
    "    print(f'Tuning with Learning Rate: {learning_rate}, Batch Size: {batch_size}, Num Epochs: {num_epochs}')\n",
    "    avg_accuracy = train_and_evaluate(learning_rate, batch_size, num_epochs)\n",
    "    results[(learning_rate, batch_size, num_epochs)] = avg_accuracy\n",
    "    print(f'Average Accuracy: {avg_accuracy * 100:.2f}%\\n')\n",
    "\n",
    "# Find the best hyperparameters\n",
    "best_params = max(results, key=results.get)\n",
    "print(f'Best Hyperparameters: Learning Rate: {best_params[0]}, Batch Size: {best_params[1]}, Num Epochs: {best_params[2]}')\n",
    "print(f'Best Average Accuracy: {results[best_params] * 100:.2f}%')\n"
   ]
  },
  {
   "cell_type": "markdown",
   "metadata": {
    "id": "ENIQ8tKfSGQG"
   },
   "source": [
    "# **CLASSIFICATION With Hyperparameter Tuning**\n",
    "(ganti parameter sesuai yang terbaik hasil hyperparameter tuning ya)"
   ]
  },
  {
   "cell_type": "code",
   "execution_count": null,
   "metadata": {
    "id": "oTa_Ip7kYDkq"
   },
   "outputs": [],
   "source": [
    "import pandas as pd\n",
    "import numpy as np\n",
    "from sklearn.model_selection import KFold\n",
    "from sklearn.metrics import classification_report, accuracy_score, confusion_matrix, f1_score\n",
    "import torch\n",
    "import torch.nn as nn\n",
    "from torch.utils.data import DataLoader, TensorDataset\n",
    "from transformers import BertTokenizer, BertForSequenceClassification, AdamW\n",
    "import matplotlib.pyplot as plt\n",
    "import seaborn as sns\n",
    "import re\n",
    "\n",
    "# Function to clean URLs\n",
    "def clean_url(url):\n",
    "    # Remove any unwanted characters or patterns\n",
    "    url = re.sub(r'http[s]?://', '', url)  # Remove http(s)://\n",
    "    url = re.sub(r'www\\.', '', url)        # Remove www.\n",
    "    url = re.sub(r'\\?.*$', '', url)        # Remove query strings\n",
    "    url = re.sub(r'\\d+', '', url)          # Remove numbers\n",
    "    url = re.sub(r'[^a-zA-Z\\.]', ' ', url) # Remove non-alphabetic characters\n",
    "    return url.strip()\n",
    "\n",
    "# 1. Load dataset\n",
    "data = pd.read_csv('/content/gdrive/My Drive/ASDOS/template/Topik4_Phishing URL Detection Using BERT-Based Transformer Models/dataset/malicious_phish.csv')\n",
    "\n",
    "# Clean the URLs\n",
    "data['url'] = data['url'].apply(clean_url)\n",
    "\n",
    "# Memisahkan fitur dan label\n",
    "X = data['url']  # Fitur: URL\n",
    "y = data['type'].map({'benign': 0, 'defacement': 1, 'phishing': 2, 'malware': 3})  # Mengonversi label ke numerik\n",
    "\n",
    "# 2. Inisialisasi Tokenizer BERT\n",
    "tokenizer = BertTokenizer.from_pretrained('bert-base-uncased')\n",
    "\n",
    "# 3. KFold Cross-Validation\n",
    "kf = KFold(n_splits=10, shuffle=True, random_state=50)\n",
    "all_accuracy, all_f1_scores = [], []\n",
    "conf_matrix_list = []\n",
    "average_train_losses = []  # List to store average train losses for plotting\n",
    "average_val_accuracies = []  # List to store validation accuracies for plotting\n",
    "\n",
    "for fold, (train_index, val_index) in enumerate(kf.split(X)):\n",
    "    print(f'Fold {fold + 1}')\n",
    "\n",
    "    # Split data\n",
    "    X_train, X_val = X.iloc[train_index], X.iloc[val_index]\n",
    "    y_train, y_val = y.iloc[train_index], y.iloc[val_index]\n",
    "\n",
    "    # Tokenisasi dan pembuatan tensor\n",
    "    train_encodings = tokenizer(list(X_train), truncation=True, padding=True, return_tensors='pt', max_length=128)\n",
    "    val_encodings = tokenizer(list(X_val), truncation=True, padding=True, return_tensors='pt', max_length=128)\n",
    "\n",
    "    # Convert labels to tensors\n",
    "    y_train_tensor = torch.LongTensor(y_train.values)\n",
    "    y_val_tensor = torch.LongTensor(y_val.values)\n",
    "\n",
    "    # Create DataLoader\n",
    "    train_dataset = TensorDataset(train_encodings['input_ids'], train_encodings['attention_mask'], y_train_tensor)\n",
    "    train_loader = DataLoader(train_dataset, batch_size=16, shuffle=True)\n",
    "\n",
    "    # Initialize BERT model\n",
    "    model = BertForSequenceClassification.from_pretrained('bert-base-uncased', num_labels=len(y.unique()))\n",
    "    model.to('cuda' if torch.cuda.is_available() else 'cpu')  # Pindahkan model ke device yang sesuai\n",
    "    optimizer = AdamW(model.parameters(), lr=5e-5)\n",
    "\n",
    "    # Early stopping setup\n",
    "    best_accuracy = 0\n",
    "    patience, trigger_times = 5, 0\n",
    "\n",
    "    # Train the model\n",
    "    num_epochs = 3\n",
    "    train_losses = []\n",
    "    val_accuracies = []\n",
    "\n",
    "    for epoch in range(num_epochs):\n",
    "        model.train()\n",
    "        epoch_loss = 0\n",
    "        for batch in train_loader:\n",
    "            optimizer.zero_grad()\n",
    "            input_ids, attention_mask, labels = batch\n",
    "            input_ids, attention_mask, labels = input_ids.to('cuda'), attention_mask.to('cuda'), labels.to('cuda')\n",
    "            outputs = model(input_ids, attention_mask=attention_mask, labels=labels)\n",
    "            loss = outputs.loss\n",
    "            loss.backward()\n",
    "            optimizer.step()\n",
    "            epoch_loss += loss.item()\n",
    "\n",
    "        avg_loss = epoch_loss / len(train_loader)\n",
    "        train_losses.append(avg_loss)\n",
    "\n",
    "        # Validate the model\n",
    "        model.eval()\n",
    "        with torch.no_grad():\n",
    "            val_input_ids = val_encodings['input_ids'].to('cuda')\n",
    "            val_attention_mask = val_encodings['attention_mask'].to('cuda')\n",
    "            outputs = model(val_input_ids, attention_mask=val_attention_mask)\n",
    "            y_pred = torch.argmax(outputs.logits, dim=1)\n",
    "\n",
    "        accuracy = accuracy_score(y_val, y_pred.cpu())\n",
    "        val_accuracies.append(accuracy)\n",
    "\n",
    "        # Save the best model\n",
    "        if accuracy > best_accuracy:\n",
    "            best_accuracy = accuracy\n",
    "            model.save_pretrained(f'model_best_fold_{fold + 1}')\n",
    "            trigger_times = 0\n",
    "        else:\n",
    "            trigger_times += 1\n",
    "\n",
    "        if trigger_times >= patience:\n",
    "            print(f'Early stopping triggered at epoch {epoch + 1}')\n",
    "            break\n",
    "\n",
    "    # Metrics calculation\n",
    "    conf_matrix = confusion_matrix(y_val, y_pred.cpu())\n",
    "    conf_matrix_list.append(conf_matrix)\n",
    "    all_accuracy.append(accuracy)\n",
    "\n",
    "    f1 = f1_score(y_val, y_pred.cpu(), average='weighted')\n",
    "    all_f1_scores.append(f1)\n",
    "\n",
    "    # Print results for the current fold\n",
    "    print(f'Accuracy for fold {fold + 1}: {accuracy * 100:.2f}%')\n",
    "    print(f'F1 Score for fold {fold + 1}: {f1:.4f}')\n",
    "    cls_report = classification_report(y_val, y_pred.cpu(), target_names=['benign', 'defacement', 'phishing', 'malware'])\n",
    "    print(cls_report)\n",
    "\n",
    "    # Store average loss and accuracy for plotting\n",
    "    average_train_losses.append(train_losses)\n",
    "    average_val_accuracies.append(val_accuracies)\n",
    "\n",
    "    # Plot confusion matrix for the current fold\n",
    "    plt.figure(figsize=(6, 4))\n",
    "    sns.heatmap(conf_matrix, annot=True, fmt='.0f', cmap='Blues', cbar=False,\n",
    "                xticklabels=['benign', 'defacement', 'phishing', 'malware'], yticklabels=['benign', 'defacement', 'phishing', 'malware'])\n",
    "    plt.xlabel('Predicted Label')\n",
    "    plt.ylabel('True Label')\n",
    "    plt.title(f'Confusion Matrix for Fold {fold + 1}')\n",
    "    plt.show()\n",
    "\n",
    "# 4. Average Metrics Across All Folds\n",
    "print(f'Average Accuracy: {np.mean(all_accuracy) * 100:.2f}%')\n",
    "print(f'Average F1 Score: {np.mean(all_f1_scores):.4f}')\n",
    "\n",
    "# 5. Plot the Average Confusion Matrix\n",
    "average_conf_matrix = np.mean(conf_matrix_list, axis=0)\n",
    "\n",
    "plt.figure(figsize=(8, 6))\n",
    "sns.heatmap(average_conf_matrix, annot=True, fmt='.0f', cmap='Blues', cbar=False,\n",
    "            xticklabels=['benign', 'defacement', 'phishing', 'malware'], yticklabels=['benign', 'defacement', 'phishing', 'malware'])\n",
    "plt.xlabel('Predicted Label')\n",
    "plt.ylabel('True Label')\n",
    "plt.title('Average Confusion Matrix Across Folds')\n",
    "plt.show()\n",
    "\n",
    "# 6. Analysis of Results\n",
    "print(\"Hasil Deteksi Pola Enkripsi Ransomware:\")\n",
    "for i, (acc, f1) in enumerate(zip(all_accuracy, all_f1_scores)):\n",
    "    print(f'Fold {i + 1}: Akurasi = {acc * 100:.2f}%, F1 Score = {f1:.4f}')\n",
    "\n",
    "# 7. Plot Loss and Accuracy for Each Fold\n",
    "for fold in range(len(average_train_losses)):\n",
    "    plt.figure(figsize=(12, 5))\n",
    "\n",
    "    # Grafik Loss\n",
    "    plt.subplot(1, 2, 1)\n",
    "    plt.plot(average_train_losses[fold], label='Training Loss', marker='o')\n",
    "    plt.title(f'Training Loss for Fold {fold + 1}')\n",
    "    plt.xlabel('Epochs')\n",
    "    plt.ylabel('Loss')\n",
    "    plt.legend()\n",
    "    plt.grid()\n",
    "\n",
    "    # Grafik Akurasi\n",
    "    plt.subplot(1, 2, 2)\n",
    "    plt.plot(average_val_accuracies[fold], label='Validation Accuracy', marker='o')\n",
    "    plt.title(f'Validation Accuracy for Fold {fold + 1}')\n",
    "    plt.xlabel('Epochs')\n",
    "    plt.ylabel('Accuracy')\n",
    "    plt.legend()\n",
    "    plt.grid()\n",
    "\n",
    "    plt.tight_layout()\n",
    "    plt.show()\n"
   ]
  }
 ],
 "metadata": {
  "accelerator": "GPU",
  "colab": {
   "collapsed_sections": [
    "_zwCO4CYjHOA",
    "AHj5eTAujTyE",
    "4BXqrtHHkl1M",
    "3-Y9E27L7hTr",
    "bDbU1Yy1Bfs_",
    "aPcQLHgdnIfV",
    "UGcGz1c07fNo",
    "hmQyIdBr_Igh",
    "Tvy51MusR6cs",
    "EkH_RYbIR_D-",
    "ENIQ8tKfSGQG",
    "9amPXw6_V3gW",
    "jlQe6ayuV6ho",
    "gELobKBbV-rx",
    "hcJ7npSgYmW5",
    "hJTv8IoTYpV0",
    "Qo8oYfLqYrl5"
   ],
   "gpuType": "T4",
   "provenance": []
  },
  "kernelspec": {
   "display_name": "Python 3",
   "name": "python3"
  },
  "language_info": {
   "name": "python"
  }
 },
 "nbformat": 4,
 "nbformat_minor": 0
}
