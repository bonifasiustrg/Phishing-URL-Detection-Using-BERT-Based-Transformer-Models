{
  "cells": [
    {
      "cell_type": "markdown",
      "metadata": {
        "id": "176JBXzz8ext"
      },
      "source": [
        "# **Catatan**"
      ]
    },
    {
      "cell_type": "markdown",
      "metadata": {
        "id": "Gd032zLM8t-z"
      },
      "source": [
        "- Kode program 1 adalah kalian tinggal running kode ini agar dapat melihat training dengan data asli tanpa dibersihkan, kemudian dievaluasi hasilnya dan dicatat. (running sendiri ya, kalau ada error screenshot kirim ke wa saya)\n",
        "- hasil training dengan data asli (classification non-tuning) dibandingkan dengan hasil training data asli menggunakan hyperparameter tuning\n",
        "- metric evaluasinya harus ada accuracy, precision, recall, dan f1-score"
      ]
    },
    {
      "cell_type": "markdown",
      "metadata": {
        "id": "GVtWjsc6GtKx"
      },
      "source": [
        "Kode ini untuk Topik ini:\n",
        "- Phishing URL Detection Using BERT-Based Transformer Models\n",
        "Topik Riset:\n",
        "\"Deteksi URL Phishing dengan Model Transformer Berbasis BERT: Studi Kasus Analisis URL dan Email\"\n",
        "Deskripsi:\n",
        "Model BERT (Bidirectional Encoder Representations from Transformers) digunakan untuk memahami konteks URL atau teks email yang mencurigakan. Model ini dapat menganalisis karakter URL dan teks email untuk membedakan apakah mereka merupakan phishing atau tidak berdasarkan pola yang diidentifikasi dari dataset phishing.\n",
        "Novelty: Sedang. Meskipun deteksi phishing berbasis URL sudah diteliti cukup luas, penggunaan BERT untuk klasifikasi URL secara mendalam masih relatif baru. Namun, karena banyak model sudah menggunakan BERT untuk analisis teks, tingkat novelty bisa lebih tinggi jika dilakukan kombinasi fitur tambahan seperti analisis perilaku pengguna.\n",
        "Dataset: Malicious URL Dataset\n",
        "Dataset ini berisi jutaan URL berbahaya, termasuk yang digunakan untuk phishing. BERT, sebagai model Transformer, dapat digunakan untuk memahami pola karakteristik URL dan memprediksi kemungkinan serangan phishing.\n",
        "URL: Malicious URL Dataset​(GitHub)\n"
      ]
    },
    {
      "cell_type": "markdown",
      "metadata": {
        "id": "_zwCO4CYjHOA"
      },
      "source": [
        "# **Importing Modules and Libraries**"
      ]
    },
    {
      "cell_type": "code",
      "execution_count": null,
      "metadata": {
        "id": "aM4cT-t9_Aqr"
      },
      "outputs": [],
      "source": [
        "# Importing required libraries\n",
        "import numpy as np\n",
        "import pandas as pd\n",
        "import seaborn as sns\n",
        "import matplotlib.pyplot as plt\n",
        "import pickle\n",
        "from os import path\n",
        "\n",
        "# Sklearn imports (consolidated)\n",
        "from sklearn.preprocessing import MinMaxScaler, StandardScaler, LabelEncoder\n",
        "from sklearn.model_selection import train_test_split, KFold, ParameterGrid\n",
        "from sklearn.metrics import (\n",
        "    accuracy_score,\n",
        "    classification_report,\n",
        "    confusion_matrix,\n",
        "    precision_score,\n",
        "    recall_score,\n",
        "    f1_score,\n",
        "    roc_auc_score,\n",
        "    roc_curve,\n",
        "    auc\n",
        ")\n",
        "\n",
        "# PyTorch imports (consolidated)\n",
        "import torch\n",
        "import torch.nn as nn\n",
        "from torch.utils.data import DataLoader, TensorDataset\n",
        "from torch.amp import GradScaler, autocast\n",
        "from torch.optim import AdamW\n",
        "\n",
        "# Transformers and progress bar (consolidated)\n",
        "from transformers import BertTokenizer, BertForSequenceClassification\n",
        "from tqdm.auto import tqdm\n",
        "import transformers  # for setting logging verbosity\n"
      ]
    },
    {
      "cell_type": "code",
      "source": [
        "!pip install transformers tensorflow scikit-learn matplotlib pandas\n",
        "!pip install transformers\n"
      ],
      "metadata": {
        "colab": {
          "base_uri": "https://localhost:8080/"
        },
        "id": "FYMnSontFDGW",
        "outputId": "401385b1-cfbb-4cc9-91d1-5be55b5c3200"
      },
      "execution_count": null,
      "outputs": [
        {
          "output_type": "stream",
          "name": "stdout",
          "text": [
            "Requirement already satisfied: transformers in /usr/local/lib/python3.10/dist-packages (4.44.2)\n",
            "Requirement already satisfied: tensorflow in /usr/local/lib/python3.10/dist-packages (2.17.0)\n",
            "Requirement already satisfied: scikit-learn in /usr/local/lib/python3.10/dist-packages (1.5.2)\n",
            "Requirement already satisfied: matplotlib in /usr/local/lib/python3.10/dist-packages (3.8.0)\n",
            "Requirement already satisfied: pandas in /usr/local/lib/python3.10/dist-packages (2.2.2)\n",
            "Requirement already satisfied: filelock in /usr/local/lib/python3.10/dist-packages (from transformers) (3.16.1)\n",
            "Requirement already satisfied: huggingface-hub<1.0,>=0.23.2 in /usr/local/lib/python3.10/dist-packages (from transformers) (0.24.7)\n",
            "Requirement already satisfied: numpy>=1.17 in /usr/local/lib/python3.10/dist-packages (from transformers) (1.26.4)\n",
            "Requirement already satisfied: packaging>=20.0 in /usr/local/lib/python3.10/dist-packages (from transformers) (24.1)\n",
            "Requirement already satisfied: pyyaml>=5.1 in /usr/local/lib/python3.10/dist-packages (from transformers) (6.0.2)\n",
            "Requirement already satisfied: regex!=2019.12.17 in /usr/local/lib/python3.10/dist-packages (from transformers) (2024.9.11)\n",
            "Requirement already satisfied: requests in /usr/local/lib/python3.10/dist-packages (from transformers) (2.32.3)\n",
            "Requirement already satisfied: safetensors>=0.4.1 in /usr/local/lib/python3.10/dist-packages (from transformers) (0.4.5)\n",
            "Requirement already satisfied: tokenizers<0.20,>=0.19 in /usr/local/lib/python3.10/dist-packages (from transformers) (0.19.1)\n",
            "Requirement already satisfied: tqdm>=4.27 in /usr/local/lib/python3.10/dist-packages (from transformers) (4.66.6)\n",
            "Requirement already satisfied: absl-py>=1.0.0 in /usr/local/lib/python3.10/dist-packages (from tensorflow) (1.4.0)\n",
            "Requirement already satisfied: astunparse>=1.6.0 in /usr/local/lib/python3.10/dist-packages (from tensorflow) (1.6.3)\n",
            "Requirement already satisfied: flatbuffers>=24.3.25 in /usr/local/lib/python3.10/dist-packages (from tensorflow) (24.3.25)\n",
            "Requirement already satisfied: gast!=0.5.0,!=0.5.1,!=0.5.2,>=0.2.1 in /usr/local/lib/python3.10/dist-packages (from tensorflow) (0.6.0)\n",
            "Requirement already satisfied: google-pasta>=0.1.1 in /usr/local/lib/python3.10/dist-packages (from tensorflow) (0.2.0)\n",
            "Requirement already satisfied: h5py>=3.10.0 in /usr/local/lib/python3.10/dist-packages (from tensorflow) (3.12.1)\n",
            "Requirement already satisfied: libclang>=13.0.0 in /usr/local/lib/python3.10/dist-packages (from tensorflow) (18.1.1)\n",
            "Requirement already satisfied: ml-dtypes<0.5.0,>=0.3.1 in /usr/local/lib/python3.10/dist-packages (from tensorflow) (0.4.1)\n",
            "Requirement already satisfied: opt-einsum>=2.3.2 in /usr/local/lib/python3.10/dist-packages (from tensorflow) (3.4.0)\n",
            "Requirement already satisfied: protobuf!=4.21.0,!=4.21.1,!=4.21.2,!=4.21.3,!=4.21.4,!=4.21.5,<5.0.0dev,>=3.20.3 in /usr/local/lib/python3.10/dist-packages (from tensorflow) (3.20.3)\n",
            "Requirement already satisfied: setuptools in /usr/local/lib/python3.10/dist-packages (from tensorflow) (75.1.0)\n",
            "Requirement already satisfied: six>=1.12.0 in /usr/local/lib/python3.10/dist-packages (from tensorflow) (1.16.0)\n",
            "Requirement already satisfied: termcolor>=1.1.0 in /usr/local/lib/python3.10/dist-packages (from tensorflow) (2.5.0)\n",
            "Requirement already satisfied: typing-extensions>=3.6.6 in /usr/local/lib/python3.10/dist-packages (from tensorflow) (4.12.2)\n",
            "Requirement already satisfied: wrapt>=1.11.0 in /usr/local/lib/python3.10/dist-packages (from tensorflow) (1.16.0)\n",
            "Requirement already satisfied: grpcio<2.0,>=1.24.3 in /usr/local/lib/python3.10/dist-packages (from tensorflow) (1.64.1)\n",
            "Requirement already satisfied: tensorboard<2.18,>=2.17 in /usr/local/lib/python3.10/dist-packages (from tensorflow) (2.17.0)\n",
            "Requirement already satisfied: keras>=3.2.0 in /usr/local/lib/python3.10/dist-packages (from tensorflow) (3.4.1)\n",
            "Requirement already satisfied: tensorflow-io-gcs-filesystem>=0.23.1 in /usr/local/lib/python3.10/dist-packages (from tensorflow) (0.37.1)\n",
            "Requirement already satisfied: scipy>=1.6.0 in /usr/local/lib/python3.10/dist-packages (from scikit-learn) (1.13.1)\n",
            "Requirement already satisfied: joblib>=1.2.0 in /usr/local/lib/python3.10/dist-packages (from scikit-learn) (1.4.2)\n",
            "Requirement already satisfied: threadpoolctl>=3.1.0 in /usr/local/lib/python3.10/dist-packages (from scikit-learn) (3.5.0)\n",
            "Requirement already satisfied: contourpy>=1.0.1 in /usr/local/lib/python3.10/dist-packages (from matplotlib) (1.3.0)\n",
            "Requirement already satisfied: cycler>=0.10 in /usr/local/lib/python3.10/dist-packages (from matplotlib) (0.12.1)\n",
            "Requirement already satisfied: fonttools>=4.22.0 in /usr/local/lib/python3.10/dist-packages (from matplotlib) (4.54.1)\n",
            "Requirement already satisfied: kiwisolver>=1.0.1 in /usr/local/lib/python3.10/dist-packages (from matplotlib) (1.4.7)\n",
            "Requirement already satisfied: pillow>=6.2.0 in /usr/local/lib/python3.10/dist-packages (from matplotlib) (10.4.0)\n",
            "Requirement already satisfied: pyparsing>=2.3.1 in /usr/local/lib/python3.10/dist-packages (from matplotlib) (3.2.0)\n",
            "Requirement already satisfied: python-dateutil>=2.7 in /usr/local/lib/python3.10/dist-packages (from matplotlib) (2.8.2)\n",
            "Requirement already satisfied: pytz>=2020.1 in /usr/local/lib/python3.10/dist-packages (from pandas) (2024.2)\n",
            "Requirement already satisfied: tzdata>=2022.7 in /usr/local/lib/python3.10/dist-packages (from pandas) (2024.2)\n",
            "Requirement already satisfied: wheel<1.0,>=0.23.0 in /usr/local/lib/python3.10/dist-packages (from astunparse>=1.6.0->tensorflow) (0.44.0)\n",
            "Requirement already satisfied: fsspec>=2023.5.0 in /usr/local/lib/python3.10/dist-packages (from huggingface-hub<1.0,>=0.23.2->transformers) (2024.10.0)\n",
            "Requirement already satisfied: rich in /usr/local/lib/python3.10/dist-packages (from keras>=3.2.0->tensorflow) (13.9.3)\n",
            "Requirement already satisfied: namex in /usr/local/lib/python3.10/dist-packages (from keras>=3.2.0->tensorflow) (0.0.8)\n",
            "Requirement already satisfied: optree in /usr/local/lib/python3.10/dist-packages (from keras>=3.2.0->tensorflow) (0.13.0)\n",
            "Requirement already satisfied: charset-normalizer<4,>=2 in /usr/local/lib/python3.10/dist-packages (from requests->transformers) (3.4.0)\n",
            "Requirement already satisfied: idna<4,>=2.5 in /usr/local/lib/python3.10/dist-packages (from requests->transformers) (3.10)\n",
            "Requirement already satisfied: urllib3<3,>=1.21.1 in /usr/local/lib/python3.10/dist-packages (from requests->transformers) (2.2.3)\n",
            "Requirement already satisfied: certifi>=2017.4.17 in /usr/local/lib/python3.10/dist-packages (from requests->transformers) (2024.8.30)\n",
            "Requirement already satisfied: markdown>=2.6.8 in /usr/local/lib/python3.10/dist-packages (from tensorboard<2.18,>=2.17->tensorflow) (3.7)\n",
            "Requirement already satisfied: tensorboard-data-server<0.8.0,>=0.7.0 in /usr/local/lib/python3.10/dist-packages (from tensorboard<2.18,>=2.17->tensorflow) (0.7.2)\n",
            "Requirement already satisfied: werkzeug>=1.0.1 in /usr/local/lib/python3.10/dist-packages (from tensorboard<2.18,>=2.17->tensorflow) (3.0.6)\n",
            "Requirement already satisfied: MarkupSafe>=2.1.1 in /usr/local/lib/python3.10/dist-packages (from werkzeug>=1.0.1->tensorboard<2.18,>=2.17->tensorflow) (3.0.2)\n",
            "Requirement already satisfied: markdown-it-py>=2.2.0 in /usr/local/lib/python3.10/dist-packages (from rich->keras>=3.2.0->tensorflow) (3.0.0)\n",
            "Requirement already satisfied: pygments<3.0.0,>=2.13.0 in /usr/local/lib/python3.10/dist-packages (from rich->keras>=3.2.0->tensorflow) (2.18.0)\n",
            "Requirement already satisfied: mdurl~=0.1 in /usr/local/lib/python3.10/dist-packages (from markdown-it-py>=2.2.0->rich->keras>=3.2.0->tensorflow) (0.1.2)\n",
            "Requirement already satisfied: transformers in /usr/local/lib/python3.10/dist-packages (4.44.2)\n",
            "Requirement already satisfied: filelock in /usr/local/lib/python3.10/dist-packages (from transformers) (3.16.1)\n",
            "Requirement already satisfied: huggingface-hub<1.0,>=0.23.2 in /usr/local/lib/python3.10/dist-packages (from transformers) (0.24.7)\n",
            "Requirement already satisfied: numpy>=1.17 in /usr/local/lib/python3.10/dist-packages (from transformers) (1.26.4)\n",
            "Requirement already satisfied: packaging>=20.0 in /usr/local/lib/python3.10/dist-packages (from transformers) (24.1)\n",
            "Requirement already satisfied: pyyaml>=5.1 in /usr/local/lib/python3.10/dist-packages (from transformers) (6.0.2)\n",
            "Requirement already satisfied: regex!=2019.12.17 in /usr/local/lib/python3.10/dist-packages (from transformers) (2024.9.11)\n",
            "Requirement already satisfied: requests in /usr/local/lib/python3.10/dist-packages (from transformers) (2.32.3)\n",
            "Requirement already satisfied: safetensors>=0.4.1 in /usr/local/lib/python3.10/dist-packages (from transformers) (0.4.5)\n",
            "Requirement already satisfied: tokenizers<0.20,>=0.19 in /usr/local/lib/python3.10/dist-packages (from transformers) (0.19.1)\n",
            "Requirement already satisfied: tqdm>=4.27 in /usr/local/lib/python3.10/dist-packages (from transformers) (4.66.6)\n",
            "Requirement already satisfied: fsspec>=2023.5.0 in /usr/local/lib/python3.10/dist-packages (from huggingface-hub<1.0,>=0.23.2->transformers) (2024.10.0)\n",
            "Requirement already satisfied: typing-extensions>=3.7.4.3 in /usr/local/lib/python3.10/dist-packages (from huggingface-hub<1.0,>=0.23.2->transformers) (4.12.2)\n",
            "Requirement already satisfied: charset-normalizer<4,>=2 in /usr/local/lib/python3.10/dist-packages (from requests->transformers) (3.4.0)\n",
            "Requirement already satisfied: idna<4,>=2.5 in /usr/local/lib/python3.10/dist-packages (from requests->transformers) (3.10)\n",
            "Requirement already satisfied: urllib3<3,>=1.21.1 in /usr/local/lib/python3.10/dist-packages (from requests->transformers) (2.2.3)\n",
            "Requirement already satisfied: certifi>=2017.4.17 in /usr/local/lib/python3.10/dist-packages (from requests->transformers) (2024.8.30)\n"
          ]
        }
      ]
    },
    {
      "cell_type": "markdown",
      "metadata": {
        "id": "AHj5eTAujTyE"
      },
      "source": [
        "# **Importing Datasets**"
      ]
    },
    {
      "cell_type": "markdown",
      "metadata": {
        "id": "h8GaRdKI1LkC"
      },
      "source": [
        "Mount Google Drive:"
      ]
    },
    {
      "cell_type": "markdown",
      "metadata": {
        "id": "8WZtm72j1UCm"
      },
      "source": [
        "Digunakan untuk mengakses file yang disimpan di Google Drive."
      ]
    },
    {
      "cell_type": "code",
      "execution_count": null,
      "metadata": {
        "colab": {
          "base_uri": "https://localhost:8080/"
        },
        "id": "NU9K3Y6ojUNm",
        "outputId": "e275c478-0940-43c9-e06c-4ab2cfe3ddda"
      },
      "outputs": [
        {
          "output_type": "stream",
          "name": "stdout",
          "text": [
            "Mounted at /content/gdrive\n",
            "gdrive\tsample_data\n"
          ]
        }
      ],
      "source": [
        "from google.colab import drive\n",
        "drive.mount('/content/gdrive', force_remount=True)\n",
        "!ls\n"
      ]
    },
    {
      "cell_type": "markdown",
      "metadata": {
        "id": "zKgGOMPN1P-0"
      },
      "source": [
        "Mengubah direktori kerja:"
      ]
    },
    {
      "cell_type": "markdown",
      "metadata": {
        "id": "nsM_Jgzy1W1S"
      },
      "source": [
        "Ini digunakan untuk berpindah ke folder tempat dataset Anda berada."
      ]
    },
    {
      "cell_type": "code",
      "execution_count": null,
      "metadata": {
        "colab": {
          "base_uri": "https://localhost:8080/"
        },
        "id": "0atFcMKxja9Q",
        "outputId": "e384fb8b-7816-4fbb-c420-bd68b036eaa4"
      },
      "outputs": [
        {
          "output_type": "stream",
          "name": "stdout",
          "text": [
            "malicious_phish.csv  model_best_fold_2\tmodel_best_fold_4\n",
            "model_best_fold_1    model_best_fold_3\tmodel_best_fold_5\n"
          ]
        }
      ],
      "source": [
        "import os\n",
        "os.chdir(\"/content/gdrive/My Drive/ASDOS/template/Topik4_Phishing URL Detection Using BERT-Based Transformer Models/dataset\")\n",
        "!ls\n"
      ]
    },
    {
      "cell_type": "markdown",
      "metadata": {
        "id": "7pdDs8nP1ZrM"
      },
      "source": [
        "Memuat dataset:"
      ]
    },
    {
      "cell_type": "markdown",
      "metadata": {
        "id": "dK_YsP-n1b3O"
      },
      "source": [
        "Dataset **malicious_phish.csv** dimuat ke dalam variabel data."
      ]
    },
    {
      "cell_type": "code",
      "execution_count": null,
      "metadata": {
        "colab": {
          "base_uri": "https://localhost:8080/"
        },
        "id": "On4cwKOXji-n",
        "outputId": "46acfb41-c8de-4c2a-b437-0bd52caf882e"
      },
      "outputs": [
        {
          "output_type": "stream",
          "name": "stdout",
          "text": [
            "Jumlah data asli: 651191\n"
          ]
        }
      ],
      "source": [
        "data = pd.read_csv('/content/gdrive/My Drive/ASDOS/template/Topik4_Phishing URL Detection Using BERT-Based Transformer Models/dataset/malicious_phish.csv')\n",
        "print(\"Jumlah data asli:\", len(data))\n",
        "# data = data.sample(frac=0.0001, random_state=42).reset_index(drop=True)\n",
        "\n",
        "# Mengambil xx% dari data secara acak\n",
        "# ini sementara dilakukan karena resource yang dimiliki terbatas\n"
      ]
    },
    {
      "cell_type": "markdown",
      "metadata": {
        "id": "Tu9thCog1fZm"
      },
      "source": [
        "Menampilkan informasi awal tentang data:"
      ]
    },
    {
      "cell_type": "markdown",
      "metadata": {
        "id": "uJ6OtEwJ1hse"
      },
      "source": [
        "Menampilkan 5 baris pertama dari dataset dan informasi tentang tipe data, jumlah entri, dan kolom yang ada di dalam dataset."
      ]
    },
    {
      "cell_type": "code",
      "execution_count": null,
      "metadata": {
        "colab": {
          "base_uri": "https://localhost:8080/"
        },
        "id": "9fklOnwGjmB4",
        "outputId": "6f0e5f49-2e8e-4085-b0bb-fa9eae0148ad"
      },
      "outputs": [
        {
          "output_type": "execute_result",
          "data": {
            "text/plain": [
              "                                                 url        type\n",
              "0                                   br-icloud.com.br    phishing\n",
              "1                mp3raid.com/music/krizz_kaliko.html      benign\n",
              "2                    bopsecrets.org/rexroth/cr/1.htm      benign\n",
              "3  http://www.garage-pirenne.be/index.php?option=...  defacement\n",
              "4  http://adventure-nicaragua.net/index.php?optio...  defacement"
            ],
            "text/html": [
              "\n",
              "  <div id=\"df-c46f45cf-c403-48a4-a89e-f4eb654d1e33\" class=\"colab-df-container\">\n",
              "    <div>\n",
              "<style scoped>\n",
              "    .dataframe tbody tr th:only-of-type {\n",
              "        vertical-align: middle;\n",
              "    }\n",
              "\n",
              "    .dataframe tbody tr th {\n",
              "        vertical-align: top;\n",
              "    }\n",
              "\n",
              "    .dataframe thead th {\n",
              "        text-align: right;\n",
              "    }\n",
              "</style>\n",
              "<table border=\"1\" class=\"dataframe\">\n",
              "  <thead>\n",
              "    <tr style=\"text-align: right;\">\n",
              "      <th></th>\n",
              "      <th>url</th>\n",
              "      <th>type</th>\n",
              "    </tr>\n",
              "  </thead>\n",
              "  <tbody>\n",
              "    <tr>\n",
              "      <th>0</th>\n",
              "      <td>br-icloud.com.br</td>\n",
              "      <td>phishing</td>\n",
              "    </tr>\n",
              "    <tr>\n",
              "      <th>1</th>\n",
              "      <td>mp3raid.com/music/krizz_kaliko.html</td>\n",
              "      <td>benign</td>\n",
              "    </tr>\n",
              "    <tr>\n",
              "      <th>2</th>\n",
              "      <td>bopsecrets.org/rexroth/cr/1.htm</td>\n",
              "      <td>benign</td>\n",
              "    </tr>\n",
              "    <tr>\n",
              "      <th>3</th>\n",
              "      <td>http://www.garage-pirenne.be/index.php?option=...</td>\n",
              "      <td>defacement</td>\n",
              "    </tr>\n",
              "    <tr>\n",
              "      <th>4</th>\n",
              "      <td>http://adventure-nicaragua.net/index.php?optio...</td>\n",
              "      <td>defacement</td>\n",
              "    </tr>\n",
              "  </tbody>\n",
              "</table>\n",
              "</div>\n",
              "    <div class=\"colab-df-buttons\">\n",
              "\n",
              "  <div class=\"colab-df-container\">\n",
              "    <button class=\"colab-df-convert\" onclick=\"convertToInteractive('df-c46f45cf-c403-48a4-a89e-f4eb654d1e33')\"\n",
              "            title=\"Convert this dataframe to an interactive table.\"\n",
              "            style=\"display:none;\">\n",
              "\n",
              "  <svg xmlns=\"http://www.w3.org/2000/svg\" height=\"24px\" viewBox=\"0 -960 960 960\">\n",
              "    <path d=\"M120-120v-720h720v720H120Zm60-500h600v-160H180v160Zm220 220h160v-160H400v160Zm0 220h160v-160H400v160ZM180-400h160v-160H180v160Zm440 0h160v-160H620v160ZM180-180h160v-160H180v160Zm440 0h160v-160H620v160Z\"/>\n",
              "  </svg>\n",
              "    </button>\n",
              "\n",
              "  <style>\n",
              "    .colab-df-container {\n",
              "      display:flex;\n",
              "      gap: 12px;\n",
              "    }\n",
              "\n",
              "    .colab-df-convert {\n",
              "      background-color: #E8F0FE;\n",
              "      border: none;\n",
              "      border-radius: 50%;\n",
              "      cursor: pointer;\n",
              "      display: none;\n",
              "      fill: #1967D2;\n",
              "      height: 32px;\n",
              "      padding: 0 0 0 0;\n",
              "      width: 32px;\n",
              "    }\n",
              "\n",
              "    .colab-df-convert:hover {\n",
              "      background-color: #E2EBFA;\n",
              "      box-shadow: 0px 1px 2px rgba(60, 64, 67, 0.3), 0px 1px 3px 1px rgba(60, 64, 67, 0.15);\n",
              "      fill: #174EA6;\n",
              "    }\n",
              "\n",
              "    .colab-df-buttons div {\n",
              "      margin-bottom: 4px;\n",
              "    }\n",
              "\n",
              "    [theme=dark] .colab-df-convert {\n",
              "      background-color: #3B4455;\n",
              "      fill: #D2E3FC;\n",
              "    }\n",
              "\n",
              "    [theme=dark] .colab-df-convert:hover {\n",
              "      background-color: #434B5C;\n",
              "      box-shadow: 0px 1px 3px 1px rgba(0, 0, 0, 0.15);\n",
              "      filter: drop-shadow(0px 1px 2px rgba(0, 0, 0, 0.3));\n",
              "      fill: #FFFFFF;\n",
              "    }\n",
              "  </style>\n",
              "\n",
              "    <script>\n",
              "      const buttonEl =\n",
              "        document.querySelector('#df-c46f45cf-c403-48a4-a89e-f4eb654d1e33 button.colab-df-convert');\n",
              "      buttonEl.style.display =\n",
              "        google.colab.kernel.accessAllowed ? 'block' : 'none';\n",
              "\n",
              "      async function convertToInteractive(key) {\n",
              "        const element = document.querySelector('#df-c46f45cf-c403-48a4-a89e-f4eb654d1e33');\n",
              "        const dataTable =\n",
              "          await google.colab.kernel.invokeFunction('convertToInteractive',\n",
              "                                                    [key], {});\n",
              "        if (!dataTable) return;\n",
              "\n",
              "        const docLinkHtml = 'Like what you see? Visit the ' +\n",
              "          '<a target=\"_blank\" href=https://colab.research.google.com/notebooks/data_table.ipynb>data table notebook</a>'\n",
              "          + ' to learn more about interactive tables.';\n",
              "        element.innerHTML = '';\n",
              "        dataTable['output_type'] = 'display_data';\n",
              "        await google.colab.output.renderOutput(dataTable, element);\n",
              "        const docLink = document.createElement('div');\n",
              "        docLink.innerHTML = docLinkHtml;\n",
              "        element.appendChild(docLink);\n",
              "      }\n",
              "    </script>\n",
              "  </div>\n",
              "\n",
              "\n",
              "<div id=\"df-f7b53451-1caa-4d93-ad43-12e8f8b5b1c4\">\n",
              "  <button class=\"colab-df-quickchart\" onclick=\"quickchart('df-f7b53451-1caa-4d93-ad43-12e8f8b5b1c4')\"\n",
              "            title=\"Suggest charts\"\n",
              "            style=\"display:none;\">\n",
              "\n",
              "<svg xmlns=\"http://www.w3.org/2000/svg\" height=\"24px\"viewBox=\"0 0 24 24\"\n",
              "     width=\"24px\">\n",
              "    <g>\n",
              "        <path d=\"M19 3H5c-1.1 0-2 .9-2 2v14c0 1.1.9 2 2 2h14c1.1 0 2-.9 2-2V5c0-1.1-.9-2-2-2zM9 17H7v-7h2v7zm4 0h-2V7h2v10zm4 0h-2v-4h2v4z\"/>\n",
              "    </g>\n",
              "</svg>\n",
              "  </button>\n",
              "\n",
              "<style>\n",
              "  .colab-df-quickchart {\n",
              "      --bg-color: #E8F0FE;\n",
              "      --fill-color: #1967D2;\n",
              "      --hover-bg-color: #E2EBFA;\n",
              "      --hover-fill-color: #174EA6;\n",
              "      --disabled-fill-color: #AAA;\n",
              "      --disabled-bg-color: #DDD;\n",
              "  }\n",
              "\n",
              "  [theme=dark] .colab-df-quickchart {\n",
              "      --bg-color: #3B4455;\n",
              "      --fill-color: #D2E3FC;\n",
              "      --hover-bg-color: #434B5C;\n",
              "      --hover-fill-color: #FFFFFF;\n",
              "      --disabled-bg-color: #3B4455;\n",
              "      --disabled-fill-color: #666;\n",
              "  }\n",
              "\n",
              "  .colab-df-quickchart {\n",
              "    background-color: var(--bg-color);\n",
              "    border: none;\n",
              "    border-radius: 50%;\n",
              "    cursor: pointer;\n",
              "    display: none;\n",
              "    fill: var(--fill-color);\n",
              "    height: 32px;\n",
              "    padding: 0;\n",
              "    width: 32px;\n",
              "  }\n",
              "\n",
              "  .colab-df-quickchart:hover {\n",
              "    background-color: var(--hover-bg-color);\n",
              "    box-shadow: 0 1px 2px rgba(60, 64, 67, 0.3), 0 1px 3px 1px rgba(60, 64, 67, 0.15);\n",
              "    fill: var(--button-hover-fill-color);\n",
              "  }\n",
              "\n",
              "  .colab-df-quickchart-complete:disabled,\n",
              "  .colab-df-quickchart-complete:disabled:hover {\n",
              "    background-color: var(--disabled-bg-color);\n",
              "    fill: var(--disabled-fill-color);\n",
              "    box-shadow: none;\n",
              "  }\n",
              "\n",
              "  .colab-df-spinner {\n",
              "    border: 2px solid var(--fill-color);\n",
              "    border-color: transparent;\n",
              "    border-bottom-color: var(--fill-color);\n",
              "    animation:\n",
              "      spin 1s steps(1) infinite;\n",
              "  }\n",
              "\n",
              "  @keyframes spin {\n",
              "    0% {\n",
              "      border-color: transparent;\n",
              "      border-bottom-color: var(--fill-color);\n",
              "      border-left-color: var(--fill-color);\n",
              "    }\n",
              "    20% {\n",
              "      border-color: transparent;\n",
              "      border-left-color: var(--fill-color);\n",
              "      border-top-color: var(--fill-color);\n",
              "    }\n",
              "    30% {\n",
              "      border-color: transparent;\n",
              "      border-left-color: var(--fill-color);\n",
              "      border-top-color: var(--fill-color);\n",
              "      border-right-color: var(--fill-color);\n",
              "    }\n",
              "    40% {\n",
              "      border-color: transparent;\n",
              "      border-right-color: var(--fill-color);\n",
              "      border-top-color: var(--fill-color);\n",
              "    }\n",
              "    60% {\n",
              "      border-color: transparent;\n",
              "      border-right-color: var(--fill-color);\n",
              "    }\n",
              "    80% {\n",
              "      border-color: transparent;\n",
              "      border-right-color: var(--fill-color);\n",
              "      border-bottom-color: var(--fill-color);\n",
              "    }\n",
              "    90% {\n",
              "      border-color: transparent;\n",
              "      border-bottom-color: var(--fill-color);\n",
              "    }\n",
              "  }\n",
              "</style>\n",
              "\n",
              "  <script>\n",
              "    async function quickchart(key) {\n",
              "      const quickchartButtonEl =\n",
              "        document.querySelector('#' + key + ' button');\n",
              "      quickchartButtonEl.disabled = true;  // To prevent multiple clicks.\n",
              "      quickchartButtonEl.classList.add('colab-df-spinner');\n",
              "      try {\n",
              "        const charts = await google.colab.kernel.invokeFunction(\n",
              "            'suggestCharts', [key], {});\n",
              "      } catch (error) {\n",
              "        console.error('Error during call to suggestCharts:', error);\n",
              "      }\n",
              "      quickchartButtonEl.classList.remove('colab-df-spinner');\n",
              "      quickchartButtonEl.classList.add('colab-df-quickchart-complete');\n",
              "    }\n",
              "    (() => {\n",
              "      let quickchartButtonEl =\n",
              "        document.querySelector('#df-f7b53451-1caa-4d93-ad43-12e8f8b5b1c4 button');\n",
              "      quickchartButtonEl.style.display =\n",
              "        google.colab.kernel.accessAllowed ? 'block' : 'none';\n",
              "    })();\n",
              "  </script>\n",
              "</div>\n",
              "\n",
              "    </div>\n",
              "  </div>\n"
            ],
            "application/vnd.google.colaboratory.intrinsic+json": {
              "type": "dataframe",
              "variable_name": "data"
            }
          },
          "metadata": {},
          "execution_count": 6
        }
      ],
      "source": [
        "data.head(n=5)\n"
      ]
    },
    {
      "cell_type": "code",
      "execution_count": null,
      "metadata": {
        "colab": {
          "base_uri": "https://localhost:8080/"
        },
        "id": "RBbVHdZeEqjn",
        "outputId": "01876602-d551-44e3-8eee-7a0c8e995a69"
      },
      "outputs": [
        {
          "output_type": "stream",
          "name": "stdout",
          "text": [
            "type\n",
            "benign        428103\n",
            "defacement     96457\n",
            "phishing       94111\n",
            "malware        32520\n",
            "Name: count, dtype: int64\n",
            "Jumlah kelas unik: 4\n"
          ]
        }
      ],
      "source": [
        "# Misalkan kolom yang berisi label adalah 'type'\n",
        "# Menampilkan nilai unik dan jumlah setiap kelas\n",
        "kelas = data['type'].value_counts()\n",
        "print(kelas)\n",
        "\n",
        "# Menampilkan jumlah kelas unik\n",
        "jumlah_kelas = data['type'].nunique()\n",
        "print(f\"Jumlah kelas unik: {jumlah_kelas}\")\n"
      ]
    },
    {
      "cell_type": "code",
      "execution_count": null,
      "metadata": {
        "colab": {
          "base_uri": "https://localhost:8080/"
        },
        "id": "1mt9wHP0jp_O",
        "outputId": "f9a0601e-52d9-4a21-9421-ea4b1af63eb3"
      },
      "outputs": [
        {
          "output_type": "stream",
          "name": "stdout",
          "text": [
            "<class 'pandas.core.frame.DataFrame'>\n",
            "RangeIndex: 651191 entries, 0 to 651190\n",
            "Data columns (total 2 columns):\n",
            " #   Column  Non-Null Count   Dtype \n",
            "---  ------  --------------   ----- \n",
            " 0   url     651191 non-null  object\n",
            " 1   type    651191 non-null  object\n",
            "dtypes: object(2)\n",
            "memory usage: 9.9+ MB\n"
          ]
        }
      ],
      "source": [
        "data.info()\n"
      ]
    },
    {
      "cell_type": "code",
      "execution_count": null,
      "metadata": {
        "colab": {
          "base_uri": "https://localhost:8080/"
        },
        "id": "Wr5n8RAoj324",
        "outputId": "f0d42040-d8d1-4c28-febe-1579f9812348"
      },
      "outputs": [
        {
          "output_type": "stream",
          "name": "stdout",
          "text": [
            "(rows, columns): (651191, 2)\n"
          ]
        }
      ],
      "source": [
        "# Dimensions of the datasets after drop '-' in service column\n",
        "print(\"(rows, columns):\", data.shape)"
      ]
    },
    {
      "cell_type": "markdown",
      "metadata": {
        "id": "7hSqvKRM2S_O"
      },
      "source": [
        "Ini adalah proses atau tahapan persiapan data yang baik sebelum dilanjutkan ke tahap analisis atau pemodelan."
      ]
    },
    {
      "cell_type": "markdown",
      "metadata": {
        "id": "4BXqrtHHkl1M"
      },
      "source": [
        "# **EDA**"
      ]
    },
    {
      "cell_type": "code",
      "execution_count": null,
      "metadata": {
        "colab": {
          "base_uri": "https://localhost:8080/"
        },
        "id": "7Ma7ESbApN3s",
        "outputId": "30ba9a53-a1d2-46a2-c2a3-8bcb53297b4c"
      },
      "outputs": [
        {
          "output_type": "stream",
          "name": "stdout",
          "text": [
            "Index(['url', 'type'], dtype='object')\n"
          ]
        }
      ],
      "source": [
        "print(data.columns)\n"
      ]
    },
    {
      "cell_type": "code",
      "execution_count": null,
      "metadata": {
        "colab": {
          "base_uri": "https://localhost:8080/"
        },
        "id": "qpqwGHA-wGDY",
        "outputId": "41331a8c-38fb-4bbe-f7ae-0229674a08c6"
      },
      "outputs": [
        {
          "output_type": "stream",
          "name": "stdout",
          "text": [
            "type\n",
            "benign        428103\n",
            "defacement     96457\n",
            "phishing       94111\n",
            "malware        32520\n",
            "Name: count, dtype: int64\n"
          ]
        }
      ],
      "source": [
        "print(data['type'].value_counts())\n"
      ]
    },
    {
      "cell_type": "code",
      "execution_count": null,
      "metadata": {
        "colab": {
          "base_uri": "https://localhost:8080/",
          "height": 677
        },
        "id": "_yGJ8rsIFGKd",
        "outputId": "0bfcfe67-3f15-4f86-ce99-21cb189d9715"
      },
      "outputs": [
        {
          "output_type": "display_data",
          "data": {
            "text/plain": [
              "<Figure size 800x800 with 1 Axes>"
            ],
            "image/png": "[encoded data removed]"
          },
          "metadata": {}
        }
      ],
      "source": [
        "import pandas as pd\n",
        "import matplotlib.pyplot as plt\n",
        "\n",
        "# Load dataset\n",
        "\n",
        "# Hitung distribusi semua label\n",
        "label_counts = data['type'].value_counts()\n",
        "\n",
        "# Plot pie chart\n",
        "plt.figure(figsize=(8, 8))\n",
        "plt.pie(label_counts, labels=label_counts.index, autopct='%0.2f%%', startangle=90)\n",
        "plt.title(\"Pie chart distribution of URL types\", fontsize=16)\n",
        "plt.legend()\n",
        "plt.savefig('/content/gdrive/My Drive/ASDOS/template/Topik4_Phishing URL Detection Using BERT-Based Transformer Models/plot/Pie_chart_all_classes.png')\n",
        "plt.show()\n"
      ]
    },
    {
      "cell_type": "code",
      "source": [
        "# Set style for seaborn\n",
        "sns.set(style='whitegrid')\n",
        "\n",
        "# 1. Distribusi Kelas\n",
        "# Visualisasi distribusi kelas pada dataset\n",
        "plt.figure(figsize=(8, 6))\n",
        "sns.countplot(data=data, x='type', palette='Set2')\n",
        "plt.title(\"Class Distribution\")\n",
        "plt.xlabel(\"URL Type\")\n",
        "plt.ylabel(\"Frequency\")\n",
        "plt.show()"
      ],
      "metadata": {
        "colab": {
          "base_uri": "https://localhost:8080/",
          "height": 680
        },
        "id": "Bsyan48OyyeT",
        "outputId": "70b318a9-3765-47a4-e4f2-4eef268837cf"
      },
      "execution_count": null,
      "outputs": [
        {
          "output_type": "stream",
          "name": "stderr",
          "text": [
            "<ipython-input-13-5404a76a3c7a>:7: FutureWarning: \n",
            "\n",
            "Passing `palette` without assigning `hue` is deprecated and will be removed in v0.14.0. Assign the `x` variable to `hue` and set `legend=False` for the same effect.\n",
            "\n",
            "  sns.countplot(data=data, x='type', palette='Set2')\n"
          ]
        },
        {
          "output_type": "display_data",
          "data": {
            "text/plain": [
              "<Figure size 800x600 with 1 Axes>"
            ],
            "image/png": "[encoded data removed]"
          },
          "metadata": {}
        }
      ]
    },
    {
      "cell_type": "code",
      "source": [
        "# 2. Distribusi Panjang URL\n",
        "# Tambahkan kolom panjang URL\n",
        "data['url_length'] = data['url'].apply(len)\n",
        "\n",
        "# Visualisasi distribusi panjang URL\n",
        "plt.figure(figsize=(8, 6))\n",
        "sns.histplot(data['url_length'], bins=30, kde=True, color='skyblue')\n",
        "plt.title(\"Distribution of URL Length\")\n",
        "plt.xlabel(\"URL Length\")\n",
        "plt.ylabel(\"Frequency\")\n",
        "plt.show()"
      ],
      "metadata": {
        "colab": {
          "base_uri": "https://localhost:8080/",
          "height": 573
        },
        "id": "l_Na3TZ6y09h",
        "outputId": "a158512b-e094-4080-fcc0-f1aaf75976e9"
      },
      "execution_count": null,
      "outputs": [
        {
          "output_type": "display_data",
          "data": {
            "text/plain": [
              "<Figure size 800x600 with 1 Axes>"
            ],
            "image/png": "[encoded data removed]"
          },
          "metadata": {}
        }
      ]
    },
    {
      "cell_type": "code",
      "source": [
        "from wordcloud import WordCloud\n",
        "\n",
        "# 3. Frekuensi Kata Penting\n",
        "# Gabungkan semua URL dalam satu string\n",
        "urls_text = ' '.join(data['url'])\n",
        "\n",
        "# Generate word cloud dari kata-kata umum dalam URL\n",
        "wordcloud = WordCloud(width=800, height=400, background_color='white').generate(urls_text)\n",
        "\n",
        "# Visualisasi word cloud\n",
        "plt.figure(figsize=(10, 5))\n",
        "plt.imshow(wordcloud, interpolation='bilinear')\n",
        "plt.axis('off')\n",
        "plt.title(\"Frequent Words in URLs\")\n",
        "plt.show()\n",
        "\n"
      ],
      "metadata": {
        "colab": {
          "base_uri": "https://localhost:8080/",
          "height": 444
        },
        "id": "07MAsBkNy3TR",
        "outputId": "94765b75-b292-47e8-8db9-a89376598795"
      },
      "execution_count": null,
      "outputs": [
        {
          "output_type": "display_data",
          "data": {
            "text/plain": [
              "<Figure size 1000x500 with 1 Axes>"
            ],
            "image/png": "[encoded data removed]"
          },
          "metadata": {}
        }
      ]
    },
    {
      "cell_type": "code",
      "source": [
        "# Ekstraksi domain utama dari URL dengan penanganan error\n",
        "def extract_domain(url):\n",
        "    try:\n",
        "        # Mengambil bagian domain dari URL\n",
        "        parts = url.split('//')[-1].split('/')[0].split('.')\n",
        "        if len(parts) >= 2:\n",
        "            return parts[-2]\n",
        "        else:\n",
        "            return parts[0]  # Jika hanya ada satu bagian, gunakan itu\n",
        "    except IndexError:\n",
        "        return None  # Kembalikan None jika terjadi error\n",
        "\n",
        "# Terapkan fungsi pada kolom URL untuk mendapatkan domain utama\n",
        "data['domain'] = data['url'].apply(extract_domain)\n",
        "\n",
        "# Visualisasikan 10 domain yang paling sering muncul\n",
        "top_domains = data['domain'].value_counts().head(10)\n",
        "plt.figure(figsize=(10, 6))\n",
        "sns.barplot(x=top_domains.values, y=top_domains.index, palette='viridis')\n",
        "plt.title(\"Top 10 Most Frequent Domains\")\n",
        "plt.xlabel(\"Frequency\")\n",
        "plt.ylabel(\"Domain\")\n",
        "plt.show()\n"
      ],
      "metadata": {
        "colab": {
          "base_uri": "https://localhost:8080/",
          "height": 680
        },
        "id": "HeW5XdCFy5Vl",
        "outputId": "ce06f51c-84b2-444e-cb31-56531ec6fa53"
      },
      "execution_count": null,
      "outputs": [
        {
          "output_type": "stream",
          "name": "stderr",
          "text": [
            "<ipython-input-16-cc68a72c4d04>:19: FutureWarning: \n",
            "\n",
            "Passing `palette` without assigning `hue` is deprecated and will be removed in v0.14.0. Assign the `y` variable to `hue` and set `legend=False` for the same effect.\n",
            "\n",
            "  sns.barplot(x=top_domains.values, y=top_domains.index, palette='viridis')\n"
          ]
        },
        {
          "output_type": "display_data",
          "data": {
            "text/plain": [
              "<Figure size 1000x600 with 1 Axes>"
            ],
            "image/png": "[encoded data removed]"
          },
          "metadata": {}
        }
      ]
    },
    {
      "cell_type": "markdown",
      "source": [
        "# **URL Cleaning**"
      ],
      "metadata": {
        "id": "L6z-mC5i0zp-"
      }
    },
    {
      "cell_type": "code",
      "source": [
        "import re\n",
        "\n",
        "# 1. Normalisasi URL: Konversi semua URL menjadi huruf kecil\n",
        "data['cleaned_url'] = data['url'].str.lower()\n",
        "\n",
        "# 2. Penghapusan Parameter Tak Relevan\n",
        "# Hapus parameter setelah `?` atau `#`\n",
        "data['cleaned_url'] = data['cleaned_url'].apply(lambda x: re.sub(r'\\?.*|#.*', '', x))\n",
        "\n",
        "# 3. Penghapusan Tanda Khusus yang Tidak Diperlukan\n",
        "# Bersihkan elemen seperti `http://`, `https://`, dan `www.`\n",
        "data['cleaned_url'] = data['cleaned_url'].apply(lambda x: re.sub(r'http://|https://|www\\.', '', x))\n",
        "\n",
        "# 4. Tokenisasi URL\n",
        "# Pisahkan URL menjadi token berbasis tanda pemisah `/`, `.`, dan `-`\n",
        "data['tokenized_url'] = data['cleaned_url'].apply(lambda x: re.split(r'[./\\-]', x))\n",
        "\n",
        "# Hapus token kosong akibat pemisahan karakter khusus\n",
        "data['tokenized_url'] = data['tokenized_url'].apply(lambda x: [token for token in x if token])\n",
        "\n",
        "# Tampilkan beberapa contoh hasil cleaning\n",
        "print(\"Contoh URL Asli dan URL Setelah Cleaning:\")\n",
        "print(data[['url', 'cleaned_url', 'tokenized_url']].head())\n",
        "\n",
        "# Simpan dataset yang sudah dibersihkan ke dalam file baru jika diperlukan\n",
        "data.to_csv('malicious_phish_cleaned.csv', index=False)"
      ],
      "metadata": {
        "colab": {
          "base_uri": "https://localhost:8080/"
        },
        "id": "zvNBGUeZ04CE",
        "outputId": "a448c415-3e5f-492c-a1a6-7deb0c853e02"
      },
      "execution_count": null,
      "outputs": [
        {
          "output_type": "stream",
          "name": "stdout",
          "text": [
            "Contoh URL Asli dan URL Setelah Cleaning:\n",
            "                                                 url  \\\n",
            "0                                   br-icloud.com.br   \n",
            "1                mp3raid.com/music/krizz_kaliko.html   \n",
            "2                    bopsecrets.org/rexroth/cr/1.htm   \n",
            "3  http://www.garage-pirenne.be/index.php?option=...   \n",
            "4  http://adventure-nicaragua.net/index.php?optio...   \n",
            "\n",
            "                           cleaned_url  \\\n",
            "0                     br-icloud.com.br   \n",
            "1  mp3raid.com/music/krizz_kaliko.html   \n",
            "2      bopsecrets.org/rexroth/cr/1.htm   \n",
            "3          garage-pirenne.be/index.php   \n",
            "4    adventure-nicaragua.net/index.php   \n",
            "\n",
            "                               tokenized_url  \n",
            "0                      [br, icloud, com, br]  \n",
            "1  [mp3raid, com, music, krizz_kaliko, html]  \n",
            "2     [bopsecrets, org, rexroth, cr, 1, htm]  \n",
            "3          [garage, pirenne, be, index, php]  \n",
            "4    [adventure, nicaragua, net, index, php]  \n"
          ]
        }
      ]
    },
    {
      "cell_type": "markdown",
      "metadata": {
        "id": "3-Y9E27L7hTr"
      },
      "source": [
        "# **DATA SPLITTING**"
      ]
    },
    {
      "cell_type": "code",
      "execution_count": null,
      "metadata": {
        "colab": {
          "base_uri": "https://localhost:8080/",
          "height": 746
        },
        "id": "GtD5yKqjFtAb",
        "outputId": "c32f5ee1-691f-4ef9-eb76-2e07daf782c1"
      },
      "outputs": [
        {
          "output_type": "stream",
          "name": "stdout",
          "text": [
            "Jumlah data filtered: 522214\n",
            "Jumlah data trim: 522\n"
          ]
        },
        {
          "output_type": "display_data",
          "data": {
            "text/plain": [
              "<Figure size 800x800 with 1 Axes>"
            ],
            "image/png": "[encoded data removed]"
          },
          "metadata": {}
        },
        {
          "output_type": "stream",
          "name": "stdout",
          "text": [
            "Ukuran set pelatihan: 365\n",
            "Ukuran set pengujian: 157\n"
          ]
        }
      ],
      "source": [
        "# # Memisahkan fitur dan label\n",
        "# X_multi = data['url']  # Fitur: URL\n",
        "# y_multi = data['type'].map({'benign': 0, 'defacement': 1, 'phishing': 2, 'malware': 3})  # Mengonversi label ke numerik\n",
        "\n",
        "# Filter the data to keep only benign and phishing types\n",
        "data_filtered = data[data['type'].isin(['benign', 'phishing'])]\n",
        "print(\"Jumlah data filtered:\", len(data_filtered))\n",
        "\n",
        "data_filtered = data_filtered.sample(frac=0.001, random_state=42).reset_index(drop=True)\n",
        "print(\"Jumlah data trim:\", len(data_filtered))\n",
        "\n",
        "# Hitung distribusi semua label\n",
        "label_counts = data_filtered['type'].value_counts()\n",
        "\n",
        "# Plot pie chart\n",
        "plt.figure(figsize=(8, 8))\n",
        "plt.pie(label_counts, labels=label_counts.index, autopct='%0.2f%%', startangle=90)\n",
        "plt.title(\"Pie chart distribution of URL types\", fontsize=16)\n",
        "plt.legend()\n",
        "plt.savefig('/content/gdrive/My Drive/ASDOS/template/Topik4_Phishing URL Detection Using BERT-Based Transformer Models/plot/Pie_chart_filter.png')\n",
        "plt.show()\n",
        "\n",
        "# Define features and labels\n",
        "X_multi = data_filtered['url']  # Fitur: URL\n",
        "y_multi = data_filtered['type'].map({'benign': 0, 'phishing': 1})  # Mengonversi label ke numerik\n",
        "\n",
        "\n",
        "# Membagi data menjadi set pelatihan (70%) dan set pengujian (30%)\n",
        "# X_train_bin, X_test_bin, y_train_bin, y_test_bin = train_test_split(X_multi, y_multi, test_size=0.3, random_state=42)\n",
        "X_train_bin, X_test_bin, y_train_bin, y_test_bin = train_test_split(X_multi, y_multi, test_size=0.3, random_state=42)\n",
        "\n",
        "# Menampilkan informasi tentang ukuran set\n",
        "print(f'Ukuran set pelatihan: {X_train.shape[0]}')\n",
        "print(f'Ukuran set pengujian: {X_test_bin.shape[0]}')\n"
      ]
    },
    {
      "cell_type": "markdown",
      "source": [
        "# **Data Balancing with SMOTE**"
      ],
      "metadata": {
        "id": "Gel8JAJT2wpc"
      }
    },
    {
      "cell_type": "code",
      "source": [
        "from sklearn.feature_extraction.text import CountVectorizer\n",
        "from imblearn.over_sampling import SMOTE\n",
        "\n",
        "# Tokenisasi URL menjadi fitur numerik\n",
        "vectorizer = CountVectorizer()\n",
        "X_train_vectorized = vectorizer.fit_transform(X_train)\n",
        "\n",
        "# Lakukan SMOTE pada data training\n",
        "smote = SMOTE(random_state=42)\n",
        "X_train_bin, y_train_bin = smote.fit_resample(X_train_vectorized, y_train)\n",
        "\n",
        "# Konversi hasil SMOTE ke DataFrame jika diperlukan\n",
        "# X_resampled_df = pd.DataFrame(X_resampled.toarray(), columns=vectorizer.get_feature_names_out())\n",
        "# y_resampled_df = pd.Series(y_resampled)\n",
        "\n",
        "# Tampilkan ukuran dataset setelah SMOTE\n",
        "print(f'Ukuran set pelatihan setelah SMOTE: {X_train_bin.shape[0]}')\n"
      ],
      "metadata": {
        "colab": {
          "base_uri": "https://localhost:8080/"
        },
        "id": "eEgNyfWZ23R9",
        "outputId": "15ed9600-c820-4cbb-91a5-63f658882a06"
      },
      "execution_count": null,
      "outputs": [
        {
          "output_type": "stream",
          "name": "stdout",
          "text": [
            "Ukuran set pelatihan setelah SMOTE: 632\n"
          ]
        }
      ]
    },
    {
      "cell_type": "markdown",
      "metadata": {
        "id": "LCvooYbTR0xM"
      },
      "source": [
        "#2. TRANSFORMER \"BERT\"**"
      ]
    },
    {
      "cell_type": "markdown",
      "metadata": {
        "id": "Tvy51MusR6cs"
      },
      "source": [
        "# **CLASSIFICATION Non-Tuning**"
      ]
    },
    {
      "cell_type": "markdown",
      "metadata": {
        "id": "FerSrSdUI7rV"
      },
      "source": [
        "## tes0"
      ]
    },
    {
      "cell_type": "code",
      "execution_count": null,
      "metadata": {
        "id": "5u17HrwMSVUW"
      },
      "outputs": [],
      "source": [
        "# import pandas as pd\n",
        "# import numpy as np\n",
        "# from sklearn.model_selection import KFold\n",
        "# from sklearn.metrics import classification_report, accuracy_score, confusion_matrix, f1_score\n",
        "# import torch\n",
        "# import torch.nn as nn\n",
        "# from torch.utils.data import DataLoader, TensorDataset\n",
        "# from transformers import BertTokenizer, BertForSequenceClassification, AdamW\n",
        "# import matplotlib.pyplot as plt\n",
        "# import seaborn as sns\n",
        "# from torch.cuda.amp import GradScaler, autocast\n",
        "\n",
        "# # Initialize GradScaler\n",
        "# scaler = torch.amp.GradScaler()\n",
        "\n",
        "# # 1. Load dataset\n",
        "# data = pd.read_csv('/content/gdrive/My Drive/ASDOS/template/Topik4_Phishing URL Detection Using BERT-Based Transformer Models/dataset/malicious_phish.csv')\n",
        "# data = data.sample(frac=0.25, random_state=1)  # random_state untuk hasil yang konsisten\n",
        "\n",
        "# # Memisahkan fitur dan label\n",
        "# X = data['url']  # Fitur: URL\n",
        "# y = data['type'].map({'benign': 0, 'defacement': 1, 'phishing': 2, 'malware': 3})  # Mengonversi label ke numerik\n",
        "\n",
        "# # 2. Initialize BERT tokenizer with clean_up_tokenization_spaces set\n",
        "# tokenizer = BertTokenizer.from_pretrained('bert-base-uncased', clean_up_tokenization_spaces=True)\n",
        "\n",
        "# # 3. KFold Cross-Validation\n",
        "# kf = KFold(n_splits=5, shuffle=True, random_state=50)\n",
        "# all_accuracy, all_f1_scores = [], []\n",
        "# conf_matrix_list = []\n",
        "# average_train_losses = []  # List to store average train losses for plotting\n",
        "# average_val_accuracies = []  # List to store validation accuracies for plotting\n",
        "\n",
        "# for fold, (train_index, val_index) in enumerate(kf.split(X)):\n",
        "#     print(f'Fold {fold + 1}')\n",
        "\n",
        "#     # Split data\n",
        "#     X_train, X_val = X.iloc[train_index], X.iloc[val_index]\n",
        "#     y_train, y_val = y.iloc[train_index], y.iloc[val_index]\n",
        "\n",
        "#     # Tokenization and tensor creation\n",
        "#     train_encodings = tokenizer(list(X_train), truncation=True, padding=True, return_tensors='pt')\n",
        "#     val_encodings = tokenizer(list(X_val), truncation=True, padding=True, return_tensors='pt')\n",
        "\n",
        "#     # Convert labels to tensors\n",
        "#     y_train_tensor = torch.LongTensor(y_train.values)\n",
        "#     y_val_tensor = torch.LongTensor(y_val.values)\n",
        "\n",
        "#     # Create DataLoader\n",
        "#     train_dataset = TensorDataset(train_encodings['input_ids'], train_encodings['attention_mask'], y_train_tensor)\n",
        "#     train_loader = DataLoader(train_dataset, batch_size=4, shuffle=True)\n",
        "\n",
        "#     # Initialize BERT model\n",
        "#     model = BertForSequenceClassification.from_pretrained('bert-base-uncased', num_labels=len(y.unique()))\n",
        "#     device = 'cuda' if torch.cuda.is_available() else 'cpu'\n",
        "#     model.to(device)\n",
        "#     optimizer = torch.optim.AdamW(model.parameters(), lr=5e-5)\n",
        "\n",
        "#     # Early stopping setup\n",
        "#     best_accuracy = 0\n",
        "#     patience, trigger_times = 5, 0\n",
        "\n",
        "#     # Train the model\n",
        "#     num_epochs = 3\n",
        "#     train_losses = []\n",
        "#     val_accuracies = []\n",
        "\n",
        "#     for epoch in range(num_epochs):\n",
        "#         model.train()\n",
        "#         epoch_loss = 0\n",
        "#         for batch in train_loader:\n",
        "#             optimizer.zero_grad()\n",
        "#             input_ids, attention_mask, labels = batch\n",
        "#             input_ids, attention_mask, labels = input_ids.to(device), attention_mask.to(device), labels.to(device)\n",
        "\n",
        "#             with torch.amp.autocast(device_type=device):\n",
        "#                 outputs = model(input_ids, attention_mask=attention_mask, labels=labels)\n",
        "#                 loss = outputs.loss\n",
        "#             scaler.scale(loss).backward()\n",
        "#             scaler.step(optimizer)\n",
        "#             scaler.update()\n",
        "#             epoch_loss += loss.item()\n",
        "\n",
        "#         avg_loss = epoch_loss / len(train_loader)\n",
        "#         train_losses.append(avg_loss)\n",
        "\n",
        "#         # Validate the model\n",
        "#         model.eval()\n",
        "#         with torch.no_grad():\n",
        "#             val_input_ids = val_encodings['input_ids'].to(device)\n",
        "#             val_attention_mask = val_encodings['attention_mask'].to(device)\n",
        "#             outputs = model(val_input_ids, attention_mask=val_attention_mask)\n",
        "#             y_pred = torch.argmax(outputs.logits, dim=1)\n",
        "\n",
        "#         accuracy = accuracy_score(y_val, y_pred.cpu())\n",
        "#         val_accuracies.append(accuracy)\n",
        "\n",
        "#         # Save the best model\n",
        "#         if accuracy > best_accuracy:\n",
        "#             best_accuracy = accuracy\n",
        "#             model.save_pretrained(f'model_best_fold_{fold + 1}')\n",
        "#             trigger_times = 0\n",
        "#         else:\n",
        "#             trigger_times += 1\n",
        "\n",
        "#         if trigger_times >= patience:\n",
        "#             print(f'Early stopping triggered at epoch {epoch + 1}')\n",
        "#             break\n",
        "\n",
        "#     # Metrics calculation\n",
        "#     conf_matrix = confusion_matrix(y_val, y_pred.cpu())\n",
        "#     conf_matrix_list.append(conf_matrix)\n",
        "#     all_accuracy.append(accuracy)\n",
        "\n",
        "#     f1 = f1_score(y_val, y_pred.cpu(), average='weighted')\n",
        "#     all_f1_scores.append(f1)\n",
        "\n",
        "#     # Print results for the current fold\n",
        "#     print(f'Accuracy for fold {fold + 1}: {accuracy * 100:.2f}%')\n",
        "#     print(f'F1 Score for fold {fold + 1}: {f1:.4f}')\n",
        "#     cls_report = classification_report(y_val, y_pred.cpu(), target_names=['benign', 'defacement', 'phishing', 'malware'])\n",
        "#     print(cls_report)\n",
        "\n",
        "#     # Store average loss and accuracy for plotting\n",
        "#     average_train_losses.append(train_losses)\n",
        "#     average_val_accuracies.append(val_accuracies)\n",
        "\n",
        "#     # Plot confusion matrix for the current fold\n",
        "#     plt.figure(figsize=(6, 4))\n",
        "#     sns.heatmap(conf_matrix, annot=True, fmt='.0f', cmap='Blues', cbar=False,\n",
        "#                 xticklabels=['benign', 'defacement', 'phishing', 'malware'], yticklabels=['benign', 'defacement', 'phishing', 'malware'])\n",
        "#     plt.xlabel('Predicted Label')\n",
        "#     plt.ylabel('True Label')\n",
        "#     plt.title(f'Confusion Matrix for Fold {fold + 1}')\n",
        "#     plt.show()\n",
        "\n",
        "# # 4. Average Metrics Across All Folds\n",
        "# print(f'Average Accuracy: {np.mean(all_accuracy) * 100:.2f}%')\n",
        "# print(f'Average F1 Score: {np.mean(all_f1_scores):.4f}')\n",
        "\n",
        "# # 5. Plot the Average Confusion Matrix\n",
        "# average_conf_matrix = np.mean(conf_matrix_list, axis=0)\n",
        "\n",
        "# plt.figure(figsize=(8, 6))\n",
        "# sns.heatmap(average_conf_matrix, annot=True, fmt='.0f', cmap='Blues', cbar=False,\n",
        "#             xticklabels=['benign', 'defacement', 'phishing', 'malware'], yticklabels=['benign', 'defacement', 'phishing', 'malware'])\n",
        "# plt.xlabel('Predicted Label')\n",
        "# plt.ylabel('True Label')\n",
        "# plt.title('Average Confusion Matrix Across Folds')\n",
        "# plt.show()\n",
        "\n",
        "# # 6. Analysis of Results\n",
        "# print(\"Hasil Deteksi Pola Enkripsi Ransomware:\")\n",
        "# for i, (acc, f1) in enumerate(zip(all_accuracy, all_f1_scores)):\n",
        "#     print(f'Fold {i + 1}: Akurasi = {acc * 100:.2f}%, F1 Score = {f1:.4f}')\n",
        "\n",
        "# # 7. Plot Loss and Accuracy for Each Fold\n",
        "# for fold in range(len(average_train_losses)):\n",
        "#     plt.figure(figsize=(12, 5))\n",
        "\n",
        "#     # Grafik Loss\n",
        "#     plt.subplot(1, 2, 1)\n",
        "#     plt.plot(average_train_losses[fold], label='Training Loss', marker='o')\n",
        "#     plt.title(f'Training Loss for Fold {fold + 1}')\n",
        "#     plt.xlabel('Epochs')\n",
        "#     plt.ylabel('Loss')\n",
        "#     plt.legend()\n",
        "#     plt.grid()\n",
        "\n",
        "#     # Grafik Akurasi\n",
        "#     plt.subplot(1, 2, 2)\n",
        "#     plt.plot(average_val_accuracies[fold], label='Validation Accuracy', marker='o')\n",
        "#     plt.title(f'Validation Accuracy for Fold {fold + 1}')\n",
        "#     plt.xlabel('Epochs')\n",
        "#     plt.ylabel('Accuracy')\n",
        "#     plt.legend()\n",
        "#     plt.grid()\n",
        "\n",
        "#     plt.tight_layout()\n",
        "#     plt.show()\n"
      ]
    },
    {
      "cell_type": "code",
      "execution_count": null,
      "metadata": {
        "id": "teDWuPY--mGX"
      },
      "outputs": [],
      "source": [
        "# import pandas as pd\n",
        "# import numpy as np\n",
        "# from sklearn.model_selection import KFold\n",
        "# from sklearn.metrics import classification_report, accuracy_score, confusion_matrix, f1_score\n",
        "# import torch\n",
        "# import torch.nn as nn\n",
        "# from torch.utils.data import DataLoader, TensorDataset\n",
        "# from transformers import BertTokenizer, BertForSequenceClassification\n",
        "# import matplotlib.pyplot as plt\n",
        "# import seaborn as sns\n",
        "# from torch.amp import GradScaler, autocast\n",
        "# from torch.optim import AdamW  # Using PyTorch's AdamW instead of transformers.optimization\n",
        "\n",
        "# # Initialize gradient scaler with updated syntax\n",
        "# scaler = GradScaler('cuda')\n",
        "\n",
        "# # 1. Load dataset\n",
        "# data = pd.read_csv('/content/gdrive/My Drive/ASDOS/template/Topik4_Phishing URL Detection Using BERT-Based Transformer Models/dataset/malicious_phish.csv')\n",
        "# data = data.sample(frac=0.25, random_state=1)\n",
        "\n",
        "# # Separate features and labels\n",
        "# X = data['url']\n",
        "# y = data['type'].map({'benign': 0, 'defacement': 1, 'phishing': 2, 'malware': 3})\n",
        "\n",
        "# # 2. Initialize BERT Tokenizer with clean_up_tokenization_spaces explicitly set\n",
        "# tokenizer = BertTokenizer.from_pretrained('bert-base-uncased', clean_up_tokenization_spaces=True)\n",
        "\n",
        "# # 3. KFold Cross-Validation\n",
        "# kf = KFold(n_splits=5, shuffle=True, random_state=50)\n",
        "# all_accuracy, all_f1_scores = [], []\n",
        "# conf_matrix_list = []\n",
        "# average_train_losses = []\n",
        "# average_val_accuracies = []\n",
        "\n",
        "# for fold, (train_index, val_index) in enumerate(kf.split(X)):\n",
        "#     print(f'Fold {fold + 1}')\n",
        "\n",
        "#     # Split data\n",
        "#     X_train, X_val = X.iloc[train_index], X.iloc[val_index]\n",
        "#     y_train, y_val = y.iloc[train_index], y.iloc[val_index]\n",
        "\n",
        "#     # Tokenization with explicit padding and truncation settings\n",
        "#     train_encodings = tokenizer(\n",
        "#         list(X_train),\n",
        "#         truncation=True,\n",
        "#         padding=True,\n",
        "#         return_tensors='pt',\n",
        "#         max_length=512\n",
        "#     )\n",
        "#     val_encodings = tokenizer(\n",
        "#         list(X_val),\n",
        "#         truncation=True,\n",
        "#         padding=True,\n",
        "#         return_tensors='pt',\n",
        "#         max_length=512\n",
        "#     )\n",
        "\n",
        "#     # Convert labels to tensors\n",
        "#     y_train_tensor = torch.LongTensor(y_train.values)\n",
        "#     y_val_tensor = torch.LongTensor(y_val.values)\n",
        "\n",
        "#     # Create DataLoader\n",
        "#     train_dataset = TensorDataset(train_encodings['input_ids'], train_encodings['attention_mask'], y_train_tensor)\n",
        "#     train_loader = DataLoader(train_dataset, batch_size=4, shuffle=True)\n",
        "\n",
        "#     # Initialize BERT model\n",
        "#     device = torch.device('cuda' if torch.cuda.is_available() else 'cpu')\n",
        "#     model = BertForSequenceClassification.from_pretrained(\n",
        "#         'bert-base-uncased',\n",
        "#         num_labels=len(y.unique()),\n",
        "#         problem_type=\"single_label_classification\"\n",
        "#     )\n",
        "#     model.to(device)\n",
        "\n",
        "#     # Initialize optimizer using PyTorch's AdamW (removed no_deprecation_warning parameter)\n",
        "#     optimizer = AdamW(model.parameters(), lr=5e-5)\n",
        "\n",
        "#     # Early stopping setup\n",
        "#     best_accuracy = 0\n",
        "#     patience, trigger_times = 5, 0\n",
        "\n",
        "#        # Training loop\n",
        "#     num_epochs = 3\n",
        "#     train_losses = []\n",
        "#     val_accuracies = []\n",
        "\n",
        "#     for epoch in range(num_epochs):\n",
        "#         model.train()\n",
        "#         epoch_loss = 0\n",
        "#         batch_count = 0\n",
        "\n",
        "#         for batch in train_loader:\n",
        "#             # Clear gradients at the start of each batch\n",
        "#             optimizer.zero_grad(set_to_none=True)\n",
        "\n",
        "#             try:\n",
        "#                 # Move batch to device and handle potential CUDA out of memory\n",
        "#                 input_ids, attention_mask, labels = [b.to(device) for b in batch]\n",
        "\n",
        "#                 # Forward pass with gradient scaling\n",
        "#                 with autocast(device_type='cuda', dtype=torch.float16):\n",
        "#                     outputs = model(input_ids, attention_mask=attention_mask, labels=labels)\n",
        "#                     loss = outputs.loss\n",
        "\n",
        "#                 # Backward pass with gradient scaling\n",
        "#                 scaler.scale(loss).backward()\n",
        "\n",
        "#                 # Optimize and update scaler\n",
        "#                 scaler.unscale_(optimizer)\n",
        "#                 torch.nn.utils.clip_grad_norm_(model.parameters(), max_norm=1.0)\n",
        "#                 scaler.step(optimizer)\n",
        "#                 scaler.update()\n",
        "\n",
        "#                 # Accumulate loss\n",
        "#                 current_loss = loss.item()\n",
        "#                 epoch_loss += current_loss\n",
        "#                 batch_count += 1\n",
        "\n",
        "#                 # Print progress every 10 batches\n",
        "#                 if batch_count % 10 == 0:\n",
        "#                     print(f'Epoch {epoch+1}, Batch {batch_count}, Loss: {current_loss:.4f}')\n",
        "\n",
        "#                 # Clear memory\n",
        "#                 del outputs, loss\n",
        "#                 torch.cuda.empty_cache()\n",
        "\n",
        "#             except RuntimeError as e:\n",
        "#                 if \"out of memory\" in str(e):\n",
        "#                     print('| WARNING: ran out of memory, skipping batch')\n",
        "#                     if torch.cuda.is_available():\n",
        "#                         torch.cuda.empty_cache()\n",
        "#                     continue\n",
        "#                 else:\n",
        "#                     raise e\n",
        "\n",
        "#         # Calculate average loss for the epoch\n",
        "#         avg_loss = epoch_loss / max(batch_count, 1)  # Prevent division by zero\n",
        "#         train_losses.append(avg_loss)\n",
        "#         print(f'Epoch {epoch+1} completed, Average Loss: {avg_loss:.4f}')\n",
        "\n",
        "#         # Validation step\n",
        "#         model.eval()\n",
        "#         val_predictions = []\n",
        "#         val_labels = []\n",
        "\n",
        "#         with torch.no_grad():\n",
        "#             # Process validation data in smaller chunks\n",
        "#             batch_size = 32  # Smaller batch size for validation\n",
        "#             for i in range(0, len(val_encodings['input_ids']), batch_size):\n",
        "#                 batch_end = min(i + batch_size, len(val_encodings['input_ids']))\n",
        "#                 val_batch_input_ids = val_encodings['input_ids'][i:batch_end].to(device)\n",
        "#                 val_batch_attention_mask = val_encodings['attention_mask'][i:batch_end].to(device)\n",
        "\n",
        "#                 outputs = model(val_batch_input_ids, attention_mask=val_batch_attention_mask)\n",
        "#                 batch_predictions = torch.argmax(outputs.logits, dim=1)\n",
        "\n",
        "#                 val_predictions.extend(batch_predictions.cpu().numpy())\n",
        "\n",
        "#                 # Clear memory\n",
        "#                 del outputs, batch_predictions\n",
        "#                 torch.cuda.empty_cache()\n",
        "\n",
        "#         # Calculate accuracy\n",
        "#         accuracy = accuracy_score(y_val, val_predictions)\n",
        "#         val_accuracies.append(accuracy)\n",
        "#         print(f'Validation Accuracy: {accuracy:.4f}')\n",
        "\n",
        "#         # Model saving and early stopping\n",
        "#         if accuracy > best_accuracy:\n",
        "#             best_accuracy = accuracy\n",
        "#             model.save_pretrained(f'model_best_fold_{fold + 1}')\n",
        "#             trigger_times = 0\n",
        "#         else:\n",
        "#             trigger_times += 1\n",
        "\n",
        "#         if trigger_times >= patience:\n",
        "#             print(f'Early stopping triggered at epoch {epoch + 1}')\n",
        "#             break\n",
        "\n",
        "#     # Metrics calculation\n",
        "#     conf_matrix = confusion_matrix(y_val, y_pred.cpu())\n",
        "#     conf_matrix_list.append(conf_matrix)\n",
        "#     all_accuracy.append(accuracy)\n",
        "\n",
        "#     f1 = f1_score(y_val, y_pred.cpu(), average='weighted')\n",
        "#     all_f1_scores.append(f1)\n",
        "\n",
        "#     # Print results\n",
        "#     print(f'Accuracy for fold {fold + 1}: {accuracy * 100:.2f}%')\n",
        "#     print(f'F1 Score for fold {fold + 1}: {f1:.4f}')\n",
        "#     cls_report = classification_report(y_val, y_pred.cpu(),\n",
        "#                                     target_names=['benign', 'defacement', 'phishing', 'malware'])\n",
        "#     print(cls_report)\n",
        "\n",
        "#     # Store metrics for plotting\n",
        "#     average_train_losses.append(train_losses)\n",
        "#     average_val_accuracies.append(val_accuracies)\n",
        "\n",
        "#     # Plot confusion matrix\n",
        "#     plt.figure(figsize=(6, 4))\n",
        "#     sns.heatmap(conf_matrix, annot=True, fmt='.0f', cmap='Blues', cbar=False,\n",
        "#                 xticklabels=['benign', 'defacement', 'phishing', 'malware'],\n",
        "#                 yticklabels=['benign', 'defacement', 'phishing', 'malware'])\n",
        "#     plt.xlabel('Predicted Label')\n",
        "#     plt.ylabel('True Label')\n",
        "#     plt.title(f'Confusion Matrix for Fold {fold + 1}')\n",
        "#     plt.show()\n",
        "\n"
      ]
    },
    {
      "cell_type": "markdown",
      "metadata": {
        "id": "1pDVRuycCh7r"
      },
      "source": [
        "## Tes1"
      ]
    },
    {
      "cell_type": "code",
      "execution_count": null,
      "metadata": {
        "id": "4YybutWqCkJn"
      },
      "outputs": [],
      "source": []
    },
    {
      "cell_type": "code",
      "execution_count": null,
      "metadata": {
        "id": "uy__cMHbCZZz"
      },
      "outputs": [],
      "source": [
        "# import pandas as pd\n",
        "# import numpy as np\n",
        "# from sklearn.model_selection import KFold\n",
        "# from sklearn.metrics import classification_report, accuracy_score, confusion_matrix, f1_score\n",
        "# import torch\n",
        "# import torch.nn as nn\n",
        "# from torch.utils.data import DataLoader, TensorDataset\n",
        "# from transformers import BertTokenizer, BertForSequenceClassification\n",
        "# import matplotlib.pyplot as plt\n",
        "# import seaborn as sns\n",
        "# from torch.amp import GradScaler, autocast\n",
        "# from torch.optim import AdamW\n",
        "# from tqdm.auto import tqdm  # Import tqdm for progress bars\n",
        "\n",
        "# # Initialize gradient scaler with updated syntax\n",
        "# scaler = GradScaler('cuda')\n",
        "\n",
        "# # 1. Load dataset\n",
        "# data = pd.read_csv('/content/gdrive/My Drive/ASDOS/template/Topik4_Phishing URL Detection Using BERT-Based Transformer Models/dataset/malicious_phish.csv')\n",
        "# data = data.sample(frac=0.25, random_state=1)\n",
        "\n",
        "# # Separate features and labels\n",
        "# X = data['url']\n",
        "# y = data['type'].map({'benign': 0, 'defacement': 1, 'phishing': 2, 'malware': 3})\n",
        "\n",
        "# # 2. Initialize BERT Tokenizer\n",
        "# tokenizer = BertTokenizer.from_pretrained('bert-base-uncased', clean_up_tokenization_spaces=True)\n",
        "\n",
        "# # 3. KFold Cross-Validation\n",
        "# kf = KFold(n_splits=5, shuffle=True, random_state=50)\n",
        "# all_accuracy, all_f1_scores = [], []\n",
        "# conf_matrix_list = []\n",
        "# average_train_losses = []\n",
        "# average_val_accuracies = []\n",
        "\n",
        "# # Progress bar for folds\n",
        "# for fold, (train_index, val_index) in enumerate(tqdm(kf.split(X), total=5, desc='Folds')):\n",
        "#     print(f'\\nFold {fold + 1}')\n",
        "\n",
        "#     # Split data\n",
        "#     X_train, X_val = X.iloc[train_index], X.iloc[val_index]\n",
        "#     y_train, y_val = y.iloc[train_index], y.iloc[val_index]\n",
        "\n",
        "#     # Progress bar for tokenization\n",
        "#     print(\"Tokenizing training data...\")\n",
        "#     train_encodings = tokenizer(\n",
        "#         list(tqdm(X_train)),\n",
        "#         truncation=True,\n",
        "#         padding=True,\n",
        "#         return_tensors='pt',\n",
        "#         max_length=512\n",
        "#     )\n",
        "\n",
        "#     print(\"Tokenizing validation data...\")\n",
        "#     val_encodings = tokenizer(\n",
        "#         list(tqdm(X_val)),\n",
        "#         truncation=True,\n",
        "#         padding=True,\n",
        "#         return_tensors='pt',\n",
        "#         max_length=512\n",
        "#     )\n",
        "\n",
        "#     # Convert labels to tensors\n",
        "#     y_train_tensor = torch.LongTensor(y_train.values)\n",
        "#     y_val_tensor = torch.LongTensor(y_val.values)\n",
        "\n",
        "#     # Create DataLoader with increased batch size\n",
        "#     train_dataset = TensorDataset(train_encodings['input_ids'], train_encodings['attention_mask'], y_train_tensor)\n",
        "#     train_loader = DataLoader(train_dataset, batch_size=64, shuffle=True)  # Increased batch size to 64\n",
        "\n",
        "#     # Initialize BERT model\n",
        "#     device = torch.device('cuda' if torch.cuda.is_available() else 'cpu')\n",
        "#     model = BertForSequenceClassification.from_pretrained(\n",
        "#         'bert-base-uncased',\n",
        "#         num_labels=len(y.unique()),\n",
        "#         problem_type=\"single_label_classification\"\n",
        "#     )\n",
        "#     model.to(device)\n",
        "\n",
        "#     # Initialize optimizer\n",
        "#     optimizer = AdamW(model.parameters(), lr=5e-5)\n",
        "\n",
        "#     # Early stopping setup\n",
        "#     best_accuracy = 0\n",
        "#     patience, trigger_times = 5, 0\n",
        "\n",
        "#     # Training loop\n",
        "#     num_epochs = 3\n",
        "#     train_losses = []\n",
        "#     val_accuracies = []\n",
        "\n",
        "#     # Progress bar for epochs\n",
        "#     for epoch in tqdm(range(num_epochs), desc='Epochs'):\n",
        "#         model.train()\n",
        "#         epoch_loss = 0\n",
        "#         batch_count = 0\n",
        "\n",
        "#         # Progress bar for batches\n",
        "#         pbar = tqdm(train_loader, desc=f'Training Epoch {epoch+1}')\n",
        "#         for batch in pbar:\n",
        "#             optimizer.zero_grad(set_to_none=True)\n",
        "\n",
        "#             try:\n",
        "#                 input_ids, attention_mask, labels = [b.to(device) for b in batch]\n",
        "\n",
        "#                 with autocast(device_type='cuda', dtype=torch.float16):\n",
        "#                     outputs = model(input_ids, attention_mask=attention_mask, labels=labels)\n",
        "#                     loss = outputs.loss\n",
        "\n",
        "#                 scaler.scale(loss).backward()\n",
        "\n",
        "#                 scaler.unscale_(optimizer)\n",
        "#                 torch.nn.utils.clip_grad_norm_(model.parameters(), max_norm=1.0)\n",
        "#                 scaler.step(optimizer)\n",
        "#                 scaler.update()\n",
        "\n",
        "#                 current_loss = loss.item()\n",
        "#                 epoch_loss += current_loss\n",
        "#                 batch_count += 1\n",
        "\n",
        "#                 # Update progress bar description with current loss\n",
        "#                 pbar.set_postfix({'loss': f'{current_loss:.4f}'})\n",
        "\n",
        "#                 # Print progress every 10 batches\n",
        "#                 if batch_count % 500 == 0:\n",
        "#                     print(f'Epoch {epoch+1}, Batch {batch_count}, Loss: {current_loss:.4f}')\n",
        "\n",
        "#                 del outputs, loss\n",
        "#                 torch.cuda.empty_cache()\n",
        "\n",
        "#             except RuntimeError as e:\n",
        "#                 if \"out of memory\" in str(e):\n",
        "#                     print('| WARNING: ran out of memory, skipping batch')\n",
        "#                     if torch.cuda.is_available():\n",
        "#                         torch.cuda.empty_cache()\n",
        "#                     continue\n",
        "#                 else:\n",
        "#                     raise e\n",
        "\n",
        "#         avg_loss = epoch_loss / max(batch_count, 1)\n",
        "#         train_losses.append(avg_loss)\n",
        "#         print(f'Epoch {epoch+1} completed, Average Loss: {avg_loss:.4f}')\n",
        "\n",
        "#         # Validation step\n",
        "#         model.eval()\n",
        "#         val_predictions = []\n",
        "\n",
        "#         with torch.no_grad():\n",
        "#             # Progress bar for validation\n",
        "#             for i in tqdm(range(0, len(val_encodings['input_ids']), 64), desc='Validating'):  # Increased batch size to 64\n",
        "#                 batch_end = min(i + 64, len(val_encodings['input_ids']))\n",
        "#                 val_batch_input_ids = val_encodings['input_ids'][i:batch_end].to(device)\n",
        "#                 val_batch_attention_mask = val_encodings['attention_mask'][i:batch_end].to(device)\n",
        "\n",
        "#                 outputs = model(val_batch_input_ids, attention_mask=val_batch_attention_mask)\n",
        "#                 batch_predictions = torch.argmax(outputs.logits, dim=1)\n",
        "\n",
        "#                 val_predictions.extend(batch_predictions.cpu().numpy())\n",
        "\n",
        "#                 del outputs, batch_predictions\n",
        "#                 torch.cuda.empty_cache()\n",
        "\n",
        "#         # Calculate metrics\n",
        "#         accuracy = accuracy_score(y_val, val_predictions)\n",
        "#         val_accuracies.append(accuracy)\n",
        "#         print(f'Validation Accuracy: {accuracy:.4f}')\n",
        "\n",
        "#         if accuracy > best_accuracy:\n",
        "#             best_accuracy = accuracy\n",
        "#             model.save_pretrained(f'model_best_fold_{fold + 1}')\n",
        "#             trigger_times = 0\n",
        "#         else:\n",
        "#             trigger_times += 1\n",
        "\n",
        "#         if trigger_times >= patience:\n",
        "#             print(f'Early stopping triggered at epoch {epoch + 1}')\n",
        "#             break\n",
        "\n",
        "#     # Calculate final metrics\n",
        "#     y_pred = torch.tensor(val_predictions)\n",
        "#     conf_matrix = confusion_matrix(y_val, y_pred.cpu())\n",
        "#     conf_matrix_list.append(conf_matrix)\n",
        "#     all_accuracy.append(accuracy)\n",
        "\n",
        "#     f1 = f1_score(y_val, y_pred.cpu(), average='weighted')\n",
        "#     all_f1_scores.append(f1)\n",
        "\n",
        "#     # Print results\n",
        "#     print(f'Accuracy for fold {fold + 1}: {accuracy * 100:.2f}%')\n",
        "#     print(f'F1 Score for fold {fold + 1}: {f1:.4f}')\n",
        "#     cls_report = classification_report(y_val, y_pred.cpu(),\n",
        "#                                     target_names=['benign', 'defacement', 'phishing', 'malware'])\n",
        "#     print(cls_report)\n",
        "\n",
        "#     # Store metrics\n",
        "#     average_train_losses.append(train_losses)\n",
        "#     average_val_accuracies.append(val_accuracies)\n",
        "\n",
        "#     # Plot confusion matrix\n",
        "#     plt.figure(figsize=(6, 4))\n",
        "#     sns.heatmap(conf_matrix, annot=True, fmt='.0f', cmap='Blues', cbar=False,\n",
        "#                 xticklabels=['benign', 'defacement', 'phishing', 'malware'],\n",
        "#                 yticklabels=['benign', 'defacement', 'phishing', 'malware'])\n",
        "#     plt.xlabel('Predicted Label')\n",
        "#     plt.ylabel('True Label')\n",
        "#     plt.title(f'Confusion Matrix for Fold {fold + 1}')\n",
        "#     plt.show()"
      ]
    },
    {
      "cell_type": "markdown",
      "metadata": {
        "id": "BSDQJIFoFMpf"
      },
      "source": [
        "## tes2"
      ]
    },
    {
      "cell_type": "code",
      "execution_count": null,
      "metadata": {
        "id": "hpRyy2j7FOH4"
      },
      "outputs": [],
      "source": [
        "# import pandas as pd\n",
        "# import numpy as np\n",
        "# from sklearn.model_selection import KFold\n",
        "# from sklearn.metrics import classification_report, accuracy_score, confusion_matrix, f1_score\n",
        "# import torch\n",
        "# import torch.nn as nn\n",
        "# from torch.utils.data import DataLoader, TensorDataset\n",
        "# from transformers import BertTokenizer, BertForSequenceClassification\n",
        "# import matplotlib.pyplot as plt\n",
        "# import seaborn as sns\n",
        "# from torch.amp import GradScaler, autocast\n",
        "# from torch.optim import AdamW\n",
        "\n",
        "# # Print hyperparameters\n",
        "# print(\"Using default hyperparameters: nhead=8, d_model=256, dropout=0.1, lr=5e-5, batch_size=32\")\n",
        "\n",
        "# # Initialize gradient scaler\n",
        "# scaler = GradScaler('cuda')\n",
        "\n",
        "# # 1. Load dataset\n",
        "# data = pd.read_csv('/content/gdrive/My Drive/ASDOS/template/Topik4_Phishing URL Detection Using BERT-Based Transformer Models/dataset/malicious_phish.csv')\n",
        "# data = data.sample(frac=0.25, random_state=1)\n",
        "\n",
        "# # Separate features and labels\n",
        "# X = data['url']\n",
        "# y = data['type'].map({'benign': 0, 'defacement': 1, 'phishing': 2, 'malware': 3})\n",
        "\n",
        "# # Initialize BERT Tokenizer\n",
        "# tokenizer = BertTokenizer.from_pretrained('bert-base-uncased', clean_up_tokenization_spaces=True)\n",
        "\n",
        "# # KFold Cross-Validation\n",
        "# kf = KFold(n_splits=5, shuffle=True, random_state=50)\n",
        "# num_epochs = 3\n",
        "\n",
        "# for fold, (train_index, val_index) in enumerate(kf.split(X), 1):\n",
        "#     print(f\"\\nFold {fold}/5\")\n",
        "\n",
        "#     # Split data\n",
        "#     X_train, X_val = X.iloc[train_index], X.iloc[val_index]\n",
        "#     y_train, y_val = y.iloc[train_index], y.iloc[val_index]\n",
        "\n",
        "#     # Tokenization\n",
        "#     # Progress bar for tokenization\n",
        "#     print(\"Tokenizing training data...\")\n",
        "#     train_encodings = tokenizer(\n",
        "#         list(tqdm(X_train)),\n",
        "#         truncation=True,\n",
        "#         padding=True,\n",
        "#         return_tensors='pt',\n",
        "#         max_length=512\n",
        "#     )\n",
        "\n",
        "#     print(\"Tokenizing validation data...\")\n",
        "#     val_encodings = tokenizer(\n",
        "#         list(tqdm(X_val)),\n",
        "#         truncation=True,\n",
        "#         padding=True,\n",
        "#         return_tensors='pt',\n",
        "#         max_length=512\n",
        "#     )\n",
        "\n",
        "#     # Convert labels to tensors\n",
        "#     y_train_tensor = torch.LongTensor(y_train.values)\n",
        "#     y_val_tensor = torch.LongTensor(y_val.values)\n",
        "\n",
        "#     # Create DataLoader\n",
        "#     train_dataset = TensorDataset(train_encodings['input_ids'], train_encodings['attention_mask'], y_train_tensor)\n",
        "#     train_loader = DataLoader(train_dataset, batch_size=32, shuffle=True)\n",
        "\n",
        "#     # Initialize model\n",
        "#     device = torch.device('cuda' if torch.cuda.is_available() else 'cpu')\n",
        "#     model = BertForSequenceClassification.from_pretrained(\n",
        "#         'bert-base-uncased',\n",
        "#         num_labels=len(y.unique()),\n",
        "#         problem_type=\"single_label_classification\"\n",
        "#     )\n",
        "#     model.to(device)\n",
        "\n",
        "#     # Initialize optimizer\n",
        "#     optimizer = AdamW(model.parameters(), lr=5e-5)\n",
        "\n",
        "#     # Training variables\n",
        "#     best_accuracy = 0\n",
        "#     best_val_loss = float('inf')\n",
        "\n",
        "#     def compute_validation_metrics():\n",
        "#         model.eval()\n",
        "#         total_val_loss = 0\n",
        "#         val_predictions = []\n",
        "\n",
        "#         with torch.no_grad():\n",
        "#             for i in range(0, len(val_encodings['input_ids']), 32):\n",
        "#                 batch_end = min(i + 32, len(val_encodings['input_ids']))\n",
        "#                 val_batch_input_ids = val_encodings['input_ids'][i:batch_end].to(device)\n",
        "#                 val_batch_attention_mask = val_encodings['attention_mask'][i:batch_end].to(device)\n",
        "#                 val_batch_labels = y_val_tensor[i:batch_end].to(device)\n",
        "\n",
        "#                 outputs = model(val_batch_input_ids,\n",
        "#                               attention_mask=val_batch_attention_mask,\n",
        "#                               labels=val_batch_labels)\n",
        "\n",
        "#                 total_val_loss += outputs.loss.item()\n",
        "#                 batch_predictions = torch.argmax(outputs.logits, dim=1)\n",
        "#                 val_predictions.extend(batch_predictions.cpu().numpy())\n",
        "\n",
        "#                 del outputs, batch_predictions\n",
        "#                 torch.cuda.empty_cache()\n",
        "\n",
        "#         val_loss = total_val_loss / (len(val_encodings['input_ids']) / 32)\n",
        "#         accuracy = accuracy_score(y_val, val_predictions)\n",
        "#         f1 = f1_score(y_val, val_predictions, average='weighted')\n",
        "\n",
        "#         return val_loss, accuracy, f1, val_predictions\n",
        "\n",
        "#     # Training loop\n",
        "#     for epoch in range(num_epochs):\n",
        "#         model.train()\n",
        "#         total_train_loss = 0\n",
        "#         batch_count = 0\n",
        "\n",
        "#         for batch in train_loader:\n",
        "#             optimizer.zero_grad(set_to_none=True)\n",
        "\n",
        "#             try:\n",
        "#                 input_ids, attention_mask, labels = [b.to(device) for b in batch]\n",
        "\n",
        "#                 with autocast(device_type='cuda', dtype=torch.float16):\n",
        "#                     outputs = model(input_ids, attention_mask=attention_mask, labels=labels)\n",
        "#                     loss = outputs.loss\n",
        "\n",
        "#                 scaler.scale(loss).backward()\n",
        "#                 scaler.unscale_(optimizer)\n",
        "#                 torch.nn.utils.clip_grad_norm_(model.parameters(), max_norm=1.0)\n",
        "#                 scaler.step(optimizer)\n",
        "#                 scaler.update()\n",
        "\n",
        "#                 total_train_loss += loss.item()\n",
        "#                 batch_count += 1\n",
        "\n",
        "#                 del outputs, loss\n",
        "#                 torch.cuda.empty_cache()\n",
        "\n",
        "#             except RuntimeError as e:\n",
        "#                 if \"out of memory\" in str(e):\n",
        "#                     print('| WARNING: ran out of memory, skipping batch')\n",
        "#                     if torch.cuda.is_available():\n",
        "#                         torch.cuda.empty_cache()\n",
        "#                     continue\n",
        "#                 else:\n",
        "#                     raise e\n",
        "\n",
        "#         # Calculate average training loss\n",
        "#         avg_train_loss = total_train_loss / batch_count\n",
        "\n",
        "#         # Compute validation metrics\n",
        "#         val_loss, accuracy, f1, val_predictions = compute_validation_metrics()\n",
        "\n",
        "#         # Print progress\n",
        "#         print(f\"Epoch {epoch+1}/{num_epochs}: Training Loss: {avg_train_loss:.4f}, \"\n",
        "#               f\"Validation Loss: {val_loss:.4f}, Accuracy: {accuracy*100:.2f}%, \"\n",
        "#               f\"F1 Score: {f1:.4f}\")\n",
        "\n",
        "#         # Save best model\n",
        "#         if accuracy > best_accuracy:\n",
        "#             best_accuracy = accuracy\n",
        "#             model.save_pretrained(f'model_best_fold_{fold}')\n",
        "#             print(f\"Saved best model for fold {fold} at epoch {epoch+1}.\")\n",
        "\n",
        "#     # After fold completion, compute final confusion matrix\n",
        "#     _, _, _, final_predictions = compute_validation_metrics()\n",
        "#     conf_matrix = confusion_matrix(y_val, final_predictions)\n",
        "\n",
        "#     # Plot confusion matrix\n",
        "#     plt.figure(figsize=(6, 4))\n",
        "#     sns.heatmap(conf_matrix, annot=True, fmt='.0f', cmap='Blues', cbar=False,\n",
        "#                 xticklabels=['benign', 'defacement', 'phishing', 'malware'],\n",
        "#                 yticklabels=['benign', 'defacement', 'phishing', 'malware'])\n",
        "#     plt.xlabel('Predicted Label')\n",
        "#     plt.ylabel('True Label')\n",
        "#     plt.title(f'Confusion Matrix for Fold {fold}')\n",
        "#     plt.show()"
      ]
    },
    {
      "cell_type": "markdown",
      "metadata": {
        "id": "I2DuEnA6I_Yh"
      },
      "source": [
        "## tes3"
      ]
    },
    {
      "cell_type": "code",
      "execution_count": null,
      "metadata": {
        "id": "yipww02yJDiw"
      },
      "outputs": [],
      "source": [
        "# import pandas as pd\n",
        "# import numpy as np\n",
        "# from sklearn.model_selection import KFold\n",
        "# from sklearn.metrics import classification_report, accuracy_score, confusion_matrix, f1_score\n",
        "# import torch\n",
        "# import torch.nn as nn\n",
        "# from torch.utils.data import DataLoader, TensorDataset\n",
        "# from transformers import BertTokenizer, BertForSequenceClassification\n",
        "# import matplotlib.pyplot as plt\n",
        "# import seaborn as sns\n",
        "# from torch.amp import GradScaler, autocast\n",
        "# from torch.optim import AdamW\n",
        "# from tqdm.auto import tqdm\n",
        "\n",
        "# # Print hyperparameters\n",
        "# print(\"Using default hyperparameters: nhead=8, d_model=256, dropout=0.1, lr=5e-5, batch_size=64\")\n",
        "\n",
        "# # Initialize gradient scaler\n",
        "# scaler = GradScaler('cuda')\n",
        "\n",
        "# # 1. Load dataset\n",
        "# data = pd.read_csv('/content/gdrive/My Drive/ASDOS/template/Topik4_Phishing URL Detection Using BERT-Based Transformer Models/dataset/malicious_phish.csv')\n",
        "# data = data.sample(frac=0.1, random_state=1)\n",
        "\n",
        "# # Separate features and labels\n",
        "# X = data['url']\n",
        "# y = data['type'].map({'benign': 0, 'defacement': 1, 'phishing': 2, 'malware': 3})\n",
        "\n",
        "# # Initialize BERT Tokenizer\n",
        "# tokenizer = BertTokenizer.from_pretrained('bert-base-uncased', clean_up_tokenization_spaces=True)\n",
        "\n",
        "# # KFold Cross-Validation\n",
        "# kf = KFold(n_splits=5, shuffle=True, random_state=42)\n",
        "# num_epochs = 3\n",
        "\n",
        "# # Progress bar for folds\n",
        "# for fold, (train_index, val_index) in enumerate(tqdm(kf.split(X), total=5, desc='Folds', position=0), 1):\n",
        "#     print(f\"\\nFold {fold}/5\")\n",
        "\n",
        "#     # Split data\n",
        "#     X_train, X_val = X.iloc[train_index], X.iloc[val_index]\n",
        "#     y_train, y_val = y.iloc[train_index], y.iloc[val_index]\n",
        "\n",
        "#     # Progress bar for train tokenization\n",
        "#     print(\"Tokenizing training data...\")\n",
        "#     train_texts = list(X_train)\n",
        "#     train_encodings = tokenizer(\n",
        "#         [text for text in tqdm(train_texts, desc='Train Tokenization', position=1)],\n",
        "#         truncation=True,\n",
        "#         padding=True,\n",
        "#         return_tensors='pt',\n",
        "#         max_length=512\n",
        "#     )\n",
        "\n",
        "#     # Progress bar for validation tokenization\n",
        "#     print(\"Tokenizing validation data...\")\n",
        "#     val_texts = list(X_val)\n",
        "#     val_encodings = tokenizer(\n",
        "#         [text for text in tqdm(val_texts, desc='Val Tokenization', position=1)],\n",
        "#         truncation=True,\n",
        "#         padding=True,\n",
        "#         return_tensors='pt',\n",
        "#         max_length=512\n",
        "#     )\n",
        "\n",
        "#     # Convert labels to tensors\n",
        "#     y_train_tensor = torch.LongTensor(y_train.values)\n",
        "#     y_val_tensor = torch.LongTensor(y_val.values)\n",
        "\n",
        "#     # Create DataLoader\n",
        "#     train_dataset = TensorDataset(train_encodings['input_ids'], train_encodings['attention_mask'], y_train_tensor)\n",
        "#     train_loader = DataLoader(train_dataset, batch_size=64, shuffle=True)\n",
        "\n",
        "#     # Initialize model\n",
        "#     device = torch.device('cuda' if torch.cuda.is_available() else 'cpu')\n",
        "#     model = BertForSequenceClassification.from_pretrained(\n",
        "#         'bert-base-uncased',\n",
        "#         num_labels=len(y.unique()),\n",
        "#         problem_type=\"single_label_classification\"\n",
        "#     )\n",
        "#     model.to(device)\n",
        "\n",
        "#     # Initialize optimizer\n",
        "#     optimizer = AdamW(model.parameters(), lr=5e-5)\n",
        "\n",
        "#     # Training variables\n",
        "#     best_accuracy = 0\n",
        "#     best_val_loss = float('inf')\n",
        "\n",
        "#     def compute_validation_metrics():\n",
        "#         model.eval()\n",
        "#         total_val_loss = 0\n",
        "#         val_predictions = []\n",
        "\n",
        "#         # Progress bar for validation batches\n",
        "#         val_iterator = range(0, len(val_encodings['input_ids']), 64)\n",
        "#         with torch.no_grad():\n",
        "#             for i in tqdm(val_iterator, desc='Validation', position=2, leave=False):\n",
        "#                 batch_end = min(i + 64, len(val_encodings['input_ids']))\n",
        "#                 val_batch_input_ids = val_encodings['input_ids'][i:batch_end].to(device)\n",
        "#                 val_batch_attention_mask = val_encodings['attention_mask'][i:batch_end].to(device)\n",
        "#                 val_batch_labels = y_val_tensor[i:batch_end].to(device)\n",
        "\n",
        "#                 outputs = model(val_batch_input_ids,\n",
        "#                               attention_mask=val_batch_attention_mask,\n",
        "#                               labels=val_batch_labels)\n",
        "\n",
        "#                 total_val_loss += outputs.loss.item()\n",
        "#                 batch_predictions = torch.argmax(outputs.logits, dim=1)\n",
        "#                 val_predictions.extend(batch_predictions.cpu().numpy())\n",
        "\n",
        "#                 del outputs, batch_predictions\n",
        "#                 torch.cuda.empty_cache()\n",
        "\n",
        "#         val_loss = total_val_loss / (len(val_encodings['input_ids']) / 64)\n",
        "#         accuracy = accuracy_score(y_val, val_predictions)\n",
        "#         f1 = f1_score(y_val, val_predictions, average='weighted')\n",
        "\n",
        "#         return val_loss, accuracy, f1, val_predictions\n",
        "\n",
        "#     # Training loop with progress bar for epochs\n",
        "#     for epoch in tqdm(range(num_epochs), desc='Epochs', position=1):\n",
        "#         model.train()\n",
        "#         total_train_loss = 0\n",
        "#         batch_count = 0\n",
        "\n",
        "#         # Progress bar for batches\n",
        "#         train_iterator = tqdm(train_loader, desc=f'Training batches', position=2, leave=False)\n",
        "#         for batch in train_iterator:\n",
        "#             optimizer.zero_grad(set_to_none=True)\n",
        "\n",
        "#             try:\n",
        "#                 input_ids, attention_mask, labels = [b.to(device) for b in batch]\n",
        "\n",
        "#                 with autocast(device_type='cuda', dtype=torch.float16):\n",
        "#                     outputs = model(input_ids, attention_mask=attention_mask, labels=labels)\n",
        "#                     loss = outputs.loss\n",
        "\n",
        "#                 scaler.scale(loss).backward()\n",
        "#                 scaler.unscale_(optimizer)\n",
        "#                 torch.nn.utils.clip_grad_norm_(model.parameters(), max_norm=1.0)\n",
        "#                 scaler.step(optimizer)\n",
        "#                 scaler.update()\n",
        "\n",
        "#                 current_loss = loss.item()\n",
        "#                 total_train_loss += current_loss\n",
        "#                 batch_count += 1\n",
        "\n",
        "#                 # Update progress bar description with current loss\n",
        "#                 train_iterator.set_description(f'Training (loss: {current_loss:.4f})')\n",
        "\n",
        "#                 del outputs, loss\n",
        "#                 torch.cuda.empty_cache()\n",
        "\n",
        "#             except RuntimeError as e:\n",
        "#                 if \"out of memory\" in str(e):\n",
        "#                     print('| WARNING: ran out of memory, skipping batch')\n",
        "#                     if torch.cuda.is_available():\n",
        "#                         torch.cuda.empty_cache()\n",
        "#                     continue\n",
        "#                 else:\n",
        "#                     raise e\n",
        "\n",
        "#         # Calculate average training loss\n",
        "#         avg_train_loss = total_train_loss / batch_count\n",
        "\n",
        "#         # Compute validation metrics\n",
        "#         val_loss, accuracy, f1, val_predictions = compute_validation_metrics()\n",
        "\n",
        "#         # Print progress\n",
        "#         print(f\"Epoch {epoch+1}/{num_epochs}: Training Loss: {avg_train_loss:.4f}, \"\n",
        "#               f\"Validation Loss: {val_loss:.4f}, Accuracy: {accuracy*100:.2f}%, \"\n",
        "#               f\"F1 Score: {f1:.4f}\")\n",
        "\n",
        "#         # Save best model\n",
        "#         if accuracy > best_accuracy:\n",
        "#             best_accuracy = accuracy\n",
        "#             model.save_pretrained(f'model_best_fold_{fold}')\n",
        "#             print(f\"Saved best model for fold {fold} at epoch {epoch+1}.\")\n",
        "\n",
        "#     # After fold completion, compute final confusion matrix\n",
        "#     _, _, _, final_predictions = compute_validation_metrics()\n",
        "#     conf_matrix = confusion_matrix(y_val, final_predictions)\n",
        "\n",
        "#     # Plot confusion matrix\n",
        "#     plt.figure(figsize=(6, 4))\n",
        "#     sns.heatmap(conf_matrix, annot=True, fmt='.0f', cmap='Blues', cbar=False,\n",
        "#                 xticklabels=['benign', 'defacement', 'phishing', 'malware'],\n",
        "#                 yticklabels=['benign', 'defacement', 'phishing', 'malware'])\n",
        "#     plt.xlabel('Predicted Label')\n",
        "#     plt.ylabel('True Label')\n",
        "#     plt.title(f'Confusion Matrix for Fold {fold}')\n",
        "#     plt.show()"
      ]
    },
    {
      "cell_type": "markdown",
      "metadata": {
        "id": "VhTMdpvYljZ7"
      },
      "source": [
        "## tes4"
      ]
    },
    {
      "cell_type": "markdown",
      "metadata": {
        "id": "lC6zHVviS4f7"
      },
      "source": [
        "### 4a"
      ]
    },
    {
      "cell_type": "code",
      "execution_count": null,
      "metadata": {
        "id": "GNbK21k_lk8v"
      },
      "outputs": [],
      "source": [
        "# # Initialize gradient scaler\n",
        "# scaler = GradScaler('cuda')\n",
        "\n",
        "# # # K-Fold dan Epoch\n",
        "# k_folds = 5\n",
        "# num_epochs = 3\n",
        "\n",
        "# # # Hyperparameters\n",
        "# # input_dim = X_train_bin.shape[1]\n",
        "# # num_classes = len(class_names)\n",
        "# # nhead = 8\n",
        "# # d_model = 256\n",
        "# # dropout = 0.1\n",
        "# lr = 5e-5\n",
        "# batch_size = 64\n",
        "\n",
        "# model_dir = './Model/Default'\n",
        "# os.makedirs(model_dir, exist_ok=True)\n",
        "\n",
        "# # Assume you have already split the data into training and testing sets\n",
        "# # Using X_train_bin, X_test_bin, y_train_bin, y_test_bin directly from your earlier split\n",
        "\n",
        "# # Initialize BERT Tokenizer\n",
        "# tokenizer = BertTokenizer.from_pretrained('bert-base-uncased', clean_up_tokenization_spaces=True)\n",
        "\n",
        "# # KFold Cross-Validation\n",
        "# kf = KFold(n_splits=k_folds, shuffle=True, random_state=42)\n",
        "# # num_epochs = 3\n",
        "# #X_train_bin, X_test_bin, y_train_bin, y_test_bin\n",
        "\n",
        "# # Initialize lists for storing metrics across all folds\n",
        "# all_labels = []\n",
        "# all_preds = []\n",
        "# fold_results = []\n",
        "# # Progress bar for folds\n",
        "# for fold, (train_index, val_index) in enumerate(tqdm(kf.split(X_train_bin), total=5, desc='Folds', position=0), 1):\n",
        "#     print(f\"Fold {fold + 1}/{k_folds}\")\n",
        "\n",
        "#     # Split data\n",
        "#     X_train, X_val = X_train_bin.iloc[train_index], X_train_bin.iloc[val_index]\n",
        "#     y_train, y_val = y_train_bin.iloc[train_index], y_train_bin.iloc[val_index]\n",
        "\n",
        "#     # Progress bar for train tokenization\n",
        "#     print(\"Tokenizing training data...\")\n",
        "#     train_texts = list(X_train)\n",
        "#     train_encodings = tokenizer(\n",
        "#         [text for text in tqdm(train_texts, desc='Train Tokenization', position=1)],\n",
        "#         truncation=True,\n",
        "#         padding=True,\n",
        "#         return_tensors='pt',\n",
        "#         max_length=512\n",
        "#     )\n",
        "\n",
        "#     # Progress bar for validation tokenization\n",
        "#     print(\"Tokenizing validation data...\")\n",
        "#     val_texts = list(X_val)\n",
        "#     val_encodings = tokenizer(\n",
        "#         [text for text in tqdm(val_texts, desc='Val Tokenization', position=1)],\n",
        "#         truncation=True,\n",
        "#         padding=True,\n",
        "#         return_tensors='pt',\n",
        "#         max_length=512\n",
        "#     )\n",
        "\n",
        "#     # Convert labels to tensors\n",
        "#     y_train_tensor = torch.LongTensor(y_train.values)\n",
        "#     y_val_tensor = torch.LongTensor(y_val.values)\n",
        "\n",
        "#     # Create DataLoader\n",
        "#     train_dataset = TensorDataset(train_encodings['input_ids'], train_encodings['attention_mask'], y_train_tensor)\n",
        "#     train_loader = DataLoader(train_dataset, batch_size, shuffle=True, pin_memory=True)\n",
        "\n",
        "#     # Create DataLoader for validation\n",
        "#     val_dataset = TensorDataset(val_encodings['input_ids'], val_encodings['attention_mask'], y_val_tensor)\n",
        "#     val_loader = DataLoader(val_dataset, batch_size, shuffle=False, pin_memory=True  )\n",
        "\n",
        "#     # Initialize model\n",
        "#     device = torch.device('cuda' if torch.cuda.is_available() else 'cpu')\n",
        "#     model = BertForSequenceClassification.from_pretrained(\n",
        "#         'bert-base-uncased',\n",
        "#         num_labels=len(y_train_bin.unique()),\n",
        "#         problem_type=\"single_label_classification\"\n",
        "#     )\n",
        "#     model.to(device)\n",
        "\n",
        "#     # # Model, loss, and optimizer\n",
        "#     # model = TransformerModel(input_dim=input_dim, num_classes=num_classes, nhead=nhead, d_model=d_model, dropout=dropout).to(device)\n",
        "#     # criterion = nn.CrossEntropyLoss()\n",
        "\n",
        "#     # Initialize optimizer\n",
        "#     optimizer = AdamW(model.parameters(), lr=5e-5)\n",
        "\n",
        "#     # Training variables\n",
        "#     best_accuracy = 0\n",
        "#     best_val_loss = float('inf')\n",
        "#     total_val_loss = 0\n",
        "#     def compute_validation_metrics():\n",
        "#         model.eval()\n",
        "\n",
        "#         val_predictions = []\n",
        "#         total_val_loss = 0  # Define total_val_loss as a local variable\n",
        "\n",
        "\n",
        "#         # Progress bar for validation batches\n",
        "#         val_iterator = range(0, len(val_encodings['input_ids']), 64)\n",
        "#         # with torch.no_grad():\n",
        "#         #     for i in tqdm(val_iterator, desc='Validation', position=2, leave=False):\n",
        "#         #         batch_end = min(i + 64, len(val_encodings['input_ids']))\n",
        "#         #         val_batch_input_ids = val_encodings['input_ids'][i:batch_end].to(device)\n",
        "#         #         val_batch_attention_mask = val_encodings['attention_mask'][i:batch_end].to(device)\n",
        "#         #         val_batch_labels = y_val_tensor[i:batch_end].to(device)\n",
        "\n",
        "#         #         outputs = model(val_batch_input_ids,\n",
        "#         #                       attention_mask=val_batch_attention_mask,\n",
        "#         #                       labels=val_batch_labels)\n",
        "\n",
        "#         #         total_val_loss += outputs.loss.item()\n",
        "#         #         batch_predictions = torch.argmax(outputs.logits, dim=1)\n",
        "#         #         val_predictions.extend(batch_predictions.cpu().numpy())\n",
        "\n",
        "#         #         del outputs, batch_predictions\n",
        "#         #         torch.cuda.empty_cache()\n",
        "#         with torch.no_grad():\n",
        "#             for batch in val_loader:\n",
        "#                 input_ids, attention_mask, labels = [b.to(device) for b in batch]\n",
        "#                 outputs = model(input_ids, attention_mask=attention_mask, labels=labels)\n",
        "#                 loss = outputs.loss\n",
        "#                 total_val_loss += loss.item()\n",
        "#                 batch_predictions = torch.argmax(outputs.logits, dim=1)\n",
        "#                 val_predictions.extend(batch_predictions.cpu().numpy())\n",
        "\n",
        "\n",
        "#         val_loss = total_val_loss / (len(val_encodings['input_ids']) / 64)\n",
        "#         accuracy = accuracy_score(y_val, val_predictions)\n",
        "#         f1 = f1_score(y_val, val_predictions, average='weighted')\n",
        "\n",
        "#         return val_loss, accuracy, f1, val_predictions\n",
        "\n",
        "#     # Training loop with progress bar for epochs\n",
        "#     for epoch in tqdm(range(num_epochs), desc='Epochs', position=1):\n",
        "#         model.train()\n",
        "#         total_train_loss = 0\n",
        "#         batch_count = 0\n",
        "\n",
        "#         # Progress bar for batches\n",
        "#         train_iterator = tqdm(train_loader, desc=f'Training batches', position=2, leave=False)\n",
        "#         for batch in train_iterator:\n",
        "#             optimizer.zero_grad(set_to_none=True)\n",
        "\n",
        "#             try:\n",
        "#                 input_ids, attention_mask, labels = [b.to(device) for b in batch]\n",
        "\n",
        "#                 with autocast(device_type='cuda', dtype=torch.float16):\n",
        "#                     outputs = model(input_ids, attention_mask=attention_mask, labels=labels)\n",
        "#                     loss = outputs.loss\n",
        "\n",
        "#                 scaler.scale(loss).backward()\n",
        "#                 scaler.unscale_(optimizer)\n",
        "#                 torch.nn.utils.clip_grad_norm_(model.parameters(), max_norm=1.0)\n",
        "#                 scaler.step(optimizer)\n",
        "#                 scaler.update()\n",
        "\n",
        "#                 current_loss = loss.item()\n",
        "#                 total_train_loss += current_loss\n",
        "#                 batch_count += 1\n",
        "\n",
        "#                 # Update progress bar description with current loss\n",
        "#                 train_iterator.set_description(f'Training (loss: {current_loss:.4f})')\n",
        "\n",
        "#                 del outputs, loss\n",
        "#                 torch.cuda.empty_cache()\n",
        "\n",
        "#             except RuntimeError as e:\n",
        "#                 if \"out of memory\" in str(e):\n",
        "#                     print('| WARNING: ran out of memory, skipping batch')\n",
        "#                     if torch.cuda.is_available():\n",
        "#                         torch.cuda.empty_cache()\n",
        "#                     continue\n",
        "#                 else:\n",
        "#                     raise e\n",
        "\n",
        "#         # Calculate average training loss\n",
        "#         avg_train_loss = total_train_loss / batch_count\n",
        "#         avg_val_loss = total_val_loss / len(val_loader)\n",
        "\n",
        "#         # Compute validation metrics\n",
        "#         val_loss, accuracy, f1, val_predictions = compute_validation_metrics()\n",
        "\n",
        "#         # Print progress\n",
        "#         print(f\"Epoch {epoch+1}/{num_epochs}: Training Loss: {avg_train_loss:.4f}, \"\n",
        "#               f\"Validation Loss: {val_loss:.4f}, Accuracy: {accuracy*100:.2f}%, \"\n",
        "#               f\"F1 Score: {f1:.4f}\")\n",
        "\n",
        "#         # Save best model\n",
        "#         if accuracy > best_accuracy:\n",
        "#             best_accuracy = accuracy\n",
        "#             model.save_pretrained(f'model_best_fold_{fold}')\n",
        "#             print(f\"Saved best model for fold {fold} at epoch {epoch+1}.\")\n",
        "\n",
        "#         # Save predictions and true labels after each fold\n",
        "#         fold_results.append((avg_train_loss, avg_val_loss, accuracy, f1))\n",
        "#         all_labels.extend(y_val)  # Collect true labels from validation set\n",
        "#         all_preds.extend(val_predictions)  # Collect predictions\n",
        "\n",
        "\n",
        "#     # Calculate and display average metrics across folds\n",
        "#     avg_metrics = {key: np.mean([result[idx] for result in fold_results])\n",
        "#                   for idx, key in enumerate(['train_loss', 'val_loss', 'accuracy', 'f1_score'])}\n",
        "\n",
        "#     print(\"\\nAverage Metrics Across Folds:\")\n",
        "#     for key, value in avg_metrics.items():\n",
        "#         print(f\"{key.capitalize()}: {value:.4f}\")\n",
        "\n",
        "#     # After fold completion, compute final confusion matrix\n",
        "#     _, _, _, final_predictions = compute_validation_metrics()\n",
        "#     conf_matrix = confusion_matrix(y_val, final_predictions)\n",
        "\n",
        "#     # Plot confusion matrix\n",
        "#     plt.figure(figsize=(6, 4))\n",
        "#     sns.heatmap(conf_matrix, annot=True, fmt='.0f', cmap='Blues', cbar=False,\n",
        "#                 xticklabels=['benign', 'defacement', 'phishing', 'malware'],\n",
        "#                 yticklabels=['benign', 'defacement', 'phishing', 'malware'])\n",
        "#     plt.xlabel('Predicted Label')\n",
        "#     plt.ylabel('True Label')\n",
        "#     plt.title(f'Confusion Matrix for Fold {fold}')\n",
        "#     plt.show()\n",
        "\n",
        "#     # Classification report\n",
        "#     # print(\"\\nClassification Report Across All Folds:\")\n",
        "#     # print(classification_report(all_labels, all_preds, target_names=class_names))"
      ]
    },
    {
      "cell_type": "markdown",
      "metadata": {
        "id": "JL-AXWzPS9Hr"
      },
      "source": [
        "### 4c"
      ]
    },
    {
      "cell_type": "code",
      "execution_count": null,
      "metadata": {
        "id": "34mOj5b80qhD"
      },
      "outputs": [],
      "source": [
        "# # Constants\n",
        "# device = torch.device('cuda' if torch.cuda.is_available() else 'cpu')\n",
        "# batch_size = 64\n",
        "# lr = 5e-5\n",
        "# k_folds = 5\n",
        "# num_epochs = 3\n",
        "\n",
        "# # Load tokenizer and model\n",
        "# tokenizer = BertTokenizer.from_pretrained('bert-base-uncased', clean_up_tokenization_spaces=True)\n",
        "\n",
        "# def tokenize_data(texts):\n",
        "#     return tokenizer(\n",
        "#         texts,\n",
        "#         truncation=True,\n",
        "#         padding=True,\n",
        "#         return_tensors='pt',\n",
        "#         max_length=512\n",
        "#     )\n",
        "\n",
        "# def compute_validation_metrics(model, val_loader, y_val):\n",
        "#     model.eval()\n",
        "#     val_predictions = []\n",
        "#     total_val_loss = 0\n",
        "\n",
        "#     with torch.no_grad():\n",
        "#         for batch in val_loader:\n",
        "#             input_ids, attention_mask, labels = [b.to(device) for b in batch]\n",
        "#             outputs = model(input_ids, attention_mask=attention_mask, labels=labels)\n",
        "#             loss = outputs.loss\n",
        "#             total_val_loss += loss.item()\n",
        "#             batch_predictions = torch.argmax(outputs.logits, dim=1)\n",
        "#             val_predictions.extend(batch_predictions.cpu().numpy())\n",
        "\n",
        "#     avg_val_loss = total_val_loss / len(val_loader)\n",
        "#     accuracy = accuracy_score(y_val, val_predictions)\n",
        "#     f1 = f1_score(y_val, val_predictions, average='weighted')\n",
        "#     return avg_val_loss, accuracy, f1, val_predictions\n",
        "\n",
        "# def train_and_evaluate(fold, train_loader, val_loader, y_val):\n",
        "#     model = BertForSequenceClassification.from_pretrained(\n",
        "#         'bert-base-uncased',\n",
        "#         num_labels=len(y_val.unique()),\n",
        "#         problem_type=\"single_label_classification\"\n",
        "#     ).to(device)\n",
        "#     optimizer = AdamW(model.parameters(), lr=lr)\n",
        "#     scaler = GradScaler() if torch.cuda.is_available() else None\n",
        "#     best_accuracy = 0\n",
        "\n",
        "#     for epoch in range(num_epochs):\n",
        "#         model.train()\n",
        "#         total_train_loss = 0\n",
        "#         for batch in tqdm(train_loader, desc=f'Epoch {epoch+1} - Training'):\n",
        "#             optimizer.zero_grad(set_to_none=True)\n",
        "#             input_ids, attention_mask, labels = [b.to(device) for b in batch]\n",
        "\n",
        "#             with autocast(device_type='cuda', dtype=torch.float16) if torch.cuda.is_available() else nullcontext():\n",
        "#                 outputs = model(input_ids, attention_mask=attention_mask, labels=labels)\n",
        "#                 loss = outputs.loss\n",
        "\n",
        "#             if scaler:\n",
        "#                 scaler.scale(loss).backward()\n",
        "#                 scaler.unscale_(optimizer)\n",
        "#                 torch.nn.utils.clip_grad_norm_(model.parameters(), max_norm=1.0)\n",
        "#                 scaler.step(optimizer)\n",
        "#                 scaler.update()\n",
        "#             else:\n",
        "#                 loss.backward()\n",
        "#                 torch.nn.utils.clip_grad_norm_(model.parameters(), max_norm=1.0)\n",
        "#                 optimizer.step()\n",
        "\n",
        "#             total_train_loss += loss.item()\n",
        "#             torch.cuda.empty_cache()\n",
        "\n",
        "#         avg_train_loss = total_train_loss / len(train_loader)\n",
        "#         val_loss, accuracy, f1, _ = compute_validation_metrics(model, val_loader, y_val)\n",
        "\n",
        "#         print(f\"Epoch {epoch+1}: Train Loss = {avg_train_loss:.4f}, Val Loss = {val_loss:.4f}, \"\n",
        "#               f\"Accuracy = {accuracy*100:.2f}%, F1 Score = {f1:.4f}\")\n",
        "\n",
        "#         if accuracy > best_accuracy:\n",
        "#             best_accuracy = accuracy\n",
        "#             model.save_pretrained(f'model_best_fold_{fold}')\n",
        "#             print(f\"Saved best model for fold {fold} at epoch {epoch+1}.\")\n",
        "\n",
        "#     return avg_train_loss, val_loss, accuracy, f1\n",
        "\n",
        "# # Main KFold loop\n",
        "# kf = KFold(n_splits=k_folds, shuffle=True, random_state=42)\n",
        "# fold_results = []\n",
        "# for fold, (train_index, val_index) in enumerate(kf.split(X_train_bin), 1):\n",
        "#     print(f\"Fold {fold}/{k_folds}\")\n",
        "#     X_train, X_val = X_train_bin.iloc[train_index], X_train_bin.iloc[val_index]\n",
        "#     y_train, y_val = y_train_bin.iloc[train_index], y_train_bin.iloc[val_index]\n",
        "\n",
        "#     train_encodings = tokenize_data(list(X_train))\n",
        "#     val_encodings = tokenize_data(list(X_val))\n",
        "\n",
        "#     y_train_tensor = torch.LongTensor(y_train.values)\n",
        "#     y_val_tensor = torch.LongTensor(y_val.values)\n",
        "\n",
        "#     train_dataset = TensorDataset(train_encodings['input_ids'], train_encodings['attention_mask'], y_train_tensor)\n",
        "#     val_dataset = TensorDataset(val_encodings['input_ids'], val_encodings['attention_mask'], y_val_tensor)\n",
        "\n",
        "#     train_loader = DataLoader(train_dataset, batch_size=batch_size, shuffle=True, pin_memory=True)\n",
        "#     val_loader = DataLoader(val_dataset, batch_size=batch_size, shuffle=False, pin_memory=True)\n",
        "\n",
        "#     fold_results.append(train_and_evaluate(fold, train_loader, val_loader, y_val))\n",
        "\n",
        "# # Display results across folds\n",
        "# avg_metrics = {key: np.mean([result[idx] for result in fold_results])\n",
        "#               for idx, key in enumerate(['train_loss', 'val_loss', 'accuracy', 'f1_score'])}\n",
        "# print(\"Average Metrics Across Folds:\")\n",
        "# for key, value in avg_metrics.items():\n",
        "#     print(f\"{key.capitalize()}: {value:.4f}\")"
      ]
    },
    {
      "cell_type": "markdown",
      "metadata": {
        "id": "sKBkq7aUTCjs"
      },
      "source": [
        "### 4c"
      ]
    },
    {
      "cell_type": "code",
      "execution_count": null,
      "metadata": {
        "colab": {
          "base_uri": "https://localhost:8080/",
          "height": 404
        },
        "id": "vbKYoO0x1w1A",
        "outputId": "efcbcdaf-6d0e-4dd7-faa5-43da5fc2cebe"
      },
      "outputs": [
        {
          "output_type": "stream",
          "name": "stderr",
          "text": [
            "/usr/local/lib/python3.10/dist-packages/huggingface_hub/utils/_token.py:89: UserWarning: \n",
            "The secret `HF_TOKEN` does not exist in your Colab secrets.\n",
            "To authenticate with the Hugging Face Hub, create a token in your settings tab (https://huggingface.co/settings/tokens), set it as secret in your Google Colab and restart your session.\n",
            "You will be able to reuse this secret in all of your notebooks.\n",
            "Please note that authentication is recommended but still optional to access public models or datasets.\n",
            "  warnings.warn(\n"
          ]
        },
        {
          "output_type": "stream",
          "name": "stdout",
          "text": [
            "Fold 1/5\n"
          ]
        },
        {
          "output_type": "error",
          "ename": "AttributeError",
          "evalue": "'csr_matrix' object has no attribute 'iloc'",
          "traceback": [
            "\u001b[0;31m---------------------------------------------------------------------------\u001b[0m",
            "\u001b[0;31mAttributeError\u001b[0m                            Traceback (most recent call last)",
            "\u001b[0;32m<ipython-input-27-0483f401e1c8>\u001b[0m in \u001b[0;36m<cell line: 108>\u001b[0;34m()\u001b[0m\n\u001b[1;32m    108\u001b[0m \u001b[0;32mfor\u001b[0m \u001b[0mfold\u001b[0m\u001b[0;34m,\u001b[0m \u001b[0;34m(\u001b[0m\u001b[0mtrain_index\u001b[0m\u001b[0;34m,\u001b[0m \u001b[0mval_index\u001b[0m\u001b[0;34m)\u001b[0m \u001b[0;32min\u001b[0m \u001b[0menumerate\u001b[0m\u001b[0;34m(\u001b[0m\u001b[0mkf\u001b[0m\u001b[0;34m.\u001b[0m\u001b[0msplit\u001b[0m\u001b[0;34m(\u001b[0m\u001b[0mX_train_bin\u001b[0m\u001b[0;34m)\u001b[0m\u001b[0;34m,\u001b[0m \u001b[0;36m1\u001b[0m\u001b[0;34m)\u001b[0m\u001b[0;34m:\u001b[0m\u001b[0;34m\u001b[0m\u001b[0;34m\u001b[0m\u001b[0m\n\u001b[1;32m    109\u001b[0m     \u001b[0mprint\u001b[0m\u001b[0;34m(\u001b[0m\u001b[0;34mf\"Fold {fold}/{k_folds}\"\u001b[0m\u001b[0;34m)\u001b[0m\u001b[0;34m\u001b[0m\u001b[0;34m\u001b[0m\u001b[0m\n\u001b[0;32m--> 110\u001b[0;31m     \u001b[0mX_train\u001b[0m\u001b[0;34m,\u001b[0m \u001b[0mX_val\u001b[0m \u001b[0;34m=\u001b[0m \u001b[0mX_train_bin\u001b[0m\u001b[0;34m.\u001b[0m\u001b[0miloc\u001b[0m\u001b[0;34m[\u001b[0m\u001b[0mtrain_index\u001b[0m\u001b[0;34m]\u001b[0m\u001b[0;34m,\u001b[0m \u001b[0mX_train_bin\u001b[0m\u001b[0;34m.\u001b[0m\u001b[0miloc\u001b[0m\u001b[0;34m[\u001b[0m\u001b[0mval_index\u001b[0m\u001b[0;34m]\u001b[0m\u001b[0;34m\u001b[0m\u001b[0;34m\u001b[0m\u001b[0m\n\u001b[0m\u001b[1;32m    111\u001b[0m     \u001b[0my_train\u001b[0m\u001b[0;34m,\u001b[0m \u001b[0my_val\u001b[0m \u001b[0;34m=\u001b[0m \u001b[0my_train_bin\u001b[0m\u001b[0;34m.\u001b[0m\u001b[0miloc\u001b[0m\u001b[0;34m[\u001b[0m\u001b[0mtrain_index\u001b[0m\u001b[0;34m]\u001b[0m\u001b[0;34m,\u001b[0m \u001b[0my_train_bin\u001b[0m\u001b[0;34m.\u001b[0m\u001b[0miloc\u001b[0m\u001b[0;34m[\u001b[0m\u001b[0mval_index\u001b[0m\u001b[0;34m]\u001b[0m\u001b[0;34m\u001b[0m\u001b[0;34m\u001b[0m\u001b[0m\n\u001b[1;32m    112\u001b[0m \u001b[0;34m\u001b[0m\u001b[0m\n",
            "\u001b[0;31mAttributeError\u001b[0m: 'csr_matrix' object has no attribute 'iloc'"
          ]
        }
      ],
      "source": [
        "# import transformers\n",
        "# from contextlib import nullcontext\n",
        "# from sklearn.metrics import accuracy_score, f1_score  # Ensure these imports are included\n",
        "# # Ensure imports for confusion matrix and plotting\n",
        "# import numpy as np\n",
        "# import matplotlib.pyplot as plt\n",
        "# import seaborn as sns\n",
        "# from sklearn.metrics import confusion_matrix, classification_report\n",
        "# # Set transformers logging to error only\n",
        "# transformers.logging.set_verbosity_error()\n",
        "\n",
        "# # Constants\n",
        "# device = torch.device('cuda' if torch.cuda.is_available() else 'cpu')\n",
        "# batch_size = 32\n",
        "# lr = 5e-5\n",
        "# k_folds = 5\n",
        "# num_epochs = 3\n",
        "\n",
        "# # Load tokenizer and model\n",
        "# tokenizer = BertTokenizer.from_pretrained('bert-base-uncased', clean_up_tokenization_spaces=True)\n",
        "\n",
        "# def tokenize_data(texts):\n",
        "#     return tokenizer(\n",
        "#         texts,\n",
        "#         truncation=True,\n",
        "#         padding=True,\n",
        "#         return_tensors='pt',\n",
        "#         max_length=512\n",
        "#     )\n",
        "\n",
        "# def compute_validation_metrics(model, val_loader, y_val):\n",
        "#     val_predictions = []\n",
        "#     model.eval()\n",
        "#     total_val_loss = 0\n",
        "\n",
        "#     with torch.no_grad():\n",
        "#         for batch in val_loader:\n",
        "#             input_ids, attention_mask, labels = [b.to(device) for b in batch]\n",
        "#             outputs = model(input_ids, attention_mask=attention_mask, labels=labels)\n",
        "#             loss = outputs.loss\n",
        "#             total_val_loss += loss.item()\n",
        "#             batch_predictions = torch.argmax(outputs.logits, dim=1)\n",
        "#             val_predictions.extend(batch_predictions.cpu().numpy())\n",
        "\n",
        "#     avg_val_loss = total_val_loss / len(val_loader)\n",
        "#     accuracy = accuracy_score(y_val, val_predictions)\n",
        "#     f1 = f1_score(y_val, val_predictions, average='weighted')\n",
        "#     return avg_val_loss, accuracy, f1, val_predictions  # Ensure val_predictions is returned# Update train_and_evaluate to capture val_predictions properly\n",
        "# def train_and_evaluate(fold, train_loader, val_loader, y_val):\n",
        "#     model = BertForSequenceClassification.from_pretrained(\n",
        "#         'bert-base-uncased',\n",
        "#         num_labels=len(y_val.unique()),\n",
        "#         problem_type=\"single_label_classification\"\n",
        "#     ).to(device)\n",
        "\n",
        "#     optimizer = AdamW(model.parameters(), lr=lr)\n",
        "#     scaler = GradScaler() if torch.cuda.is_available() else None\n",
        "#     best_accuracy = 0\n",
        "\n",
        "#     for epoch in tqdm(range(num_epochs), desc=f'Fold {fold} - Epoch', leave=False):\n",
        "#         model.train()\n",
        "#         total_train_loss = 0\n",
        "#         for batch in tqdm(train_loader, desc=f'Epoch {epoch+1} - Training', leave=False):\n",
        "#             optimizer.zero_grad(set_to_none=True)\n",
        "#             input_ids, attention_mask, labels = [b.to(device) for b in batch]\n",
        "\n",
        "#             with autocast(device_type='cuda', dtype=torch.float16) if torch.cuda.is_available() else nullcontext():\n",
        "#                 outputs = model(input_ids, attention_mask=attention_mask, labels=labels)\n",
        "#                 loss = outputs.loss\n",
        "\n",
        "#             if scaler:\n",
        "#                 scaler.scale(loss).backward()\n",
        "#                 scaler.unscale_(optimizer)\n",
        "#                 torch.nn.utils.clip_grad_norm_(model.parameters(), max_norm=1.0)\n",
        "#                 scaler.step(optimizer)\n",
        "#                 scaler.update()\n",
        "#             else:\n",
        "#                 loss.backward()\n",
        "#                 torch.nn.utils.clip_grad_norm_(model.parameters(), max_norm=1.0)\n",
        "#                 optimizer.step()\n",
        "\n",
        "#             total_train_loss += loss.item()\n",
        "#             torch.cuda.empty_cache()\n",
        "\n",
        "#         avg_train_loss = total_train_loss / len(train_loader)\n",
        "\n",
        "#         # Call compute_validation_metrics and capture all returned values\n",
        "#         val_loss, accuracy, f1, val_predictions = compute_validation_metrics(model, val_loader, y_val)\n",
        "\n",
        "#         print(f\"Epoch {epoch+1}: Train Loss = {avg_train_loss:.4f}, Val Loss = {val_loss:.4f}, \"\n",
        "#               f\"Accuracy = {accuracy*100:.2f}%, F1 Score = {f1:.4f}\")\n",
        "\n",
        "#         if accuracy > best_accuracy:\n",
        "#             best_accuracy = accuracy\n",
        "#             model.save_pretrained(f'model_best_fold_{fold}')\n",
        "#             print(f\"Saved best model for fold {fold} at epoch {epoch+1}.\")\n",
        "\n",
        "#     return avg_train_loss, val_loss, accuracy, f1, val_predictions\n",
        "\n",
        "\n",
        "# # Metrics collection\n",
        "# all_labels = []\n",
        "# all_preds = []\n",
        "# fold_results = []\n",
        "\n",
        "# # Main KFold loop with updates\n",
        "# kf = KFold(n_splits=k_folds, shuffle=True, random_state=42)\n",
        "# for fold, (train_index, val_index) in enumerate(kf.split(X_train_bin), 1):\n",
        "#     print(f\"Fold {fold}/{k_folds}\")\n",
        "#     X_train, X_val = X_train_bin.iloc[train_index], X_train_bin.iloc[val_index]\n",
        "#     y_train, y_val = y_train_bin.iloc[train_index], y_train_bin.iloc[val_index]\n",
        "\n",
        "#     train_encodings = tokenize_data(list(X_train))\n",
        "#     val_encodings = tokenize_data(list(X_val))\n",
        "\n",
        "#     y_train_tensor = torch.LongTensor(y_train.values)\n",
        "#     y_val_tensor = torch.LongTensor(y_val.values)\n",
        "\n",
        "#     train_dataset = TensorDataset(train_encodings['input_ids'], train_encodings['attention_mask'], y_train_tensor)\n",
        "#     val_dataset = TensorDataset(val_encodings['input_ids'], val_encodings['attention_mask'], y_val_tensor)\n",
        "\n",
        "#     train_loader = DataLoader(train_dataset, batch_size=batch_size, shuffle=True, pin_memory=True)\n",
        "#     val_loader = DataLoader(val_dataset, batch_size=batch_size, shuffle=False, pin_memory=True)\n",
        "\n",
        "#     # Train and evaluate for the current fold\n",
        "#     avg_train_loss, val_loss, accuracy, f1, val_predictions = train_and_evaluate(fold, train_loader, val_loader, y_val)\n",
        "#     fold_results.append((avg_train_loss, val_loss, accuracy, f1))\n",
        "\n",
        "#     # Collect predictions and true labels\n",
        "#     all_labels.extend(y_val.tolist())\n",
        "#     all_preds.extend(val_predictions)  # Use the returned val_predictions here\n",
        "\n",
        "\n",
        "#     ### HASIL RUNNING ###\n",
        "#     # Display average metrics across folds\n",
        "#     avg_metrics = {key: np.mean([result[idx] for result in fold_results])\n",
        "#                   for idx, key in enumerate(['train_loss', 'val_loss', 'accuracy', 'f1_score'])}\n",
        "#     print(\"Average Metrics Across Folds:\")\n",
        "#     for key, value in avg_metrics.items():\n",
        "#         print(f\"{key.capitalize()}: {value:.4f}\")\n",
        "\n",
        "#     # Calculate and plot the overall confusion matrix after all folds\n",
        "#     conf_matrix = confusion_matrix(all_labels, all_preds)\n",
        "\n",
        "#     plt.figure(figsize=(8, 6))\n",
        "#     sns.heatmap(conf_matrix, annot=True, fmt=\".2f\", cmap=\"Blues\", cbar=False)\n",
        "#     plt.title(\"Confusion Matrix Across All Folds\")\n",
        "#     plt.xlabel(\"Predicted Label\")\n",
        "#     plt.ylabel(\"True Label\")\n",
        "#     plt.show()\n",
        "\n",
        "#     # Classification report for all folds\n",
        "#     print(\"\\nClassification Report for All Folds:\")\n",
        "#     print(classification_report(all_labels, all_preds, digits=4))\n"
      ]
    },
    {
      "cell_type": "markdown",
      "source": [
        "### 4d"
      ],
      "metadata": {
        "id": "umEfdMfnWJW-"
      }
    },
    {
      "cell_type": "code",
      "source": [
        "import transformers\n",
        "from contextlib import nullcontext\n",
        "from sklearn.metrics import accuracy_score, f1_score  # Ensure these imports are included\n",
        "# Ensure imports for confusion matrix and plotting\n",
        "import numpy as np\n",
        "import matplotlib.pyplot as plt\n",
        "import seaborn as sns\n",
        "from sklearn.metrics import confusion_matrix, classification_report\n",
        "# Set transformers logging to error only\n",
        "transformers.logging.set_verbosity_error()\n",
        "\n",
        "# Constants\n",
        "device = torch.device('cuda' if torch.cuda.is_available() else 'cpu')\n",
        "batch_size = 32\n",
        "lr = 5e-5\n",
        "k_folds = 5\n",
        "num_epochs = 3\n",
        "\n",
        "# Load tokenizer and model\n",
        "tokenizer = BertTokenizer.from_pretrained('bert-base-uncased', clean_up_tokenization_spaces=True)\n",
        "\n",
        "def tokenize_data(texts):\n",
        "    return tokenizer(\n",
        "        texts,\n",
        "        truncation=True,\n",
        "        padding=True,\n",
        "        return_tensors='pt',\n",
        "        max_length=512\n",
        "    )\n",
        "\n",
        "def compute_validation_metrics(model, val_loader, y_val):\n",
        "    val_predictions = []\n",
        "    model.eval()\n",
        "    total_val_loss = 0\n",
        "\n",
        "    with torch.no_grad():\n",
        "        for batch in val_loader:\n",
        "            input_ids, attention_mask, labels = [b.to(device) for b in batch]\n",
        "            outputs = model(input_ids, attention_mask=attention_mask, labels=labels)\n",
        "            loss = outputs.loss\n",
        "            total_val_loss += loss.item()\n",
        "            batch_predictions = torch.argmax(outputs.logits, dim=1)\n",
        "            val_predictions.extend(batch_predictions.cpu().numpy())\n",
        "\n",
        "    avg_val_loss = total_val_loss / len(val_loader)\n",
        "    accuracy = accuracy_score(y_val, val_predictions)\n",
        "    f1 = f1_score(y_val, val_predictions, average='weighted')\n",
        "    return avg_val_loss, accuracy, f1, val_predictions  # Ensure val_predictions is returned# Update train_and_evaluate to capture val_predictions properly\n",
        "def train_and_evaluate(fold, train_loader, val_loader, y_val):\n",
        "    model = BertForSequenceClassification.from_pretrained(\n",
        "        'bert-base-uncased',\n",
        "        num_labels=len(y_val.unique()),\n",
        "        problem_type=\"single_label_classification\"\n",
        "    ).to(device)\n",
        "\n",
        "    optimizer = AdamW(model.parameters(), lr=lr)\n",
        "    scaler = GradScaler() if torch.cuda.is_available() else None\n",
        "    best_accuracy = 0\n",
        "\n",
        "    for epoch in tqdm(range(num_epochs), desc=f'Fold {fold} - Epoch', leave=False):\n",
        "        model.train()\n",
        "        total_train_loss = 0\n",
        "        for batch in tqdm(train_loader, desc=f'Epoch {epoch+1} - Training', leave=False):\n",
        "            optimizer.zero_grad(set_to_none=True)\n",
        "            input_ids, attention_mask, labels = [b.to(device) for b in batch]\n",
        "\n",
        "            with autocast(device_type='cuda', dtype=torch.float16) if torch.cuda.is_available() else nullcontext():\n",
        "                outputs = model(input_ids, attention_mask=attention_mask, labels=labels)\n",
        "                loss = outputs.loss\n",
        "\n",
        "            if scaler:\n",
        "                scaler.scale(loss).backward()\n",
        "                scaler.unscale_(optimizer)\n",
        "                torch.nn.utils.clip_grad_norm_(model.parameters(), max_norm=1.0)\n",
        "                scaler.step(optimizer)\n",
        "                scaler.update()\n",
        "            else:\n",
        "                loss.backward()\n",
        "                torch.nn.utils.clip_grad_norm_(model.parameters(), max_norm=1.0)\n",
        "                optimizer.step()\n",
        "\n",
        "            total_train_loss += loss.item()\n",
        "            torch.cuda.empty_cache()\n",
        "\n",
        "        avg_train_loss = total_train_loss / len(train_loader)\n",
        "\n",
        "        # Call compute_validation_metrics and capture all returned values\n",
        "        val_loss, accuracy, f1, val_predictions = compute_validation_metrics(model, val_loader, y_val)\n",
        "\n",
        "        print(f\"Epoch {epoch+1}: Train Loss = {avg_train_loss:.4f}, Val Loss = {val_loss:.4f}, \"\n",
        "              f\"Accuracy = {accuracy*100:.2f}%, F1 Score = {f1:.4f}\")\n",
        "\n",
        "        if accuracy > best_accuracy:\n",
        "            best_accuracy = accuracy\n",
        "            model.save_pretrained(f'model_best_fold_{fold}')\n",
        "            print(f\"Saved best model for fold {fold} at epoch {epoch+1}.\")\n",
        "\n",
        "    return avg_train_loss, val_loss, accuracy, f1, val_predictions\n",
        "\n",
        "\n",
        "# Metrics collection\n",
        "all_labels = []\n",
        "all_preds = []\n",
        "fold_results = []\n",
        "\n",
        "# Main KFold loop with updates\n",
        "kf = KFold(n_splits=k_folds, shuffle=True, random_state=42)\n",
        "for fold, (train_index, val_index) in enumerate(kf.split(X_train_bin), 1):\n",
        "    print(f\"Fold {fold}/{k_folds}\")\n",
        "    X_train, X_val = X_train_bin.iloc[train_index], X_train_bin.iloc[val_index]\n",
        "    y_train, y_val = y_train_bin.iloc[train_index], y_train_bin.iloc[val_index]\n",
        "\n",
        "    train_encodings = tokenize_data(list(X_train))\n",
        "    val_encodings = tokenize_data(list(X_val))\n",
        "\n",
        "    y_train_tensor = torch.LongTensor(y_train.values)\n",
        "    y_val_tensor = torch.LongTensor(y_val.values)\n",
        "\n",
        "    train_dataset = TensorDataset(train_encodings['input_ids'], train_encodings['attention_mask'], y_train_tensor)\n",
        "    val_dataset = TensorDataset(val_encodings['input_ids'], val_encodings['attention_mask'], y_val_tensor)\n",
        "\n",
        "    train_loader = DataLoader(train_dataset, batch_size=batch_size, shuffle=True, pin_memory=True)\n",
        "    val_loader = DataLoader(val_dataset, batch_size=batch_size, shuffle=False, pin_memory=True)\n",
        "\n",
        "    # Train and evaluate for the current fold\n",
        "    avg_train_loss, val_loss, accuracy, f1, val_predictions = train_and_evaluate(fold, train_loader, val_loader, y_val)\n",
        "    fold_results.append((avg_train_loss, val_loss, accuracy, f1))\n",
        "\n",
        "    # Collect predictions and true labels\n",
        "    all_labels.extend(y_val.tolist())\n",
        "    all_preds.extend(val_predictions)  # Use the returned val_predictions here\n",
        "\n",
        "\n",
        "\n"
      ],
      "metadata": {
        "colab": {
          "base_uri": "https://localhost:8080/"
        },
        "id": "Cad06DS0WLJR",
        "outputId": "58195b36-268b-4436-c1f3-954478b5e596"
      },
      "execution_count": null,
      "outputs": [
        {
          "output_type": "stream",
          "name": "stdout",
          "text": [
            "Fold 1/5\n"
          ]
        },
        {
          "output_type": "stream",
          "name": "stderr",
          "text": [
            "Fold 1 - Epoch:   0%|          | 0/3 [00:00<?, ?it/s]\n",
            "Epoch 1 - Training:   0%|          | 0/10 [00:00<?, ?it/s]\u001b[A\n",
            "Epoch 1 - Training:  10%|█         | 1/10 [00:00<00:04,  1.91it/s]\u001b[A\n",
            "Epoch 1 - Training:  20%|██        | 2/10 [00:00<00:03,  2.10it/s]\u001b[A\n",
            "Epoch 1 - Training:  30%|███       | 3/10 [00:01<00:03,  2.14it/s]\u001b[A\n",
            "Epoch 1 - Training:  40%|████      | 4/10 [00:01<00:02,  2.26it/s]\u001b[A\n",
            "Epoch 1 - Training:  50%|█████     | 5/10 [00:02<00:02,  2.28it/s]\u001b[A\n",
            "Epoch 1 - Training:  60%|██████    | 6/10 [00:02<00:01,  2.36it/s]\u001b[A\n",
            "Epoch 1 - Training:  70%|███████   | 7/10 [00:03<00:01,  2.43it/s]\u001b[A\n",
            "Epoch 1 - Training:  80%|████████  | 8/10 [00:03<00:00,  2.53it/s]\u001b[A\n",
            "Epoch 1 - Training:  90%|█████████ | 9/10 [00:03<00:00,  2.69it/s]\u001b[A\n",
            "Epoch 1 - Training: 100%|██████████| 10/10 [00:03<00:00,  3.19it/s]\u001b[A\n",
            "                                                                   \u001b[A"
          ]
        },
        {
          "output_type": "stream",
          "name": "stdout",
          "text": [
            "Epoch 1: Train Loss = 0.4563, Val Loss = 0.4238, Accuracy = 86.30%, F1 Score = 0.7996\n"
          ]
        },
        {
          "output_type": "stream",
          "name": "stderr",
          "text": [
            "\rFold 1 - Epoch:  33%|███▎      | 1/3 [00:06<00:13,  6.85s/it]"
          ]
        },
        {
          "output_type": "stream",
          "name": "stdout",
          "text": [
            "Saved best model for fold 1 at epoch 1.\n"
          ]
        },
        {
          "output_type": "stream",
          "name": "stderr",
          "text": [
            "\n",
            "Epoch 2 - Training:   0%|          | 0/10 [00:00<?, ?it/s]\u001b[A\n",
            "Epoch 2 - Training:  10%|█         | 1/10 [00:00<00:03,  2.87it/s]\u001b[A\n",
            "Epoch 2 - Training:  20%|██        | 2/10 [00:00<00:02,  3.21it/s]\u001b[A\n",
            "Epoch 2 - Training:  30%|███       | 3/10 [00:00<00:02,  3.32it/s]\u001b[A\n",
            "Epoch 2 - Training:  40%|████      | 4/10 [00:01<00:01,  3.39it/s]\u001b[A\n",
            "Epoch 2 - Training:  50%|█████     | 5/10 [00:01<00:01,  3.37it/s]\u001b[A\n",
            "Epoch 2 - Training:  60%|██████    | 6/10 [00:01<00:01,  3.43it/s]\u001b[A\n",
            "Epoch 2 - Training:  70%|███████   | 7/10 [00:02<00:00,  3.43it/s]\u001b[A\n",
            "Epoch 2 - Training:  80%|████████  | 8/10 [00:02<00:00,  3.45it/s]\u001b[A\n",
            "Epoch 2 - Training:  90%|█████████ | 9/10 [00:02<00:00,  3.49it/s]\u001b[A\n",
            "Epoch 2 - Training: 100%|██████████| 10/10 [00:02<00:00,  4.00it/s]\u001b[A\n",
            "Fold 1 - Epoch:  67%|██████▋   | 2/3 [00:10<00:04,  4.79s/it]"
          ]
        },
        {
          "output_type": "stream",
          "name": "stdout",
          "text": [
            "Epoch 2: Train Loss = 0.3217, Val Loss = 0.2506, Accuracy = 86.30%, F1 Score = 0.7996\n"
          ]
        },
        {
          "output_type": "stream",
          "name": "stderr",
          "text": [
            "\n",
            "Epoch 3 - Training:   0%|          | 0/10 [00:00<?, ?it/s]\u001b[A\n",
            "Epoch 3 - Training:  10%|█         | 1/10 [00:00<00:02,  3.20it/s]\u001b[A\n",
            "Epoch 3 - Training:  20%|██        | 2/10 [00:00<00:02,  3.26it/s]\u001b[A\n",
            "Epoch 3 - Training:  30%|███       | 3/10 [00:00<00:02,  3.35it/s]\u001b[A\n",
            "Epoch 3 - Training:  40%|████      | 4/10 [00:01<00:01,  3.54it/s]\u001b[A\n",
            "Epoch 3 - Training:  50%|█████     | 5/10 [00:01<00:01,  3.23it/s]\u001b[A\n",
            "Epoch 3 - Training:  60%|██████    | 6/10 [00:01<00:01,  2.97it/s]\u001b[A\n",
            "Epoch 3 - Training:  70%|███████   | 7/10 [00:02<00:00,  3.06it/s]\u001b[A\n",
            "Epoch 3 - Training:  80%|████████  | 8/10 [00:02<00:00,  3.21it/s]\u001b[A\n",
            "Epoch 3 - Training:  90%|█████████ | 9/10 [00:02<00:00,  3.33it/s]\u001b[A\n",
            "Epoch 3 - Training: 100%|██████████| 10/10 [00:02<00:00,  4.05it/s]\u001b[A\n",
            "                                                                   \u001b[A"
          ]
        },
        {
          "output_type": "stream",
          "name": "stdout",
          "text": [
            "Epoch 3: Train Loss = 0.2004, Val Loss = 0.1408, Accuracy = 97.26%, F1 Score = 0.9713\n"
          ]
        },
        {
          "output_type": "stream",
          "name": "stderr",
          "text": [
            "                                                             "
          ]
        },
        {
          "output_type": "stream",
          "name": "stdout",
          "text": [
            "Saved best model for fold 1 at epoch 3.\n",
            "Fold 2/5\n"
          ]
        },
        {
          "output_type": "stream",
          "name": "stderr",
          "text": [
            "Fold 2 - Epoch:   0%|          | 0/3 [00:00<?, ?it/s]\n",
            "Epoch 1 - Training:   0%|          | 0/10 [00:00<?, ?it/s]\u001b[A\n",
            "Epoch 1 - Training:  10%|█         | 1/10 [00:00<00:02,  3.13it/s]\u001b[A\n",
            "Epoch 1 - Training:  20%|██        | 2/10 [00:00<00:02,  3.49it/s]\u001b[A\n",
            "Epoch 1 - Training:  30%|███       | 3/10 [00:00<00:01,  3.63it/s]\u001b[A\n",
            "Epoch 1 - Training:  40%|████      | 4/10 [00:01<00:01,  3.68it/s]\u001b[A\n",
            "Epoch 1 - Training:  50%|█████     | 5/10 [00:01<00:01,  3.72it/s]\u001b[A\n",
            "Epoch 1 - Training:  60%|██████    | 6/10 [00:01<00:01,  3.75it/s]\u001b[A\n",
            "Epoch 1 - Training:  70%|███████   | 7/10 [00:01<00:00,  3.76it/s]\u001b[A\n",
            "Epoch 1 - Training:  80%|████████  | 8/10 [00:02<00:00,  3.76it/s]\u001b[A\n",
            "Epoch 1 - Training:  90%|█████████ | 9/10 [00:02<00:00,  3.77it/s]\u001b[A\n",
            "Epoch 1 - Training: 100%|██████████| 10/10 [00:02<00:00,  4.63it/s]\u001b[A\n",
            "                                                                   \u001b[A"
          ]
        },
        {
          "output_type": "stream",
          "name": "stdout",
          "text": [
            "Epoch 1: Train Loss = 0.4650, Val Loss = 0.3423, Accuracy = 86.30%, F1 Score = 0.7996\n"
          ]
        },
        {
          "output_type": "stream",
          "name": "stderr",
          "text": [
            "\rFold 2 - Epoch:  33%|███▎      | 1/3 [00:07<00:14,  7.06s/it]"
          ]
        },
        {
          "output_type": "stream",
          "name": "stdout",
          "text": [
            "Saved best model for fold 2 at epoch 1.\n"
          ]
        },
        {
          "output_type": "stream",
          "name": "stderr",
          "text": [
            "\n",
            "Epoch 2 - Training:   0%|          | 0/10 [00:00<?, ?it/s]\u001b[A\n",
            "Epoch 2 - Training:  10%|█         | 1/10 [00:00<00:02,  3.03it/s]\u001b[A\n",
            "Epoch 2 - Training:  20%|██        | 2/10 [00:00<00:02,  3.41it/s]\u001b[A\n",
            "Epoch 2 - Training:  30%|███       | 3/10 [00:00<00:01,  3.59it/s]\u001b[A\n",
            "Epoch 2 - Training:  40%|████      | 4/10 [00:01<00:01,  3.67it/s]\u001b[A\n",
            "Epoch 2 - Training:  50%|█████     | 5/10 [00:01<00:01,  3.66it/s]\u001b[A\n",
            "Epoch 2 - Training:  60%|██████    | 6/10 [00:01<00:01,  3.62it/s]\u001b[A\n",
            "Epoch 2 - Training:  70%|███████   | 7/10 [00:01<00:00,  3.63it/s]\u001b[A\n",
            "Epoch 2 - Training:  80%|████████  | 8/10 [00:02<00:00,  3.68it/s]\u001b[A\n",
            "Epoch 2 - Training:  90%|█████████ | 9/10 [00:02<00:00,  3.66it/s]\u001b[A\n",
            "Epoch 2 - Training: 100%|██████████| 10/10 [00:02<00:00,  4.29it/s]\u001b[A\n",
            "Fold 2 - Epoch:  67%|██████▋   | 2/3 [00:10<00:04,  4.82s/it]"
          ]
        },
        {
          "output_type": "stream",
          "name": "stdout",
          "text": [
            "Epoch 2: Train Loss = 0.3595, Val Loss = 0.2527, Accuracy = 86.30%, F1 Score = 0.7996\n"
          ]
        },
        {
          "output_type": "stream",
          "name": "stderr",
          "text": [
            "\n",
            "Epoch 3 - Training:   0%|          | 0/10 [00:00<?, ?it/s]\u001b[A\n",
            "Epoch 3 - Training:  10%|█         | 1/10 [00:00<00:02,  3.01it/s]\u001b[A\n",
            "Epoch 3 - Training:  20%|██        | 2/10 [00:00<00:02,  3.28it/s]\u001b[A\n",
            "Epoch 3 - Training:  30%|███       | 3/10 [00:00<00:02,  3.38it/s]\u001b[A\n",
            "Epoch 3 - Training:  40%|████      | 4/10 [00:01<00:01,  3.40it/s]\u001b[A\n",
            "Epoch 3 - Training:  50%|█████     | 5/10 [00:01<00:01,  3.39it/s]\u001b[A\n",
            "Epoch 3 - Training:  60%|██████    | 6/10 [00:01<00:01,  3.45it/s]\u001b[A\n",
            "Epoch 3 - Training:  70%|███████   | 7/10 [00:02<00:00,  3.43it/s]\u001b[A\n",
            "Epoch 3 - Training:  80%|████████  | 8/10 [00:02<00:00,  3.48it/s]\u001b[A\n",
            "Epoch 3 - Training:  90%|█████████ | 9/10 [00:02<00:00,  3.50it/s]\u001b[A\n",
            "Epoch 3 - Training: 100%|██████████| 10/10 [00:02<00:00,  3.85it/s]\u001b[A\n",
            "                                                             "
          ]
        },
        {
          "output_type": "stream",
          "name": "stdout",
          "text": [
            "Epoch 3: Train Loss = 0.2244, Val Loss = 0.2110, Accuracy = 86.30%, F1 Score = 0.7996\n",
            "Fold 3/5\n"
          ]
        },
        {
          "output_type": "stream",
          "name": "stderr",
          "text": [
            "Fold 3 - Epoch:   0%|          | 0/3 [00:00<?, ?it/s]\n",
            "Epoch 1 - Training:   0%|          | 0/10 [00:00<?, ?it/s]\u001b[A\n",
            "Epoch 1 - Training:  10%|█         | 1/10 [00:00<00:02,  4.08it/s]\u001b[A\n",
            "Epoch 1 - Training:  20%|██        | 2/10 [00:00<00:02,  3.82it/s]\u001b[A\n",
            "Epoch 1 - Training:  30%|███       | 3/10 [00:00<00:01,  3.77it/s]\u001b[A\n",
            "Epoch 1 - Training:  40%|████      | 4/10 [00:01<00:01,  3.72it/s]\u001b[A\n",
            "Epoch 1 - Training:  50%|█████     | 5/10 [00:01<00:01,  3.70it/s]\u001b[A\n",
            "Epoch 1 - Training:  60%|██████    | 6/10 [00:01<00:01,  3.67it/s]\u001b[A\n",
            "Epoch 1 - Training:  70%|███████   | 7/10 [00:01<00:00,  3.47it/s]\u001b[A\n",
            "Epoch 1 - Training:  80%|████████  | 8/10 [00:02<00:00,  3.46it/s]\u001b[A\n",
            "Epoch 1 - Training:  90%|█████████ | 9/10 [00:02<00:00,  3.47it/s]\u001b[A\n",
            "Epoch 1 - Training: 100%|██████████| 10/10 [00:02<00:00,  3.99it/s]\u001b[A\n",
            "                                                                   \u001b[A"
          ]
        },
        {
          "output_type": "stream",
          "name": "stdout",
          "text": [
            "Epoch 1: Train Loss = 0.5337, Val Loss = 0.3647, Accuracy = 86.30%, F1 Score = 0.7996\n"
          ]
        },
        {
          "output_type": "stream",
          "name": "stderr",
          "text": [
            "\rFold 3 - Epoch:  33%|███▎      | 1/3 [00:05<00:11,  5.79s/it]"
          ]
        },
        {
          "output_type": "stream",
          "name": "stdout",
          "text": [
            "Saved best model for fold 3 at epoch 1.\n"
          ]
        },
        {
          "output_type": "stream",
          "name": "stderr",
          "text": [
            "\n",
            "Epoch 2 - Training:   0%|          | 0/10 [00:00<?, ?it/s]\u001b[A\n",
            "Epoch 2 - Training:  10%|█         | 1/10 [00:00<00:03,  2.79it/s]\u001b[A\n",
            "Epoch 2 - Training:  20%|██        | 2/10 [00:00<00:02,  3.25it/s]\u001b[A\n",
            "Epoch 2 - Training:  30%|███       | 3/10 [00:00<00:02,  3.43it/s]\u001b[A\n",
            "Epoch 2 - Training:  40%|████      | 4/10 [00:01<00:01,  3.52it/s]\u001b[A\n",
            "Epoch 2 - Training:  50%|█████     | 5/10 [00:01<00:01,  3.58it/s]\u001b[A\n",
            "Epoch 2 - Training:  60%|██████    | 6/10 [00:01<00:01,  3.61it/s]\u001b[A\n",
            "Epoch 2 - Training:  70%|███████   | 7/10 [00:01<00:00,  3.65it/s]\u001b[A\n",
            "Epoch 2 - Training:  80%|████████  | 8/10 [00:02<00:00,  3.67it/s]\u001b[A\n",
            "Epoch 2 - Training:  90%|█████████ | 9/10 [00:02<00:00,  3.67it/s]\u001b[A\n",
            "Epoch 2 - Training: 100%|██████████| 10/10 [00:02<00:00,  4.50it/s]\u001b[A\n",
            "Fold 3 - Epoch:  67%|██████▋   | 2/3 [00:09<00:04,  4.31s/it]"
          ]
        },
        {
          "output_type": "stream",
          "name": "stdout",
          "text": [
            "Epoch 2: Train Loss = 0.3065, Val Loss = 0.2529, Accuracy = 86.30%, F1 Score = 0.7996\n"
          ]
        },
        {
          "output_type": "stream",
          "name": "stderr",
          "text": [
            "\n",
            "Epoch 3 - Training:   0%|          | 0/10 [00:00<?, ?it/s]\u001b[A\n",
            "Epoch 3 - Training:  10%|█         | 1/10 [00:00<00:02,  3.60it/s]\u001b[A\n",
            "Epoch 3 - Training:  20%|██        | 2/10 [00:00<00:02,  3.65it/s]\u001b[A\n",
            "Epoch 3 - Training:  30%|███       | 3/10 [00:00<00:01,  3.64it/s]\u001b[A\n",
            "Epoch 3 - Training:  40%|████      | 4/10 [00:01<00:01,  3.60it/s]\u001b[A\n",
            "Epoch 3 - Training:  50%|█████     | 5/10 [00:01<00:01,  3.58it/s]\u001b[A\n",
            "Epoch 3 - Training:  60%|██████    | 6/10 [00:01<00:01,  3.60it/s]\u001b[A\n",
            "Epoch 3 - Training:  70%|███████   | 7/10 [00:01<00:00,  3.60it/s]\u001b[A\n",
            "Epoch 3 - Training:  80%|████████  | 8/10 [00:02<00:00,  3.64it/s]\u001b[A\n",
            "Epoch 3 - Training:  90%|█████████ | 9/10 [00:02<00:00,  3.61it/s]\u001b[A\n",
            "Epoch 3 - Training: 100%|██████████| 10/10 [00:02<00:00,  4.34it/s]\u001b[A\n",
            "                                                             "
          ]
        },
        {
          "output_type": "stream",
          "name": "stdout",
          "text": [
            "Epoch 3: Train Loss = 0.1923, Val Loss = 0.1960, Accuracy = 84.93%, F1 Score = 0.8459\n",
            "Fold 4/5\n"
          ]
        },
        {
          "output_type": "stream",
          "name": "stderr",
          "text": [
            "Fold 4 - Epoch:   0%|          | 0/3 [00:00<?, ?it/s]\n",
            "Epoch 1 - Training:   0%|          | 0/10 [00:00<?, ?it/s]\u001b[A\n",
            "Epoch 1 - Training:  10%|█         | 1/10 [00:00<00:02,  3.91it/s]\u001b[A\n",
            "Epoch 1 - Training:  20%|██        | 2/10 [00:00<00:02,  3.73it/s]\u001b[A\n",
            "Epoch 1 - Training:  30%|███       | 3/10 [00:00<00:01,  3.65it/s]\u001b[A\n",
            "Epoch 1 - Training:  40%|████      | 4/10 [00:01<00:01,  3.54it/s]\u001b[A\n",
            "Epoch 1 - Training:  50%|█████     | 5/10 [00:01<00:01,  3.50it/s]\u001b[A\n",
            "Epoch 1 - Training:  60%|██████    | 6/10 [00:01<00:01,  3.51it/s]\u001b[A\n",
            "Epoch 1 - Training:  70%|███████   | 7/10 [00:01<00:00,  3.51it/s]\u001b[A\n",
            "Epoch 1 - Training:  80%|████████  | 8/10 [00:02<00:00,  3.53it/s]\u001b[A\n",
            "Epoch 1 - Training:  90%|█████████ | 9/10 [00:02<00:00,  3.51it/s]\u001b[A\n",
            "Epoch 1 - Training: 100%|██████████| 10/10 [00:02<00:00,  3.85it/s]\u001b[A\n",
            "                                                                   \u001b[A"
          ]
        },
        {
          "output_type": "stream",
          "name": "stdout",
          "text": [
            "Epoch 1: Train Loss = 0.3859, Val Loss = 0.3620, Accuracy = 87.67%, F1 Score = 0.8191\n"
          ]
        },
        {
          "output_type": "stream",
          "name": "stderr",
          "text": [
            "\rFold 4 - Epoch:  33%|███▎      | 1/3 [00:05<00:11,  5.62s/it]"
          ]
        },
        {
          "output_type": "stream",
          "name": "stdout",
          "text": [
            "Saved best model for fold 4 at epoch 1.\n"
          ]
        },
        {
          "output_type": "stream",
          "name": "stderr",
          "text": [
            "\n",
            "Epoch 2 - Training:   0%|          | 0/10 [00:00<?, ?it/s]\u001b[A\n",
            "Epoch 2 - Training:  10%|█         | 1/10 [00:00<00:03,  2.76it/s]\u001b[A\n",
            "Epoch 2 - Training:  20%|██        | 2/10 [00:00<00:02,  3.22it/s]\u001b[A\n",
            "Epoch 2 - Training:  30%|███       | 3/10 [00:00<00:02,  3.40it/s]\u001b[A\n",
            "Epoch 2 - Training:  40%|████      | 4/10 [00:01<00:01,  3.51it/s]\u001b[A\n",
            "Epoch 2 - Training:  50%|█████     | 5/10 [00:01<00:01,  3.58it/s]\u001b[A\n",
            "Epoch 2 - Training:  60%|██████    | 6/10 [00:01<00:01,  3.59it/s]\u001b[A\n",
            "Epoch 2 - Training:  70%|███████   | 7/10 [00:02<00:00,  3.61it/s]\u001b[A\n",
            "Epoch 2 - Training:  80%|████████  | 8/10 [00:02<00:00,  3.63it/s]\u001b[A\n",
            "Epoch 2 - Training:  90%|█████████ | 9/10 [00:02<00:00,  3.64it/s]\u001b[A\n",
            "Epoch 2 - Training: 100%|██████████| 10/10 [00:02<00:00,  4.48it/s]\u001b[A\n",
            "Fold 4 - Epoch:  67%|██████▋   | 2/3 [00:08<00:04,  4.12s/it]"
          ]
        },
        {
          "output_type": "stream",
          "name": "stdout",
          "text": [
            "Epoch 2: Train Loss = 0.2782, Val Loss = 0.3166, Accuracy = 87.67%, F1 Score = 0.8658\n"
          ]
        },
        {
          "output_type": "stream",
          "name": "stderr",
          "text": [
            "\n",
            "Epoch 3 - Training:   0%|          | 0/10 [00:00<?, ?it/s]\u001b[A\n",
            "Epoch 3 - Training:  10%|█         | 1/10 [00:00<00:02,  3.56it/s]\u001b[A\n",
            "Epoch 3 - Training:  20%|██        | 2/10 [00:00<00:02,  3.61it/s]\u001b[A\n",
            "Epoch 3 - Training:  30%|███       | 3/10 [00:00<00:01,  3.62it/s]\u001b[A\n",
            "Epoch 3 - Training:  40%|████      | 4/10 [00:01<00:01,  3.84it/s]\u001b[A\n",
            "Epoch 3 - Training:  50%|█████     | 5/10 [00:01<00:01,  3.78it/s]\u001b[A\n",
            "Epoch 3 - Training:  60%|██████    | 6/10 [00:01<00:01,  3.73it/s]\u001b[A\n",
            "Epoch 3 - Training:  70%|███████   | 7/10 [00:01<00:00,  3.68it/s]\u001b[A\n",
            "Epoch 3 - Training:  80%|████████  | 8/10 [00:02<00:00,  3.63it/s]\u001b[A\n",
            "Epoch 3 - Training:  90%|█████████ | 9/10 [00:02<00:00,  3.63it/s]\u001b[A\n",
            "Epoch 3 - Training: 100%|██████████| 10/10 [00:02<00:00,  4.40it/s]\u001b[A\n",
            "                                                             "
          ]
        },
        {
          "output_type": "stream",
          "name": "stdout",
          "text": [
            "Epoch 3: Train Loss = 0.1525, Val Loss = 0.3649, Accuracy = 86.30%, F1 Score = 0.8768\n",
            "Fold 5/5\n"
          ]
        },
        {
          "output_type": "stream",
          "name": "stderr",
          "text": [
            "Fold 5 - Epoch:   0%|          | 0/3 [00:00<?, ?it/s]\n",
            "Epoch 1 - Training:   0%|          | 0/10 [00:00<?, ?it/s]\u001b[A\n",
            "Epoch 1 - Training:  10%|█         | 1/10 [00:00<00:02,  3.93it/s]\u001b[A\n",
            "Epoch 1 - Training:  20%|██        | 2/10 [00:00<00:02,  3.69it/s]\u001b[A\n",
            "Epoch 1 - Training:  30%|███       | 3/10 [00:00<00:01,  3.69it/s]\u001b[A\n",
            "Epoch 1 - Training:  40%|████      | 4/10 [00:01<00:01,  3.65it/s]\u001b[A\n",
            "Epoch 1 - Training:  50%|█████     | 5/10 [00:01<00:01,  3.48it/s]\u001b[A\n",
            "Epoch 1 - Training:  60%|██████    | 6/10 [00:01<00:01,  3.24it/s]\u001b[A\n",
            "Epoch 1 - Training:  70%|███████   | 7/10 [00:02<00:00,  3.27it/s]\u001b[A\n",
            "Epoch 1 - Training:  80%|████████  | 8/10 [00:02<00:00,  3.32it/s]\u001b[A\n",
            "Epoch 1 - Training:  90%|█████████ | 9/10 [00:02<00:00,  3.43it/s]\u001b[A\n",
            "Epoch 1 - Training: 100%|██████████| 10/10 [00:02<00:00,  4.09it/s]\u001b[A\n",
            "                                                                   \u001b[A"
          ]
        },
        {
          "output_type": "stream",
          "name": "stdout",
          "text": [
            "Epoch 1: Train Loss = 0.4785, Val Loss = 0.3761, Accuracy = 86.30%, F1 Score = 0.7996\n"
          ]
        },
        {
          "output_type": "stream",
          "name": "stderr",
          "text": [
            "\rFold 5 - Epoch:  33%|███▎      | 1/3 [00:05<00:11,  5.75s/it]"
          ]
        },
        {
          "output_type": "stream",
          "name": "stdout",
          "text": [
            "Saved best model for fold 5 at epoch 1.\n"
          ]
        },
        {
          "output_type": "stream",
          "name": "stderr",
          "text": [
            "\n",
            "Epoch 2 - Training:   0%|          | 0/10 [00:00<?, ?it/s]\u001b[A\n",
            "Epoch 2 - Training:  10%|█         | 1/10 [00:00<00:03,  2.75it/s]\u001b[A\n",
            "Epoch 2 - Training:  20%|██        | 2/10 [00:00<00:02,  3.19it/s]\u001b[A\n",
            "Epoch 2 - Training:  30%|███       | 3/10 [00:00<00:02,  3.38it/s]\u001b[A\n",
            "Epoch 2 - Training:  40%|████      | 4/10 [00:01<00:01,  3.47it/s]\u001b[A\n",
            "Epoch 2 - Training:  50%|█████     | 5/10 [00:01<00:01,  3.52it/s]\u001b[A\n",
            "Epoch 2 - Training:  60%|██████    | 6/10 [00:01<00:01,  3.56it/s]\u001b[A\n",
            "Epoch 2 - Training:  70%|███████   | 7/10 [00:02<00:00,  3.57it/s]\u001b[A\n",
            "Epoch 2 - Training:  80%|████████  | 8/10 [00:02<00:00,  3.61it/s]\u001b[A\n",
            "Epoch 2 - Training:  90%|█████████ | 9/10 [00:02<00:00,  3.61it/s]\u001b[A\n",
            "Epoch 2 - Training: 100%|██████████| 10/10 [00:02<00:00,  4.45it/s]\u001b[A\n",
            "Fold 5 - Epoch:  67%|██████▋   | 2/3 [00:08<00:04,  4.18s/it]"
          ]
        },
        {
          "output_type": "stream",
          "name": "stdout",
          "text": [
            "Epoch 2: Train Loss = 0.3919, Val Loss = 0.3096, Accuracy = 86.30%, F1 Score = 0.7996\n"
          ]
        },
        {
          "output_type": "stream",
          "name": "stderr",
          "text": [
            "\n",
            "Epoch 3 - Training:   0%|          | 0/10 [00:00<?, ?it/s]\u001b[A\n",
            "Epoch 3 - Training:  10%|█         | 1/10 [00:00<00:02,  3.59it/s]\u001b[A\n",
            "Epoch 3 - Training:  20%|██        | 2/10 [00:00<00:02,  3.58it/s]\u001b[A\n",
            "Epoch 3 - Training:  30%|███       | 3/10 [00:00<00:01,  3.60it/s]\u001b[A\n",
            "Epoch 3 - Training:  40%|████      | 4/10 [00:01<00:01,  3.60it/s]\u001b[A\n",
            "Epoch 3 - Training:  50%|█████     | 5/10 [00:01<00:01,  3.63it/s]\u001b[A\n",
            "Epoch 3 - Training:  60%|██████    | 6/10 [00:01<00:01,  3.63it/s]\u001b[A\n",
            "Epoch 3 - Training:  70%|███████   | 7/10 [00:01<00:00,  3.64it/s]\u001b[A\n",
            "Epoch 3 - Training:  80%|████████  | 8/10 [00:02<00:00,  3.65it/s]\u001b[A\n",
            "Epoch 3 - Training:  90%|█████████ | 9/10 [00:02<00:00,  3.63it/s]\u001b[A\n",
            "Epoch 3 - Training: 100%|██████████| 10/10 [00:02<00:00,  4.49it/s]\u001b[A\n",
            "                                                                   \u001b[A"
          ]
        },
        {
          "output_type": "stream",
          "name": "stdout",
          "text": [
            "Epoch 3: Train Loss = 0.2321, Val Loss = 0.0764, Accuracy = 98.63%, F1 Score = 0.9860\n"
          ]
        },
        {
          "output_type": "stream",
          "name": "stderr",
          "text": [
            "                                                             "
          ]
        },
        {
          "output_type": "stream",
          "name": "stdout",
          "text": [
            "Saved best model for fold 5 at epoch 3.\n"
          ]
        },
        {
          "output_type": "stream",
          "name": "stderr",
          "text": [
            "\r"
          ]
        }
      ]
    },
    {
      "cell_type": "code",
      "source": [
        "# Average Metrics Across Folds\n",
        "avg_metrics = {\n",
        "    key: np.mean([result[idx] for result in fold_results])\n",
        "    for idx, key in enumerate(['train_loss', 'val_loss', 'accuracy', 'f1_score'])\n",
        "}\n",
        "print(\"Average Metrics Across Folds:\")\n",
        "for key, value in avg_metrics.items():\n",
        "    print(f\"{key.capitalize()}: {value:.4f}\")\n",
        "\n",
        "# Calculate and plot the overall confusion matrix after all folds\n",
        "conf_matrix = confusion_matrix(all_labels, all_preds)\n",
        "\n",
        "plt.figure(figsize=(8, 6))\n",
        "sns.heatmap(conf_matrix, annot=True, fmt=\".2f\", cmap=\"Blues\", cbar=False)\n",
        "plt.title(\"Confusion Matrix Across All Folds\")\n",
        "plt.xlabel(\"Predicted Label\")\n",
        "plt.ylabel(\"True Label\")\n",
        "plt.show()\n",
        "\n",
        "# Classification Report for All Folds\n",
        "print(\"\\nClassification Report for All Folds:\")\n",
        "print(classification_report(all_labels, all_preds, digits=4))"
      ],
      "metadata": {
        "id": "zfZhHMTSW3qc",
        "colab": {
          "base_uri": "https://localhost:8080/",
          "height": 851
        },
        "outputId": "c20e927d-5751-4a1c-dd02-872c14074921"
      },
      "execution_count": null,
      "outputs": [
        {
          "output_type": "stream",
          "name": "stdout",
          "text": [
            "Average Metrics Across Folds:\n",
            "Train_loss: 0.2003\n",
            "Val_loss: 0.1978\n",
            "Accuracy: 0.9068\n",
            "F1_score: 0.8959\n"
          ]
        },
        {
          "output_type": "display_data",
          "data": {
            "text/plain": [
              "<Figure size 800x600 with 1 Axes>"
            ],
            "image/png": "[encoded data removed]"
          },
          "metadata": {}
        },
        {
          "output_type": "stream",
          "name": "stdout",
          "text": [
            "\n",
            "Classification Report for All Folds:\n",
            "              precision    recall  f1-score   support\n",
            "\n",
            "           0     0.9352    0.9589    0.9469       316\n",
            "           1     0.6829    0.5714    0.6222        49\n",
            "\n",
            "    accuracy                         0.9068       365\n",
            "   macro avg     0.8091    0.7651    0.7845       365\n",
            "weighted avg     0.9013    0.9068    0.9033       365\n",
            "\n"
          ]
        }
      ]
    },
    {
      "cell_type": "markdown",
      "metadata": {
        "id": "EkH_RYbIR_D-"
      },
      "source": [
        "# **Hyperparameter Tuning**"
      ]
    },
    {
      "cell_type": "markdown",
      "source": [
        "## tes0"
      ],
      "metadata": {
        "id": "R_boq5DyXW3a"
      }
    },
    {
      "cell_type": "code",
      "execution_count": null,
      "metadata": {
        "id": "Gd5yI19QYCEC"
      },
      "outputs": [],
      "source": [
        "# !pip install optuna\n"
      ]
    },
    {
      "cell_type": "code",
      "execution_count": null,
      "metadata": {
        "id": "bvYGnGcEZUNL"
      },
      "outputs": [],
      "source": [
        "# import pandas as pd\n",
        "# import numpy as np\n",
        "# import optuna\n",
        "# import torch\n",
        "# from sklearn.metrics import accuracy_score, classification_report\n",
        "# from sklearn.model_selection import KFold\n",
        "# from transformers import BertTokenizer, BertForSequenceClassification, AdamW\n",
        "# from torch.utils.data import DataLoader, TensorDataset\n",
        "\n",
        "# # Load dataset\n",
        "# data = pd.read_csv('/content/gdrive/My Drive/ASDOS/template/Topik4_Phishing URL Detection Using BERT-Based Transformer Models/dataset/malicious_phish.csv')\n",
        "\n",
        "# # Memisahkan fitur dan label\n",
        "# X = data['url']  # Fitur: URL\n",
        "# y = data['type'].map({'benign': 0, 'defacement': 1, 'phishing': 2, 'malware': 3})  # Mengonversi label ke numerik\n",
        "\n",
        "# # Inisialisasi Tokenizer BERT\n",
        "# tokenizer = BertTokenizer.from_pretrained('bert-base-uncased')\n",
        "\n",
        "# def train_model(trial):\n",
        "#     # Hyperparameter tuning\n",
        "#     batch_size = trial.suggest_categorical('batch_size', [8, 16, 32])\n",
        "#     learning_rate = trial.suggest_loguniform('learning_rate', 1e-5, 5e-5)\n",
        "#     num_epochs = trial.suggest_int('num_epochs', 3, 10)\n",
        "\n",
        "#     kf = KFold(n_splits=5, shuffle=True, random_state=42)\n",
        "#     all_accuracy = []\n",
        "\n",
        "#     for train_index, val_index in kf.split(X):\n",
        "#         X_train, X_val = X.iloc[train_index], X.iloc[val_index]\n",
        "#         y_train, y_val = y.iloc[train_index], y.iloc[val_index]\n",
        "\n",
        "#         # Tokenisasi dan pembuatan tensor\n",
        "#         train_encodings = tokenizer(list(X_train), truncation=True, padding=True, return_tensors='pt')\n",
        "#         val_encodings = tokenizer(list(X_val), truncation=True, padding=True, return_tensors='pt')\n",
        "\n",
        "#         # Convert labels to tensors\n",
        "#         y_train_tensor = torch.LongTensor(y_train.values)\n",
        "#         y_val_tensor = torch.LongTensor(y_val.values)\n",
        "\n",
        "#         # Create DataLoader\n",
        "#         train_dataset = TensorDataset(train_encodings['input_ids'], train_encodings['attention_mask'], y_train_tensor)\n",
        "#         train_loader = DataLoader(train_dataset, batch_size=batch_size, shuffle=True)\n",
        "\n",
        "#         # Initialize BERT model\n",
        "#         model = BertForSequenceClassification.from_pretrained('bert-base-uncased', num_labels=len(y.unique()))\n",
        "#         model.to('cuda' if torch.cuda.is_available() else 'cpu')\n",
        "#         optimizer = AdamW(model.parameters(), lr=learning_rate, )\n",
        "\n",
        "#         # Train the model\n",
        "#         for epoch in range(num_epochs):\n",
        "#             model.train()\n",
        "#             for batch in train_loader:\n",
        "#                 optimizer.zero_grad()\n",
        "#                 input_ids, attention_mask, labels = batch\n",
        "#                 input_ids, attention_mask, labels = input_ids.to('cuda'), attention_mask.to('cuda'), labels.to('cuda')\n",
        "#                 outputs = model(input_ids, attention_mask=attention_mask, labels=labels)\n",
        "#                 loss = outputs.loss\n",
        "#                 loss.backward()\n",
        "#                 optimizer.step()\n",
        "\n",
        "#         # Validate the model\n",
        "#         model.eval()\n",
        "#         with torch.no_grad():\n",
        "#             val_input_ids = val_encodings['input_ids'].to('cuda')\n",
        "#             val_attention_mask = val_encodings['attention_mask'].to('cuda')\n",
        "#             outputs = model(val_input_ids, attention_mask=val_attention_mask)\n",
        "#             y_pred = torch.argmax(outputs.logits, dim=1)\n",
        "\n",
        "#         accuracy = accuracy_score(y_val, y_pred.cpu())\n",
        "#         all_accuracy.append(accuracy)\n",
        "\n",
        "#     # Return average accuracy across folds\n",
        "#     return np.mean(all_accuracy)\n",
        "\n",
        "# # Create a study object for hyperparameter optimization\n",
        "# study = optuna.create_study(direction='maximize')\n",
        "# study.optimize(train_model, n_trials=20)\n",
        "\n",
        "# # Print the best hyperparameters\n",
        "# print(\"Best hyperparameters: \", study.best_params)\n",
        "# print(\"Best accuracy: \", study.best_value)\n"
      ]
    },
    {
      "cell_type": "code",
      "execution_count": null,
      "metadata": {
        "id": "LiAC120nM5IH"
      },
      "outputs": [],
      "source": [
        "# import torch\n",
        "# from transformers import BertTokenizer, BertForSequenceClassification, AdamW\n",
        "# from sklearn.model_selection import KFold, ParameterGrid\n",
        "# from sklearn.metrics import accuracy_score, f1_score\n",
        "# from torch.utils.data import DataLoader, TensorDataset\n",
        "# from tqdm import tqdm\n",
        "# import transformers\n",
        "\n",
        "# # Set transformers logging to error only\n",
        "# transformers.logging.set_verbosity_error()\n",
        "\n",
        "# # Constants\n",
        "# device = torch.device('cuda' if torch.cuda.is_available() else 'cpu')\n",
        "# num_epochs = 4  # Set to 4 as per your output example\n",
        "\n",
        "# # Load tokenizer\n",
        "# tokenizer = BertTokenizer.from_pretrained('bert-base-uncased', clean_up_tokenization_spaces=True)\n",
        "\n",
        "# def tokenize_data(texts):\n",
        "#     return tokenizer(\n",
        "#         texts,\n",
        "#         truncation=True,\n",
        "#         padding=True,\n",
        "#         return_tensors='pt',\n",
        "#         max_length=512\n",
        "#     )\n",
        "\n",
        "# def compute_validation_metrics(model, val_loader, y_val):\n",
        "#     model.eval()\n",
        "#     val_predictions = []\n",
        "#     total_val_loss = 0\n",
        "\n",
        "#     with torch.no_grad():\n",
        "#         for batch in val_loader:\n",
        "#             input_ids, attention_mask, labels = [b.to(device) for b in batch]\n",
        "#             outputs = model(input_ids, attention_mask=attention_mask, labels=labels)\n",
        "#             loss = outputs.loss\n",
        "#             total_val_loss += loss.item()\n",
        "#             batch_predictions = torch.argmax(outputs.logits, dim=1)\n",
        "#             val_predictions.extend(batch_predictions.cpu().numpy())\n",
        "\n",
        "#     avg_val_loss = total_val_loss / len(val_loader)\n",
        "#     accuracy = accuracy_score(y_val, val_predictions)\n",
        "#     f1 = f1_score(y_val, val_predictions, average='weighted')\n",
        "#     return avg_val_loss, accuracy, f1, val_predictions\n",
        "\n",
        "# def train_and_evaluate(fold, train_loader, val_loader, y_val, batch_size, lr):\n",
        "#     model = BertForSequenceClassification.from_pretrained(\n",
        "#         'bert-base-uncased',\n",
        "#         num_labels=len(y_val.unique()),\n",
        "#         problem_type=\"single_label_classification\"\n",
        "#     ).to(device)\n",
        "\n",
        "#     optimizer = AdamW(model.parameters(), lr=lr)\n",
        "#     best_val_loss = float('inf')\n",
        "\n",
        "#     for epoch in range(num_epochs):\n",
        "#         model.train()\n",
        "#         total_train_loss = 0\n",
        "#         # Progress bar for training\n",
        "#         with tqdm(total=len(train_loader), desc=f'Epoch {epoch + 1}/{num_epochs} - Training', leave=False) as pbar:\n",
        "#             for batch in train_loader:\n",
        "#                 optimizer.zero_grad()\n",
        "#                 input_ids, attention_mask, labels = [b.to(device) for b in batch]\n",
        "\n",
        "#                 outputs = model(input_ids, attention_mask=attention_mask, labels=labels)\n",
        "#                 loss = outputs.loss\n",
        "\n",
        "#                 loss.backward()\n",
        "#                 optimizer.step()\n",
        "#                 total_train_loss += loss.item()\n",
        "\n",
        "#                 pbar.set_postfix(loss=loss.item())\n",
        "#                 pbar.update(1)\n",
        "\n",
        "#         avg_train_loss = total_train_loss / len(train_loader)\n",
        "#         val_loss, accuracy, f1, _ = compute_validation_metrics(model, val_loader, y_val)\n",
        "\n",
        "#         print(f\"Epoch {epoch + 1}/{num_epochs}: Training Loss = {avg_train_loss:.4f}, Validation Loss = {val_loss:.4f}, \"\n",
        "#               f\"Accuracy = {accuracy * 100:.2f}%, F1 Score = {f1:.4f}\")\n",
        "\n",
        "#     return best_val_loss\n",
        "\n",
        "# # Hyperparameter grid\n",
        "# param_grid = {\n",
        "#     'batch_size': [32, 64],\n",
        "#     'd_model': [128, 256],\n",
        "#     'dropout': [0.1, 0.2],\n",
        "#     'lr': [0.001, 0.0001],\n",
        "#     'nhead': [4, 8]\n",
        "# }\n",
        "\n",
        "# # Metrics collection\n",
        "# best_hyperparams = None\n",
        "# best_val_loss = float('inf')\n",
        "\n",
        "# # Main KFold loop\n",
        "# kf = KFold(n_splits=5, shuffle=True, random_state=42)\n",
        "\n",
        "# # Iterate through all combinations of parameters\n",
        "# for params in ParameterGrid(param_grid):\n",
        "#     print(f\"Evaluating params: {params}\")\n",
        "\n",
        "#     for fold, (train_index, val_index) in enumerate(kf.split(X_train_bin), 1):\n",
        "#         print(f\"Fold {fold}/5\")\n",
        "#         X_train, X_val = X_train_bin.iloc[train_index], X_train_bin.iloc[val_index]\n",
        "#         y_train, y_val = y_train_bin.iloc[train_index], y_train_bin.iloc[val_index]\n",
        "\n",
        "#         train_encodings = tokenize_data(list(X_train))\n",
        "#         val_encodings = tokenize_data(list(X_val))\n",
        "\n",
        "#         y_train_tensor = torch.LongTensor(y_train.values).to(device)\n",
        "#         y_val_tensor = torch.LongTensor(y_val.values).to(device)\n",
        "\n",
        "#         train_dataset = TensorDataset(train_encodings['input_ids'], train_encodings['attention_mask'], y_train_tensor)\n",
        "#         val_dataset = TensorDataset(val_encodings['input_ids'], val_encodings['attention_mask'], y_val_tensor)\n",
        "\n",
        "#         train_loader = DataLoader(train_dataset, batch_size=params['batch_size'], shuffle=True)\n",
        "#         val_loader = DataLoader(val_dataset, batch_size=params['batch_size'], shuffle=False)\n",
        "\n",
        "#         val_loss = train_and_evaluate(fold, train_loader, val_loader, y_val, params['batch_size'], params['lr'])\n",
        "\n",
        "#         if val_loss < best_val_loss:\n",
        "#             best_val_loss = val_loss\n",
        "#             best_hyperparams = params\n",
        "\n",
        "# print(\"\\nBest Hyperparameters:\")\n",
        "# print(f\"Parameters: {best_hyperparams}\")\n",
        "# print(f\"Best Average Validation Loss: {best_val_loss:.4f}\")\n"
      ]
    },
    {
      "cell_type": "markdown",
      "source": [
        "## tes1"
      ],
      "metadata": {
        "id": "QMJKbQ1gXcCv"
      }
    },
    {
      "cell_type": "code",
      "execution_count": null,
      "metadata": {
        "colab": {
          "base_uri": "https://localhost:8080/"
        },
        "id": "yMvIs5FgSZlq",
        "outputId": "8a7c6094-90cf-450f-d973-6088dfd936e2"
      },
      "outputs": [
        {
          "output_type": "stream",
          "name": "stdout",
          "text": [
            "Evaluating params: {'batch_size': 32, 'd_model': 128, 'dropout': 0.1, 'lr': 0.001, 'nhead': 4}\n",
            "Fold 1/5\n"
          ]
        },
        {
          "output_type": "stream",
          "name": "stderr",
          "text": [
            "/usr/local/lib/python3.10/dist-packages/transformers/optimization.py:591: FutureWarning: This implementation of AdamW is deprecated and will be removed in a future version. Use the PyTorch implementation torch.optim.AdamW instead, or set `no_deprecation_warning=True` to disable this warning\n",
            "  warnings.warn(\n"
          ]
        },
        {
          "output_type": "stream",
          "name": "stdout",
          "text": [
            "Epoch 1/4: Training Loss = 0.7860, Validation Loss = 0.3879, Accuracy = 86.30%, F1 Score = 0.7996\n"
          ]
        },
        {
          "output_type": "stream",
          "name": "stderr",
          "text": []
        },
        {
          "output_type": "stream",
          "name": "stdout",
          "text": [
            "Epoch 2/4: Training Loss = 0.4193, Validation Loss = 0.3919, Accuracy = 86.30%, F1 Score = 0.7996\n"
          ]
        },
        {
          "output_type": "stream",
          "name": "stderr",
          "text": []
        },
        {
          "output_type": "stream",
          "name": "stdout",
          "text": [
            "Epoch 3/4: Training Loss = 0.4807, Validation Loss = 0.4813, Accuracy = 86.30%, F1 Score = 0.7996\n"
          ]
        },
        {
          "output_type": "stream",
          "name": "stderr",
          "text": []
        },
        {
          "output_type": "stream",
          "name": "stdout",
          "text": [
            "Epoch 4/4: Training Loss = 0.4095, Validation Loss = 0.6622, Accuracy = 86.30%, F1 Score = 0.7996\n",
            "Fold 2/5\n"
          ]
        },
        {
          "output_type": "stream",
          "name": "stderr",
          "text": [
            "/usr/local/lib/python3.10/dist-packages/transformers/optimization.py:591: FutureWarning: This implementation of AdamW is deprecated and will be removed in a future version. Use the PyTorch implementation torch.optim.AdamW instead, or set `no_deprecation_warning=True` to disable this warning\n",
            "  warnings.warn(\n"
          ]
        },
        {
          "output_type": "stream",
          "name": "stdout",
          "text": [
            "Epoch 1/4: Training Loss = 0.5741, Validation Loss = 0.3907, Accuracy = 86.30%, F1 Score = 0.7996\n"
          ]
        },
        {
          "output_type": "stream",
          "name": "stderr",
          "text": []
        },
        {
          "output_type": "stream",
          "name": "stdout",
          "text": [
            "Epoch 2/4: Training Loss = 0.4289, Validation Loss = 0.3961, Accuracy = 86.30%, F1 Score = 0.7996\n"
          ]
        },
        {
          "output_type": "stream",
          "name": "stderr",
          "text": []
        },
        {
          "output_type": "stream",
          "name": "stdout",
          "text": [
            "Epoch 3/4: Training Loss = 0.4711, Validation Loss = 0.4056, Accuracy = 86.30%, F1 Score = 0.7996\n"
          ]
        },
        {
          "output_type": "stream",
          "name": "stderr",
          "text": []
        },
        {
          "output_type": "stream",
          "name": "stdout",
          "text": [
            "Epoch 4/4: Training Loss = 0.3848, Validation Loss = 0.3993, Accuracy = 86.30%, F1 Score = 0.7996\n",
            "Fold 3/5\n"
          ]
        },
        {
          "output_type": "stream",
          "name": "stderr",
          "text": [
            "/usr/local/lib/python3.10/dist-packages/transformers/optimization.py:591: FutureWarning: This implementation of AdamW is deprecated and will be removed in a future version. Use the PyTorch implementation torch.optim.AdamW instead, or set `no_deprecation_warning=True` to disable this warning\n",
            "  warnings.warn(\n"
          ]
        },
        {
          "output_type": "stream",
          "name": "stdout",
          "text": [
            "Epoch 1/4: Training Loss = 0.5939, Validation Loss = 0.4021, Accuracy = 86.30%, F1 Score = 0.7996\n"
          ]
        },
        {
          "output_type": "stream",
          "name": "stderr",
          "text": []
        },
        {
          "output_type": "stream",
          "name": "stdout",
          "text": [
            "Epoch 2/4: Training Loss = 0.4560, Validation Loss = 0.3946, Accuracy = 86.30%, F1 Score = 0.7996\n"
          ]
        },
        {
          "output_type": "stream",
          "name": "stderr",
          "text": []
        },
        {
          "output_type": "stream",
          "name": "stdout",
          "text": [
            "Epoch 3/4: Training Loss = 0.4178, Validation Loss = 0.3943, Accuracy = 86.30%, F1 Score = 0.7996\n"
          ]
        },
        {
          "output_type": "stream",
          "name": "stderr",
          "text": []
        },
        {
          "output_type": "stream",
          "name": "stdout",
          "text": [
            "Epoch 4/4: Training Loss = 0.3859, Validation Loss = 0.4148, Accuracy = 86.30%, F1 Score = 0.7996\n",
            "Fold 4/5\n"
          ]
        },
        {
          "output_type": "stream",
          "name": "stderr",
          "text": [
            "/usr/local/lib/python3.10/dist-packages/transformers/optimization.py:591: FutureWarning: This implementation of AdamW is deprecated and will be removed in a future version. Use the PyTorch implementation torch.optim.AdamW instead, or set `no_deprecation_warning=True` to disable this warning\n",
            "  warnings.warn(\n"
          ]
        },
        {
          "output_type": "stream",
          "name": "stdout",
          "text": [
            "Epoch 1/4: Training Loss = 0.4998, Validation Loss = 0.4214, Accuracy = 87.67%, F1 Score = 0.8191\n"
          ]
        },
        {
          "output_type": "stream",
          "name": "stderr",
          "text": []
        },
        {
          "output_type": "stream",
          "name": "stdout",
          "text": [
            "Epoch 2/4: Training Loss = 0.4237, Validation Loss = 0.4300, Accuracy = 87.67%, F1 Score = 0.8191\n"
          ]
        },
        {
          "output_type": "stream",
          "name": "stderr",
          "text": []
        },
        {
          "output_type": "stream",
          "name": "stdout",
          "text": [
            "Epoch 3/4: Training Loss = 0.4225, Validation Loss = 0.4177, Accuracy = 87.67%, F1 Score = 0.8191\n"
          ]
        },
        {
          "output_type": "stream",
          "name": "stderr",
          "text": []
        },
        {
          "output_type": "stream",
          "name": "stdout",
          "text": [
            "Epoch 4/4: Training Loss = 0.3820, Validation Loss = 0.4227, Accuracy = 87.67%, F1 Score = 0.8191\n",
            "Fold 5/5\n"
          ]
        },
        {
          "output_type": "stream",
          "name": "stderr",
          "text": [
            "/usr/local/lib/python3.10/dist-packages/transformers/optimization.py:591: FutureWarning: This implementation of AdamW is deprecated and will be removed in a future version. Use the PyTorch implementation torch.optim.AdamW instead, or set `no_deprecation_warning=True` to disable this warning\n",
            "  warnings.warn(\n"
          ]
        },
        {
          "output_type": "stream",
          "name": "stdout",
          "text": [
            "Epoch 1/4: Training Loss = 0.5285, Validation Loss = 0.3960, Accuracy = 86.30%, F1 Score = 0.7996\n"
          ]
        },
        {
          "output_type": "stream",
          "name": "stderr",
          "text": []
        },
        {
          "output_type": "stream",
          "name": "stdout",
          "text": [
            "Epoch 2/4: Training Loss = 0.3922, Validation Loss = 0.3911, Accuracy = 86.30%, F1 Score = 0.7996\n"
          ]
        },
        {
          "output_type": "stream",
          "name": "stderr",
          "text": []
        },
        {
          "output_type": "stream",
          "name": "stdout",
          "text": [
            "Epoch 3/4: Training Loss = 0.3963, Validation Loss = 0.3917, Accuracy = 86.30%, F1 Score = 0.7996\n"
          ]
        },
        {
          "output_type": "stream",
          "name": "stderr",
          "text": []
        },
        {
          "output_type": "stream",
          "name": "stdout",
          "text": [
            "Epoch 4/4: Training Loss = 0.3798, Validation Loss = 0.3982, Accuracy = 86.30%, F1 Score = 0.7996\n",
            "Evaluating params: {'batch_size': 32, 'd_model': 128, 'dropout': 0.1, 'lr': 0.001, 'nhead': 8}\n",
            "Fold 1/5\n"
          ]
        },
        {
          "output_type": "stream",
          "name": "stderr",
          "text": [
            "/usr/local/lib/python3.10/dist-packages/transformers/optimization.py:591: FutureWarning: This implementation of AdamW is deprecated and will be removed in a future version. Use the PyTorch implementation torch.optim.AdamW instead, or set `no_deprecation_warning=True` to disable this warning\n",
            "  warnings.warn(\n"
          ]
        },
        {
          "output_type": "stream",
          "name": "stdout",
          "text": [
            "Epoch 1/4: Training Loss = 0.5276, Validation Loss = 0.4124, Accuracy = 86.30%, F1 Score = 0.7996\n"
          ]
        },
        {
          "output_type": "stream",
          "name": "stderr",
          "text": []
        },
        {
          "output_type": "stream",
          "name": "stdout",
          "text": [
            "Epoch 2/4: Training Loss = 0.4271, Validation Loss = 0.3903, Accuracy = 86.30%, F1 Score = 0.7996\n"
          ]
        },
        {
          "output_type": "stream",
          "name": "stderr",
          "text": []
        },
        {
          "output_type": "stream",
          "name": "stdout",
          "text": [
            "Epoch 3/4: Training Loss = 0.3923, Validation Loss = 0.4413, Accuracy = 86.30%, F1 Score = 0.7996\n"
          ]
        },
        {
          "output_type": "stream",
          "name": "stderr",
          "text": []
        },
        {
          "output_type": "stream",
          "name": "stdout",
          "text": [
            "Epoch 4/4: Training Loss = 0.4261, Validation Loss = 0.3879, Accuracy = 86.30%, F1 Score = 0.7996\n",
            "Fold 2/5\n"
          ]
        },
        {
          "output_type": "stream",
          "name": "stderr",
          "text": [
            "/usr/local/lib/python3.10/dist-packages/transformers/optimization.py:591: FutureWarning: This implementation of AdamW is deprecated and will be removed in a future version. Use the PyTorch implementation torch.optim.AdamW instead, or set `no_deprecation_warning=True` to disable this warning\n",
            "  warnings.warn(\n"
          ]
        },
        {
          "output_type": "stream",
          "name": "stdout",
          "text": [
            "Epoch 1/4: Training Loss = 0.5328, Validation Loss = 0.3965, Accuracy = 86.30%, F1 Score = 0.7996\n"
          ]
        },
        {
          "output_type": "stream",
          "name": "stderr",
          "text": []
        },
        {
          "output_type": "stream",
          "name": "stdout",
          "text": [
            "Epoch 2/4: Training Loss = 0.4039, Validation Loss = 0.3966, Accuracy = 86.30%, F1 Score = 0.7996\n"
          ]
        },
        {
          "output_type": "stream",
          "name": "stderr",
          "text": []
        },
        {
          "output_type": "stream",
          "name": "stdout",
          "text": [
            "Epoch 3/4: Training Loss = 0.4248, Validation Loss = 0.3880, Accuracy = 86.30%, F1 Score = 0.7996\n"
          ]
        },
        {
          "output_type": "stream",
          "name": "stderr",
          "text": []
        },
        {
          "output_type": "stream",
          "name": "stdout",
          "text": [
            "Epoch 4/4: Training Loss = 0.4181, Validation Loss = 0.3899, Accuracy = 86.30%, F1 Score = 0.7996\n",
            "Fold 3/5\n"
          ]
        },
        {
          "output_type": "stream",
          "name": "stderr",
          "text": [
            "/usr/local/lib/python3.10/dist-packages/transformers/optimization.py:591: FutureWarning: This implementation of AdamW is deprecated and will be removed in a future version. Use the PyTorch implementation torch.optim.AdamW instead, or set `no_deprecation_warning=True` to disable this warning\n",
            "  warnings.warn(\n"
          ]
        },
        {
          "output_type": "stream",
          "name": "stdout",
          "text": [
            "Epoch 1/4: Training Loss = 0.5360, Validation Loss = 8.0528, Accuracy = 13.70%, F1 Score = 0.0330\n"
          ]
        },
        {
          "output_type": "stream",
          "name": "stderr",
          "text": []
        },
        {
          "output_type": "stream",
          "name": "stdout",
          "text": [
            "Epoch 2/4: Training Loss = 1.7159, Validation Loss = 0.4089, Accuracy = 86.30%, F1 Score = 0.7996\n"
          ]
        },
        {
          "output_type": "stream",
          "name": "stderr",
          "text": []
        },
        {
          "output_type": "stream",
          "name": "stdout",
          "text": [
            "Epoch 3/4: Training Loss = 0.5186, Validation Loss = 0.4028, Accuracy = 86.30%, F1 Score = 0.7996\n"
          ]
        },
        {
          "output_type": "stream",
          "name": "stderr",
          "text": []
        },
        {
          "output_type": "stream",
          "name": "stdout",
          "text": [
            "Epoch 4/4: Training Loss = 0.3942, Validation Loss = 0.3954, Accuracy = 86.30%, F1 Score = 0.7996\n",
            "Fold 4/5\n"
          ]
        },
        {
          "output_type": "stream",
          "name": "stderr",
          "text": [
            "/usr/local/lib/python3.10/dist-packages/transformers/optimization.py:591: FutureWarning: This implementation of AdamW is deprecated and will be removed in a future version. Use the PyTorch implementation torch.optim.AdamW instead, or set `no_deprecation_warning=True` to disable this warning\n",
            "  warnings.warn(\n"
          ]
        },
        {
          "output_type": "stream",
          "name": "stdout",
          "text": [
            "Epoch 1/4: Training Loss = 0.6936, Validation Loss = 0.4690, Accuracy = 87.67%, F1 Score = 0.8191\n"
          ]
        },
        {
          "output_type": "stream",
          "name": "stderr",
          "text": []
        },
        {
          "output_type": "stream",
          "name": "stdout",
          "text": [
            "Epoch 2/4: Training Loss = 0.4443, Validation Loss = 0.4327, Accuracy = 87.67%, F1 Score = 0.8191\n"
          ]
        },
        {
          "output_type": "stream",
          "name": "stderr",
          "text": []
        },
        {
          "output_type": "stream",
          "name": "stdout",
          "text": [
            "Epoch 3/4: Training Loss = 0.4821, Validation Loss = 0.4175, Accuracy = 87.67%, F1 Score = 0.8191\n"
          ]
        },
        {
          "output_type": "stream",
          "name": "stderr",
          "text": []
        },
        {
          "output_type": "stream",
          "name": "stdout",
          "text": [
            "Epoch 4/4: Training Loss = 0.5050, Validation Loss = 0.4200, Accuracy = 87.67%, F1 Score = 0.8191\n",
            "Fold 5/5\n"
          ]
        },
        {
          "output_type": "stream",
          "name": "stderr",
          "text": [
            "/usr/local/lib/python3.10/dist-packages/transformers/optimization.py:591: FutureWarning: This implementation of AdamW is deprecated and will be removed in a future version. Use the PyTorch implementation torch.optim.AdamW instead, or set `no_deprecation_warning=True` to disable this warning\n",
            "  warnings.warn(\n"
          ]
        },
        {
          "output_type": "stream",
          "name": "stdout",
          "text": [
            "Epoch 1/4: Training Loss = 0.7645, Validation Loss = 0.4074, Accuracy = 86.30%, F1 Score = 0.7996\n"
          ]
        },
        {
          "output_type": "stream",
          "name": "stderr",
          "text": []
        },
        {
          "output_type": "stream",
          "name": "stdout",
          "text": [
            "Epoch 2/4: Training Loss = 0.4647, Validation Loss = 0.3946, Accuracy = 86.30%, F1 Score = 0.7996\n"
          ]
        },
        {
          "output_type": "stream",
          "name": "stderr",
          "text": []
        },
        {
          "output_type": "stream",
          "name": "stdout",
          "text": [
            "Epoch 3/4: Training Loss = 0.4714, Validation Loss = 0.4741, Accuracy = 86.30%, F1 Score = 0.7996\n"
          ]
        },
        {
          "output_type": "stream",
          "name": "stderr",
          "text": []
        },
        {
          "output_type": "stream",
          "name": "stdout",
          "text": [
            "Epoch 4/4: Training Loss = 0.4091, Validation Loss = 0.4134, Accuracy = 86.30%, F1 Score = 0.7996\n",
            "Evaluating params: {'batch_size': 32, 'd_model': 128, 'dropout': 0.1, 'lr': 0.001, 'nhead': 16}\n",
            "Fold 1/5\n"
          ]
        },
        {
          "output_type": "stream",
          "name": "stderr",
          "text": [
            "/usr/local/lib/python3.10/dist-packages/transformers/optimization.py:591: FutureWarning: This implementation of AdamW is deprecated and will be removed in a future version. Use the PyTorch implementation torch.optim.AdamW instead, or set `no_deprecation_warning=True` to disable this warning\n",
            "  warnings.warn(\n"
          ]
        },
        {
          "output_type": "stream",
          "name": "stdout",
          "text": [
            "Epoch 1/4: Training Loss = 0.5377, Validation Loss = 0.4028, Accuracy = 86.30%, F1 Score = 0.7996\n"
          ]
        },
        {
          "output_type": "stream",
          "name": "stderr",
          "text": []
        },
        {
          "output_type": "stream",
          "name": "stdout",
          "text": [
            "Epoch 2/4: Training Loss = 0.3728, Validation Loss = 0.4373, Accuracy = 86.30%, F1 Score = 0.7996\n"
          ]
        },
        {
          "output_type": "stream",
          "name": "stderr",
          "text": []
        },
        {
          "output_type": "stream",
          "name": "stdout",
          "text": [
            "Epoch 3/4: Training Loss = 0.4472, Validation Loss = 0.3883, Accuracy = 86.30%, F1 Score = 0.7996\n"
          ]
        },
        {
          "output_type": "stream",
          "name": "stderr",
          "text": []
        },
        {
          "output_type": "stream",
          "name": "stdout",
          "text": [
            "Epoch 4/4: Training Loss = 0.3780, Validation Loss = 0.4115, Accuracy = 86.30%, F1 Score = 0.7996\n",
            "Fold 2/5\n"
          ]
        },
        {
          "output_type": "stream",
          "name": "stderr",
          "text": [
            "/usr/local/lib/python3.10/dist-packages/transformers/optimization.py:591: FutureWarning: This implementation of AdamW is deprecated and will be removed in a future version. Use the PyTorch implementation torch.optim.AdamW instead, or set `no_deprecation_warning=True` to disable this warning\n",
            "  warnings.warn(\n"
          ]
        },
        {
          "output_type": "stream",
          "name": "stdout",
          "text": [
            "Epoch 1/4: Training Loss = 0.5330, Validation Loss = 0.3882, Accuracy = 86.30%, F1 Score = 0.7996\n"
          ]
        },
        {
          "output_type": "stream",
          "name": "stderr",
          "text": []
        },
        {
          "output_type": "stream",
          "name": "stdout",
          "text": [
            "Epoch 2/4: Training Loss = 0.4766, Validation Loss = 0.4249, Accuracy = 86.30%, F1 Score = 0.7996\n"
          ]
        },
        {
          "output_type": "stream",
          "name": "stderr",
          "text": []
        },
        {
          "output_type": "stream",
          "name": "stdout",
          "text": [
            "Epoch 3/4: Training Loss = 0.3699, Validation Loss = 0.4684, Accuracy = 86.30%, F1 Score = 0.7996\n"
          ]
        },
        {
          "output_type": "stream",
          "name": "stderr",
          "text": []
        },
        {
          "output_type": "stream",
          "name": "stdout",
          "text": [
            "Epoch 4/4: Training Loss = 0.4367, Validation Loss = 0.3894, Accuracy = 86.30%, F1 Score = 0.7996\n",
            "Fold 3/5\n"
          ]
        },
        {
          "output_type": "stream",
          "name": "stderr",
          "text": [
            "/usr/local/lib/python3.10/dist-packages/transformers/optimization.py:591: FutureWarning: This implementation of AdamW is deprecated and will be removed in a future version. Use the PyTorch implementation torch.optim.AdamW instead, or set `no_deprecation_warning=True` to disable this warning\n",
            "  warnings.warn(\n"
          ]
        },
        {
          "output_type": "stream",
          "name": "stdout",
          "text": [
            "Epoch 1/4: Training Loss = 1.0175, Validation Loss = 0.5931, Accuracy = 86.30%, F1 Score = 0.7996\n"
          ]
        },
        {
          "output_type": "stream",
          "name": "stderr",
          "text": []
        },
        {
          "output_type": "stream",
          "name": "stdout",
          "text": [
            "Epoch 2/4: Training Loss = 0.4372, Validation Loss = 0.3882, Accuracy = 86.30%, F1 Score = 0.7996\n"
          ]
        },
        {
          "output_type": "stream",
          "name": "stderr",
          "text": []
        },
        {
          "output_type": "stream",
          "name": "stdout",
          "text": [
            "Epoch 3/4: Training Loss = 0.3966, Validation Loss = 0.3914, Accuracy = 86.30%, F1 Score = 0.7996\n"
          ]
        },
        {
          "output_type": "stream",
          "name": "stderr",
          "text": []
        },
        {
          "output_type": "stream",
          "name": "stdout",
          "text": [
            "Epoch 4/4: Training Loss = 0.4268, Validation Loss = 0.4072, Accuracy = 86.30%, F1 Score = 0.7996\n",
            "Fold 4/5\n"
          ]
        },
        {
          "output_type": "stream",
          "name": "stderr",
          "text": [
            "/usr/local/lib/python3.10/dist-packages/transformers/optimization.py:591: FutureWarning: This implementation of AdamW is deprecated and will be removed in a future version. Use the PyTorch implementation torch.optim.AdamW instead, or set `no_deprecation_warning=True` to disable this warning\n",
            "  warnings.warn(\n"
          ]
        },
        {
          "output_type": "stream",
          "name": "stdout",
          "text": [
            "Epoch 1/4: Training Loss = 0.6832, Validation Loss = 0.4287, Accuracy = 87.67%, F1 Score = 0.8191\n"
          ]
        },
        {
          "output_type": "stream",
          "name": "stderr",
          "text": []
        },
        {
          "output_type": "stream",
          "name": "stdout",
          "text": [
            "Epoch 2/4: Training Loss = 0.3878, Validation Loss = 0.4424, Accuracy = 87.67%, F1 Score = 0.8191\n"
          ]
        },
        {
          "output_type": "stream",
          "name": "stderr",
          "text": []
        },
        {
          "output_type": "stream",
          "name": "stdout",
          "text": [
            "Epoch 3/4: Training Loss = 0.4633, Validation Loss = 0.4567, Accuracy = 87.67%, F1 Score = 0.8191\n"
          ]
        },
        {
          "output_type": "stream",
          "name": "stderr",
          "text": []
        },
        {
          "output_type": "stream",
          "name": "stdout",
          "text": [
            "Epoch 4/4: Training Loss = 0.4027, Validation Loss = 0.4493, Accuracy = 87.67%, F1 Score = 0.8191\n",
            "Fold 5/5\n"
          ]
        },
        {
          "output_type": "stream",
          "name": "stderr",
          "text": [
            "/usr/local/lib/python3.10/dist-packages/transformers/optimization.py:591: FutureWarning: This implementation of AdamW is deprecated and will be removed in a future version. Use the PyTorch implementation torch.optim.AdamW instead, or set `no_deprecation_warning=True` to disable this warning\n",
            "  warnings.warn(\n"
          ]
        },
        {
          "output_type": "stream",
          "name": "stdout",
          "text": [
            "Epoch 1/4: Training Loss = 0.5313, Validation Loss = 0.7955, Accuracy = 86.30%, F1 Score = 0.7996\n"
          ]
        },
        {
          "output_type": "stream",
          "name": "stderr",
          "text": []
        },
        {
          "output_type": "stream",
          "name": "stdout",
          "text": [
            "Epoch 2/4: Training Loss = 0.5543, Validation Loss = 0.3894, Accuracy = 86.30%, F1 Score = 0.7996\n"
          ]
        },
        {
          "output_type": "stream",
          "name": "stderr",
          "text": []
        },
        {
          "output_type": "stream",
          "name": "stdout",
          "text": [
            "Epoch 3/4: Training Loss = 0.5448, Validation Loss = 0.3879, Accuracy = 86.30%, F1 Score = 0.7996\n"
          ]
        },
        {
          "output_type": "stream",
          "name": "stderr",
          "text": []
        },
        {
          "output_type": "stream",
          "name": "stdout",
          "text": [
            "Epoch 4/4: Training Loss = 0.4116, Validation Loss = 0.4495, Accuracy = 86.30%, F1 Score = 0.7996\n",
            "Evaluating params: {'batch_size': 32, 'd_model': 256, 'dropout': 0.1, 'lr': 0.001, 'nhead': 4}\n",
            "Fold 1/5\n"
          ]
        },
        {
          "output_type": "stream",
          "name": "stderr",
          "text": [
            "/usr/local/lib/python3.10/dist-packages/transformers/optimization.py:591: FutureWarning: This implementation of AdamW is deprecated and will be removed in a future version. Use the PyTorch implementation torch.optim.AdamW instead, or set `no_deprecation_warning=True` to disable this warning\n",
            "  warnings.warn(\n"
          ]
        },
        {
          "output_type": "stream",
          "name": "stdout",
          "text": [
            "Epoch 1/4: Training Loss = 1.0414, Validation Loss = 1.2832, Accuracy = 13.70%, F1 Score = 0.0330\n"
          ]
        },
        {
          "output_type": "stream",
          "name": "stderr",
          "text": []
        },
        {
          "output_type": "stream",
          "name": "stdout",
          "text": [
            "Epoch 2/4: Training Loss = 0.5192, Validation Loss = 0.3900, Accuracy = 86.30%, F1 Score = 0.7996\n"
          ]
        },
        {
          "output_type": "stream",
          "name": "stderr",
          "text": []
        },
        {
          "output_type": "stream",
          "name": "stdout",
          "text": [
            "Epoch 3/4: Training Loss = 0.3785, Validation Loss = 0.3956, Accuracy = 86.30%, F1 Score = 0.7996\n"
          ]
        },
        {
          "output_type": "stream",
          "name": "stderr",
          "text": []
        },
        {
          "output_type": "stream",
          "name": "stdout",
          "text": [
            "Epoch 4/4: Training Loss = 0.3864, Validation Loss = 0.3900, Accuracy = 86.30%, F1 Score = 0.7996\n",
            "Fold 2/5\n"
          ]
        },
        {
          "output_type": "stream",
          "name": "stderr",
          "text": [
            "/usr/local/lib/python3.10/dist-packages/transformers/optimization.py:591: FutureWarning: This implementation of AdamW is deprecated and will be removed in a future version. Use the PyTorch implementation torch.optim.AdamW instead, or set `no_deprecation_warning=True` to disable this warning\n",
            "  warnings.warn(\n"
          ]
        },
        {
          "output_type": "stream",
          "name": "stdout",
          "text": [
            "Epoch 1/4: Training Loss = 0.9705, Validation Loss = 0.4837, Accuracy = 86.30%, F1 Score = 0.7996\n"
          ]
        },
        {
          "output_type": "stream",
          "name": "stderr",
          "text": []
        },
        {
          "output_type": "stream",
          "name": "stdout",
          "text": [
            "Epoch 2/4: Training Loss = 0.4089, Validation Loss = 0.3894, Accuracy = 86.30%, F1 Score = 0.7996\n"
          ]
        },
        {
          "output_type": "stream",
          "name": "stderr",
          "text": []
        },
        {
          "output_type": "stream",
          "name": "stdout",
          "text": [
            "Epoch 3/4: Training Loss = 0.3837, Validation Loss = 0.3919, Accuracy = 86.30%, F1 Score = 0.7996\n"
          ]
        },
        {
          "output_type": "stream",
          "name": "stderr",
          "text": []
        },
        {
          "output_type": "stream",
          "name": "stdout",
          "text": [
            "Epoch 4/4: Training Loss = 0.3806, Validation Loss = 0.3937, Accuracy = 86.30%, F1 Score = 0.7996\n",
            "Fold 3/5\n"
          ]
        },
        {
          "output_type": "stream",
          "name": "stderr",
          "text": [
            "/usr/local/lib/python3.10/dist-packages/transformers/optimization.py:591: FutureWarning: This implementation of AdamW is deprecated and will be removed in a future version. Use the PyTorch implementation torch.optim.AdamW instead, or set `no_deprecation_warning=True` to disable this warning\n",
            "  warnings.warn(\n"
          ]
        },
        {
          "output_type": "stream",
          "name": "stdout",
          "text": [
            "Epoch 1/4: Training Loss = 0.7727, Validation Loss = 0.4552, Accuracy = 86.30%, F1 Score = 0.7996\n"
          ]
        },
        {
          "output_type": "stream",
          "name": "stderr",
          "text": []
        },
        {
          "output_type": "stream",
          "name": "stdout",
          "text": [
            "Epoch 2/4: Training Loss = 0.4450, Validation Loss = 0.3888, Accuracy = 86.30%, F1 Score = 0.7996\n"
          ]
        },
        {
          "output_type": "stream",
          "name": "stderr",
          "text": []
        },
        {
          "output_type": "stream",
          "name": "stdout",
          "text": [
            "Epoch 3/4: Training Loss = 0.3741, Validation Loss = 0.4133, Accuracy = 84.93%, F1 Score = 0.7927\n"
          ]
        },
        {
          "output_type": "stream",
          "name": "stderr",
          "text": []
        },
        {
          "output_type": "stream",
          "name": "stdout",
          "text": [
            "Epoch 4/4: Training Loss = 0.3869, Validation Loss = 0.3930, Accuracy = 86.30%, F1 Score = 0.7996\n",
            "Fold 4/5\n"
          ]
        },
        {
          "output_type": "stream",
          "name": "stderr",
          "text": [
            "/usr/local/lib/python3.10/dist-packages/transformers/optimization.py:591: FutureWarning: This implementation of AdamW is deprecated and will be removed in a future version. Use the PyTorch implementation torch.optim.AdamW instead, or set `no_deprecation_warning=True` to disable this warning\n",
            "  warnings.warn(\n"
          ]
        },
        {
          "output_type": "stream",
          "name": "stdout",
          "text": [
            "Epoch 1/4: Training Loss = 0.5037, Validation Loss = 1.0216, Accuracy = 87.67%, F1 Score = 0.8191\n"
          ]
        },
        {
          "output_type": "stream",
          "name": "stderr",
          "text": []
        },
        {
          "output_type": "stream",
          "name": "stdout",
          "text": [
            "Epoch 2/4: Training Loss = 0.5344, Validation Loss = 0.4179, Accuracy = 87.67%, F1 Score = 0.8191\n"
          ]
        },
        {
          "output_type": "stream",
          "name": "stderr",
          "text": []
        },
        {
          "output_type": "stream",
          "name": "stdout",
          "text": [
            "Epoch 3/4: Training Loss = 0.3914, Validation Loss = 0.4317, Accuracy = 87.67%, F1 Score = 0.8191\n"
          ]
        },
        {
          "output_type": "stream",
          "name": "stderr",
          "text": []
        },
        {
          "output_type": "stream",
          "name": "stdout",
          "text": [
            "Epoch 4/4: Training Loss = 0.4569, Validation Loss = 0.4813, Accuracy = 87.67%, F1 Score = 0.8191\n",
            "Fold 5/5\n"
          ]
        },
        {
          "output_type": "stream",
          "name": "stderr",
          "text": [
            "/usr/local/lib/python3.10/dist-packages/transformers/optimization.py:591: FutureWarning: This implementation of AdamW is deprecated and will be removed in a future version. Use the PyTorch implementation torch.optim.AdamW instead, or set `no_deprecation_warning=True` to disable this warning\n",
            "  warnings.warn(\n"
          ]
        },
        {
          "output_type": "stream",
          "name": "stdout",
          "text": [
            "Epoch 1/4: Training Loss = 1.0374, Validation Loss = 0.4545, Accuracy = 86.30%, F1 Score = 0.7996\n"
          ]
        },
        {
          "output_type": "stream",
          "name": "stderr",
          "text": []
        },
        {
          "output_type": "stream",
          "name": "stdout",
          "text": [
            "Epoch 2/4: Training Loss = 0.4116, Validation Loss = 0.4694, Accuracy = 86.30%, F1 Score = 0.7996\n"
          ]
        },
        {
          "output_type": "stream",
          "name": "stderr",
          "text": []
        },
        {
          "output_type": "stream",
          "name": "stdout",
          "text": [
            "Epoch 3/4: Training Loss = 0.3952, Validation Loss = 0.4151, Accuracy = 86.30%, F1 Score = 0.7996\n"
          ]
        },
        {
          "output_type": "stream",
          "name": "stderr",
          "text": []
        },
        {
          "output_type": "stream",
          "name": "stdout",
          "text": [
            "Epoch 4/4: Training Loss = 0.3888, Validation Loss = 0.3922, Accuracy = 86.30%, F1 Score = 0.7996\n",
            "Evaluating params: {'batch_size': 32, 'd_model': 256, 'dropout': 0.1, 'lr': 0.001, 'nhead': 8}\n",
            "Fold 1/5\n"
          ]
        },
        {
          "output_type": "stream",
          "name": "stderr",
          "text": [
            "/usr/local/lib/python3.10/dist-packages/transformers/optimization.py:591: FutureWarning: This implementation of AdamW is deprecated and will be removed in a future version. Use the PyTorch implementation torch.optim.AdamW instead, or set `no_deprecation_warning=True` to disable this warning\n",
            "  warnings.warn(\n"
          ]
        },
        {
          "output_type": "stream",
          "name": "stdout",
          "text": [
            "Epoch 1/4: Training Loss = 0.7138, Validation Loss = 0.3879, Accuracy = 86.30%, F1 Score = 0.7996\n"
          ]
        },
        {
          "output_type": "stream",
          "name": "stderr",
          "text": []
        },
        {
          "output_type": "stream",
          "name": "stdout",
          "text": [
            "Epoch 2/4: Training Loss = 0.4598, Validation Loss = 0.3881, Accuracy = 86.30%, F1 Score = 0.7996\n"
          ]
        },
        {
          "output_type": "stream",
          "name": "stderr",
          "text": []
        },
        {
          "output_type": "stream",
          "name": "stdout",
          "text": [
            "Epoch 3/4: Training Loss = 0.4456, Validation Loss = 0.4146, Accuracy = 86.30%, F1 Score = 0.7996\n"
          ]
        },
        {
          "output_type": "stream",
          "name": "stderr",
          "text": []
        },
        {
          "output_type": "stream",
          "name": "stdout",
          "text": [
            "Epoch 4/4: Training Loss = 0.3897, Validation Loss = 0.4163, Accuracy = 86.30%, F1 Score = 0.7996\n",
            "Fold 2/5\n"
          ]
        },
        {
          "output_type": "stream",
          "name": "stderr",
          "text": [
            "/usr/local/lib/python3.10/dist-packages/transformers/optimization.py:591: FutureWarning: This implementation of AdamW is deprecated and will be removed in a future version. Use the PyTorch implementation torch.optim.AdamW instead, or set `no_deprecation_warning=True` to disable this warning\n",
            "  warnings.warn(\n"
          ]
        },
        {
          "output_type": "stream",
          "name": "stdout",
          "text": [
            "Epoch 1/4: Training Loss = 0.5185, Validation Loss = 0.5562, Accuracy = 86.30%, F1 Score = 0.7996\n"
          ]
        },
        {
          "output_type": "stream",
          "name": "stderr",
          "text": []
        },
        {
          "output_type": "stream",
          "name": "stdout",
          "text": [
            "Epoch 2/4: Training Loss = 0.5699, Validation Loss = 0.5638, Accuracy = 86.30%, F1 Score = 0.7996\n"
          ]
        },
        {
          "output_type": "stream",
          "name": "stderr",
          "text": []
        },
        {
          "output_type": "stream",
          "name": "stdout",
          "text": [
            "Epoch 3/4: Training Loss = 0.4567, Validation Loss = 0.4415, Accuracy = 86.30%, F1 Score = 0.7996\n"
          ]
        },
        {
          "output_type": "stream",
          "name": "stderr",
          "text": []
        },
        {
          "output_type": "stream",
          "name": "stdout",
          "text": [
            "Epoch 4/4: Training Loss = 0.4677, Validation Loss = 0.4346, Accuracy = 86.30%, F1 Score = 0.7996\n",
            "Fold 3/5\n"
          ]
        },
        {
          "output_type": "stream",
          "name": "stderr",
          "text": [
            "/usr/local/lib/python3.10/dist-packages/transformers/optimization.py:591: FutureWarning: This implementation of AdamW is deprecated and will be removed in a future version. Use the PyTorch implementation torch.optim.AdamW instead, or set `no_deprecation_warning=True` to disable this warning\n",
            "  warnings.warn(\n"
          ]
        },
        {
          "output_type": "stream",
          "name": "stdout",
          "text": [
            "Epoch 1/4: Training Loss = 0.5829, Validation Loss = 0.4173, Accuracy = 86.30%, F1 Score = 0.7996\n"
          ]
        },
        {
          "output_type": "stream",
          "name": "stderr",
          "text": []
        },
        {
          "output_type": "stream",
          "name": "stdout",
          "text": [
            "Epoch 2/4: Training Loss = 0.4650, Validation Loss = 0.4896, Accuracy = 86.30%, F1 Score = 0.7996\n"
          ]
        },
        {
          "output_type": "stream",
          "name": "stderr",
          "text": []
        },
        {
          "output_type": "stream",
          "name": "stdout",
          "text": [
            "Epoch 3/4: Training Loss = 0.4062, Validation Loss = 0.4180, Accuracy = 86.30%, F1 Score = 0.7996\n"
          ]
        },
        {
          "output_type": "stream",
          "name": "stderr",
          "text": []
        },
        {
          "output_type": "stream",
          "name": "stdout",
          "text": [
            "Epoch 4/4: Training Loss = 0.3965, Validation Loss = 0.3880, Accuracy = 86.30%, F1 Score = 0.7996\n",
            "Fold 4/5\n"
          ]
        },
        {
          "output_type": "stream",
          "name": "stderr",
          "text": [
            "/usr/local/lib/python3.10/dist-packages/transformers/optimization.py:591: FutureWarning: This implementation of AdamW is deprecated and will be removed in a future version. Use the PyTorch implementation torch.optim.AdamW instead, or set `no_deprecation_warning=True` to disable this warning\n",
            "  warnings.warn(\n"
          ]
        },
        {
          "output_type": "stream",
          "name": "stdout",
          "text": [
            "Epoch 1/4: Training Loss = 1.1375, Validation Loss = 0.5081, Accuracy = 87.67%, F1 Score = 0.8191\n"
          ]
        },
        {
          "output_type": "stream",
          "name": "stderr",
          "text": []
        },
        {
          "output_type": "stream",
          "name": "stdout",
          "text": [
            "Epoch 2/4: Training Loss = 0.4400, Validation Loss = 0.5071, Accuracy = 87.67%, F1 Score = 0.8191\n"
          ]
        },
        {
          "output_type": "stream",
          "name": "stderr",
          "text": []
        },
        {
          "output_type": "stream",
          "name": "stdout",
          "text": [
            "Epoch 3/4: Training Loss = 0.4543, Validation Loss = 0.4189, Accuracy = 87.67%, F1 Score = 0.8191\n"
          ]
        },
        {
          "output_type": "stream",
          "name": "stderr",
          "text": []
        },
        {
          "output_type": "stream",
          "name": "stdout",
          "text": [
            "Epoch 4/4: Training Loss = 0.3926, Validation Loss = 0.4201, Accuracy = 87.67%, F1 Score = 0.8191\n",
            "Fold 5/5\n"
          ]
        },
        {
          "output_type": "stream",
          "name": "stderr",
          "text": [
            "/usr/local/lib/python3.10/dist-packages/transformers/optimization.py:591: FutureWarning: This implementation of AdamW is deprecated and will be removed in a future version. Use the PyTorch implementation torch.optim.AdamW instead, or set `no_deprecation_warning=True` to disable this warning\n",
            "  warnings.warn(\n"
          ]
        },
        {
          "output_type": "stream",
          "name": "stdout",
          "text": [
            "Epoch 1/4: Training Loss = 0.5915, Validation Loss = 0.3878, Accuracy = 86.30%, F1 Score = 0.7996\n"
          ]
        },
        {
          "output_type": "stream",
          "name": "stderr",
          "text": []
        },
        {
          "output_type": "stream",
          "name": "stdout",
          "text": [
            "Epoch 2/4: Training Loss = 0.4476, Validation Loss = 0.4855, Accuracy = 86.30%, F1 Score = 0.7996\n"
          ]
        },
        {
          "output_type": "stream",
          "name": "stderr",
          "text": []
        },
        {
          "output_type": "stream",
          "name": "stdout",
          "text": [
            "Epoch 3/4: Training Loss = 0.4155, Validation Loss = 0.4148, Accuracy = 86.30%, F1 Score = 0.7996\n"
          ]
        },
        {
          "output_type": "stream",
          "name": "stderr",
          "text": []
        },
        {
          "output_type": "stream",
          "name": "stdout",
          "text": [
            "Epoch 4/4: Training Loss = 0.4369, Validation Loss = 0.3900, Accuracy = 86.30%, F1 Score = 0.7996\n",
            "Evaluating params: {'batch_size': 32, 'd_model': 256, 'dropout': 0.1, 'lr': 0.001, 'nhead': 16}\n",
            "Fold 1/5\n"
          ]
        },
        {
          "output_type": "stream",
          "name": "stderr",
          "text": [
            "/usr/local/lib/python3.10/dist-packages/transformers/optimization.py:591: FutureWarning: This implementation of AdamW is deprecated and will be removed in a future version. Use the PyTorch implementation torch.optim.AdamW instead, or set `no_deprecation_warning=True` to disable this warning\n",
            "  warnings.warn(\n"
          ]
        },
        {
          "output_type": "stream",
          "name": "stdout",
          "text": [
            "Epoch 1/4: Training Loss = 0.5380, Validation Loss = 0.4246, Accuracy = 86.30%, F1 Score = 0.7996\n"
          ]
        },
        {
          "output_type": "stream",
          "name": "stderr",
          "text": []
        },
        {
          "output_type": "stream",
          "name": "stdout",
          "text": [
            "Epoch 2/4: Training Loss = 0.3936, Validation Loss = 0.3919, Accuracy = 86.30%, F1 Score = 0.7996\n"
          ]
        },
        {
          "output_type": "stream",
          "name": "stderr",
          "text": []
        },
        {
          "output_type": "stream",
          "name": "stdout",
          "text": [
            "Epoch 3/4: Training Loss = 0.3978, Validation Loss = 0.3960, Accuracy = 86.30%, F1 Score = 0.7996\n"
          ]
        },
        {
          "output_type": "stream",
          "name": "stderr",
          "text": []
        },
        {
          "output_type": "stream",
          "name": "stdout",
          "text": [
            "Epoch 4/4: Training Loss = 0.3932, Validation Loss = 0.3906, Accuracy = 86.30%, F1 Score = 0.7996\n",
            "Fold 2/5\n"
          ]
        },
        {
          "output_type": "stream",
          "name": "stderr",
          "text": [
            "/usr/local/lib/python3.10/dist-packages/transformers/optimization.py:591: FutureWarning: This implementation of AdamW is deprecated and will be removed in a future version. Use the PyTorch implementation torch.optim.AdamW instead, or set `no_deprecation_warning=True` to disable this warning\n",
            "  warnings.warn(\n"
          ]
        },
        {
          "output_type": "stream",
          "name": "stdout",
          "text": [
            "Epoch 1/4: Training Loss = 0.6454, Validation Loss = 0.5213, Accuracy = 86.30%, F1 Score = 0.7996\n"
          ]
        },
        {
          "output_type": "stream",
          "name": "stderr",
          "text": []
        },
        {
          "output_type": "stream",
          "name": "stdout",
          "text": [
            "Epoch 2/4: Training Loss = 0.4258, Validation Loss = 0.4034, Accuracy = 86.30%, F1 Score = 0.7996\n"
          ]
        },
        {
          "output_type": "stream",
          "name": "stderr",
          "text": []
        },
        {
          "output_type": "stream",
          "name": "stdout",
          "text": [
            "Epoch 3/4: Training Loss = 0.4346, Validation Loss = 0.3983, Accuracy = 86.30%, F1 Score = 0.7996\n"
          ]
        },
        {
          "output_type": "stream",
          "name": "stderr",
          "text": []
        },
        {
          "output_type": "stream",
          "name": "stdout",
          "text": [
            "Epoch 4/4: Training Loss = 0.4600, Validation Loss = 0.4113, Accuracy = 86.30%, F1 Score = 0.7996\n",
            "Fold 3/5\n"
          ]
        },
        {
          "output_type": "stream",
          "name": "stderr",
          "text": [
            "/usr/local/lib/python3.10/dist-packages/transformers/optimization.py:591: FutureWarning: This implementation of AdamW is deprecated and will be removed in a future version. Use the PyTorch implementation torch.optim.AdamW instead, or set `no_deprecation_warning=True` to disable this warning\n",
            "  warnings.warn(\n"
          ]
        },
        {
          "output_type": "stream",
          "name": "stdout",
          "text": [
            "Epoch 1/4: Training Loss = 0.5134, Validation Loss = 0.3966, Accuracy = 86.30%, F1 Score = 0.7996\n"
          ]
        },
        {
          "output_type": "stream",
          "name": "stderr",
          "text": []
        },
        {
          "output_type": "stream",
          "name": "stdout",
          "text": [
            "Epoch 2/4: Training Loss = 0.4332, Validation Loss = 0.4183, Accuracy = 86.30%, F1 Score = 0.7996\n"
          ]
        },
        {
          "output_type": "stream",
          "name": "stderr",
          "text": []
        },
        {
          "output_type": "stream",
          "name": "stdout",
          "text": [
            "Epoch 3/4: Training Loss = 0.4719, Validation Loss = 0.4217, Accuracy = 86.30%, F1 Score = 0.7996\n"
          ]
        },
        {
          "output_type": "stream",
          "name": "stderr",
          "text": []
        },
        {
          "output_type": "stream",
          "name": "stdout",
          "text": [
            "Epoch 4/4: Training Loss = 0.3906, Validation Loss = 0.3883, Accuracy = 86.30%, F1 Score = 0.7996\n",
            "Fold 4/5\n"
          ]
        },
        {
          "output_type": "stream",
          "name": "stderr",
          "text": [
            "/usr/local/lib/python3.10/dist-packages/transformers/optimization.py:591: FutureWarning: This implementation of AdamW is deprecated and will be removed in a future version. Use the PyTorch implementation torch.optim.AdamW instead, or set `no_deprecation_warning=True` to disable this warning\n",
            "  warnings.warn(\n"
          ]
        },
        {
          "output_type": "stream",
          "name": "stdout",
          "text": [
            "Epoch 1/4: Training Loss = 0.6727, Validation Loss = 0.5398, Accuracy = 87.67%, F1 Score = 0.8191\n"
          ]
        },
        {
          "output_type": "stream",
          "name": "stderr",
          "text": []
        },
        {
          "output_type": "stream",
          "name": "stdout",
          "text": [
            "Epoch 2/4: Training Loss = 0.4515, Validation Loss = 0.4452, Accuracy = 87.67%, F1 Score = 0.8191\n"
          ]
        },
        {
          "output_type": "stream",
          "name": "stderr",
          "text": []
        },
        {
          "output_type": "stream",
          "name": "stdout",
          "text": [
            "Epoch 3/4: Training Loss = 0.4618, Validation Loss = 0.4266, Accuracy = 87.67%, F1 Score = 0.8191\n"
          ]
        },
        {
          "output_type": "stream",
          "name": "stderr",
          "text": []
        },
        {
          "output_type": "stream",
          "name": "stdout",
          "text": [
            "Epoch 4/4: Training Loss = 0.4037, Validation Loss = 0.5010, Accuracy = 87.67%, F1 Score = 0.8191\n",
            "Fold 5/5\n"
          ]
        },
        {
          "output_type": "stream",
          "name": "stderr",
          "text": [
            "/usr/local/lib/python3.10/dist-packages/transformers/optimization.py:591: FutureWarning: This implementation of AdamW is deprecated and will be removed in a future version. Use the PyTorch implementation torch.optim.AdamW instead, or set `no_deprecation_warning=True` to disable this warning\n",
            "  warnings.warn(\n"
          ]
        },
        {
          "output_type": "stream",
          "name": "stdout",
          "text": [
            "Epoch 1/4: Training Loss = 0.7916, Validation Loss = 0.4379, Accuracy = 86.30%, F1 Score = 0.7996\n"
          ]
        },
        {
          "output_type": "stream",
          "name": "stderr",
          "text": []
        },
        {
          "output_type": "stream",
          "name": "stdout",
          "text": [
            "Epoch 2/4: Training Loss = 0.4527, Validation Loss = 0.3910, Accuracy = 86.30%, F1 Score = 0.7996\n"
          ]
        },
        {
          "output_type": "stream",
          "name": "stderr",
          "text": []
        },
        {
          "output_type": "stream",
          "name": "stdout",
          "text": [
            "Epoch 3/4: Training Loss = 0.3804, Validation Loss = 0.3923, Accuracy = 86.30%, F1 Score = 0.7996\n"
          ]
        },
        {
          "output_type": "stream",
          "name": "stderr",
          "text": []
        },
        {
          "output_type": "stream",
          "name": "stdout",
          "text": [
            "Epoch 4/4: Training Loss = 0.4364, Validation Loss = 0.3879, Accuracy = 86.30%, F1 Score = 0.7996\n",
            "Evaluating params: {'batch_size': 32, 'd_model': 512, 'dropout': 0.1, 'lr': 0.001, 'nhead': 4}\n",
            "Fold 1/5\n"
          ]
        },
        {
          "output_type": "stream",
          "name": "stderr",
          "text": [
            "/usr/local/lib/python3.10/dist-packages/transformers/optimization.py:591: FutureWarning: This implementation of AdamW is deprecated and will be removed in a future version. Use the PyTorch implementation torch.optim.AdamW instead, or set `no_deprecation_warning=True` to disable this warning\n",
            "  warnings.warn(\n"
          ]
        },
        {
          "output_type": "stream",
          "name": "stdout",
          "text": [
            "Epoch 1/4: Training Loss = 0.6318, Validation Loss = 0.3962, Accuracy = 86.30%, F1 Score = 0.7996\n"
          ]
        },
        {
          "output_type": "stream",
          "name": "stderr",
          "text": []
        },
        {
          "output_type": "stream",
          "name": "stdout",
          "text": [
            "Epoch 2/4: Training Loss = 0.8176, Validation Loss = 0.3894, Accuracy = 86.30%, F1 Score = 0.7996\n"
          ]
        },
        {
          "output_type": "stream",
          "name": "stderr",
          "text": []
        },
        {
          "output_type": "stream",
          "name": "stdout",
          "text": [
            "Epoch 3/4: Training Loss = 0.4494, Validation Loss = 0.5220, Accuracy = 86.30%, F1 Score = 0.7996\n"
          ]
        },
        {
          "output_type": "stream",
          "name": "stderr",
          "text": []
        },
        {
          "output_type": "stream",
          "name": "stdout",
          "text": [
            "Epoch 4/4: Training Loss = 0.4946, Validation Loss = 0.3946, Accuracy = 86.30%, F1 Score = 0.7996\n",
            "Fold 2/5\n"
          ]
        },
        {
          "output_type": "stream",
          "name": "stderr",
          "text": [
            "/usr/local/lib/python3.10/dist-packages/transformers/optimization.py:591: FutureWarning: This implementation of AdamW is deprecated and will be removed in a future version. Use the PyTorch implementation torch.optim.AdamW instead, or set `no_deprecation_warning=True` to disable this warning\n",
            "  warnings.warn(\n"
          ]
        },
        {
          "output_type": "stream",
          "name": "stdout",
          "text": [
            "Epoch 1/4: Training Loss = 0.4366, Validation Loss = 0.4391, Accuracy = 86.30%, F1 Score = 0.7996\n"
          ]
        },
        {
          "output_type": "stream",
          "name": "stderr",
          "text": []
        },
        {
          "output_type": "stream",
          "name": "stdout",
          "text": [
            "Epoch 2/4: Training Loss = 0.4290, Validation Loss = 0.3954, Accuracy = 86.30%, F1 Score = 0.7996\n"
          ]
        },
        {
          "output_type": "stream",
          "name": "stderr",
          "text": []
        },
        {
          "output_type": "stream",
          "name": "stdout",
          "text": [
            "Epoch 3/4: Training Loss = 0.4581, Validation Loss = 0.4026, Accuracy = 86.30%, F1 Score = 0.7996\n"
          ]
        },
        {
          "output_type": "stream",
          "name": "stderr",
          "text": []
        },
        {
          "output_type": "stream",
          "name": "stdout",
          "text": [
            "Epoch 4/4: Training Loss = 0.3800, Validation Loss = 1.8460, Accuracy = 13.70%, F1 Score = 0.0330\n",
            "Fold 3/5\n"
          ]
        },
        {
          "output_type": "stream",
          "name": "stderr",
          "text": [
            "/usr/local/lib/python3.10/dist-packages/transformers/optimization.py:591: FutureWarning: This implementation of AdamW is deprecated and will be removed in a future version. Use the PyTorch implementation torch.optim.AdamW instead, or set `no_deprecation_warning=True` to disable this warning\n",
            "  warnings.warn(\n"
          ]
        },
        {
          "output_type": "stream",
          "name": "stdout",
          "text": [
            "Epoch 1/4: Training Loss = 0.5869, Validation Loss = 0.4282, Accuracy = 86.30%, F1 Score = 0.7996\n"
          ]
        },
        {
          "output_type": "stream",
          "name": "stderr",
          "text": []
        },
        {
          "output_type": "stream",
          "name": "stdout",
          "text": [
            "Epoch 2/4: Training Loss = 0.4700, Validation Loss = 0.4318, Accuracy = 86.30%, F1 Score = 0.7996\n"
          ]
        },
        {
          "output_type": "stream",
          "name": "stderr",
          "text": []
        },
        {
          "output_type": "stream",
          "name": "stdout",
          "text": [
            "Epoch 3/4: Training Loss = 0.4008, Validation Loss = 0.4755, Accuracy = 86.30%, F1 Score = 0.7996\n"
          ]
        },
        {
          "output_type": "stream",
          "name": "stderr",
          "text": []
        },
        {
          "output_type": "stream",
          "name": "stdout",
          "text": [
            "Epoch 4/4: Training Loss = 0.4570, Validation Loss = 0.4182, Accuracy = 86.30%, F1 Score = 0.7996\n",
            "Fold 4/5\n"
          ]
        },
        {
          "output_type": "stream",
          "name": "stderr",
          "text": [
            "/usr/local/lib/python3.10/dist-packages/transformers/optimization.py:591: FutureWarning: This implementation of AdamW is deprecated and will be removed in a future version. Use the PyTorch implementation torch.optim.AdamW instead, or set `no_deprecation_warning=True` to disable this warning\n",
            "  warnings.warn(\n"
          ]
        },
        {
          "output_type": "stream",
          "name": "stdout",
          "text": [
            "Epoch 1/4: Training Loss = 0.7244, Validation Loss = 0.7596, Accuracy = 87.67%, F1 Score = 0.8191\n"
          ]
        },
        {
          "output_type": "stream",
          "name": "stderr",
          "text": []
        },
        {
          "output_type": "stream",
          "name": "stdout",
          "text": [
            "Epoch 2/4: Training Loss = 0.5005, Validation Loss = 0.4985, Accuracy = 87.67%, F1 Score = 0.8191\n"
          ]
        },
        {
          "output_type": "stream",
          "name": "stderr",
          "text": []
        },
        {
          "output_type": "stream",
          "name": "stdout",
          "text": [
            "Epoch 3/4: Training Loss = 0.4021, Validation Loss = 0.4371, Accuracy = 87.67%, F1 Score = 0.8191\n"
          ]
        },
        {
          "output_type": "stream",
          "name": "stderr",
          "text": []
        },
        {
          "output_type": "stream",
          "name": "stdout",
          "text": [
            "Epoch 4/4: Training Loss = 0.4183, Validation Loss = 0.4249, Accuracy = 87.67%, F1 Score = 0.8191\n",
            "Fold 5/5\n"
          ]
        },
        {
          "output_type": "stream",
          "name": "stderr",
          "text": [
            "/usr/local/lib/python3.10/dist-packages/transformers/optimization.py:591: FutureWarning: This implementation of AdamW is deprecated and will be removed in a future version. Use the PyTorch implementation torch.optim.AdamW instead, or set `no_deprecation_warning=True` to disable this warning\n",
            "  warnings.warn(\n"
          ]
        },
        {
          "output_type": "stream",
          "name": "stdout",
          "text": [
            "Epoch 1/4: Training Loss = 0.5046, Validation Loss = 2.0569, Accuracy = 13.70%, F1 Score = 0.0330\n"
          ]
        },
        {
          "output_type": "stream",
          "name": "stderr",
          "text": []
        },
        {
          "output_type": "stream",
          "name": "stdout",
          "text": [
            "Epoch 2/4: Training Loss = 0.5936, Validation Loss = 0.4055, Accuracy = 86.30%, F1 Score = 0.7996\n"
          ]
        },
        {
          "output_type": "stream",
          "name": "stderr",
          "text": []
        },
        {
          "output_type": "stream",
          "name": "stdout",
          "text": [
            "Epoch 3/4: Training Loss = 0.4622, Validation Loss = 0.4228, Accuracy = 86.30%, F1 Score = 0.7996\n"
          ]
        },
        {
          "output_type": "stream",
          "name": "stderr",
          "text": []
        },
        {
          "output_type": "stream",
          "name": "stdout",
          "text": [
            "Epoch 4/4: Training Loss = 0.4288, Validation Loss = 0.3902, Accuracy = 86.30%, F1 Score = 0.7996\n",
            "Evaluating params: {'batch_size': 32, 'd_model': 512, 'dropout': 0.1, 'lr': 0.001, 'nhead': 8}\n",
            "Fold 1/5\n"
          ]
        },
        {
          "output_type": "stream",
          "name": "stderr",
          "text": [
            "/usr/local/lib/python3.10/dist-packages/transformers/optimization.py:591: FutureWarning: This implementation of AdamW is deprecated and will be removed in a future version. Use the PyTorch implementation torch.optim.AdamW instead, or set `no_deprecation_warning=True` to disable this warning\n",
            "  warnings.warn(\n"
          ]
        },
        {
          "output_type": "stream",
          "name": "stdout",
          "text": [
            "Epoch 1/4: Training Loss = 0.7200, Validation Loss = 0.4974, Accuracy = 86.30%, F1 Score = 0.7996\n"
          ]
        },
        {
          "output_type": "stream",
          "name": "stderr",
          "text": []
        },
        {
          "output_type": "stream",
          "name": "stdout",
          "text": [
            "Epoch 2/4: Training Loss = 0.4343, Validation Loss = 0.4051, Accuracy = 86.30%, F1 Score = 0.7996\n"
          ]
        },
        {
          "output_type": "stream",
          "name": "stderr",
          "text": []
        },
        {
          "output_type": "stream",
          "name": "stdout",
          "text": [
            "Epoch 3/4: Training Loss = 0.3817, Validation Loss = 0.3881, Accuracy = 86.30%, F1 Score = 0.7996\n"
          ]
        },
        {
          "output_type": "stream",
          "name": "stderr",
          "text": []
        },
        {
          "output_type": "stream",
          "name": "stdout",
          "text": [
            "Epoch 4/4: Training Loss = 0.3698, Validation Loss = 0.3885, Accuracy = 86.30%, F1 Score = 0.7996\n",
            "Fold 2/5\n"
          ]
        },
        {
          "output_type": "stream",
          "name": "stderr",
          "text": [
            "/usr/local/lib/python3.10/dist-packages/transformers/optimization.py:591: FutureWarning: This implementation of AdamW is deprecated and will be removed in a future version. Use the PyTorch implementation torch.optim.AdamW instead, or set `no_deprecation_warning=True` to disable this warning\n",
            "  warnings.warn(\n"
          ]
        },
        {
          "output_type": "stream",
          "name": "stdout",
          "text": [
            "Epoch 1/4: Training Loss = 1.0018, Validation Loss = 0.4319, Accuracy = 86.30%, F1 Score = 0.7996\n"
          ]
        },
        {
          "output_type": "stream",
          "name": "stderr",
          "text": []
        },
        {
          "output_type": "stream",
          "name": "stdout",
          "text": [
            "Epoch 2/4: Training Loss = 0.4221, Validation Loss = 0.3891, Accuracy = 86.30%, F1 Score = 0.7996\n"
          ]
        },
        {
          "output_type": "stream",
          "name": "stderr",
          "text": []
        },
        {
          "output_type": "stream",
          "name": "stdout",
          "text": [
            "Epoch 3/4: Training Loss = 0.4330, Validation Loss = 0.3886, Accuracy = 86.30%, F1 Score = 0.7996\n"
          ]
        },
        {
          "output_type": "stream",
          "name": "stderr",
          "text": []
        },
        {
          "output_type": "stream",
          "name": "stdout",
          "text": [
            "Epoch 4/4: Training Loss = 0.3863, Validation Loss = 0.4546, Accuracy = 86.30%, F1 Score = 0.7996\n",
            "Fold 3/5\n"
          ]
        },
        {
          "output_type": "stream",
          "name": "stderr",
          "text": [
            "/usr/local/lib/python3.10/dist-packages/transformers/optimization.py:591: FutureWarning: This implementation of AdamW is deprecated and will be removed in a future version. Use the PyTorch implementation torch.optim.AdamW instead, or set `no_deprecation_warning=True` to disable this warning\n",
            "  warnings.warn(\n"
          ]
        },
        {
          "output_type": "stream",
          "name": "stdout",
          "text": [
            "Epoch 1/4: Training Loss = 0.5019, Validation Loss = 0.4502, Accuracy = 86.30%, F1 Score = 0.7996\n"
          ]
        },
        {
          "output_type": "stream",
          "name": "stderr",
          "text": []
        },
        {
          "output_type": "stream",
          "name": "stdout",
          "text": [
            "Epoch 2/4: Training Loss = 0.4308, Validation Loss = 0.3966, Accuracy = 86.30%, F1 Score = 0.7996\n"
          ]
        },
        {
          "output_type": "stream",
          "name": "stderr",
          "text": []
        },
        {
          "output_type": "stream",
          "name": "stdout",
          "text": [
            "Epoch 3/4: Training Loss = 0.4251, Validation Loss = 0.4293, Accuracy = 86.30%, F1 Score = 0.7996\n"
          ]
        },
        {
          "output_type": "stream",
          "name": "stderr",
          "text": []
        },
        {
          "output_type": "stream",
          "name": "stdout",
          "text": [
            "Epoch 4/4: Training Loss = 0.4448, Validation Loss = 0.4040, Accuracy = 86.30%, F1 Score = 0.7996\n",
            "Fold 4/5\n"
          ]
        },
        {
          "output_type": "stream",
          "name": "stderr",
          "text": [
            "/usr/local/lib/python3.10/dist-packages/transformers/optimization.py:591: FutureWarning: This implementation of AdamW is deprecated and will be removed in a future version. Use the PyTorch implementation torch.optim.AdamW instead, or set `no_deprecation_warning=True` to disable this warning\n",
            "  warnings.warn(\n"
          ]
        },
        {
          "output_type": "stream",
          "name": "stdout",
          "text": [
            "Epoch 1/4: Training Loss = 0.7685, Validation Loss = 0.4205, Accuracy = 87.67%, F1 Score = 0.8191\n"
          ]
        },
        {
          "output_type": "stream",
          "name": "stderr",
          "text": []
        },
        {
          "output_type": "stream",
          "name": "stdout",
          "text": [
            "Epoch 2/4: Training Loss = 0.3902, Validation Loss = 0.4357, Accuracy = 87.67%, F1 Score = 0.8191\n"
          ]
        },
        {
          "output_type": "stream",
          "name": "stderr",
          "text": []
        },
        {
          "output_type": "stream",
          "name": "stdout",
          "text": [
            "Epoch 3/4: Training Loss = 0.4387, Validation Loss = 0.4259, Accuracy = 87.67%, F1 Score = 0.8191\n"
          ]
        },
        {
          "output_type": "stream",
          "name": "stderr",
          "text": []
        },
        {
          "output_type": "stream",
          "name": "stdout",
          "text": [
            "Epoch 4/4: Training Loss = 0.3884, Validation Loss = 0.4179, Accuracy = 87.67%, F1 Score = 0.8191\n",
            "Fold 5/5\n"
          ]
        },
        {
          "output_type": "stream",
          "name": "stderr",
          "text": [
            "/usr/local/lib/python3.10/dist-packages/transformers/optimization.py:591: FutureWarning: This implementation of AdamW is deprecated and will be removed in a future version. Use the PyTorch implementation torch.optim.AdamW instead, or set `no_deprecation_warning=True` to disable this warning\n",
            "  warnings.warn(\n"
          ]
        },
        {
          "output_type": "stream",
          "name": "stdout",
          "text": [
            "Epoch 1/4: Training Loss = 0.6671, Validation Loss = 0.4209, Accuracy = 86.30%, F1 Score = 0.7996\n"
          ]
        },
        {
          "output_type": "stream",
          "name": "stderr",
          "text": []
        },
        {
          "output_type": "stream",
          "name": "stdout",
          "text": [
            "Epoch 2/4: Training Loss = 0.4327, Validation Loss = 0.4054, Accuracy = 86.30%, F1 Score = 0.7996\n"
          ]
        },
        {
          "output_type": "stream",
          "name": "stderr",
          "text": []
        },
        {
          "output_type": "stream",
          "name": "stdout",
          "text": [
            "Epoch 3/4: Training Loss = 0.3798, Validation Loss = 0.4835, Accuracy = 86.30%, F1 Score = 0.7996\n"
          ]
        },
        {
          "output_type": "stream",
          "name": "stderr",
          "text": []
        },
        {
          "output_type": "stream",
          "name": "stdout",
          "text": [
            "Epoch 4/4: Training Loss = 0.4390, Validation Loss = 0.4163, Accuracy = 86.30%, F1 Score = 0.7996\n",
            "Evaluating params: {'batch_size': 32, 'd_model': 512, 'dropout': 0.1, 'lr': 0.001, 'nhead': 16}\n",
            "Fold 1/5\n"
          ]
        },
        {
          "output_type": "stream",
          "name": "stderr",
          "text": [
            "/usr/local/lib/python3.10/dist-packages/transformers/optimization.py:591: FutureWarning: This implementation of AdamW is deprecated and will be removed in a future version. Use the PyTorch implementation torch.optim.AdamW instead, or set `no_deprecation_warning=True` to disable this warning\n",
            "  warnings.warn(\n"
          ]
        },
        {
          "output_type": "stream",
          "name": "stdout",
          "text": [
            "Epoch 1/4: Training Loss = 0.6563, Validation Loss = 0.3890, Accuracy = 86.30%, F1 Score = 0.7996\n"
          ]
        },
        {
          "output_type": "stream",
          "name": "stderr",
          "text": []
        },
        {
          "output_type": "stream",
          "name": "stdout",
          "text": [
            "Epoch 2/4: Training Loss = 0.4334, Validation Loss = 0.5204, Accuracy = 86.30%, F1 Score = 0.7996\n"
          ]
        },
        {
          "output_type": "stream",
          "name": "stderr",
          "text": []
        },
        {
          "output_type": "stream",
          "name": "stdout",
          "text": [
            "Epoch 3/4: Training Loss = 0.5038, Validation Loss = 0.4008, Accuracy = 86.30%, F1 Score = 0.7996\n"
          ]
        },
        {
          "output_type": "stream",
          "name": "stderr",
          "text": []
        },
        {
          "output_type": "stream",
          "name": "stdout",
          "text": [
            "Epoch 4/4: Training Loss = 0.5124, Validation Loss = 0.4133, Accuracy = 86.30%, F1 Score = 0.7996\n",
            "Fold 2/5\n"
          ]
        },
        {
          "output_type": "stream",
          "name": "stderr",
          "text": [
            "/usr/local/lib/python3.10/dist-packages/transformers/optimization.py:591: FutureWarning: This implementation of AdamW is deprecated and will be removed in a future version. Use the PyTorch implementation torch.optim.AdamW instead, or set `no_deprecation_warning=True` to disable this warning\n",
            "  warnings.warn(\n"
          ]
        },
        {
          "output_type": "stream",
          "name": "stdout",
          "text": [
            "Epoch 1/4: Training Loss = 0.6757, Validation Loss = 0.3901, Accuracy = 86.30%, F1 Score = 0.7996\n"
          ]
        },
        {
          "output_type": "stream",
          "name": "stderr",
          "text": []
        },
        {
          "output_type": "stream",
          "name": "stdout",
          "text": [
            "Epoch 2/4: Training Loss = 0.5007, Validation Loss = 2.3051, Accuracy = 13.70%, F1 Score = 0.0330\n"
          ]
        },
        {
          "output_type": "stream",
          "name": "stderr",
          "text": []
        },
        {
          "output_type": "stream",
          "name": "stdout",
          "text": [
            "Epoch 3/4: Training Loss = 0.6032, Validation Loss = 0.4275, Accuracy = 86.30%, F1 Score = 0.7996\n"
          ]
        },
        {
          "output_type": "stream",
          "name": "stderr",
          "text": []
        },
        {
          "output_type": "stream",
          "name": "stdout",
          "text": [
            "Epoch 4/4: Training Loss = 0.3817, Validation Loss = 0.3881, Accuracy = 86.30%, F1 Score = 0.7996\n",
            "Fold 3/5\n"
          ]
        },
        {
          "output_type": "stream",
          "name": "stderr",
          "text": [
            "/usr/local/lib/python3.10/dist-packages/transformers/optimization.py:591: FutureWarning: This implementation of AdamW is deprecated and will be removed in a future version. Use the PyTorch implementation torch.optim.AdamW instead, or set `no_deprecation_warning=True` to disable this warning\n",
            "  warnings.warn(\n"
          ]
        },
        {
          "output_type": "stream",
          "name": "stdout",
          "text": [
            "Epoch 1/4: Training Loss = 0.5724, Validation Loss = 0.3880, Accuracy = 86.30%, F1 Score = 0.7996\n"
          ]
        },
        {
          "output_type": "stream",
          "name": "stderr",
          "text": []
        },
        {
          "output_type": "stream",
          "name": "stdout",
          "text": [
            "Epoch 2/4: Training Loss = 0.3725, Validation Loss = 0.3892, Accuracy = 86.30%, F1 Score = 0.7996\n"
          ]
        },
        {
          "output_type": "stream",
          "name": "stderr",
          "text": []
        },
        {
          "output_type": "stream",
          "name": "stdout",
          "text": [
            "Epoch 3/4: Training Loss = 0.3935, Validation Loss = 0.3947, Accuracy = 86.30%, F1 Score = 0.7996\n"
          ]
        },
        {
          "output_type": "stream",
          "name": "stderr",
          "text": []
        },
        {
          "output_type": "stream",
          "name": "stdout",
          "text": [
            "Epoch 4/4: Training Loss = 0.4431, Validation Loss = 0.4050, Accuracy = 86.30%, F1 Score = 0.7996\n",
            "Fold 4/5\n"
          ]
        },
        {
          "output_type": "stream",
          "name": "stderr",
          "text": [
            "/usr/local/lib/python3.10/dist-packages/transformers/optimization.py:591: FutureWarning: This implementation of AdamW is deprecated and will be removed in a future version. Use the PyTorch implementation torch.optim.AdamW instead, or set `no_deprecation_warning=True` to disable this warning\n",
            "  warnings.warn(\n"
          ]
        },
        {
          "output_type": "stream",
          "name": "stdout",
          "text": [
            "Epoch 1/4: Training Loss = 0.4458, Validation Loss = 0.4911, Accuracy = 87.67%, F1 Score = 0.8191\n"
          ]
        },
        {
          "output_type": "stream",
          "name": "stderr",
          "text": []
        },
        {
          "output_type": "stream",
          "name": "stdout",
          "text": [
            "Epoch 2/4: Training Loss = 0.4061, Validation Loss = 0.4175, Accuracy = 87.67%, F1 Score = 0.8191\n"
          ]
        },
        {
          "output_type": "stream",
          "name": "stderr",
          "text": []
        },
        {
          "output_type": "stream",
          "name": "stdout",
          "text": [
            "Epoch 3/4: Training Loss = 0.3939, Validation Loss = 0.4175, Accuracy = 87.67%, F1 Score = 0.8191\n"
          ]
        },
        {
          "output_type": "stream",
          "name": "stderr",
          "text": []
        },
        {
          "output_type": "stream",
          "name": "stdout",
          "text": [
            "Epoch 4/4: Training Loss = 0.3794, Validation Loss = 0.4420, Accuracy = 87.67%, F1 Score = 0.8191\n",
            "Fold 5/5\n"
          ]
        },
        {
          "output_type": "stream",
          "name": "stderr",
          "text": [
            "/usr/local/lib/python3.10/dist-packages/transformers/optimization.py:591: FutureWarning: This implementation of AdamW is deprecated and will be removed in a future version. Use the PyTorch implementation torch.optim.AdamW instead, or set `no_deprecation_warning=True` to disable this warning\n",
            "  warnings.warn(\n"
          ]
        },
        {
          "output_type": "stream",
          "name": "stdout",
          "text": [
            "Epoch 1/4: Training Loss = 0.5356, Validation Loss = 0.4279, Accuracy = 86.30%, F1 Score = 0.7996\n"
          ]
        },
        {
          "output_type": "stream",
          "name": "stderr",
          "text": []
        },
        {
          "output_type": "stream",
          "name": "stdout",
          "text": [
            "Epoch 2/4: Training Loss = 0.4219, Validation Loss = 0.4168, Accuracy = 86.30%, F1 Score = 0.7996\n"
          ]
        },
        {
          "output_type": "stream",
          "name": "stderr",
          "text": []
        },
        {
          "output_type": "stream",
          "name": "stdout",
          "text": [
            "Epoch 3/4: Training Loss = 0.3819, Validation Loss = 0.3887, Accuracy = 86.30%, F1 Score = 0.7996\n"
          ]
        },
        {
          "output_type": "stream",
          "name": "stderr",
          "text": []
        },
        {
          "output_type": "stream",
          "name": "stdout",
          "text": [
            "Epoch 4/4: Training Loss = 0.4175, Validation Loss = 0.3955, Accuracy = 86.30%, F1 Score = 0.7996\n",
            "\n",
            "Best Hyperparameters:\n",
            "Parameters: {'batch_size': 32, 'd_model': 256, 'dropout': 0.1, 'lr': 0.001, 'nhead': 8}\n",
            "Best Average Validation Loss: 0.3878\n"
          ]
        }
      ],
      "source": [
        "import torch\n",
        "from transformers import BertTokenizer, BertForSequenceClassification, AdamW\n",
        "from sklearn.model_selection import KFold, ParameterGrid\n",
        "from sklearn.metrics import accuracy_score, f1_score\n",
        "from torch.utils.data import DataLoader, TensorDataset\n",
        "from tqdm import tqdm\n",
        "import transformers\n",
        "\n",
        "# Set transformers logging to error only\n",
        "transformers.logging.set_verbosity_error()\n",
        "\n",
        "# Constants\n",
        "device = torch.device('cuda' if torch.cuda.is_available() else 'cpu')\n",
        "num_epochs = 4  # Set to 4 as per your output example\n",
        "\n",
        "# Load tokenizer\n",
        "tokenizer = BertTokenizer.from_pretrained('bert-base-uncased', clean_up_tokenization_spaces=True)\n",
        "\n",
        "def tokenize_data(texts):\n",
        "    return tokenizer(\n",
        "        texts,\n",
        "        truncation=True,\n",
        "        padding=True,\n",
        "        return_tensors='pt',\n",
        "        max_length=512\n",
        "    )\n",
        "\n",
        "def compute_validation_metrics(model, val_loader, y_val):\n",
        "    model.eval()\n",
        "    val_predictions = []\n",
        "    total_val_loss = 0\n",
        "\n",
        "    with torch.no_grad():\n",
        "        for batch in val_loader:\n",
        "            input_ids, attention_mask, labels = [b.to(device) for b in batch]\n",
        "            outputs = model(input_ids, attention_mask=attention_mask, labels=labels)\n",
        "            loss = outputs.loss\n",
        "            total_val_loss += loss.item()\n",
        "            batch_predictions = torch.argmax(outputs.logits, dim=1)\n",
        "            val_predictions.extend(batch_predictions.cpu().numpy())\n",
        "\n",
        "    avg_val_loss = total_val_loss / len(val_loader)\n",
        "    accuracy = accuracy_score(y_val.cpu(), val_predictions)\n",
        "    f1 = f1_score(y_val.cpu(), val_predictions, average='weighted')\n",
        "    return avg_val_loss, accuracy, f1\n",
        "\n",
        "def train_and_evaluate(fold, train_loader, val_loader, y_val, batch_size, lr):\n",
        "    model = BertForSequenceClassification.from_pretrained(\n",
        "        'bert-base-uncased',\n",
        "        num_labels=len(y_val.unique()),\n",
        "        problem_type=\"single_label_classification\"\n",
        "    ).to(device)\n",
        "\n",
        "    optimizer = AdamW(model.parameters(), lr=lr)\n",
        "    best_val_loss = float('inf')\n",
        "\n",
        "    for epoch in range(num_epochs):\n",
        "        model.train()\n",
        "        total_train_loss = 0\n",
        "        # Progress bar for training\n",
        "        with tqdm(total=len(train_loader), desc=f'Epoch {epoch + 1}/{num_epochs} - Training', leave=False) as pbar:\n",
        "            for batch in train_loader:\n",
        "                optimizer.zero_grad()\n",
        "                input_ids, attention_mask, labels = [b.to(device) for b in batch]\n",
        "\n",
        "                outputs = model(input_ids, attention_mask=attention_mask, labels=labels)\n",
        "                loss = outputs.loss\n",
        "                loss.backward()\n",
        "                optimizer.step()\n",
        "\n",
        "                total_train_loss += loss.item()\n",
        "                pbar.set_postfix(loss=loss.item())\n",
        "                pbar.update(1)\n",
        "\n",
        "        avg_train_loss = total_train_loss / len(train_loader)\n",
        "        val_loss, accuracy, f1 = compute_validation_metrics(model, val_loader, y_val)\n",
        "\n",
        "        print(f\"Epoch {epoch + 1}/{num_epochs}: Training Loss = {avg_train_loss:.4f}, \"\n",
        "              f\"Validation Loss = {val_loss:.4f}, Accuracy = {accuracy * 100:.2f}%, F1 Score = {f1:.4f}\")\n",
        "\n",
        "        # Check if the validation loss has improved\n",
        "        if val_loss < best_val_loss:\n",
        "            best_val_loss = val_loss\n",
        "\n",
        "    return best_val_loss\n",
        "\n",
        "# Hyperparameter grid\n",
        "# Hyperparameter grid\n",
        "param_grid = {\n",
        "    'nhead': [4, 8, 16],\n",
        "    'd_model': [128, 256, 512],\n",
        "    'dropout': [0.1],\n",
        "    'lr': [1e-3],\n",
        "    'batch_size': [32]\n",
        "}\n",
        "\n",
        "# Metrics collection\n",
        "best_hyperparams = None\n",
        "best_val_loss = float('inf')\n",
        "\n",
        "# Main KFold loop\n",
        "kf = KFold(n_splits=5, shuffle=True, random_state=42)\n",
        "\n",
        "# Iterate through all combinations of parameters\n",
        "for params in ParameterGrid(param_grid):\n",
        "    print(f\"Evaluating params: {params}\")\n",
        "\n",
        "    for fold, (train_index, val_index) in enumerate(kf.split(X_train_bin), 1):\n",
        "        print(f\"Fold {fold}/5\")\n",
        "        X_train, X_val = X_train_bin.iloc[train_index], X_train_bin.iloc[val_index]\n",
        "        y_train, y_val = y_train_bin.iloc[train_index], y_train_bin.iloc[val_index]\n",
        "\n",
        "        train_encodings = tokenize_data(list(X_train))\n",
        "        val_encodings = tokenize_data(list(X_val))\n",
        "\n",
        "        y_train_tensor = torch.LongTensor(y_train.values).to(device)\n",
        "        y_val_tensor = torch.LongTensor(y_val.values).to(device)\n",
        "\n",
        "        train_dataset = TensorDataset(train_encodings['input_ids'], train_encodings['attention_mask'], y_train_tensor)\n",
        "        val_dataset = TensorDataset(val_encodings['input_ids'], val_encodings['attention_mask'], y_val_tensor)\n",
        "\n",
        "        train_loader = DataLoader(train_dataset, batch_size=params['batch_size'], shuffle=True)\n",
        "        val_loader = DataLoader(val_dataset, batch_size=params['batch_size'], shuffle=False)\n",
        "\n",
        "        val_loss = train_and_evaluate(fold, train_loader, val_loader, y_val_tensor, params['batch_size'], params['lr'])\n",
        "\n",
        "        if val_loss < best_val_loss:\n",
        "            best_val_loss = val_loss\n",
        "            best_hyperparams = params\n",
        "\n",
        "print(\"\\nBest Hyperparameters:\")\n",
        "print(f\"Parameters: {best_hyperparams}\")\n",
        "print(f\"Best Average Validation Loss: {best_val_loss:.4f}\")\n"
      ]
    },
    {
      "cell_type": "markdown",
      "source": [
        "## Simpan Hyperparameters Terbaik"
      ],
      "metadata": {
        "id": "3nKvMqrVfqZY"
      }
    },
    {
      "cell_type": "markdown",
      "metadata": {
        "id": "ENIQ8tKfSGQG"
      },
      "source": [
        "# **CLASSIFICATION With Hyperparameter Tuning**\n",
        "(ganti parameter sesuai yang terbaik hasil hyperparameter tuning ya)"
      ]
    },
    {
      "cell_type": "markdown",
      "source": [
        "## tes0"
      ],
      "metadata": {
        "id": "Z2pbV8XXeEi9"
      }
    },
    {
      "cell_type": "code",
      "execution_count": null,
      "metadata": {
        "id": "oTa_Ip7kYDkq"
      },
      "outputs": [],
      "source": [
        "import pandas as pd\n",
        "import numpy as np\n",
        "from sklearn.model_selection import KFold\n",
        "from sklearn.metrics import classification_report, accuracy_score, confusion_matrix, f1_score\n",
        "import torch\n",
        "import torch.nn as nn\n",
        "from torch.utils.data import DataLoader, TensorDataset\n",
        "from transformers import BertTokenizer, BertForSequenceClassification, AdamW\n",
        "import matplotlib.pyplot as plt\n",
        "import seaborn as sns\n",
        "\n",
        "# 1. Load dataset\n",
        "data = pd.read_csv('/content/gdrive/My Drive/ASDOS/template/Topik4_Phishing URL Detection Using BERT-Based Transformer Models/dataset/malicious_phish.csv')\n",
        "\n",
        "# Memisahkan fitur dan label\n",
        "X = data['url']  # Fitur: URL\n",
        "y = data['type'].map({'benign': 0, 'defacement': 1, 'phishing': 2, 'malware': 3})  # Mengonversi label ke numerik\n",
        "\n",
        "# 2. Inisialisasi Tokenizer BERT\n",
        "tokenizer = BertTokenizer.from_pretrained('bert-base-uncased')\n",
        "\n",
        "# 3. KFold Cross-Validation\n",
        "kf = KFold(n_splits=10, shuffle=True, random_state=42)\n",
        "all_accuracy, all_f1_scores = [], []\n",
        "conf_matrix_list = []\n",
        "average_train_losses = []  # List to store average train losses for plotting\n",
        "average_val_accuracies = []  # List to store validation accuracies for plotting\n",
        "\n",
        "for fold, (train_index, val_index) in enumerate(kf.split(X)):\n",
        "    print(f'Fold {fold + 1}')\n",
        "\n",
        "    # Split data\n",
        "    X_train, X_val = X.iloc[train_index], X.iloc[val_index]\n",
        "    y_train, y_val = y.iloc[train_index], y.iloc[val_index]\n",
        "\n",
        "    # Tokenisasi dan pembuatan tensor\n",
        "    train_encodings = tokenizer(list(X_train), truncation=True, padding=True, return_tensors='pt')\n",
        "    val_encodings = tokenizer(list(X_val), truncation=True, padding=True, return_tensors='pt')\n",
        "\n",
        "    # Convert labels to tensors\n",
        "    y_train_tensor = torch.LongTensor(y_train.values)\n",
        "    y_val_tensor = torch.LongTensor(y_val.values)\n",
        "\n",
        "    # Create DataLoader\n",
        "    train_dataset = TensorDataset(train_encodings['input_ids'], train_encodings['attention_mask'], y_train_tensor)\n",
        "    train_loader = DataLoader(train_dataset, batch_size=64, shuffle=True)\n",
        "\n",
        "    # Initialize BERT model\n",
        "    model = BertForSequenceClassification.from_pretrained('bert-base-uncased', num_labels=len(y.unique()))\n",
        "    model.to('cuda' if torch.cuda.is_available() else 'cpu')  # Pindahkan model ke device yang sesuai\n",
        "    optimizer = AdamW(model.parameters(), lr=5e-5)\n",
        "\n",
        "    # Early stopping setup\n",
        "    best_accuracy = 0\n",
        "    patience, trigger_times = 5, 0\n",
        "\n",
        "    # Train the model\n",
        "    num_epochs = 20\n",
        "    train_losses = []\n",
        "    val_accuracies = []\n",
        "\n",
        "    for epoch in range(num_epochs):\n",
        "        model.train()\n",
        "        epoch_loss = 0\n",
        "        for batch in train_loader:\n",
        "            optimizer.zero_grad()\n",
        "            input_ids, attention_mask, labels = batch\n",
        "            input_ids, attention_mask, labels = input_ids.to('cuda'), attention_mask.to('cuda'), labels.to('cuda')\n",
        "            outputs = model(input_ids, attention_mask=attention_mask, labels=labels)\n",
        "            loss = outputs.loss\n",
        "            loss.backward()\n",
        "            optimizer.step()\n",
        "            epoch_loss += loss.item()\n",
        "\n",
        "        avg_loss = epoch_loss / len(train_loader)\n",
        "        train_losses.append(avg_loss)\n",
        "\n",
        "        # Validate the model\n",
        "        model.eval()\n",
        "        with torch.no_grad():\n",
        "            val_input_ids = val_encodings['input_ids'].to('cuda')\n",
        "            val_attention_mask = val_encodings['attention_mask'].to('cuda')\n",
        "            outputs = model(val_input_ids, attention_mask=val_attention_mask)\n",
        "            y_pred = torch.argmax(outputs.logits, dim=1)\n",
        "\n",
        "        accuracy = accuracy_score(y_val, y_pred.cpu())\n",
        "        val_accuracies.append(accuracy)\n",
        "\n",
        "        # Save the best model\n",
        "        if accuracy > best_accuracy:\n",
        "            best_accuracy = accuracy\n",
        "            model.save_pretrained(f'model_best_fold_{fold + 1}')\n",
        "            trigger_times = 0\n",
        "        else:\n",
        "            trigger_times += 1\n",
        "\n",
        "        if trigger_times >= patience:\n",
        "            print(f'Early stopping triggered at epoch {epoch + 1}')\n",
        "            break\n",
        "\n",
        "    # Metrics calculation\n",
        "    conf_matrix = confusion_matrix(y_val, y_pred.cpu())\n",
        "    conf_matrix_list.append(conf_matrix)\n",
        "    all_accuracy.append(accuracy)\n",
        "\n",
        "    f1 = f1_score(y_val, y_pred.cpu(), average='weighted')\n",
        "    all_f1_scores.append(f1)\n",
        "\n",
        "    # Print results for the current fold\n",
        "    print(f'Accuracy for fold {fold + 1}: {accuracy * 100:.2f}%')\n",
        "    print(f'F1 Score for fold {fold + 1}: {f1:.4f}')\n",
        "    cls_report = classification_report(y_val, y_pred.cpu(), target_names=['benign', 'defacement', 'phishing', 'malware'])\n",
        "    print(cls_report)\n",
        "\n",
        "    # Store average loss and accuracy for plotting\n",
        "    average_train_losses.append(train_losses)\n",
        "    average_val_accuracies.append(val_accuracies)\n",
        "\n",
        "    # Plot confusion matrix for the current fold\n",
        "    plt.figure(figsize=(6, 4))\n",
        "    sns.heatmap(conf_matrix, annot=True, fmt='.0f', cmap='Blues', cbar=False,\n",
        "                xticklabels=['benign', 'defacement', 'phishing', 'malware'], yticklabels=['benign', 'defacement', 'phishing', 'malware'])\n",
        "    plt.xlabel('Predicted Label')\n",
        "    plt.ylabel('True Label')\n",
        "    plt.title(f'Confusion Matrix for Fold {fold + 1}')\n",
        "    plt.show()\n",
        "\n",
        "# 4. Average Metrics Across All Folds\n",
        "print(f'Average Accuracy: {np.mean(all_accuracy) * 100:.2f}%')\n",
        "print(f'Average F1 Score: {np.mean(all_f1_scores):.4f}')\n",
        "\n",
        "# 5. Plot the Average Confusion Matrix\n",
        "average_conf_matrix = np.mean(conf_matrix_list, axis=0)\n",
        "\n",
        "plt.figure(figsize=(8, 6))\n",
        "sns.heatmap(average_conf_matrix, annot=True, fmt='.0f', cmap='Blues', cbar=False,\n",
        "            xticklabels=['benign', 'defacement', 'phishing', 'malware'], yticklabels=['benign', 'defacement', 'phishing', 'malware'])\n",
        "plt.xlabel('Predicted Label')\n",
        "plt.ylabel('True Label')\n",
        "plt.title('Average Confusion Matrix Across Folds')\n",
        "plt.show()\n",
        "\n",
        "# 6. Analysis of Results\n",
        "print(\"Hasil Deteksi Pola Enkripsi Ransomware:\")\n",
        "for i, (acc, f1) in enumerate(zip(all_accuracy, all_f1_scores)):\n",
        "    print(f'Fold {i + 1}: Akurasi = {acc * 100:.2f}%, F1 Score = {f1:.4f}')\n",
        "\n",
        "# 7. Plot Loss and Accuracy for Each Fold\n",
        "for fold in range(len(average_train_losses)):\n",
        "    plt.figure(figsize=(12, 5))\n",
        "\n",
        "    # Grafik Loss\n",
        "    plt.subplot(1, 2, 1)\n",
        "    plt.plot(average_train_losses[fold], label='Training Loss', marker='o')\n",
        "    plt.title(f'Training Loss for Fold {fold + 1}')\n",
        "    plt.xlabel('Epochs')\n",
        "    plt.ylabel('Loss')\n",
        "    plt.legend()\n",
        "    plt.grid()\n",
        "\n",
        "    # Grafik Akurasi\n",
        "    plt.subplot(1, 2, 2)\n",
        "    plt.plot(average_val_accuracies[fold], label='Validation Accuracy', marker='o')\n",
        "    plt.title(f'Validation Accuracy for Fold {fold + 1}')\n",
        "    plt.xlabel('Epochs')\n",
        "    plt.ylabel('Accuracy')\n",
        "    plt.legend()\n",
        "    plt.grid()\n",
        "\n",
        "    plt.tight_layout()\n",
        "    plt.show()\n"
      ]
    },
    {
      "cell_type": "markdown",
      "source": [
        "## tes1"
      ],
      "metadata": {
        "id": "fPN2MfRNeIJt"
      }
    },
    {
      "cell_type": "code",
      "source": [
        "import torch\n",
        "import transformers\n",
        "from torch.optim import AdamW\n",
        "from torch.amp import autocast, GradScaler  # Updated to torch.amp\n",
        "from transformers import BertTokenizer, BertForSequenceClassification\n",
        "from sklearn.model_selection import KFold\n",
        "from sklearn.metrics import accuracy_score, f1_score, confusion_matrix\n",
        "from torch.utils.data import DataLoader, TensorDataset\n",
        "import matplotlib.pyplot as plt\n",
        "import seaborn as sns\n",
        "import numpy as np\n",
        "from tqdm import tqdm\n",
        "\n",
        "# Set transformers logging to error only\n",
        "transformers.logging.set_verbosity_error()\n",
        "\n",
        "# Constants based on best hyperparameters\n",
        "device = torch.device('cuda' if torch.cuda.is_available() else 'cpu')\n",
        "batch_size = 32\n",
        "lr = 0.001\n",
        "num_epochs = 3\n",
        "k_folds = 5\n",
        "\n",
        "# Load tokenizer and model\n",
        "tokenizer = BertTokenizer.from_pretrained('bert-base-uncased', clean_up_tokenization_spaces=True)\n",
        "\n",
        "def tokenize_data(texts):\n",
        "    return tokenizer(\n",
        "        texts,\n",
        "        truncation=True,\n",
        "        padding=True,\n",
        "        return_tensors='pt',\n",
        "        max_length=512\n",
        "    )\n",
        "\n",
        "def compute_validation_metrics(model, val_loader, y_val):\n",
        "    val_predictions = []\n",
        "    model.eval()\n",
        "    total_val_loss = 0\n",
        "\n",
        "    with torch.no_grad():\n",
        "        for batch in val_loader:\n",
        "            input_ids, attention_mask, labels = [b.to(device) for b in batch]\n",
        "            outputs = model(input_ids, attention_mask=attention_mask, labels=labels)\n",
        "            loss = outputs.loss\n",
        "            total_val_loss += loss.item()\n",
        "            batch_predictions = torch.argmax(outputs.logits, dim=1)\n",
        "            val_predictions.extend(batch_predictions.cpu().numpy())\n",
        "\n",
        "    avg_val_loss = total_val_loss / len(val_loader)\n",
        "    accuracy = accuracy_score(y_val, val_predictions)\n",
        "    f1 = f1_score(y_val, val_predictions, average='weighted')\n",
        "    return avg_val_loss, accuracy, f1, val_predictions\n",
        "\n",
        "def train_and_evaluate(fold, train_loader, val_loader, y_val):\n",
        "    model = BertForSequenceClassification.from_pretrained(\n",
        "        'bert-base-uncased',\n",
        "        num_labels=len(y_val.unique()),\n",
        "        problem_type=\"single_label_classification\"\n",
        "    ).to(device)\n",
        "\n",
        "    optimizer = AdamW(model.parameters(), lr=lr)\n",
        "    scaler = GradScaler() if torch.cuda.is_available() else None\n",
        "    best_accuracy = 0\n",
        "\n",
        "    for epoch in tqdm(range(num_epochs), desc=f'Fold {fold} - Epoch', leave=False):\n",
        "        model.train()\n",
        "        total_train_loss = 0\n",
        "        for batch in tqdm(train_loader, desc=f'Epoch {epoch+1} - Training', leave=False):\n",
        "            optimizer.zero_grad(set_to_none=True)\n",
        "            input_ids, attention_mask, labels = [b.to(device) for b in batch]\n",
        "\n",
        "            with autocast('cuda', dtype=torch.float16) if torch.cuda.is_available() else nullcontext():\n",
        "                outputs = model(input_ids, attention_mask=attention_mask, labels=labels)\n",
        "                loss = outputs.loss\n",
        "\n",
        "            if scaler:\n",
        "                scaler.scale(loss).backward()\n",
        "                scaler.unscale_(optimizer)\n",
        "                torch.nn.utils.clip_grad_norm_(model.parameters(), max_norm=1.0)\n",
        "                scaler.step(optimizer)\n",
        "                scaler.update()\n",
        "            else:\n",
        "                loss.backward()\n",
        "                torch.nn.utils.clip_grad_norm_(model.parameters(), max_norm=1.0)\n",
        "                optimizer.step()\n",
        "\n",
        "            total_train_loss += loss.item()\n",
        "            torch.cuda.empty_cache()\n",
        "\n",
        "        avg_train_loss = total_train_loss / len(train_loader)\n",
        "\n",
        "        val_loss, accuracy, f1, val_predictions = compute_validation_metrics(model, val_loader, y_val)\n",
        "\n",
        "        print(f\"Epoch {epoch+1}: Train Loss = {avg_train_loss:.4f}, Val Loss = {val_loss:.4f}, \"\n",
        "              f\"Accuracy = {accuracy*100:.2f}%, F1 Score = {f1:.4f}\")\n",
        "\n",
        "        if accuracy > best_accuracy:\n",
        "            best_accuracy = accuracy\n",
        "            model.save_pretrained(f'model_best_fold_{fold}')\n",
        "            print(f\"Saved best model for fold {fold} at epoch {epoch+1}.\")\n",
        "\n",
        "    return avg_train_loss, val_loss, accuracy, f1, val_predictions\n",
        "\n",
        "# Metrics collection\n",
        "all_labels = []\n",
        "all_preds = []\n",
        "fold_results = []\n",
        "\n",
        "# Main KFold loop with updates\n",
        "kf = KFold(n_splits=k_folds, shuffle=True, random_state=42)\n",
        "for fold, (train_index, val_index) in enumerate(kf.split(X_train_bin), 1):\n",
        "    print(f\"Fold {fold}/{k_folds}\")\n",
        "    X_train, X_val = X_train_bin.iloc[train_index], X_train_bin.iloc[val_index]\n",
        "    y_train, y_val = y_train_bin.iloc[train_index], y_train_bin.iloc[val_index]\n",
        "\n",
        "    train_encodings = tokenize_data(list(X_train))\n",
        "    val_encodings = tokenize_data(list(X_val))\n",
        "\n",
        "    y_train_tensor = torch.LongTensor(y_train.values)\n",
        "    y_val_tensor = torch.LongTensor(y_val.values)\n",
        "\n",
        "    train_dataset = TensorDataset(train_encodings['input_ids'], train_encodings['attention_mask'], y_train_tensor)\n",
        "    val_dataset = TensorDataset(val_encodings['input_ids'], val_encodings['attention_mask'], y_val_tensor)\n",
        "\n",
        "    train_loader = DataLoader(train_dataset, batch_size=batch_size, shuffle=True, pin_memory=True)\n",
        "    val_loader = DataLoader(val_dataset, batch_size=batch_size, shuffle=False, pin_memory=True)\n",
        "\n",
        "    avg_train_loss, val_loss, accuracy, f1, val_predictions = train_and_evaluate(fold, train_loader, val_loader, y_val)\n",
        "    fold_results.append((avg_train_loss, val_loss, accuracy, f1))\n",
        "\n",
        "    all_labels.extend(y_val.tolist())\n",
        "    all_preds.extend(val_predictions)\n",
        "\n",
        "# Confusion matrix plot function\n",
        "def plot_confusion_matrix(y_true, y_pred, class_names):\n",
        "    cm = confusion_matrix(y_true, y_pred)\n",
        "    plt.figure(figsize=(10, 8))\n",
        "    sns.heatmap(cm, annot=True, fmt='d', cmap='Blues', xticklabels=class_names, yticklabels=class_names)\n",
        "    plt.xlabel(\"Predicted\")\n",
        "    plt.ylabel(\"True\")\n",
        "    plt.title(\"Confusion Matrix\")\n",
        "    plt.show()\n",
        "\n",
        "# After the loop, plot the confusion matrix\n",
        "plot_confusion_matrix(all_labels, all_preds, class_names=['Class 0', 'Class 1', 'Class 2'])  # Replace with actual class names if available\n"
      ],
      "metadata": {
        "id": "GYYSNwzUeK3a",
        "colab": {
          "base_uri": "https://localhost:8080/",
          "height": 804
        },
        "outputId": "8cc48d33-24b6-4ec5-e54c-64f3c6056671"
      },
      "execution_count": null,
      "outputs": [
        {
          "output_type": "stream",
          "name": "stdout",
          "text": [
            "Fold 1/5\n"
          ]
        },
        {
          "output_type": "stream",
          "name": "stderr",
          "text": [
            "Fold 1 - Epoch:   0%|          | 0/3 [00:00<?, ?it/s]\n",
            "Epoch 1 - Training:   0%|          | 0/10 [00:00<?, ?it/s]\u001b[A\n",
            "Epoch 1 - Training:  10%|█         | 1/10 [00:00<00:02,  3.02it/s]\u001b[A\n",
            "Epoch 1 - Training:  20%|██        | 2/10 [00:00<00:02,  3.27it/s]\u001b[A\n",
            "Epoch 1 - Training:  30%|███       | 3/10 [00:00<00:02,  3.40it/s]\u001b[A\n",
            "Epoch 1 - Training:  40%|████      | 4/10 [00:01<00:01,  3.23it/s]\u001b[A\n",
            "Epoch 1 - Training:  50%|█████     | 5/10 [00:01<00:01,  3.20it/s]\u001b[A\n",
            "Epoch 1 - Training:  60%|██████    | 6/10 [00:01<00:01,  3.13it/s]\u001b[A\n",
            "Epoch 1 - Training:  70%|███████   | 7/10 [00:02<00:00,  3.10it/s]\u001b[A\n",
            "Epoch 1 - Training:  80%|████████  | 8/10 [00:02<00:00,  3.12it/s]\u001b[A\n",
            "Epoch 1 - Training:  90%|█████████ | 9/10 [00:02<00:00,  3.12it/s]\u001b[A\n",
            "Epoch 1 - Training: 100%|██████████| 10/10 [00:03<00:00,  3.36it/s]\u001b[A\n",
            "                                                                   \u001b[A"
          ]
        },
        {
          "output_type": "stream",
          "name": "stdout",
          "text": [
            "Epoch 1: Train Loss = 0.7362, Val Loss = 0.3879, Accuracy = 86.30%, F1 Score = 0.7996\n"
          ]
        },
        {
          "output_type": "stream",
          "name": "stderr",
          "text": [
            "\rFold 1 - Epoch:  33%|███▎      | 1/3 [00:06<00:12,  6.17s/it]"
          ]
        },
        {
          "output_type": "stream",
          "name": "stdout",
          "text": [
            "Saved best model for fold 1 at epoch 1.\n"
          ]
        },
        {
          "output_type": "stream",
          "name": "stderr",
          "text": [
            "\n",
            "Epoch 2 - Training:   0%|          | 0/10 [00:00<?, ?it/s]\u001b[A\n",
            "Epoch 2 - Training:  10%|█         | 1/10 [00:00<00:03,  2.82it/s]\u001b[A\n",
            "Epoch 2 - Training:  20%|██        | 2/10 [00:00<00:02,  3.21it/s]\u001b[A\n",
            "Epoch 2 - Training:  30%|███       | 3/10 [00:00<00:02,  3.38it/s]\u001b[A\n",
            "Epoch 2 - Training:  40%|████      | 4/10 [00:01<00:01,  3.48it/s]\u001b[A\n",
            "Epoch 2 - Training:  50%|█████     | 5/10 [00:01<00:01,  3.55it/s]\u001b[A\n",
            "Epoch 2 - Training:  60%|██████    | 6/10 [00:01<00:01,  3.59it/s]\u001b[A\n",
            "Epoch 2 - Training:  70%|███████   | 7/10 [00:02<00:00,  3.64it/s]\u001b[A\n",
            "Epoch 2 - Training:  80%|████████  | 8/10 [00:02<00:00,  3.68it/s]\u001b[A\n"
          ]
        },
        {
          "output_type": "error",
          "ename": "KeyboardInterrupt",
          "evalue": "",
          "traceback": [
            "\u001b[0;31m---------------------------------------------------------------------------\u001b[0m",
            "\u001b[0;31mKeyboardInterrupt\u001b[0m                         Traceback (most recent call last)",
            "\u001b[0;32m<ipython-input-29-b76467cb8efa>\u001b[0m in \u001b[0;36m<cell line: 112>\u001b[0;34m()\u001b[0m\n\u001b[1;32m    127\u001b[0m     \u001b[0mval_loader\u001b[0m \u001b[0;34m=\u001b[0m \u001b[0mDataLoader\u001b[0m\u001b[0;34m(\u001b[0m\u001b[0mval_dataset\u001b[0m\u001b[0;34m,\u001b[0m \u001b[0mbatch_size\u001b[0m\u001b[0;34m=\u001b[0m\u001b[0mbatch_size\u001b[0m\u001b[0;34m,\u001b[0m \u001b[0mshuffle\u001b[0m\u001b[0;34m=\u001b[0m\u001b[0;32mFalse\u001b[0m\u001b[0;34m,\u001b[0m \u001b[0mpin_memory\u001b[0m\u001b[0;34m=\u001b[0m\u001b[0;32mTrue\u001b[0m\u001b[0;34m)\u001b[0m\u001b[0;34m\u001b[0m\u001b[0;34m\u001b[0m\u001b[0m\n\u001b[1;32m    128\u001b[0m \u001b[0;34m\u001b[0m\u001b[0m\n\u001b[0;32m--> 129\u001b[0;31m     \u001b[0mavg_train_loss\u001b[0m\u001b[0;34m,\u001b[0m \u001b[0mval_loss\u001b[0m\u001b[0;34m,\u001b[0m \u001b[0maccuracy\u001b[0m\u001b[0;34m,\u001b[0m \u001b[0mf1\u001b[0m\u001b[0;34m,\u001b[0m \u001b[0mauc_roc\u001b[0m\u001b[0;34m,\u001b[0m \u001b[0mval_predictions\u001b[0m\u001b[0;34m,\u001b[0m \u001b[0mval_probs\u001b[0m \u001b[0;34m=\u001b[0m \u001b[0mtrain_and_evaluate\u001b[0m\u001b[0;34m(\u001b[0m\u001b[0mfold\u001b[0m\u001b[0;34m,\u001b[0m \u001b[0mtrain_loader\u001b[0m\u001b[0;34m,\u001b[0m \u001b[0mval_loader\u001b[0m\u001b[0;34m,\u001b[0m \u001b[0my_val\u001b[0m\u001b[0;34m)\u001b[0m\u001b[0;34m\u001b[0m\u001b[0;34m\u001b[0m\u001b[0m\n\u001b[0m\u001b[1;32m    130\u001b[0m \u001b[0;34m\u001b[0m\u001b[0m\n\u001b[1;32m    131\u001b[0m     \u001b[0mfold_results\u001b[0m\u001b[0;34m.\u001b[0m\u001b[0mappend\u001b[0m\u001b[0;34m(\u001b[0m\u001b[0;34m(\u001b[0m\u001b[0mavg_train_loss\u001b[0m\u001b[0;34m,\u001b[0m \u001b[0mval_loss\u001b[0m\u001b[0;34m,\u001b[0m \u001b[0maccuracy\u001b[0m\u001b[0;34m,\u001b[0m \u001b[0mf1\u001b[0m\u001b[0;34m,\u001b[0m \u001b[0mauc_roc\u001b[0m\u001b[0;34m)\u001b[0m\u001b[0;34m)\u001b[0m\u001b[0;34m\u001b[0m\u001b[0;34m\u001b[0m\u001b[0m\n",
            "\u001b[0;32m<ipython-input-29-b76467cb8efa>\u001b[0m in \u001b[0;36mtrain_and_evaluate\u001b[0;34m(fold, train_loader, val_loader, y_val)\u001b[0m\n\u001b[1;32m     86\u001b[0m                 \u001b[0moptimizer\u001b[0m\u001b[0;34m.\u001b[0m\u001b[0mstep\u001b[0m\u001b[0;34m(\u001b[0m\u001b[0;34m)\u001b[0m\u001b[0;34m\u001b[0m\u001b[0;34m\u001b[0m\u001b[0m\n\u001b[1;32m     87\u001b[0m \u001b[0;34m\u001b[0m\u001b[0m\n\u001b[0;32m---> 88\u001b[0;31m             \u001b[0mtotal_train_loss\u001b[0m \u001b[0;34m+=\u001b[0m \u001b[0mloss\u001b[0m\u001b[0;34m.\u001b[0m\u001b[0mitem\u001b[0m\u001b[0;34m(\u001b[0m\u001b[0;34m)\u001b[0m\u001b[0;34m\u001b[0m\u001b[0;34m\u001b[0m\u001b[0m\n\u001b[0m\u001b[1;32m     89\u001b[0m             \u001b[0mtorch\u001b[0m\u001b[0;34m.\u001b[0m\u001b[0mcuda\u001b[0m\u001b[0;34m.\u001b[0m\u001b[0mempty_cache\u001b[0m\u001b[0;34m(\u001b[0m\u001b[0;34m)\u001b[0m\u001b[0;34m\u001b[0m\u001b[0;34m\u001b[0m\u001b[0m\n\u001b[1;32m     90\u001b[0m \u001b[0;34m\u001b[0m\u001b[0m\n",
            "\u001b[0;31mKeyboardInterrupt\u001b[0m: "
          ]
        }
      ]
    },
    {
      "cell_type": "code",
      "source": [],
      "metadata": {
        "id": "WdMLyPUraBuy"
      },
      "execution_count": null,
      "outputs": []
    },
    {
      "cell_type": "markdown",
      "source": [
        "## tes3"
      ],
      "metadata": {
        "id": "WhUCTCF_hCW0"
      }
    },
    {
      "cell_type": "code",
      "source": [
        "import torch\n",
        "import transformers\n",
        "from torch.optim import AdamW\n",
        "from torch.amp import autocast, GradScaler  # Updated to torch.amp\n",
        "from transformers import BertTokenizer, BertForSequenceClassification\n",
        "from sklearn.model_selection import KFold\n",
        "from sklearn.metrics import accuracy_score, f1_score, confusion_matrix, classification_report\n",
        "from torch.utils.data import DataLoader, TensorDataset\n",
        "import numpy as np\n",
        "import seaborn as sns\n",
        "import matplotlib.pyplot as plt\n",
        "from tqdm import tqdm\n",
        "\n",
        "# Set transformers logging to error only\n",
        "transformers.logging.set_verbosity_error()\n",
        "\n",
        "# Constants based on best hyperparameters\n",
        "device = torch.device('cuda' if torch.cuda.is_available() else 'cpu')\n",
        "batch_size = 32\n",
        "lr = 0.001\n",
        "num_epochs = 10  # Adjusted for example\n",
        "k_folds = 5\n",
        "\n",
        "print(\"Using best hyperparameters: nhead=4, d_model=128, dropout=0.1, lr=0.001, batch_size=32\")\n",
        "\n",
        "# Load tokenizer and model\n",
        "tokenizer = BertTokenizer.from_pretrained('bert-base-uncased', clean_up_tokenization_spaces=True)\n",
        "\n",
        "def tokenize_data(texts):\n",
        "    return tokenizer(\n",
        "        texts,\n",
        "        truncation=True,\n",
        "        padding=True,\n",
        "        return_tensors='pt',\n",
        "        max_length=512\n",
        "    )\n",
        "\n",
        "def compute_validation_metrics(model, val_loader, y_val):\n",
        "    val_predictions = []\n",
        "    model.eval()\n",
        "    total_val_loss = 0\n",
        "\n",
        "    with torch.no_grad():\n",
        "        for batch in val_loader:\n",
        "            input_ids, attention_mask, labels = [b.to(device) for b in batch]\n",
        "            outputs = model(input_ids, attention_mask=attention_mask, labels=labels)\n",
        "            loss = outputs.loss\n",
        "            total_val_loss += loss.item()\n",
        "            batch_predictions = torch.argmax(outputs.logits, dim=1)\n",
        "            val_predictions.extend(batch_predictions.cpu().numpy())\n",
        "\n",
        "    avg_val_loss = total_val_loss / len(val_loader)\n",
        "    accuracy = accuracy_score(y_val, val_predictions)\n",
        "    f1 = f1_score(y_val, val_predictions, average='weighted')\n",
        "    return avg_val_loss, accuracy, f1, val_predictions\n",
        "\n",
        "def train_and_evaluate(fold, train_loader, val_loader, y_val):\n",
        "    model = BertForSequenceClassification.from_pretrained(\n",
        "        'bert-base-uncased',\n",
        "        num_labels=len(y_val.unique()),\n",
        "        problem_type=\"single_label_classification\"\n",
        "    ).to(device)\n",
        "\n",
        "    optimizer = AdamW(model.parameters(), lr=lr)\n",
        "    scaler = GradScaler() if torch.cuda.is_available() else None\n",
        "    best_accuracy = 0\n",
        "\n",
        "    for epoch in range(num_epochs):\n",
        "        model.train()\n",
        "        total_train_loss = 0\n",
        "        progress_bar = tqdm(train_loader, desc=f\"Epoch {epoch+1}/{num_epochs}: Training\", leave=False)\n",
        "\n",
        "        for batch in progress_bar:\n",
        "            optimizer.zero_grad(set_to_none=True)\n",
        "            input_ids, attention_mask, labels = [b.to(device) for b in batch]\n",
        "\n",
        "            with autocast('cuda', dtype=torch.float16) if torch.cuda.is_available() else nullcontext():\n",
        "                outputs = model(input_ids, attention_mask=attention_mask, labels=labels)\n",
        "                loss = outputs.loss\n",
        "\n",
        "            if scaler:\n",
        "                scaler.scale(loss).backward()\n",
        "                scaler.unscale_(optimizer)\n",
        "                torch.nn.utils.clip_grad_norm_(model.parameters(), max_norm=1.0)\n",
        "                scaler.step(optimizer)\n",
        "                scaler.update()\n",
        "            else:\n",
        "                loss.backward()\n",
        "                torch.nn.utils.clip_grad_norm_(model.parameters(), max_norm=1.0)\n",
        "                optimizer.step()\n",
        "\n",
        "            total_train_loss += loss.item()\n",
        "            torch.cuda.empty_cache()\n",
        "\n",
        "        avg_train_loss = total_train_loss / len(train_loader)\n",
        "\n",
        "        val_loss, accuracy, f1, val_predictions = compute_validation_metrics(model, val_loader, y_val)\n",
        "\n",
        "        print(f\"Epoch {epoch+1}/{num_epochs}: Training Loss: {avg_train_loss:.4f}, \"\n",
        "              f\"Validation Loss: {val_loss:.4f}, Accuracy: {accuracy*100:.2f}%, F1 Score: {f1:.4f}\")\n",
        "\n",
        "        if accuracy > best_accuracy:\n",
        "            best_accuracy = accuracy\n",
        "            model.save_pretrained(f'model_best_fold_{fold}')\n",
        "            print(f\"Saved best model for fold {fold} at epoch {epoch+1}.\")\n",
        "\n",
        "    return avg_train_loss, val_loss, accuracy, f1, val_predictions\n",
        "\n",
        "# Metrics collection\n",
        "all_labels = []\n",
        "all_preds = []\n",
        "fold_results = []\n",
        "\n",
        "# Main KFold loop with updates\n",
        "kf = KFold(n_splits=k_folds, shuffle=True, random_state=42)\n",
        "for fold, (train_index, val_index) in enumerate(kf.split(X_train_bin), 1):\n",
        "    print(f\"Fold {fold}/{k_folds}\")\n",
        "    X_train, X_val = X_train_bin.iloc[train_index], X_train_bin.iloc[val_index]\n",
        "    y_train, y_val = y_train_bin.iloc[train_index], y_train_bin.iloc[val_index]\n",
        "\n",
        "    train_encodings = tokenize_data(list(X_train))\n",
        "    val_encodings = tokenize_data(list(X_val))\n",
        "\n",
        "    y_train_tensor = torch.LongTensor(y_train.values)\n",
        "    y_val_tensor = torch.LongTensor(y_val.values)\n",
        "\n",
        "    train_dataset = TensorDataset(train_encodings['input_ids'], train_encodings['attention_mask'], y_train_tensor)\n",
        "    val_dataset = TensorDataset(val_encodings['input_ids'], val_encodings['attention_mask'], y_val_tensor)\n",
        "\n",
        "    train_loader = DataLoader(train_dataset, batch_size=batch_size, shuffle=True, pin_memory=True)\n",
        "    val_loader = DataLoader(val_dataset, batch_size=batch_size, shuffle=False, pin_memory=True)\n",
        "\n",
        "    avg_train_loss, val_loss, accuracy, f1, val_predictions = train_and_evaluate(fold, train_loader, val_loader, y_val)\n",
        "    fold_results.append((avg_train_loss, val_loss, accuracy, f1))\n",
        "\n",
        "    all_labels.extend(y_val.tolist())\n",
        "    all_preds.extend(val_predictions)\n",
        "\n",
        "# Average metrics across folds\n",
        "avg_train_loss = np.mean([result[0] for result in fold_results])\n",
        "avg_val_loss = np.mean([result[1] for result in fold_results])\n",
        "avg_accuracy = np.mean([result[2] for result in fold_results])\n",
        "avg_f1 = np.mean([result[3] for result in fold_results])\n",
        "\n",
        "print(f\"\\nAverage Training Loss: {avg_train_loss:.4f}\")\n",
        "print(f\"Average Validation Loss: {avg_val_loss:.4f}\")\n",
        "print(f\"Average Accuracy: {avg_accuracy*100:.2f}%\")\n",
        "print(f\"Average F1 Score: {avg_f1:.4f}\")\n",
        "\n",
        "# Confusion matrix and classification report\n",
        "print(\"\\nAverage Confusion Matrix Across Folds\")\n",
        "def plot_confusion_matrix(y_true, y_pred, class_names):\n",
        "    cm = confusion_matrix(y_true, y_pred)\n",
        "    plt.figure(figsize=(10, 8))\n",
        "    sns.heatmap(cm, annot=True, fmt='d', cmap='Blues', xticklabels=class_names, yticklabels=class_names)\n",
        "    plt.xlabel(\"Predicted\")\n",
        "    plt.ylabel(\"True\")\n",
        "    plt.title(\"Confusion Matrix\")\n",
        "    plt.show()\n",
        "\n",
        "plot_confusion_matrix(all_labels, all_preds, class_names=['Class 0', 'Class 1', 'Class 2'])  # Replace with actual class names\n",
        "\n",
        "print(\"\\nClassification Report for All Folds:\")\n",
        "print(classification_report(all_labels, all_preds))\n"
      ],
      "metadata": {
        "id": "CGFfDbgahBzS"
      },
      "execution_count": null,
      "outputs": []
    },
    {
      "cell_type": "code",
      "source": [],
      "metadata": {
        "id": "R5pG5SSZhDra"
      },
      "execution_count": null,
      "outputs": []
    },
    {
      "cell_type": "markdown",
      "source": [
        "# **Visualisasi KFold Cross Validation**"
      ],
      "metadata": {
        "id": "cM59eGrIkcVo"
      }
    },
    {
      "cell_type": "code",
      "source": [
        "import matplotlib.pyplot as plt\n",
        "import numpy as np\n",
        "\n",
        "# Data dari hasil K-Fold Cross-Validation\n",
        "# Misalnya: ganti ini dengan data aktual dari hasil pelatihan kamu.\n",
        "epochs = list(range(1, 11))  # Jumlah epoch (contoh 10 epoch)\n",
        "folds = 5  # Total fold\n",
        "\n",
        "# Data metrik contoh per fold\n",
        "train_losses = [\n",
        "    [0.5301, 1.3911, 0.5657, 0.3844, 0.4735, 0.4373, 0.4367, 0.4305, 0.3760, 0.4503],\n",
        "    [0.4490, 0.9319, 0.4056, 0.4189, 0.4302, 0.4156, 0.3909, 0.3753, 0.3987, 0.3663],\n",
        "    [0.9196, 0.6724, 0.4370, 0.4593, 0.4235, 0.4720, 0.4888, 0.3754, 0.4683, 0.3898],\n",
        "    [0.4335, 0.4173, 0.3976, 0.4712, 0.5820, 0.4572, 0.3988, 0.3934, 0.3836, 0.3809],\n",
        "    [0.5433, 0.6482, 0.4055, 0.3947, 0.4822, 0.4683, 0.4073, 0.3893, 0.3925, 0.3704]\n",
        "]\n",
        "val_losses = [\n",
        "    [0.5370, 0.6431, 0.3933, 0.4640, 0.5955, 0.4730, 0.4267, 0.3972, 0.3920, 0.4062],\n",
        "    [0.4017, 0.4514, 0.4193, 0.3880, 0.3901, 0.4069, 0.3903, 0.3884, 0.3893, 0.4210],\n",
        "    [0.3879, 0.5022, 0.3896, 0.4067, 0.3896, 0.4521, 0.3885, 0.3881, 0.4004, 0.3996],\n",
        "    [0.4475, 0.4381, 0.4177, 0.7056, 0.4605, 0.4471, 0.4187, 0.4192, 0.4175, 0.4617],\n",
        "    [0.4248, 0.3902, 0.3945, 0.4021, 0.4178, 0.4372, 0.3964, 0.3865, 0.3921, 0.3956]\n",
        "]\n",
        "accuracies = [\n",
        "    [86.3, 86.3, 86.3, 86.3, 86.3, 86.3, 86.3, 86.3, 86.3, 86.3],\n",
        "    [86.3, 86.3, 86.3, 86.3, 86.3, 86.3, 86.3, 86.3, 86.3, 86.3],\n",
        "    [86.3, 86.3, 86.3, 86.3, 86.3, 86.3, 86.3, 86.3, 86.3, 86.3],\n",
        "    [87.67, 87.67, 87.67, 87.67, 87.67, 87.67, 87.67, 87.67, 87.67, 87.67],\n",
        "    [86.3, 86.3, 86.3, 86.3, 86.3, 86.3, 86.3, 86.3, 86.3, 86.3]\n",
        "]\n",
        "f1_scores = [\n",
        "    [0.7996, 0.7996, 0.7996, 0.7996, 0.7996, 0.7996, 0.7996, 0.7996, 0.7996, 0.7996],\n",
        "    [0.7996, 0.7996, 0.7996, 0.7996, 0.7996, 0.7996, 0.7996, 0.7996, 0.7996, 0.7996],\n",
        "    [0.7996, 0.7996, 0.7996, 0.7996, 0.7996, 0.7996, 0.7996, 0.7996, 0.7996, 0.7996],\n",
        "    [0.8191, 0.8191, 0.8191, 0.8191, 0.8191, 0.8191, 0.8191, 0.8191, 0.8191, 0.8191],\n",
        "    [0.7996, 0.7996, 0.7996, 0.7996, 0.7996, 0.7996, 0.7996, 0.7996, 0.7996, 0.7996]\n",
        "]\n",
        "\n",
        "# Plotting Losses, Accuracy, and F1 Scores for each fold\n",
        "plt.figure(figsize=(15, 10))\n",
        "\n",
        "# Plot Train Loss\n",
        "plt.subplot(2, 2, 1)\n",
        "for i in range(folds):\n",
        "    plt.plot(epochs, train_losses[i], label=f'Fold {i+1}')\n",
        "plt.xlabel(\"Epochs\")\n",
        "plt.ylabel(\"Train Loss\")\n",
        "plt.title(\"Train Loss per Fold\")\n",
        "plt.legend()\n",
        "\n",
        "# Plot Validation Loss\n",
        "plt.subplot(2, 2, 2)\n",
        "for i in range(folds):\n",
        "    plt.plot(epochs, val_losses[i], label=f'Fold {i+1}')\n",
        "plt.xlabel(\"Epochs\")\n",
        "plt.ylabel(\"Validation Loss\")\n",
        "plt.title(\"Validation Loss per Fold\")\n",
        "plt.legend()\n",
        "\n",
        "# Plot Accuracy\n",
        "plt.subplot(2, 2, 3)\n",
        "for i in range(folds):\n",
        "    plt.plot(epochs, accuracies[i], label=f'Fold {i+1}')\n",
        "plt.xlabel(\"Epochs\")\n",
        "plt.ylabel(\"Accuracy (%)\")\n",
        "plt.title(\"Accuracy per Fold\")\n",
        "plt.legend()\n",
        "\n",
        "# Plot F1 Score\n",
        "plt.subplot(2, 2, 4)\n",
        "for i in range(folds):\n",
        "    plt.plot(epochs, f1_scores[i], label=f'Fold {i+1}')\n",
        "plt.xlabel(\"Epochs\")\n",
        "plt.ylabel(\"F1 Score\")\n",
        "plt.title(\"F1 Score per Fold\")\n",
        "plt.legend()\n",
        "\n",
        "plt.tight_layout()\n",
        "plt.show()\n"
      ],
      "metadata": {
        "id": "5oAyukf2kddp"
      },
      "execution_count": null,
      "outputs": []
    },
    {
      "cell_type": "code",
      "source": [
        "import matplotlib.pyplot as plt\n",
        "import numpy as np\n",
        "\n",
        "# Data kinerja setiap fold (sesuaikan dengan data aktual yang kamu miliki)\n",
        "folds = 5\n",
        "epochs = [1, 2, 3]  # Jumlah epoch yang digunakan pada masing-masing fold\n",
        "train_loss = [\n",
        "    [0.4818, 0.3029, 0.1245],\n",
        "    [0.3831, 0.2543, 0.2790],\n",
        "    [0.4845, 0.3007, 0.2392],\n",
        "    [0.5571, 0.3610, 0.3238],\n",
        "    [0.5084, 0.3738, 0.2377]\n",
        "]\n",
        "val_loss = [\n",
        "    [0.3781, 0.1322, 0.1336],\n",
        "    [0.3196, 0.2165, 0.4866],\n",
        "    [0.3602, 0.2764, 0.3524],\n",
        "    [0.4261, 0.4317, 0.3849],\n",
        "    [0.3335, 0.2812, 0.1296]\n",
        "]\n",
        "accuracy = [\n",
        "    [86.3, 94.52, 94.52],\n",
        "    [86.3, 89.04, 72.6],\n",
        "    [86.3, 86.3, 82.19],\n",
        "    [87.67, 87.67, 87.67],\n",
        "    [86.3, 86.3, 95.89]\n",
        "]\n",
        "f1_score = [\n",
        "    [0.7996, 0.9392, 0.9392],\n",
        "    [0.7996, 0.8904, 0.7681],\n",
        "    [0.7996, 0.7996, 0.8314],\n",
        "    [0.8191, 0.8191, 0.8191],\n",
        "    [0.7996, 0.7996, 0.9558]\n",
        "]\n",
        "\n",
        "# Rata-rata metrik di seluruh fold\n",
        "avg_train_loss = np.mean(train_loss, axis=0)\n",
        "avg_val_loss = np.mean(val_loss, axis=0)\n",
        "avg_accuracy = np.mean(accuracy, axis=0)\n",
        "avg_f1_score = np.mean(f1_score, axis=0)\n",
        "\n",
        "# Plot untuk setiap fold dan rata-rata\n",
        "fig, axs = plt.subplots(2, 2, figsize=(20, 12))\n",
        "\n",
        "# Grafik Training Loss\n",
        "for i in range(folds):\n",
        "    axs[0, 0].plot(epochs, train_loss[i], label=f'Fold {i+1}')\n",
        "axs[0, 0].plot(epochs, avg_train_loss, color='black', linestyle='--', label='Average')\n",
        "axs[0, 0].set_title('Training Loss per Fold', fontsize=16)\n",
        "axs[0, 0].set_xlabel('Epoch', fontsize=14)\n",
        "axs[0, 0].set_ylabel('Loss', fontsize=14)\n",
        "axs[0, 0].legend(loc='best', fontsize=12)\n",
        "axs[0, 0].grid(True)\n",
        "\n",
        "# Grafik Validation Loss\n",
        "for i in range(folds):\n",
        "    axs[0, 1].plot(epochs, val_loss[i], label=f'Fold {i+1}')\n",
        "axs[0, 1].plot(epochs, avg_val_loss, color='black', linestyle='--', label='Average')\n",
        "axs[0, 1].set_title('Validation Loss per Fold', fontsize=16)\n",
        "axs[0, 1].set_xlabel('Epoch', fontsize=14)\n",
        "axs[0, 1].set_ylabel('Loss', fontsize=14)\n",
        "axs[0, 1].legend(loc='best', fontsize=12)\n",
        "axs[0, 1].grid(True)\n",
        "\n",
        "# Grafik Accuracy\n",
        "for i in range(folds):\n",
        "    axs[1, 0].plot(epochs, accuracy[i], label=f'Fold {i+1}')\n",
        "axs[1, 0].plot(epochs, avg_accuracy, color='black', linestyle='--', label='Average')\n",
        "axs[1, 0].set_title('Accuracy per Fold', fontsize=16)\n",
        "axs[1, 0].set_xlabel('Epoch', fontsize=14)\n",
        "axs[1, 0].set_ylabel('Accuracy (%)', fontsize=14)\n",
        "axs[1, 0].legend(loc='best', fontsize=12)\n",
        "axs[1, 0].grid(True)\n",
        "\n",
        "# Grafik F1 Score\n",
        "for i in range(folds):\n",
        "    axs[1, 1].plot(epochs, f1_score[i], label=f'Fold {i+1}')\n",
        "axs[1, 1].plot(epochs, avg_f1_score, color='black', linestyle='--', label='Average')\n",
        "axs[1, 1].set_title('F1 Score per Fold', fontsize=16)\n",
        "axs[1, 1].set_xlabel('Epoch', fontsize=14)\n",
        "axs[1, 1].set_ylabel('F1 Score', fontsize=14)\n",
        "axs[1, 1].legend(loc='best', fontsize=12)\n",
        "axs[1, 1].grid(True)\n",
        "\n",
        "plt.suptitle('K-Fold Cross-Validation Results', fontsize=20)\n",
        "plt.tight_layout(rect=[0, 0, 1, 0.96])  # Adjust layout to fit the title better\n",
        "plt.show()\n"
      ],
      "metadata": {
        "id": "ksv8gpXQtm3P"
      },
      "execution_count": null,
      "outputs": []
    }
  ],
  "metadata": {
    "colab": {
      "collapsed_sections": [
        "_zwCO4CYjHOA",
        "AHj5eTAujTyE",
        "FerSrSdUI7rV",
        "1pDVRuycCh7r",
        "BSDQJIFoFMpf",
        "I2DuEnA6I_Yh",
        "lC6zHVviS4f7",
        "JL-AXWzPS9Hr",
        "sKBkq7aUTCjs",
        "R_boq5DyXW3a",
        "QMJKbQ1gXcCv",
        "Z2pbV8XXeEi9"
      ],
      "toc_visible": true,
      "provenance": [],
      "gpuType": "T4"
    },
    "kernelspec": {
      "display_name": "Python 3",
      "name": "python3"
    },
    "language_info": {
      "name": "python"
    },
    "accelerator": "GPU"
  },
  "nbformat": 4,
  "nbformat_minor": 0
}