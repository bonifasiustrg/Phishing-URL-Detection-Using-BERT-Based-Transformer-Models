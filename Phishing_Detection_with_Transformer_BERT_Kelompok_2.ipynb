{
  "cells": [
    {
      "cell_type": "markdown",
      "metadata": {
        "id": "1IIKBmYarGTq"
      },
      "source": [
        "# Phishing Domain Detection\n",
        "---"
      ]
    },
    {
      "cell_type": "markdown",
      "metadata": {
        "id": "IdBdWm5-Z-Jk"
      },
      "source": [
        "BONIFASIUS TARIGAN - 1301213235"
      ]
    },
    {
      "cell_type": "markdown",
      "metadata": {
        "id": "jC2zJUX-rGTv"
      },
      "source": [
        "# Installs\n",
        "---"
      ]
    },
    {
      "cell_type": "code",
      "execution_count": null,
      "metadata": {
        "colab": {
          "base_uri": "https://localhost:8080/"
        },
        "execution": {
          "iopub.execute_input": "2023-04-02T10:53:31.610786Z",
          "iopub.status.busy": "2023-04-02T10:53:31.610157Z",
          "iopub.status.idle": "2023-04-02T10:54:43.154976Z",
          "shell.execute_reply": "2023-04-02T10:54:43.153768Z",
          "shell.execute_reply.started": "2023-04-02T10:53:31.610742Z"
        },
        "id": "VUsTezcGrGTx",
        "outputId": "db08a3b3-5e31-4516-a91e-4c858cd1b719",
        "trusted": true
      },
      "outputs": [
        {
          "name": "stdout",
          "output_type": "stream",
          "text": [
            "\u001b[2K   \u001b[90m━━━━━━━━━━━━━━━━━━━━━━━━━━━━━━━━━━━━━━━━\u001b[0m \u001b[32m67.5/67.5 kB\u001b[0m \u001b[31m936.4 kB/s\u001b[0m eta \u001b[36m0:00:00\u001b[0m\n",
            "\u001b[2K   \u001b[90m━━━━━━━━━━━━━━━━━━━━━━━━━━━━━━━━━━━━━━━━\u001b[0m \u001b[32m161.2/161.2 kB\u001b[0m \u001b[31m6.5 MB/s\u001b[0m eta \u001b[36m0:00:00\u001b[0m\n",
            "\u001b[2K   \u001b[90m━━━━━━━━━━━━━━━━━━━━━━━━━━━━━━━━━━━━━━━━\u001b[0m \u001b[32m8.3/8.3 MB\u001b[0m \u001b[31m33.2 MB/s\u001b[0m eta \u001b[36m0:00:00\u001b[0m\n",
            "\u001b[2K   \u001b[91m━━━━━━━━━━━━━━━━━━━━━━━━━━\u001b[0m\u001b[90m╺\u001b[0m\u001b[90m━━━━━━━━━━━━━\u001b[0m \u001b[32m168.6/255.9 MB\u001b[0m \u001b[31m29.5 MB/s\u001b[0m eta \u001b[36m0:00:03\u001b[0m"
          ]
        }
      ],
      "source": [
        "\n",
        "\n",
        "!pip install -q autoviz\n",
        "!pip install -q -U --pre pycaret"
      ]
    },
    {
      "cell_type": "code",
      "execution_count": null,
      "metadata": {
        "execution": {
          "iopub.execute_input": "2023-04-02T10:54:44.882945Z",
          "iopub.status.busy": "2023-04-02T10:54:44.882478Z",
          "iopub.status.idle": "2023-04-02T10:55:09.648625Z",
          "shell.execute_reply": "2023-04-02T10:55:09.647133Z",
          "shell.execute_reply.started": "2023-04-02T10:54:44.882901Z"
        },
        "id": "VGA253pWrGT0",
        "trusted": true
      },
      "outputs": [],
      "source": [
        "!pip -q install transformers\n",
        "!pip -q install torch"
      ]
    },
    {
      "cell_type": "markdown",
      "metadata": {
        "id": "o2ByqRVYrGT1"
      },
      "source": [
        "# Imports\n",
        "---"
      ]
    },
    {
      "cell_type": "code",
      "execution_count": null,
      "metadata": {
        "execution": {
          "iopub.execute_input": "2023-04-02T10:55:20.630103Z",
          "iopub.status.busy": "2023-04-02T10:55:20.628983Z",
          "iopub.status.idle": "2023-04-02T10:55:32.587726Z",
          "shell.execute_reply": "2023-04-02T10:55:32.586537Z",
          "shell.execute_reply.started": "2023-04-02T10:55:20.630041Z"
        },
        "id": "1Ws9rJ3SrGT1",
        "trusted": true
      },
      "outputs": [],
      "source": [
        "import pandas as pd\n",
        "import numpy as np\n",
        "import matplotlib.pyplot as plt\n",
        "import seaborn as sns\n",
        "from scipy import stats\n",
        "from statsmodels.stats.outliers_influence import variance_inflation_factor\n"
      ]
    },
    {
      "cell_type": "code",
      "execution_count": null,
      "metadata": {
        "id": "QhlnMMCzsJhi"
      },
      "outputs": [],
      "source": [
        "!pip install --upgrade autoviz\n",
        "!pip show autoviz"
      ]
    },
    {
      "cell_type": "code",
      "execution_count": null,
      "metadata": {
        "id": "9x3wAgN5tU6S"
      },
      "outputs": [],
      "source": [
        "# from autoviz.classify_method import data_cleaning_suggestions ,data_suggestions\n",
        "from autoviz.AutoViz_Class import data_cleaning_suggestions\n",
        "from pycaret import regression\n",
        "from sklearn.model_selection import cross_val_score"
      ]
    },
    {
      "cell_type": "markdown",
      "metadata": {
        "id": "LHCfKXskrGT2"
      },
      "source": [
        "# Data Loading\n",
        "---"
      ]
    },
    {
      "cell_type": "code",
      "execution_count": null,
      "metadata": {
        "id": "i8Uix7jQvIpN"
      },
      "outputs": [],
      "source": [
        "# from google.colab import drive\n",
        "# drive.mount('/content/gdrive', force_remount=True)\n",
        "# !ls"
      ]
    },
    {
      "cell_type": "code",
      "execution_count": null,
      "metadata": {
        "id": "QeQhJy_OvJJr"
      },
      "outputs": [],
      "source": [
        "# import os\n",
        "# os.chdir(\"/content/gdrive/My Drive/KULIAH/SKC/Dataset\")\n",
        "# !ls\n"
      ]
    },
    {
      "cell_type": "code",
      "execution_count": null,
      "metadata": {
        "execution": {
          "iopub.execute_input": "2023-04-02T10:56:02.449629Z",
          "iopub.status.busy": "2023-04-02T10:56:02.449228Z",
          "iopub.status.idle": "2023-04-02T10:56:02.478654Z",
          "shell.execute_reply": "2023-04-02T10:56:02.477597Z",
          "shell.execute_reply.started": "2023-04-02T10:56:02.449594Z"
        },
        "id": "f3xT79iZrGT3",
        "trusted": true
      },
      "outputs": [],
      "source": [
        "# df = pd.read_csv('/kaggle/input/malicious-urls-dataset/malicious_phish.csv', nrows = 1000)\n",
        "# df = pd.read_csv('/content/gdrive/My Drive/KULIAH/SKC/Dataset/malicious_phish.csv')\n",
        "df = pd.read_csv('malicious_phish.csv')\n"
      ]
    },
    {
      "cell_type": "code",
      "execution_count": null,
      "metadata": {
        "execution": {
          "iopub.execute_input": "2023-04-02T10:56:02.940489Z",
          "iopub.status.busy": "2023-04-02T10:56:02.939544Z",
          "iopub.status.idle": "2023-04-02T10:56:02.964909Z",
          "shell.execute_reply": "2023-04-02T10:56:02.963563Z",
          "shell.execute_reply.started": "2023-04-02T10:56:02.940435Z"
        },
        "id": "70ehnnparGT4",
        "trusted": true
      },
      "outputs": [],
      "source": [
        "df.head()"
      ]
    },
    {
      "cell_type": "code",
      "execution_count": null,
      "metadata": {
        "execution": {
          "iopub.execute_input": "2023-04-02T10:56:07.923245Z",
          "iopub.status.busy": "2023-04-02T10:56:07.922173Z",
          "iopub.status.idle": "2023-04-02T10:56:07.936049Z",
          "shell.execute_reply": "2023-04-02T10:56:07.934905Z",
          "shell.execute_reply.started": "2023-04-02T10:56:07.923171Z"
        },
        "id": "8zgkuv6mrGT5",
        "trusted": true
      },
      "outputs": [],
      "source": [
        "df.tail()"
      ]
    },
    {
      "cell_type": "code",
      "execution_count": null,
      "metadata": {
        "execution": {
          "iopub.execute_input": "2023-04-02T10:56:08.270863Z",
          "iopub.status.busy": "2023-04-02T10:56:08.270051Z",
          "iopub.status.idle": "2023-04-02T10:56:08.279377Z",
          "shell.execute_reply": "2023-04-02T10:56:08.278260Z",
          "shell.execute_reply.started": "2023-04-02T10:56:08.270809Z"
        },
        "id": "5Qb6T9vArGT6",
        "trusted": true
      },
      "outputs": [],
      "source": [
        "df.shape"
      ]
    },
    {
      "cell_type": "markdown",
      "metadata": {
        "id": "K1QW1ztXrGT7"
      },
      "source": [
        "# EDA\n",
        "---"
      ]
    },
    {
      "cell_type": "code",
      "execution_count": null,
      "metadata": {
        "execution": {
          "iopub.execute_input": "2023-04-02T10:56:11.379701Z",
          "iopub.status.busy": "2023-04-02T10:56:11.379239Z",
          "iopub.status.idle": "2023-04-02T10:56:11.401460Z",
          "shell.execute_reply": "2023-04-02T10:56:11.399768Z",
          "shell.execute_reply.started": "2023-04-02T10:56:11.379659Z"
        },
        "id": "rt0qY2cIrGT7",
        "trusted": true
      },
      "outputs": [],
      "source": [
        "df.info()"
      ]
    },
    {
      "cell_type": "code",
      "execution_count": null,
      "metadata": {
        "execution": {
          "iopub.execute_input": "2023-04-02T10:56:11.727546Z",
          "iopub.status.busy": "2023-04-02T10:56:11.724763Z",
          "iopub.status.idle": "2023-04-02T10:56:11.737054Z",
          "shell.execute_reply": "2023-04-02T10:56:11.735469Z",
          "shell.execute_reply.started": "2023-04-02T10:56:11.727493Z"
        },
        "id": "Ub84XJzcrGT7",
        "trusted": true
      },
      "outputs": [],
      "source": [
        "df.dtypes"
      ]
    },
    {
      "cell_type": "code",
      "execution_count": null,
      "metadata": {
        "execution": {
          "iopub.execute_input": "2023-04-02T10:56:12.832046Z",
          "iopub.status.busy": "2023-04-02T10:56:12.831607Z",
          "iopub.status.idle": "2023-04-02T10:56:12.891718Z",
          "shell.execute_reply": "2023-04-02T10:56:12.890338Z",
          "shell.execute_reply.started": "2023-04-02T10:56:12.832007Z"
        },
        "id": "gH2ZJY5ArGT8",
        "trusted": true
      },
      "outputs": [],
      "source": [
        "data_cleaning_suggestions(df)"
      ]
    },
    {
      "cell_type": "markdown",
      "metadata": {
        "id": "4B4HIvXVrGT9"
      },
      "source": [
        "# 1. Handling Categorical Values"
      ]
    },
    {
      "cell_type": "code",
      "execution_count": null,
      "metadata": {
        "execution": {
          "iopub.execute_input": "2023-04-02T11:01:51.969816Z",
          "iopub.status.busy": "2023-04-02T11:01:51.969301Z",
          "iopub.status.idle": "2023-04-02T11:01:51.977317Z",
          "shell.execute_reply": "2023-04-02T11:01:51.975500Z",
          "shell.execute_reply.started": "2023-04-02T11:01:51.969778Z"
        },
        "id": "D5eh8cDGrGT-",
        "trusted": true
      },
      "outputs": [],
      "source": [
        "from sklearn.preprocessing import LabelEncoder"
      ]
    },
    {
      "cell_type": "code",
      "execution_count": null,
      "metadata": {
        "execution": {
          "iopub.execute_input": "2023-04-02T11:01:55.926078Z",
          "iopub.status.busy": "2023-04-02T11:01:55.925670Z",
          "iopub.status.idle": "2023-04-02T11:01:55.937374Z",
          "shell.execute_reply": "2023-04-02T11:01:55.935679Z",
          "shell.execute_reply.started": "2023-04-02T11:01:55.926044Z"
        },
        "id": "fvf2JjqgrGT-",
        "trusted": true
      },
      "outputs": [],
      "source": [
        "# get list of categorical columns\n",
        "cat_cols = df.select_dtypes(include=['object']).columns.tolist()\n",
        "cat_cols"
      ]
    },
    {
      "cell_type": "code",
      "execution_count": null,
      "metadata": {
        "execution": {
          "iopub.execute_input": "2023-04-02T11:02:40.496442Z",
          "iopub.status.busy": "2023-04-02T11:02:40.496024Z",
          "iopub.status.idle": "2023-04-02T11:02:40.507001Z",
          "shell.execute_reply": "2023-04-02T11:02:40.505581Z",
          "shell.execute_reply.started": "2023-04-02T11:02:40.496406Z"
        },
        "id": "vjhCHyNtrGT_",
        "trusted": true
      },
      "outputs": [],
      "source": [
        "# Initialize the LabelEncoder\n",
        "le = LabelEncoder()\n",
        "\n",
        "# Fit and transform the data\n",
        "encoded_data = le.fit_transform(df['type'])\n",
        "\n",
        "print(encoded_data)"
      ]
    },
    {
      "cell_type": "code",
      "execution_count": null,
      "metadata": {
        "execution": {
          "iopub.execute_input": "2023-04-02T11:02:48.711113Z",
          "iopub.status.busy": "2023-04-02T11:02:48.710702Z",
          "iopub.status.idle": "2023-04-02T11:02:48.726385Z",
          "shell.execute_reply": "2023-04-02T11:02:48.724950Z",
          "shell.execute_reply.started": "2023-04-02T11:02:48.711078Z"
        },
        "id": "EChmQUoXrGUA",
        "trusted": true
      },
      "outputs": [],
      "source": [
        "df"
      ]
    },
    {
      "cell_type": "code",
      "execution_count": null,
      "metadata": {
        "execution": {
          "iopub.execute_input": "2023-04-02T11:03:23.380780Z",
          "iopub.status.busy": "2023-04-02T11:03:23.380370Z",
          "iopub.status.idle": "2023-04-02T11:03:23.386495Z",
          "shell.execute_reply": "2023-04-02T11:03:23.385449Z",
          "shell.execute_reply.started": "2023-04-02T11:03:23.380744Z"
        },
        "id": "apyo2qaorGUA",
        "trusted": true
      },
      "outputs": [],
      "source": [
        "df['type'] = encoded_data"
      ]
    },
    {
      "cell_type": "code",
      "execution_count": null,
      "metadata": {
        "execution": {
          "iopub.execute_input": "2023-04-02T11:03:27.217899Z",
          "iopub.status.busy": "2023-04-02T11:03:27.217507Z",
          "iopub.status.idle": "2023-04-02T11:03:27.231439Z",
          "shell.execute_reply": "2023-04-02T11:03:27.230049Z",
          "shell.execute_reply.started": "2023-04-02T11:03:27.217865Z"
        },
        "id": "qQk3r3znrGUB",
        "trusted": true
      },
      "outputs": [],
      "source": [
        "df"
      ]
    },
    {
      "cell_type": "markdown",
      "metadata": {
        "id": "ZUSIDbYTrGUB"
      },
      "source": [
        "# 2. Handling Null Values"
      ]
    },
    {
      "cell_type": "code",
      "execution_count": null,
      "metadata": {
        "execution": {
          "iopub.execute_input": "2023-04-02T11:03:33.312697Z",
          "iopub.status.busy": "2023-04-02T11:03:33.312301Z",
          "iopub.status.idle": "2023-04-02T11:03:33.324625Z",
          "shell.execute_reply": "2023-04-02T11:03:33.323224Z",
          "shell.execute_reply.started": "2023-04-02T11:03:33.312663Z"
        },
        "id": "iHaBIEv6rGUC",
        "trusted": true
      },
      "outputs": [],
      "source": [
        "df.isnull().any()"
      ]
    },
    {
      "cell_type": "code",
      "execution_count": null,
      "metadata": {
        "execution": {
          "iopub.execute_input": "2023-04-02T11:03:42.148846Z",
          "iopub.status.busy": "2023-04-02T11:03:42.148431Z",
          "iopub.status.idle": "2023-04-02T11:03:42.157629Z",
          "shell.execute_reply": "2023-04-02T11:03:42.156461Z",
          "shell.execute_reply.started": "2023-04-02T11:03:42.148810Z"
        },
        "id": "KEVABu-3rGUC",
        "trusted": true
      },
      "outputs": [],
      "source": [
        "df.dtypes"
      ]
    },
    {
      "cell_type": "markdown",
      "metadata": {
        "id": "kxlVm1mUrGUC"
      },
      "source": [
        "# 3. Class Distributions"
      ]
    },
    {
      "cell_type": "code",
      "execution_count": null,
      "metadata": {
        "execution": {
          "iopub.execute_input": "2023-04-02T11:03:46.058046Z",
          "iopub.status.busy": "2023-04-02T11:03:46.057624Z",
          "iopub.status.idle": "2023-04-02T11:03:46.067800Z",
          "shell.execute_reply": "2023-04-02T11:03:46.066308Z",
          "shell.execute_reply.started": "2023-04-02T11:03:46.058009Z"
        },
        "id": "FJgxy6wlrGUD",
        "trusted": true
      },
      "outputs": [],
      "source": [
        "# Count the number of instances in each class\n",
        "class_counts = df['type'].value_counts()\n",
        "\n",
        "# Print the class distribution\n",
        "print('Class distribution:')\n",
        "print(class_counts)"
      ]
    },
    {
      "cell_type": "code",
      "execution_count": null,
      "metadata": {
        "execution": {
          "iopub.execute_input": "2023-04-02T10:58:25.603891Z",
          "iopub.status.busy": "2023-04-02T10:58:25.603458Z",
          "iopub.status.idle": "2023-04-02T10:58:25.923561Z",
          "shell.execute_reply": "2023-04-02T10:58:25.922261Z",
          "shell.execute_reply.started": "2023-04-02T10:58:25.603853Z"
        },
        "id": "VgG-4THurGUE",
        "trusted": true
      },
      "outputs": [],
      "source": [
        "sns.countplot(x = 'type', data = df, order = df['type'].value_counts().index)"
      ]
    },
    {
      "cell_type": "markdown",
      "metadata": {
        "id": "CQEdglWarGUF"
      },
      "source": [
        "# Feature Extraction using Bert Model\n",
        "---"
      ]
    },
    {
      "cell_type": "code",
      "execution_count": null,
      "metadata": {
        "execution": {
          "iopub.execute_input": "2023-04-02T10:59:10.733550Z",
          "iopub.status.busy": "2023-04-02T10:59:10.733098Z",
          "iopub.status.idle": "2023-04-02T10:59:26.831334Z",
          "shell.execute_reply": "2023-04-02T10:59:26.829969Z",
          "shell.execute_reply.started": "2023-04-02T10:59:10.733511Z"
        },
        "id": "m-2Go7FYrGUF",
        "trusted": true
      },
      "outputs": [],
      "source": [
        "from transformers import BertModel, BertTokenizer\n",
        "import torch\n",
        "\n",
        "# Load the pre-trained BERT model and tokenizer\n",
        "model = BertModel.from_pretrained('bert-base-uncased', output_hidden_states=True)\n",
        "tokenizer = BertTokenizer.from_pretrained('bert-base-uncased')"
      ]
    },
    {
      "cell_type": "code",
      "execution_count": null,
      "metadata": {
        "execution": {
          "iopub.execute_input": "2023-04-02T10:59:26.834330Z",
          "iopub.status.busy": "2023-04-02T10:59:26.833506Z",
          "iopub.status.idle": "2023-04-02T10:59:26.842906Z",
          "shell.execute_reply": "2023-04-02T10:59:26.841408Z",
          "shell.execute_reply.started": "2023-04-02T10:59:26.834290Z"
        },
        "id": "gMwtjLGRrGUF",
        "trusted": true
      },
      "outputs": [],
      "source": [
        "# # Define a function to extract features for each transaction\n",
        "# def extract_features(text):\n",
        "#     # Tokenize the text\n",
        "#     input_ids = torch.tensor([tokenizer.encode(text, add_special_tokens=True)])\n",
        "#     # Get the hidden states for each token\n",
        "#     with torch.no_grad():\n",
        "#         outputs = model(input_ids)\n",
        "#         hidden_states = outputs[2]\n",
        "#     # Concatenate the last 4 hidden states\n",
        "#     token_vecs = []\n",
        "#     for layer in range(-4, 0):\n",
        "#         token_vecs.append(hidden_states[layer][0])\n",
        "#     # Calculate the mean of the last 4 hidden states\n",
        "#     features = []\n",
        "#     for token in token_vecs:\n",
        "#         features.append(torch.mean(token, dim=0))\n",
        "#     # Return the features as a tensor\n",
        "#     return torch.stack(features)"
      ]
    },
    {
      "cell_type": "code",
      "execution_count": null,
      "metadata": {
        "execution": {
          "iopub.execute_input": "2023-04-02T10:59:49.083572Z",
          "iopub.status.busy": "2023-04-02T10:59:49.082902Z",
          "iopub.status.idle": "2023-04-02T11:01:15.793025Z",
          "shell.execute_reply": "2023-04-02T11:01:15.791659Z",
          "shell.execute_reply.started": "2023-04-02T10:59:49.083513Z"
        },
        "id": "Qo6KBr1jrGUG",
        "trusted": true
      },
      "outputs": [],
      "source": [
        "# # Extract features for each transaction\n",
        "# features = []\n",
        "# for i in range(len(df)):\n",
        "#     features.append(extract_features(df.iloc[i][\"url\"]))\n",
        "# # Concatenate the features and convert to a numpy array\n",
        "# features = torch.cat(features).numpy()"
      ]
    },
    {
      "cell_type": "code",
      "execution_count": null,
      "metadata": {
        "id": "HaDTIASaHQQA"
      },
      "outputs": [],
      "source": [
        "!pip install tqdm"
      ]
    },
    {
      "cell_type": "code",
      "execution_count": null,
      "metadata": {
        "id": "_9DeFUFPLuZH"
      },
      "outputs": [],
      "source": [
        "import torch\n",
        "from transformers import AutoTokenizer, AutoModel\n",
        "import numpy as np\n",
        "from tqdm.notebook import tqdm\n",
        "from torch.utils.data import DataLoader, TensorDataset\n",
        "import concurrent.futures\n",
        "\n",
        "# Pastikan menggunakan GPU jika tersedia\n",
        "device = torch.device('cuda' if torch.cuda.is_available() else 'cpu')\n",
        "print(f\"Using device: {device}\")\n",
        "\n",
        "# Muat model dan tokenizer yang lebih ringan\n",
        "from transformers import BertModel, BertTokenizer\n",
        "import torch\n",
        "\n",
        "# Load the pre-trained BERT model and tokenizer\n",
        "# model = BertModel.from_pretrained('bert-base-uncased', output_hidden_states=True)\n",
        "\n",
        "# model_name = \"distilbert-base-uncased\"\n",
        "# tokenizer = AutoTokenizer.from_pretrained(model_name)\n",
        "# model = AutoModel.from_pretrained(model_name).to(device)\n",
        "model_name = \"bert-base-uncased\"\n",
        "tokenizer = BertTokenizer.from_pretrained(model_name)\n",
        "model = BertModel.from_pretrained(model_name).to(device)\n",
        "\n",
        "def process_batch(batch_indices, texts):\n",
        "    batch = [texts[i] for i in batch_indices[0]]\n",
        "    inputs = tokenizer(batch, padding=True, truncation=True, return_tensors=\"pt\", max_length=64)\n",
        "    inputs = {k: v.to(device) for k, v in inputs.items()}\n",
        "\n",
        "    with torch.no_grad():\n",
        "        outputs = model(**inputs)\n",
        "\n",
        "    last_hidden_states = outputs.last_hidden_state\n",
        "    return torch.mean(last_hidden_states, dim=1).cpu().numpy()\n",
        "\n",
        "def extract_features_highly_optimized(texts, batch_size=128):\n",
        "    dataset = TensorDataset(torch.arange(len(texts)))\n",
        "    dataloader = DataLoader(dataset, batch_size=batch_size, shuffle=False, num_workers=4, prefetch_factor=2)\n",
        "\n",
        "    features = []\n",
        "    with concurrent.futures.ThreadPoolExecutor(max_workers=4) as executor:\n",
        "        future_to_batch = {executor.submit(process_batch, batch_indices, texts): batch_indices\n",
        "                           for batch_indices in dataloader}\n",
        "\n",
        "        for future in tqdm(concurrent.futures.as_completed(future_to_batch), total=len(future_to_batch), desc=\"Extracting features\"):\n",
        "            features.extend(future.result())\n",
        "\n",
        "    return np.array(features)\n",
        "\n",
        "# Fungsi untuk memproses dataset dalam chunk\n",
        "def process_in_chunks(texts, chunk_size=10000):\n",
        "    all_features = []\n",
        "    for i in range(0, len(texts), chunk_size):\n",
        "        chunk = texts[i:i+chunk_size]\n",
        "        features = extract_features_highly_optimized(chunk)\n",
        "        all_features.append(features)\n",
        "        print(f\"Processed chunk {i//chunk_size + 1}/{(len(texts) + chunk_size - 1)//chunk_size}\")\n",
        "    return np.concatenate(all_features)\n",
        "\n",
        "# Ekstrak fitur dengan metode yang sangat dioptimalkan\n",
        "features = process_in_chunks(df[\"url\"].tolist())"
      ]
    },
    {
      "cell_type": "code",
      "execution_count": null,
      "metadata": {
        "execution": {
          "iopub.execute_input": "2023-04-02T11:04:15.480960Z",
          "iopub.status.busy": "2023-04-02T11:04:15.480500Z",
          "iopub.status.idle": "2023-04-02T11:04:15.489482Z",
          "shell.execute_reply": "2023-04-02T11:04:15.488261Z",
          "shell.execute_reply.started": "2023-04-02T11:04:15.480920Z"
        },
        "id": "z31sut7urGUG",
        "trusted": true
      },
      "outputs": [],
      "source": [
        "features"
      ]
    },
    {
      "cell_type": "markdown",
      "metadata": {
        "id": "3n6M19lRrGUH"
      },
      "source": [
        "# Data Processing\n",
        "---"
      ]
    },
    {
      "cell_type": "code",
      "execution_count": null,
      "metadata": {
        "execution": {
          "iopub.execute_input": "2023-04-02T11:05:04.443364Z",
          "iopub.status.busy": "2023-04-02T11:05:04.442126Z",
          "iopub.status.idle": "2023-04-02T11:05:04.453429Z",
          "shell.execute_reply": "2023-04-02T11:05:04.452079Z",
          "shell.execute_reply.started": "2023-04-02T11:05:04.443318Z"
        },
        "id": "xk82WWixrGUI",
        "trusted": true
      },
      "outputs": [],
      "source": [
        "types = df['type'].values\n",
        "types"
      ]
    },
    {
      "cell_type": "code",
      "execution_count": null,
      "metadata": {
        "execution": {
          "iopub.execute_input": "2023-04-02T11:05:19.969602Z",
          "iopub.status.busy": "2023-04-02T11:05:19.969203Z",
          "iopub.status.idle": "2023-04-02T11:05:19.975512Z",
          "shell.execute_reply": "2023-04-02T11:05:19.974071Z",
          "shell.execute_reply.started": "2023-04-02T11:05:19.969567Z"
        },
        "id": "ALRmBjRQrGUI",
        "trusted": true
      },
      "outputs": [],
      "source": [
        "print(features.shape)\n",
        "print(types.shape)"
      ]
    },
    {
      "cell_type": "code",
      "execution_count": null,
      "metadata": {
        "id": "lKIugECGSvu2"
      },
      "outputs": [],
      "source": [
        "print(f\"Shape of features: {features.shape}\")\n",
        "print(f\"Total elements: {features.size}\")\n",
        "\n",
        "# Hitung jumlah fitur per sampel\n",
        "features_per_sample = features.shape[1] if len(features.shape) > 1 else 1\n",
        "\n",
        "# Hitung jumlah sampel\n",
        "num_samples = features.shape[0]\n",
        "\n",
        "print(f\"Number of samples: {num_samples}\")\n",
        "print(f\"Features per sample: {features_per_sample}\")\n",
        "\n",
        "# Reshape sesuai dengan jumlah sampel yang sebenarnya\n",
        "features_reshaped = features.reshape((num_samples, -1))\n",
        "\n",
        "print(f\"Shape after reshaping: {features_reshaped.shape}\")"
      ]
    },
    {
      "cell_type": "code",
      "execution_count": null,
      "metadata": {
        "execution": {
          "iopub.execute_input": "2023-04-02T11:05:44.019340Z",
          "iopub.status.busy": "2023-04-02T11:05:44.018923Z",
          "iopub.status.idle": "2023-04-02T11:05:44.028543Z",
          "shell.execute_reply": "2023-04-02T11:05:44.027201Z",
          "shell.execute_reply.started": "2023-04-02T11:05:44.019304Z"
        },
        "id": "-vG00cbgrGUI",
        "trusted": true
      },
      "outputs": [],
      "source": [
        "# # features is a 2D numpy array of size 4000x768\n",
        "# # labels is a 1D numpy array of size 1000\n",
        "# # reshape the feature array to size 1000x(768*4)\n",
        "\n",
        "# features_reshaped = features.reshape((1000, -1))\n",
        "\n",
        "# # concatenate the feature array with the label array horizontally\n",
        "# dataset = np.hstack((features_reshaped, types.reshape((-1, 1))))\n",
        "\n",
        "# # dataset is a 2D numpy array of size 1000x(4000*768+1)\n",
        "# Assuming you want to work with the first 1000 samples\n",
        "features_reshaped = features[:1000].reshape((1000, -1))  # Reshape to (1000, 768*4) if needed\n",
        "types_reshaped = types[:1000].reshape((-1, 1))  # Reshape the label array to (1000, 1)\n",
        "\n",
        "# Concatenate the feature array with the label array horizontally\n",
        "dataset = np.hstack((features_reshaped, types_reshaped))\n",
        "\n",
        "# Now 'dataset' should have the shape (1000, 768*4 + 1)\n",
        "print(dataset.shape)\n"
      ]
    },
    {
      "cell_type": "code",
      "execution_count": null,
      "metadata": {
        "execution": {
          "iopub.execute_input": "2023-04-02T11:05:52.706822Z",
          "iopub.status.busy": "2023-04-02T11:05:52.706285Z",
          "iopub.status.idle": "2023-04-02T11:05:52.717839Z",
          "shell.execute_reply": "2023-04-02T11:05:52.716285Z",
          "shell.execute_reply.started": "2023-04-02T11:05:52.706774Z"
        },
        "id": "Mv1jvi1SrGUJ",
        "trusted": true
      },
      "outputs": [],
      "source": [
        "features_reshaped.shape"
      ]
    },
    {
      "cell_type": "code",
      "execution_count": null,
      "metadata": {
        "execution": {
          "iopub.execute_input": "2023-04-02T11:06:05.425882Z",
          "iopub.status.busy": "2023-04-02T11:06:05.425434Z",
          "iopub.status.idle": "2023-04-02T11:06:05.434085Z",
          "shell.execute_reply": "2023-04-02T11:06:05.432750Z",
          "shell.execute_reply.started": "2023-04-02T11:06:05.425843Z"
        },
        "id": "dKbqwejXrGUJ",
        "trusted": true
      },
      "outputs": [],
      "source": [
        "dataset"
      ]
    },
    {
      "cell_type": "code",
      "execution_count": null,
      "metadata": {
        "execution": {
          "iopub.execute_input": "2023-04-02T11:06:18.202049Z",
          "iopub.status.busy": "2023-04-02T11:06:18.201553Z",
          "iopub.status.idle": "2023-04-02T11:06:18.210042Z",
          "shell.execute_reply": "2023-04-02T11:06:18.208640Z",
          "shell.execute_reply.started": "2023-04-02T11:06:18.202003Z"
        },
        "id": "s9ycTp_HrGUK",
        "trusted": true
      },
      "outputs": [],
      "source": [
        "dataset.shape"
      ]
    },
    {
      "cell_type": "markdown",
      "metadata": {
        "id": "Jdwr_yadrGUK"
      },
      "source": [
        "# Data Splitting\n",
        "---"
      ]
    },
    {
      "cell_type": "code",
      "execution_count": null,
      "metadata": {
        "execution": {
          "iopub.execute_input": "2023-04-02T11:07:24.717448Z",
          "iopub.status.busy": "2023-04-02T11:07:24.716960Z",
          "iopub.status.idle": "2023-04-02T11:07:24.723745Z",
          "shell.execute_reply": "2023-04-02T11:07:24.722448Z",
          "shell.execute_reply.started": "2023-04-02T11:07:24.717412Z"
        },
        "id": "alWD9Y0rrGUK",
        "trusted": true
      },
      "outputs": [],
      "source": [
        "from sklearn.model_selection import train_test_split"
      ]
    },
    {
      "cell_type": "code",
      "execution_count": null,
      "metadata": {
        "execution": {
          "iopub.execute_input": "2023-04-02T11:07:26.632639Z",
          "iopub.status.busy": "2023-04-02T11:07:26.632202Z",
          "iopub.status.idle": "2023-04-02T11:07:26.648881Z",
          "shell.execute_reply": "2023-04-02T11:07:26.647356Z",
          "shell.execute_reply.started": "2023-04-02T11:07:26.632600Z"
        },
        "id": "J2mN8ZlorGUL",
        "trusted": true
      },
      "outputs": [],
      "source": [
        "# Split the data into training and testing sets\n",
        "train_data, test_data = train_test_split(dataset, test_size=0.2, random_state=42)\n",
        "\n",
        "# Convert the training and testing sets back into separate feature and label arrays\n",
        "X_train, y_train = train_data[:, :-1], train_data[:, -1]\n",
        "X_test, y_test = test_data[:, :-1], test_data[:, -1]"
      ]
    },
    {
      "cell_type": "markdown",
      "metadata": {
        "id": "iFXp3UJfrGUL"
      },
      "source": [
        "# Balancing Classes using SMOTE\n",
        "---"
      ]
    },
    {
      "cell_type": "code",
      "execution_count": null,
      "metadata": {
        "execution": {
          "iopub.execute_input": "2023-04-02T11:18:57.836989Z",
          "iopub.status.busy": "2023-04-02T11:18:57.836559Z",
          "iopub.status.idle": "2023-04-02T11:18:57.985147Z",
          "shell.execute_reply": "2023-04-02T11:18:57.983907Z",
          "shell.execute_reply.started": "2023-04-02T11:18:57.836952Z"
        },
        "id": "_te_PIYZrGUM",
        "trusted": true
      },
      "outputs": [],
      "source": [
        "from imblearn.over_sampling import SMOTE\n",
        "\n",
        "# Instantiate SMOTE\n",
        "sm = SMOTE(random_state=42)\n",
        "\n",
        "# Fit SMOTE to training data\n",
        "X_train_res, y_train_res = sm.fit_resample(X_train, y_train)\n",
        "\n",
        "y_train_s = pd.Series(y_train)\n",
        "y_train_res = pd.Series (y_train_res)\n",
        "\n",
        "# Print class distribution of original and resampled data\n",
        "print('Class distribution before resampling:', y_train_s.value_counts())\n",
        "print('Class distribution after resampling:', y_train_res.value_counts())"
      ]
    },
    {
      "cell_type": "markdown",
      "metadata": {
        "id": "L3prNSUXrGUM"
      },
      "source": [
        "# Logistic Regression Model\n",
        "---"
      ]
    },
    {
      "cell_type": "code",
      "execution_count": null,
      "metadata": {
        "execution": {
          "iopub.execute_input": "2023-04-02T11:13:40.570564Z",
          "iopub.status.busy": "2023-04-02T11:13:40.570133Z",
          "iopub.status.idle": "2023-04-02T11:13:42.055850Z",
          "shell.execute_reply": "2023-04-02T11:13:42.054334Z",
          "shell.execute_reply.started": "2023-04-02T11:13:40.570530Z"
        },
        "id": "ppLRwwQ2rGUM",
        "trusted": true
      },
      "outputs": [],
      "source": [
        "from sklearn.linear_model import LogisticRegression\n",
        "\n",
        "# Train a logistic regression classifier on the training set\n",
        "clf = LogisticRegression()\n",
        "clf.fit(X_train, y_train)"
      ]
    },
    {
      "cell_type": "code",
      "execution_count": null,
      "metadata": {
        "execution": {
          "iopub.execute_input": "2023-04-02T11:13:53.803492Z",
          "iopub.status.busy": "2023-04-02T11:13:53.802022Z",
          "iopub.status.idle": "2023-04-02T11:13:53.817594Z",
          "shell.execute_reply": "2023-04-02T11:13:53.815505Z",
          "shell.execute_reply.started": "2023-04-02T11:13:53.803326Z"
        },
        "id": "HgINKnAcrGUN",
        "trusted": true
      },
      "outputs": [],
      "source": [
        "# Evaluate the classifier on the testing set\n",
        "score = clf.score(X_test, y_test)\n",
        "print(\"Accuracy:\", score)"
      ]
    },
    {
      "cell_type": "markdown",
      "metadata": {
        "id": "2js4UFT5rGUN"
      },
      "source": [
        "<!-- #### Accuracy - 96% -->"
      ]
    },
    {
      "cell_type": "markdown",
      "metadata": {
        "id": "HfqEqtSErGUN"
      },
      "source": [
        "# Model Performance\n",
        "---"
      ]
    },
    {
      "cell_type": "code",
      "execution_count": null,
      "metadata": {
        "execution": {
          "iopub.execute_input": "2023-04-02T11:14:12.029765Z",
          "iopub.status.busy": "2023-04-02T11:14:12.029325Z",
          "iopub.status.idle": "2023-04-02T11:14:12.039708Z",
          "shell.execute_reply": "2023-04-02T11:14:12.037970Z",
          "shell.execute_reply.started": "2023-04-02T11:14:12.029729Z"
        },
        "id": "zgahWTYzrGUO",
        "trusted": true
      },
      "outputs": [],
      "source": [
        "# Predict the labels of the testing set\n",
        "y_pred = clf.predict(X_test)"
      ]
    },
    {
      "cell_type": "code",
      "execution_count": null,
      "metadata": {
        "execution": {
          "iopub.execute_input": "2023-04-02T11:14:21.848045Z",
          "iopub.status.busy": "2023-04-02T11:14:21.847656Z",
          "iopub.status.idle": "2023-04-02T11:14:21.853932Z",
          "shell.execute_reply": "2023-04-02T11:14:21.852434Z",
          "shell.execute_reply.started": "2023-04-02T11:14:21.848012Z"
        },
        "id": "oHlQWlFcrGUO",
        "trusted": true
      },
      "outputs": [],
      "source": [
        "from sklearn.metrics import confusion_matrix, classification_report\n"
      ]
    },
    {
      "cell_type": "code",
      "execution_count": null,
      "metadata": {
        "id": "gcV2niMLsr-H"
      },
      "outputs": [],
      "source": [
        "from sklearn.metrics import precision_score, recall_score, f1_score\n",
        "\n",
        "# Hitung Precision, Recall, F1-Score dengan average='macro' atau 'weighted'\n",
        "precision = precision_score(y_test, y_pred, average='macro')  # atau average='weighted'\n",
        "recall = recall_score(y_test, y_pred, average='macro')        # atau average='weighted'\n",
        "f1 = f1_score(y_test, y_pred, average='macro')                # atau average='weighted'\n",
        "\n",
        "print(f'Precision: {precision:.4f}')\n",
        "print(f'Recall: {recall:.4f}')\n",
        "print(f'F1 Score: {f1:.4f}')\n"
      ]
    },
    {
      "cell_type": "code",
      "execution_count": null,
      "metadata": {
        "execution": {
          "iopub.execute_input": "2023-04-02T11:14:28.408391Z",
          "iopub.status.busy": "2023-04-02T11:14:28.407562Z",
          "iopub.status.idle": "2023-04-02T11:14:28.425805Z",
          "shell.execute_reply": "2023-04-02T11:14:28.424417Z",
          "shell.execute_reply.started": "2023-04-02T11:14:28.408349Z"
        },
        "id": "0meTv34ZrGUP",
        "trusted": true
      },
      "outputs": [],
      "source": [
        "# Generate the confusion matrix and classification report\n",
        "cm = confusion_matrix(y_test, y_pred)\n",
        "cr = classification_report(y_test, y_pred)"
      ]
    },
    {
      "cell_type": "code",
      "execution_count": null,
      "metadata": {
        "execution": {
          "iopub.execute_input": "2023-04-02T11:14:35.160072Z",
          "iopub.status.busy": "2023-04-02T11:14:35.159656Z",
          "iopub.status.idle": "2023-04-02T11:14:35.166797Z",
          "shell.execute_reply": "2023-04-02T11:14:35.165510Z",
          "shell.execute_reply.started": "2023-04-02T11:14:35.160037Z"
        },
        "id": "BwGmbpOkrGUP",
        "trusted": true
      },
      "outputs": [],
      "source": [
        "print(\"Confusion Matrix:\\n\", cm)"
      ]
    },
    {
      "cell_type": "code",
      "execution_count": null,
      "metadata": {
        "execution": {
          "iopub.execute_input": "2023-04-02T11:14:45.320544Z",
          "iopub.status.busy": "2023-04-02T11:14:45.320126Z",
          "iopub.status.idle": "2023-04-02T11:14:45.326727Z",
          "shell.execute_reply": "2023-04-02T11:14:45.325330Z",
          "shell.execute_reply.started": "2023-04-02T11:14:45.320510Z"
        },
        "id": "rQNUHDe4rGUP",
        "trusted": true
      },
      "outputs": [],
      "source": [
        "print(\"\\nClassification Report:\\n\", cr)"
      ]
    },
    {
      "cell_type": "code",
      "execution_count": null,
      "metadata": {
        "id": "kigHpk_JsyFn"
      },
      "outputs": [],
      "source": [
        "from sklearn.metrics import roc_auc_score, roc_curve\n",
        "from sklearn.preprocessing import label_binarize\n",
        "\n",
        "# Binarize the output for multi-class ROC AUC\n",
        "y_test_binarized = label_binarize(y_test, classes=[0, 1, 2])  # Update classes based on your problem\n",
        "n_classes = y_test_binarized.shape[1]\n",
        "\n",
        "# Get predicted probabilities for each class\n",
        "y_prob = clf.predict_proba(X_test)\n",
        "\n",
        "# Compute AUC for each class\n",
        "auc = {}\n",
        "for i in range(n_classes):\n",
        "    auc[i] = roc_auc_score(y_test_binarized[:, i], y_prob[:, i])  # y_prob should be shaped correctly\n",
        "\n",
        "print(\"AUC-ROC for each class:\", auc)\n"
      ]
    },
    {
      "cell_type": "markdown",
      "metadata": {
        "id": "eY0rDqzArGUQ"
      },
      "source": [
        "# Terima Kasih\n",
        "---"
      ]
    }
  ],
  "metadata": {
    "accelerator": "GPU",
    "colab": {
      "gpuType": "T4",
      "provenance": [],
      "toc_visible": true
    },
    "kernelspec": {
      "display_name": "Python 3",
      "name": "python3"
    },
    "language_info": {
      "codemirror_mode": {
        "name": "ipython",
        "version": 3
      },
      "file_extension": ".py",
      "mimetype": "text/x-python",
      "name": "python",
      "nbconvert_exporter": "python",
      "pygments_lexer": "ipython3",
      "version": "3.7.12"
    }
  },
  "nbformat": 4,
  "nbformat_minor": 0
}
